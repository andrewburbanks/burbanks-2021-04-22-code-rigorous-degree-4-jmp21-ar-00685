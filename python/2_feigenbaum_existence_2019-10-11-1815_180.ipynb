{
 "cells": [
  {
   "cell_type": "markdown",
   "metadata": {},
   "source": [
    "# Existence of the Feigenbaum period-doubling renormalisation fixed point for unimodal maps with degree $4$ critical point"
   ]
  },
  {
   "cell_type": "markdown",
   "metadata": {},
   "source": [
    "Andrew D Burbanks, 2019\n",
    "\n",
    "## About this Notebook\n",
    "\n",
    "Source code with LaTeX documentation to accompany future paper.\n",
    "\n",
    "Requires: Rigorous code folder provided (with test suite). Python 3 kernel. Pathos multiprocessing package.  Version numbers of packages are given at the end of this notebook.\n",
    "\n",
    "This is the Python version, using decimal arithmetic with rigorous directed rounding.\n",
    "\n",
    "The notebook uses files stored in the folder /dat, produced by the accompanying non-rigorous code."
   ]
  },
  {
   "cell_type": "markdown",
   "metadata": {},
   "source": [
    "## Abstract\n",
    "\n",
    "Following Lanford and others, we prove the existence of a nontrivial fixed point to the Feigenbaum period-doubling renormalisation operator, using computer-assisted means.  We obtain rigorous bounds on the spectrum of the linearisation of the operator there,  on the eigenfunction corresponding to Feigenbaum's delta,  and on the eigenfunction corresponding to period doubling in the iteration of maps with additive i.i.d. noise. \n",
    "\n",
    "The proof utilises a framework for performing rigorous functional analysis by computer in Banach spaces of analytic functions, in which bounds on the high-order parts of computations are maintained carefully through every step of the computation.  Rounding errors are bounded via careful use of interval arithmetic and directed rounding modes.\n",
    "\n",
    "In this notebook, we deal with the case of unimodal maps with degree $d=4$ at the critical point."
   ]
  },
  {
   "cell_type": "markdown",
   "metadata": {},
   "source": [
    "## Introduction\n",
    "\n",
    "\n",
    "### The doubling operator\n",
    "\n",
    "We encode the operations of composition and rescaling by defining the renormalisation operator, $T$, as follows\n",
    "$$\n",
    "Tf(x) = a^{-1}f(f(ax)),\n",
    "$$\n",
    "in which $a=a(f)$ is chosen so as to enforce a suitable normalisation.  We choose the normalisation $f(0)=1$, for which   a number of different choices for $a$ are possible leading to operators with slightly different properties, and a corresponding variant of the operator with $a:=f(1)$.  [Varin, MacKay, etc.]"
   ]
  },
  {
   "cell_type": "code",
   "execution_count": 1,
   "metadata": {},
   "outputs": [],
   "source": [
    "from IPython.display import set_matplotlib_formats\n",
    "set_matplotlib_formats('png', 'pdf')"
   ]
  },
  {
   "cell_type": "raw",
   "metadata": {},
   "source": [
    "\\begin{center}\n",
    "\\includegraphics{./fig/functionspace}\n",
    "\\end{center}"
   ]
  },
  {
   "cell_type": "markdown",
   "metadata": {},
   "source": [
    "### The critical fixed point\n",
    "\n",
    "The first of Feigenbaum's conjectures is that the operator $T$ has a non-trivial fixed point $g(x)$, in a suitable space of functions, that corresponds to the universal scaling scenario observed in the period-doubling cascade for families of unimodal maps of the interval with critical point of even integer degree $d$.  Thus, we seek an even function $g(x)$ such that\n",
    "$$\n",
    "g(x) = a^{-1}g(g(ax)),\\quad a:=g(1),\n",
    "$$\n",
    "for which [Feigenbaum, etc.]\n",
    "$$\n",
    "\\alpha:=a^{-1}=-2.502\\,907\\,875\\,095\\ldots (\\mbox{e.g.,}\\ d=2)\n",
    "$$"
   ]
  },
  {
   "cell_type": "markdown",
   "metadata": {},
   "source": [
    "### The even representation\n",
    "\n",
    "Since we are interested in even functions, we write $g(x)=G(x^d)$.  Letting $X=Q(x)=x^d$, we therefore seek a function $G(X)$ that satisfies the corresponding fixed-point equation\n",
    "$$\n",
    "G(X) = a^{-1}G(Q(G(a^dX))),\\quad a:=G(1).\n",
    "$$\n",
    "We let $\\mathbb{T}$ denote the operator that maps $F(X)$ to the right-hand side of the corresponding fixed-point equation:\n",
    "$$\n",
    "\\mathbb{T}F(X) = a^{-1}F(Q(F(a^dX))),\\quad a:=F(1).\n",
    "$$\n",
    "We note that a fixed point $G$ of this operator $\\mathbb{T}$ automatically provides an even fixed point $g=G\\circ Q$ of the original doubling operator $T$."
   ]
  },
  {
   "cell_type": "markdown",
   "metadata": {},
   "source": [
    "Following [Lanford, etc.] we provide a proof of the existence of the fixed point function $G$ (and hence $g$) by computer-assisted means.  [We note that our operator differs from the one considered by Lanford in that we do not separate the constant term.  Further, we work with the usual $\\ell_1$ norm on the space, rather than a modified norm.]\n",
    "\n",
    "### Contraction mapping theorem\n",
    "\n",
    "We make use of the contraction mapping theorem: we work in a complete metric space and show that an operator $\\Phi$ (that shares the same fixed points as $\\mathbb{T}$) maps a certain ball $B$ into itself contractively: we require that\n",
    "\\begin{equation}\n",
    "\\Phi(B)\\subset B,\n",
    "\\end{equation}\n",
    "and that the operator $\\Phi$ is a uniform contraction on $B$, i.e., \n",
    "\\begin{equation}\n",
    "d(\\Phi(f),\\Phi(g)))\\le\\kappa d(f,g)\\quad \\forall f,g\\in B,\n",
    "\\end{equation}\n",
    "where $d(\\cdot,\\cdot)$ denotes the metric and $0\\le\\kappa<1$.\n",
    "\n",
    "We will work in a Banach space of functions and may express contractivity with respect to the corresponding norm $\\|\\cdot\\|$, via\n",
    "\\begin{equation}\n",
    "\\|\\Phi(f)-\\Phi(g)\\|\\le\\kappa\\|f-g\\|\\quad\\forall f,g\\in B,\n",
    "\\end{equation}\n",
    "The CMT then delivers existence and local uniqueness (within $B$) of a fixed point $g_{*}\\in B$ with $\\Phi(g_{*})=g_{*}$."
   ]
  },
  {
   "cell_type": "markdown",
   "metadata": {},
   "source": [
    "### Challenges\n",
    "\n",
    "A number of issues arise in attempting to apply the CMT to our problem: (1) we must choose a suitable space of functions in which to work, (2) according to the Feigenbaum conjectures, the derivative of our operator $T$ has expanding direction(s) at the fixed point, thus $T$ is not itself a contraction there and we must find some other operator $\\Phi$ that shares the same fixed points as $T$ but is contractive, (3) we need to find a suitable set $B$ and establish that the set is mapped into itself contractively by $\\Phi$, and finally, as we choose to take a computational approach, (4) we must turn an infinite-dimensional problem into a finite-dimensional one, and (5) we need to gain rigorous results using computer arithmetic."
   ]
  },
  {
   "cell_type": "markdown",
   "metadata": {},
   "source": [
    "### Bounding the contractivity\n",
    "\n",
    "Recall that we will need to show that a certain operator, $\\Phi$, is a contraction, in order to apply the CMT.\n",
    "If the derivative, $D\\Phi$, of our operator $\\Phi$ is well-defined in our space, and we choose the set $B$ to be convex, for example a ball, then we might hope to bound the contractivity, via the constant $\\kappa$, by appealing to the Mean Value Theorem.  Consider the line segment defined by\n",
    "\\begin{equation}\n",
    "h(\\mu)=\\mu g+(1-\\mu)f\\in B,\\ \\mu\\in[0, 1].\n",
    "\\end{equation}\n",
    "By the Mean Value Theorem, there exists\n",
    "$\\mu^{*}\\in[0,1]$ such that (for a suitable norm on $D\\Phi$) writing $h^{*}=h(\\mu^{*})$ gives\n",
    "\\begin{equation}\n",
    "\\frac{\\|\\Phi(f)-\\Phi(g)\\|}{\\|f-g\\|}\n",
    "= \\|D\\Phi(h^{*})\\|,\n",
    "\\end{equation}\n",
    "so that\n",
    "\\begin{equation}\n",
    "\\|\\Phi(f)-\\Phi(g)\\|\n",
    "= \\|D\\Phi(h^{*})\\|\\|f-g\\|.\n",
    "\\end{equation}\n",
    "Since we seek a uniform contractivity constant, $\\kappa$, on $B$, we may bound all such pairwise contractivities by taking the supremum over all $h\\in B$:\n",
    "\\begin{eqnarray}\n",
    "\\|\\Phi(f)-\\Phi(g)\\|\n",
    "&=& \\|D\\Phi(h^{*})\\|\\|f-g\\|\\\\\n",
    "&\\le& \\sup_{h\\in B}\\{\\|D\\Phi(h)\\|\\}\\|f-g\\|.\n",
    "\\end{eqnarray}\n",
    "So, we may take $\\kappa$ such that\n",
    "\\begin{equation}\n",
    "\\kappa \\ge\\sup_{h\\in B}\\{\\|D\\Phi(h)\\|\\}.\n",
    "\\end{equation}"
   ]
  },
  {
   "cell_type": "markdown",
   "metadata": {},
   "source": [
    "#### The theorem applied to a ball\n",
    "\n",
    "A convenient convex set to choose for $B$ is a (closed) ball of radius $\\rho$ around some approximate fixed point function $f^0$;\n",
    "\\begin{eqnarray}\\label{basicball}\n",
    "B(f^0, \\rho)\n",
    "&:=&\\{f\\in\\mathcal{A}:\\ \\|f-f^0\\|\\le\\rho\\}\\\\\n",
    "&\\equiv&\n",
    "\\{f=f^0+f_G:\\ \\|f_G\\|\\le\\rho\\}.\n",
    "\\end{eqnarray}\n",
    "Part of our challenge will therefore consist of attempting to bound the quantity $\\|D\\Phi(f)\\|$ on a ball $B(f^0, \\rho)$.\n",
    "\n",
    "We need to find $\\kappa<1$ such that\n",
    "\\begin{equation}\n",
    "\\|D\\Phi(f)\\|\\le\\kappa\\quad\\forall f\\in B(f^0, \\rho).\n",
    "\\end{equation}\n",
    "We also need to show that $\\Phi(B(f^0, \\rho))\\subset B(f^0, \\rho)$.  This can be achieved by also bounding how far the approximate fixed point $f^0$ itself moves under the operator $\\Phi$,\n",
    "\\begin{equation}\n",
    "\\|\\Phi(f^0)-f^0\\|\\le\\varepsilon,\n",
    "\\end{equation}\n",
    "then the ball is mapped into itself if we have, for $f\\in B(f^0, \\rho)$, that:\n",
    "\\begin{equation}\n",
    "\\|\\Phi(f)-f^0\\| < \\rho,\n",
    "\\end{equation}\n",
    "but note that\n",
    "\\begin{eqnarray}\n",
    "\\|\\Phi(f)-f^0\\|\n",
    "&=&\n",
    "\\|\\Phi(f)-\\Phi(f^0)+\\Phi(f^0)-f^0\\|\\\\\n",
    "&\\le&\n",
    "\\|\\Phi(f)-\\Phi(f^0)\\|+\\|\\Phi(f^0)-f^0\\|\\\\\n",
    "&\\le&\n",
    "\\kappa\\|f-f^0\\|+\\varepsilon\\\\\n",
    "&\\le&\n",
    "\\kappa\\rho+\\varepsilon.\n",
    "\\end{eqnarray}\n",
    "Thus we will require that $\\kappa\\rho+\\varepsilon<\\rho$, giving\n",
    "\\begin{equation}\n",
    "\\varepsilon < \\rho(1-\\kappa).\n",
    "\\end{equation}"
   ]
  },
  {
   "cell_type": "markdown",
   "metadata": {},
   "source": [
    "### A contractive operator\n",
    "\n",
    "We have seen that we require an operator $\\Phi$ that is uniformly contractive on some ball $B$ (containing a suspected fixed point).  Recall, however, that Feigenbaum's explanation for the observed universality of the scaling factors in the period-doubling scenario posits that the renormalisation operator, $T$, has a hyperbolic fixed point $g_{*}$ thus the linearisation $DT(g_{*})$ has expanding directions and, therefore, $T$ is not a contraction on any such ball.\n",
    "\n",
    "We deal with this issue by using the circle of ideas around Newton's method.  Firstly, we  cast the fixed point problem as a zero-finding problem by writing $F=T-I$; the fixed points of $T$ are zeros of $F$.  Just as $T$ is not contractive at the desired fixed point, $F$ is not contractive at the corresponding zero.  However, one operator that we might hope to be contractive close enough to its fixed points is the one-step Newton operator:\n",
    "\\begin{equation}\n",
    "N:f\\mapsto f-\\left[DF(f)\\right]^{-1}F(f).\n",
    "\\end{equation}\n",
    "Note that, where it is well-defined, fixed points of $N$ are zeros of $F$, and hence are fixed points of $T$.\n",
    "\n",
    "Using the operator $N$ is inconvenient in practice because the expression $DN$ (that we would need to work with in the contractivity bound of the previous section) will involve the second derivative $D^2F$.  In order to avoid this, we replace $[DF(f)]^{-1}$ by a fixed (invertible) linear operator $\\Lambda$ that we will choose to be a good enough approximation to $[DF(f)]^{-1}$.  Thus we consider a modified Newton operator:\n",
    "\\begin{equation}\n",
    "\\Phi:f\\mapsto f-\\Lambda F(f),\n",
    "\\end{equation}\n",
    "that has the same fixed points as $T$."
   ]
  },
  {
   "cell_type": "markdown",
   "metadata": {},
   "source": [
    "## The rigorous computational framework\n",
    "\n",
    "Taking a computational approach to this problem raises two fundamental issues: (1) the function space in which we work is infinite-dimensional; we therefore need a way to cast the fixed-point problem in a finite way without losing rigour, and (2) the representation of, and arithmetic with, numbers is not exact in the computer; we therefore need a way to bound mathematical computations using quantities that can be represented and computed exactly.  A single idea enables us to tackle both of these problems in one framework, by extending the ideas around interval arithmetic to function spaces.  We implemented a framework for rigorous functional analysis by computer, following the work of [Eckmann, Koch, Wittwer], [Lanford], [Mestel], [MacKay], [Stirnemann], and others.\n",
    "\n",
    "Performing rigorous computation by computer relies on the following idea.  We consider an algebraic structure $(X,\\cdot)$, for example $(\\mathbb{R},+)$ with a binary operation $\\cdot:X\\times X\\to X$.  We note that only a subset of $X$, called the representable objects (in this case, representable numbers), is available for use in computations.  We may consider these to be the result of applying a projection $\\mathcal{R}$ (called a rounding map), yielding $\\mathcal{R}(X)\\subset X$ (called a screen of $X$).  Given $x\\in X$, in general $x$ is not representable exactly.  We instead work with subsets of $X$ bounded by objects that are representable."
   ]
  },
  {
   "cell_type": "markdown",
   "metadata": {},
   "source": [
    "Consider firstly the induced map on the power set\n",
    "$$\n",
    "\\odot:\\mathscr{P}(X)\\times\\mathscr{P}(X)\\to\\mathscr{P}(X),\n",
    "$$\n",
    "defined by\n",
    "$$\n",
    "A\\odot B := \\left\\{a\\cdot b: a\\in A, b\\in B\\right\\}.\n",
    "$$\n",
    "(We note that the induced operation typically results in a weaker algebraic structure.)\n",
    "We then specify the sets $A,B$ using representable objects called bounds $\\mu,\\nu$ made from elements of $\\mathcal{R}(X)$ and we write $A=X(\\mu),B=X(\\nu)$.  Ideally, we would now define an operation\n",
    "$$\n",
    "\\boxdot:\\mathcal{R}(X)\\times \\mathcal{R}(X)\\to \\mathcal{R}(X),\n",
    "$$\n",
    "that implements $\\odot$ restricted to representable objects.  The problem arises that the result of an operation is not in general representable, even in the case where the operands are themselves representable and we must instead settle for the following containment\n",
    "$$\n",
    "A\\odot B \\subseteq A\\boxdot B.\n",
    "$$"
   ]
  },
  {
   "cell_type": "markdown",
   "metadata": {},
   "source": [
    "In the case of $(\\mathbb{R},+)$, for example, with $\\mathcal{R}(\\mathbb{R})=:\\mathcal{F}$, e.g., a floating-point number system, we can choose as subsets $A,B$ closed intervals whose bounds are chosen to be computer-representable numbers, thus $\\mu=(c,d),\\nu=(e,f)$ and $A=\\mathbb{R}(c,d):=[c,d],B=\\mathbb{R}(e,f):=[e,f]$ with $c,d,e,f\\in\\mathcal{F}$.  We have\n",
    "$$\n",
    "A\\odot B = [c+e,d+f].\n",
    "$$\n",
    "However, we note that $c+e,d+f$ are not guaranteed to be representable.  However, if our computable arithmetic provides directed rounding modes corresponding to versions $+_\\downarrow:\\mathcal{F}\\times\\mathcal{F}\\to\\mathcal{F}$ and $+_\\uparrow:\\mathcal{F}\\times\\mathcal{F}\\to\\mathcal{F}$ of the operation $+$ that satisfy\n",
    "$$\n",
    "c+_\\downarrow e\\le c+e,\\quad d+f\\le d+_\\uparrow f,\n",
    "$$\n",
    "respectively, then we may define\n",
    "$$\n",
    "A\\boxdot B := [c+_\\downarrow e,d+_\\uparrow f] \\supseteq A\\odot B,\n",
    "$$\n",
    "which guarantees that the interval that results from our computation contains the exact result.  We note that the optimal case is one in which the rounded bounds are either exact, in the case where the exact answer happens to be representable, and otherwise are the closest representable numbers to the exact answers.  The corresponding computer operation on the bounds themselves is given by\n",
    "$$\n",
    "\\mu\\boxdot_c\\nu=(c, d)\\boxdot_c(e, f):=(c+_\\downarrow e,d+_\\uparrow f),\n",
    "$$\n",
    "which satisfies the crucial containment\n",
    "$$\n",
    "X(\\mu\\boxdot_c\\nu)\\supseteq X(\\mu)\\odot X(\\nu).\n",
    "$$\n",
    "The semimorphism principle of [Ulrich et. al.] is typically used to  attempt to preserve as much structure as possible.  We note that in the case outlined above, the ordering on the original algebraic structure gives rise to an ordering on intervals via containment that is compatible with rounding outwards."
   ]
  },
  {
   "cell_type": "markdown",
   "metadata": {},
   "source": [
    "The above idea may be generalised carefully to provide correctly rounded interval arithmetic versions of all standard operations [Moore, Kulisch, etc.].  Extending the idea to complex arithmetic in a straightforward way yields rectangle arithmetic, using closed intervals to bound the real and imaginary parts.\n",
    "\n",
    "The idea was extended to Banach spaces of analytic functions in [Kaucher Miranka, Kulisch, Lanford, Eckmann-Koch-Wittwer, etc.] in which the screen of 'rounded' representable objects is usually chosen to be a space of truncated polynomials with respect to a suitable basis.  In this context, we may make use of the triangle inequality for a suitable norm and the linear structure provided by these spaces of truncated polynomials in order to specify subsets $A,B$, called function balls, via representable bounds: writing the space $X$ as the direct sum of a (truncated) polynomial part and a high-order part $X=PX\\oplus HX$ writing $f\\in X$ as $f=f_P+f_H$.  A closed convex subset of $X$ may then be defined by using closed intervals to bound the coefficients of the polynomial part and a single nonnegative representable number to bound the norm of the high-order part.\n",
    "Again, a computable version, $\\boxdot$, is implemented for each operation $\\cdot$, such that\n",
    "$$\n",
    "a\\cdot b\\in A\\odot B\\subseteq A\\boxdot B.\n",
    "$$\n",
    "The $\\ell_1$-norm is paticularly well-suited to this approach since $\\|f_P+f_H\\|_1=\\|f_P\\|_1+\\|f_H\\|_1$, stronger than the bound from the triangle inequality alone.  This approach is outlined below and is then used to bound the action of a quasi-Newton method for the fixed point problem, establishing that the corresponding operator is a contraction mapping."
   ]
  },
  {
   "cell_type": "markdown",
   "metadata": {},
   "source": [
    "An extension to contracted vectors and contracted matrices, used to bound linear operators, is provided and is used in supplementary code [further publications] to bound the spectrum of the derivative of the renormalisation operator directly.\n",
    "\n",
    "All computations that follow have been bounded rigorously using the above approaches."
   ]
  },
  {
   "cell_type": "markdown",
   "metadata": {},
   "source": [
    "### Function spaces\n",
    "\n",
    "Firstly, we define a suitable space of functions in which to work.\n",
    "\n",
    "Consider the space $\\mathcal{A}$ of functions $f$ (real) analytic on the open unit disc $D(0,1)$ and continuous on its closure $\\mathrm{cl}(D(0,1))$ with finite $L^1$-norm, $\\|\\cdot\\|_1$.  The vector space addition and scalar multiplication are such that $(f+g)(x)=f(x)+g(x)$ and $(\\alpha f)(x)=\\alpha f(x)$, respectively.\n",
    "\n",
    "Equipped with this norm, $\\mathcal{A}$ is a (real) Banach space.  (We may regard $\\mathcal{A}$ as the completion, with respect to the metric induced by the norm, of the space of polynomials.)  In fact, with the product $(f\\cdot g)(x)=f(x)\\cdot g(x)$, it is a (real) Banach algebra (with $\\|f\\cdot g\\|\\le\\|f\\|\\|g\\|$), sometimes called the disc algebra.\n",
    "\n",
    "The function space in which we work is infinite dimensional: the sequence of monomials $(e_k)_{k\\ge 0}$ defined by $e_k(x):=x^k$ forms a (Schauder) basis.  One way to reduce our challenge to a finite problem is to truncate the space at some finite degree, $N$, while at the same time maintaining rigour by bounding the effect of the neglected (high order) terms during all operations.  An important consideration, that does not arise in the finite-imensional case, is the degree to which operators on an infinite-dimensional space can be said to be the limit of finite-dimensional approximations (or truncations).  We will also deal with this issue in what follows."
   ]
  },
  {
   "cell_type": "markdown",
   "metadata": {},
   "source": [
    "### Function balls\n",
    "\n",
    "We note that $L^1$ is isometrically isomorphic to the sequence space $\\ell_1$ and associate a function $f\\in\\mathcal{A}$ with the coefficients of its (convergent) power series expansion.  Following [EKW] we consider a framework in which we can bound the result of each computation involving subsets of $\\mathcal{A}$ using a finite number of operations.  We choose a truncation degree $N$ and write\n",
    "$$\n",
    "\\mathcal{A} = \\mathbb{R}^{N+1}\\oplus\\ell_1,\n",
    "$$\n",
    "writing the space as the direct sum of the low-order (polynomial) part and the high-order part; thus each $f\\in\\mathcal{A}$ may be written $f = f_P+f_H$ with $f_P$ a polynomial of degree $N$.  The idea is that we will maintain rigorous bounds on the polynomial coefficents and on the norm of the high-order contribution $\\|f_H\\|$ during all operations.  In addition to this it is useful to be able to deal with balls of functions centered on a particular $f^0\\in\\mathcal{A}$, i.e.,\n",
    "$$\n",
    "B(f^0, \\rho) = \\{g\\in\\mathcal{A}:\\ \\|g-f^0\\|\\le \\rho\\}.\n",
    "$$"
   ]
  },
  {
   "cell_type": "markdown",
   "metadata": {},
   "source": [
    "To this end, we define a *standard function ball* $\\mathcal{A}(v)\\subset\\mathcal{A}$ to be a (bounded) closed convex subset in which the polynomial part, high-order part, and so-called general part are bounded by quantities $v=(v_P;v_H,v_G)$, where\n",
    "$$\n",
    "v_P = ([\\ell_0,u_0],[\\ell_1,u_1],\\ldots,[\\ell_N,u_N]),\n",
    "$$\n",
    "and $\\mathcal{A}(v)$ is defined to be the set of all functions $f\\in\\mathcal{A}$ that can be written as\n",
    "$$\n",
    "f = f_P + f_H + f_G,\n",
    "$$\n",
    "in which the $[\\ell_k,u_k]\\subset\\mathbb{R}$ are intervals bounding the coefficients of a polynomial,\n",
    "$$\n",
    "f_P(X) = \\sum_{k=0}^{N} b_kX^k,\\quad\\mbox{with $b_k\\in[\\ell_k,u_k]$,}\n",
    "$$\n",
    "and $v_H,v_G\\ge 0$ are upper bounds on the norms of a high-order function $f_H$ and a general function $f_G\\in\\mathcal{A}$, respectively:\n",
    "$$\n",
    "\\|f_H\\|_1 \\le v_H,\\quad \\|f_G\\|_1 \\le v_G.\n",
    "$$"
   ]
  },
  {
   "cell_type": "markdown",
   "metadata": {},
   "source": [
    "We note that rigorously-bounded versions of all vector space operations in $\\mathcal{A}$, along with bounds on the norm, the product, and function evaluation, may be implemented using computable operations on representable numbers.  In addition, we note that for $z\\in D(0,1)$, the bound $|f(z)|\\le\\|f\\|$ holds and thus, for a pair $f,g\\in\\mathcal{A}$ with $\\|g\\|<1$, one may bound the function composition, $f\\circ g$, and the operation of differentiation followed by composition, $\\partial f\\circ g$.  These operations will prove useful, later, in bounding the crucial quantities $\\|\\Phi(f^0)-f^0\\|\\le\\varepsilon$ and $\\|D\\Phi(f)\\|\\le\\kappa$ for all $f\\in B(f^0, \\rho)$."
   ]
  },
  {
   "cell_type": "markdown",
   "metadata": {},
   "source": [
    "Note that, in the definition of a standard function ball, we consider functions analytic on the unit disc .  The problem arises that the unit disc is not always a suitable domain of convergence.  In particular, we need to choose a domain $\\Omega$ for functions $f$ such that the operator $\\Phi$ is well-defined and differentiable, and its derivative $D\\Phi(f)$ is compact, for all functions $f$ in some ball $B(f^0, \\rho)$.  To this end, we generalise to a space $\\mathcal{A}_\\Omega$ of functions $f$ analytic on an open disc\n",
    "\\begin{equation}\n",
    "\\Omega = D(c, r) := \\{Z\\in\\mathbb{C}:\\ |Z-c|<r\\},\n",
    "\\end{equation}\n",
    "and continuous on its closure with finite $L^1$-norm.  This can be done in a straightforward way by writing $f=\\tilde{f}\\circ\\psi_\\Omega$ with $\\psi_\\Omega$ the affine map from the disc $\\Omega$ to the unit disc given by\n",
    "$$\n",
    "\\psi_\\Omega:X \\mapsto \\frac{X-c}{r},\n",
    "$$\n",
    "and $\\tilde{f}\\in\\mathcal{A}$.  Choosing the norm $\\|f\\|:=\\|\\tilde{f}\\|_1$ again makes $\\mathcal{A}_\\Omega$ a (real) Banach algebra (see, for example, Mestel Appendix A3, pp74).\n",
    "\n",
    "Further, by writing $g=G\\circ Q$ with $Q(x)=x^d$, for $G\\in\\mathcal{A}_\\Omega$, we may use $\\mathcal{A}_\\Omega$ to represent the corresponding space of even functions $g$.  In this spirit, we call $G$ the *even subspace representation* of the even function $g=G\\circ Q$."
   ]
  },
  {
   "cell_type": "markdown",
   "metadata": {},
   "source": [
    "The definition of standard function balls extends to balls of functions analytic on some general disc $\\Omega$: we write $F = \\tilde{F}\\circ\\psi_\\Omega$ and define\n",
    "$$\n",
    "\\mathcal{A}_\\Omega(v)\n",
    ":=\\left\\{F = \\tilde{F}\\circ\\psi_\\Omega:\\ \\tilde{F}\\in\\mathcal{A}(v)\\right\\}.\n",
    "$$"
   ]
  },
  {
   "cell_type": "markdown",
   "metadata": {},
   "source": [
    "### Basic function balls used in the existence proof\n",
    "\n",
    "We define two function balls $F_0,F_1\\subset\\mathcal{A}_\\Omega$, centered on a polynomial $G_0$ of degree $N$,\n",
    "$$\n",
    "G_0(X) = \\sum_{k=0}^{N} a_k\\left(\\frac{X-c}{r}\\right)^k,\n",
    "$$\n",
    "given by\n",
    "\\begin{align}\n",
    "F_0 &= \\mathcal{A}_\\Omega([a_0,a_0],[a_1,a_1],\\ldots,[a_N,a_N];0,0),\\\\\n",
    "F_1 &= \\mathcal{A}_\\Omega([a_0,a_0],[a_1,a_1],\\ldots,[a_N,a_N];0,\\rho).\n",
    "\\end{align}\n",
    "Thus the ball $F_0$ contains only the polynomial $G_0$, and the ball $F_1$ contains all $F\\in\\mathcal{A}_\\Omega$ such that $\\|F-G_0\\|\\le\\rho$."
   ]
  },
  {
   "cell_type": "code",
   "execution_count": 2,
   "metadata": {},
   "outputs": [],
   "source": [
    "# rigorous framework\n",
    "from rigorous.interval import Interval, RR\n",
    "from rigorous.interval import set_precision, set_output_precision, quantize\n",
    "from rigorous.rectangle import Rectangle\n",
    "from rigorous.covering import cover_circle, rectangles_coords\n",
    "from rigorous.covering import cover_interval, cover_graph\n",
    "from rigorous.trunc import Trunc\n",
    "from rigorous.ball import Ball\n",
    "from rigorous.function import Domain, Function\n",
    "from rigorous.rmatrix import RMatrix"
   ]
  },
  {
   "cell_type": "code",
   "execution_count": 3,
   "metadata": {},
   "outputs": [],
   "source": [
    "# choose nonrigorous data, truncation degree, and radius of function ball\n",
    "# note that truncation degree refers to the degree in the even subspace\n",
    "# representation; the actual degree is double the number specified.\n",
    "\n",
    "args40 = 'feig_pow4_deg40_domain1', 4, 40, 40, RR(10)**-20, RR(10)**-15, RR(10)**-15\n",
    "\n",
    "prefix, d, trunc_degree, prec, rho, rho_hat, rho_noise = args = args40\n",
    "parallel = True\n",
    "make_figures = True\n",
    "\n",
    "# note: the floating point accuracy of the approximate fixed points\n",
    "# and corresponding matrices matters for high truncation degree.\n",
    "\n",
    "# set precision for rigorous computation\n",
    "set_precision(prec)\n",
    "\n",
    "# set default precision for printing intermediate results only;\n",
    "# intervals will be quantized safely for printing.\n",
    "set_output_precision(15)"
   ]
  },
  {
   "cell_type": "code",
   "execution_count": 4,
   "metadata": {},
   "outputs": [],
   "source": [
    "# we work in the symmetry-reduced subspace\n",
    "# unlike lanford, we keep the constant term in our series\n",
    "\n",
    "def Q(G):\n",
    "    return G**d\n",
    "\n",
    "def Qdash(G):\n",
    "    return G**(d-1)*d\n",
    "\n",
    "def T_even(G):\n",
    "    assert isinstance(G, Function)\n",
    "\n",
    "    x = G.identity()\n",
    "    a = G(1)\n",
    "    return G(Q(G(x*a**d)))/a\n",
    "\n",
    "def DT_even(G, H):\n",
    "    assert isinstance(G, Function)\n",
    "    assert isinstance(H, Function)\n",
    "\n",
    "    x = G.identity()\n",
    "    a = G(1)\n",
    "    alpha = 1/a\n",
    "    dG = G.diff_compose\n",
    "    deltaT1 = G(Q(G(x*a**d)))*(-alpha**2*H(1))\n",
    "    deltaT2 = H(Q(G(x*a**d)))*alpha\n",
    "    deltaT3 = dG(Q(G(x*a**d)))*alpha*Qdash(G(x*a**d))*H(x*a**d)\n",
    "    deltaT4 = dG(Q(G(x*a**d)))*alpha*Qdash(G(x*a**d))*dG(x*a**d)*Qdash(a)*x*H(1)\n",
    "    deltaT = deltaT1 + deltaT2 + deltaT3 + deltaT4\n",
    "    return deltaT\n",
    "\n",
    "def DT(G):\n",
    "    assert isinstance(G, Function)\n",
    "    \n",
    "    # compute constants\n",
    "    a = G(1)\n",
    "    alpha = 1/a\n",
    "\n",
    "    # compute chain in TG\n",
    "    X = G.identity()\n",
    "    Xad = X*a**d\n",
    "    GXad = G(Xad)\n",
    "    QGXad = Q(GXad)\n",
    "    GQGXad = G(QGXad)\n",
    "    \n",
    "    # compute derivatives\n",
    "    Gdash = G.diff_compose\n",
    "    GdashXad = Gdash(Xad)\n",
    "    QdashGXad = Qdash(GXad)\n",
    "    GdashQGXad = Gdash(QGXad)\n",
    "\n",
    "    # compute all prefactors for frechet derivative\n",
    "    A = GQGXad*(-alpha**2)\n",
    "    B = alpha\n",
    "    C = GdashQGXad*QdashGXad*alpha\n",
    "    D = C*Gdash(Xad)*Qdash(a)*X\n",
    "    \n",
    "    def DTG(H):\n",
    "        assert isinstance(H, Function)\n",
    "        H1 = H(1)\n",
    "        return A*H1 + H(QGXad)*B + C*H(Xad) + D*H1\n",
    "    \n",
    "    return DTG\n",
    "\n",
    "# load domain and coefficients of a truncated power series\n",
    "def import_poly_with_domain(filename):\n",
    "    with open(filename, 'r') as lines:\n",
    "        c = RR(next(lines))\n",
    "        r = RR(next(lines))\n",
    "        d = int(next(lines))\n",
    "        coeffs = []\n",
    "        for k in range(d+1):\n",
    "            coeffs.append(RR(next(lines)))\n",
    "    return c, r, coeffs\n",
    "\n",
    "# load matrices\n",
    "def import_matrix(filename):\n",
    "    with open(filename, 'r') as f:\n",
    "        m = int(next(f))\n",
    "        n = int(next(f))\n",
    "        assert m == n\n",
    "        rows = []\n",
    "        for k in range(m):\n",
    "            row = list(map(lambda x: Interval(RR(x), RR(x)), next(f).strip().split(' ')))\n",
    "            assert len(row) == n\n",
    "            rows.append(row)\n",
    "    return rows\n",
    "\n",
    "# we had a matrix Delta that approximates the derivative of T\n",
    "# we inverted (Delta - I) to produce a matrix Lambda for the newton method.\n",
    "# we now define a linear operator L in our newton method\n",
    "# the action of this operator\n",
    "# on the polynomial part of the space is Lambda=(Delta-I)^{-1}\n",
    "# on the high-order part of the space is -I\n",
    "def apply_lambda_operator(Lambda, F):\n",
    "    trunc_degree = F.func.truncation_degree\n",
    "    assert isinstance(Lambda, list)\n",
    "    assert len(Lambda) == len(Lambda[0]) == trunc_degree+1\n",
    "    assert isinstance(F, Function)\n",
    "    coeffs = []\n",
    "    for row in Lambda:\n",
    "        coeff = sum(a*b for a, b in zip(row, F.func.P))\n",
    "        # worst-case scenario, G is in a single polynomial coefficient\n",
    "        coeff = coeff + Interval.hull(row) * Interval(-F.func.G.hi, F.func.G.hi)\n",
    "        coeffs.append(coeff)\n",
    "    P = Trunc(trunc_degree, coeffs)\n",
    "    # action on high-order part of the space is trivial\n",
    "    H = F.func.H + F.func.G # because we have -I in the H/H quadrant\n",
    "    # action on general part of space, bounded by worst case\n",
    "    G = 0 #F.func.G # NOT needed in addition to the above; overkill\n",
    "    # note -f_H bounded in size by +H.\n",
    "    return Function(F.dom, Ball(P, H, G))"
   ]
  },
  {
   "cell_type": "code",
   "execution_count": 5,
   "metadata": {},
   "outputs": [],
   "source": [
    "# functions for creating publication-quality plots\n",
    "%matplotlib inline\n",
    "import matplotlib.pyplot as plt\n",
    "from plotting import init_plotting, set_size, savefig\n",
    "import numpy as np"
   ]
  },
  {
   "cell_type": "markdown",
   "metadata": {},
   "source": [
    "For proving existence of the renormalisation fixed point with $d=4$, it is sufficient to work with truncation degree $N=40$ for the even representation (thus degree $160$ in the original space), taking a suitable polynomial for $G_0$ and a ball of radius $\\rho=10^{-20}$ in the function space.  [The results thus obtained were verified using both double precision hardware with IEEE-754 directed rounding modes, and an implementation of rounded decimal arithmetic conforming to the relevant subset of standard ANSI-X3.274-1996.]  These parameters are also sufficient to obtain useful bounds on the spectrum of $DT(G)$, although such bounds can be refined further by choosing a higher truncation degree, a more accurate polynomial, and a smaller ball in the function space."
   ]
  },
  {
   "cell_type": "code",
   "execution_count": 6,
   "metadata": {},
   "outputs": [
    {
     "name": "stdout",
     "output_type": "stream",
     "text": [
      "Nonrigorous Data set = feig_pow4_deg40_domain1\n",
      "Degree at the critical point = 4\n",
      "Truncation degree (even subspace representation) = 40\n",
      "Truncation degree (in the full function space)   = 80\n",
      "Radius of ball in function space, rho = 1E-20\n",
      "Interval scalar type = <class 'decimal.Decimal'>\n",
      "Interval scalar precision = 40\n",
      "Parallel computation (Pathos) = True\n"
     ]
    }
   ],
   "source": [
    "# report on choices\n",
    "print(f'Nonrigorous Data set = {prefix}')\n",
    "print(f'Degree at the critical point = {d}')\n",
    "print(f'Truncation degree (even subspace representation) = {trunc_degree}')\n",
    "print(f'Truncation degree (in the full function space)   = {trunc_degree*2}')\n",
    "print(f'Radius of ball in function space, rho = {rho}')\n",
    "print(f'Interval scalar type = {type(Interval(1.0).lo)}')\n",
    "print(f'Interval scalar precision = {prec}')\n",
    "print(f'Parallel computation (Pathos) = {parallel}')"
   ]
  },
  {
   "cell_type": "code",
   "execution_count": 7,
   "metadata": {},
   "outputs": [
    {
     "name": "stdout",
     "output_type": "stream",
     "text": [
      "Domain(centre=0.5754, radius=0.8)\n"
     ]
    }
   ],
   "source": [
    "# import nonrigorous data\n",
    "c, r, coeffs = import_poly_with_domain('dat/' + prefix + '_G0.dat')\n",
    "\n",
    "# setup domain in complex plane for the power series expansion\n",
    "Omega = Domain(c, r)\n",
    "\n",
    "# define truncated series on the unit disc for approximate fixed point\n",
    "g_even_unit_disc = Trunc(trunc_degree, list(map(Interval, coeffs[:trunc_degree+1])))\n",
    "assert g_even_unit_disc.truncation_degree == trunc_degree\n",
    "\n",
    "# define standard balls with respect to the unit disc\n",
    "B0 = Ball(g_even_unit_disc, 0, 0)\n",
    "B1 = Ball(g_even_unit_disc, 0, rho)\n",
    "\n",
    "# define the corresponding function balls on the correct domain\n",
    "F0 = Function(Omega, B0)\n",
    "F1 = Function(Omega, B1)\n",
    "\n",
    "# report on domain\n",
    "print(Omega)"
   ]
  },
  {
   "cell_type": "markdown",
   "metadata": {},
   "source": [
    "## Function ball containing the Feigenbaum function\n",
    "\n",
    "By systematic numerical experimentation, we may find a suitable choice of domain $\\Omega$, truncation degree $N$, polynomial $G_0$, and radius $\\rho$.  It remains to prove that the corresponding ball $F_1$ contains a unique nontrivial function $G$ that satisfies the fixed point equation\n",
    "$$\n",
    "G(X) = a^{-1}G(Q(G(a^dX)))\\quad\\mbox{with $a=G(1)$.}\n",
    "$$\n",
    "\n",
    "Letting $g(x)=G(x^d)=G(X)$, i.e., $g=G\\circ Q$, we note that $g$ is a nontrivial solution to the corresponding fixed point equation\n",
    "$$\n",
    "g(x) = a^{-1}g(g(ax)) =: T(g)(x),\n",
    "$$\n",
    "with $a=g(1)$, and thus $g$ represents the Feigenbaum universal function."
   ]
  },
  {
   "cell_type": "markdown",
   "metadata": {},
   "source": [
    "The following intervals bound the coefficients $[\\ell_k,u_k]$ for $0\\le k\\le N$ and the high-order and general bounds for the function ball $F_1$ used:"
   ]
  },
  {
   "cell_type": "code",
   "execution_count": 8,
   "metadata": {},
   "outputs": [
    {
     "name": "stdout",
     "output_type": "stream",
     "text": [
      "F1 = Function Ball: c=0.5754, r=0.8, N=40 (15 sf shown)\n",
      "000: [-1.51171335061130E-4, -1.51171335061129E-4]\n",
      "001: [-1.25639038483931E+0, -1.25639038483930E+0]\n",
      "002: [+2.46815647559479E-1, +2.46815647559480E-1]\n",
      "003: [+5.67191344953549E-2, +5.67191344953550E-2]\n",
      "004: [-3.59389951000398E-2, -3.59389951000397E-2]\n",
      "005: [+4.30982790721554E-3, +4.30982790721555E-3]\n",
      "006: [+1.96354100481708E-3, +1.96354100481709E-3]\n",
      "007: [-8.94323414970340E-4, -8.94323414970339E-4]\n",
      "008: [+6.10539896571055E-5, +6.10539896571056E-5]\n",
      "009: [+6.18833202716769E-5, +6.18833202716770E-5]\n",
      "010: [-2.03206421781651E-5, -2.03206421781650E-5]\n",
      "011: [-5.91750831056505E-7, -5.91750831056504E-7]\n",
      "012: [+1.99311026448893E-6, +1.99311026448894E-6]\n",
      "013: [-4.46080806416822E-7, -4.46080806416821E-7]\n",
      "014: [-7.09146550027075E-8, -7.09146550027074E-8]\n",
      "015: [+5.99998589708252E-8, +5.99998589708253E-8]\n",
      "016: [-9.22409026490974E-9, -9.22409026490973E-9]\n",
      "017: [-3.08104845469942E-9, -3.08104845469941E-9]\n",
      "018: [+1.65228457590504E-9, +1.65228457590505E-9]\n",
      "019: [-1.53021976523556E-10, -1.53021976523555E-10]\n",
      "020: [-1.09615408116263E-10, -1.09615408116262E-10]\n",
      "021: [+4.22375356017612E-11, +4.22375356017613E-11]\n",
      "022: [-1.00464048724997E-12, -1.00464048724996E-12]\n",
      "023: [-3.55867661762641E-12, -3.55867661762640E-12]\n",
      "024: [+1.00442385688438E-12, +1.00442385688439E-12]\n",
      "025: [+6.51661544419481E-14, +6.51661544419482E-14]\n",
      "026: [-1.07923762562419E-13, -1.07923762562418E-13]\n",
      "027: [+2.17205273681971E-14, +2.17205273681972E-14]\n",
      "028: [+4.26263289922697E-15, +4.26263289922698E-15]\n",
      "029: [-3.07111066424392E-15, -3.07111066424391E-15]\n",
      "030: [+3.97854243433004E-16, +3.97854243433005E-16]\n",
      "031: [+1.78285123246093E-16, +1.78285123246094E-16]\n",
      "032: [-8.19335271971632E-17, -8.19335271971631E-17]\n",
      "033: [+4.67865166917466E-18, +4.67865166917467E-18]\n",
      "034: [+6.29097720850521E-18, +6.29097720850522E-18]\n",
      "035: [-2.03660239826371E-18, -2.03660239826370E-18]\n",
      "036: [-5.51450123709226E-20, -5.51450123709225E-20]\n",
      "037: [+2.00781253737009E-19, +2.00781253737010E-19]\n",
      "038: [-4.63403842921873E-20, -4.63403842921872E-20]\n",
      "039: [-6.57070815739534E-21, -6.57070815739533E-21]\n",
      "040: [+5.94619059998731E-21, +5.94619059998732E-21]\n",
      "  H: [+0.00000000000000E+00, +0.00000000000000E+00]\n",
      "  G: [+0.00000000000000E+00, +1.00000000000000E-20]\n"
     ]
    }
   ],
   "source": [
    "print(f'F1 = {F1}')"
   ]
  },
  {
   "cell_type": "code",
   "execution_count": 9,
   "metadata": {},
   "outputs": [
    {
     "name": "stdout",
     "output_type": "stream",
     "text": [
      "a\n",
      "= [-5.91609916634439E-1, -5.91609916634438E-1]\n",
      "alpha\n",
      "= [-1.69030297140525E+0, -1.69030297140524E+0]\n"
     ]
    }
   ],
   "source": [
    "a = F1(1)\n",
    "print(f'a\\n= {a}')\n",
    "alpha = 1/a\n",
    "print(f'alpha\\n= {alpha}')"
   ]
  },
  {
   "cell_type": "markdown",
   "metadata": {},
   "source": [
    "### The fixed point equation\n",
    "\n",
    "It remains to establish the existence of a fixed point $G$ to the operator defined by\n",
    "$$\n",
    "\\mathbb{T}(G)(X) := a^{-1}G(Q(G(a^dX)))\\quad\\mbox{with $a:=G(1)$.}\n",
    "$$\n",
    "Bounds on the distance that the approximate fixed point moves under $\\mathbb{T}$ are as follows."
   ]
  },
  {
   "cell_type": "code",
   "execution_count": 10,
   "metadata": {},
   "outputs": [
    {
     "name": "stdout",
     "output_type": "stream",
     "text": [
      "||T(F_0) - F_0||_1\n",
      "= [+0.00000000000000E+00, +1.58431379745242E-21]\n"
     ]
    }
   ],
   "source": [
    "# bounds on the distance that the approximate fixed point moves under T itself\n",
    "# this is not used in the proof; we instead need to know how far it moves under\n",
    "# the newton operator Phi.\n",
    "# instead, this bound serves to confirm that we really\n",
    "# do have a good approximate fixed point\n",
    "error = abs(T_even(F0)-F0)\n",
    "print('||T(F_0) - F_0||_1\\n=', error)"
   ]
  },
  {
   "cell_type": "markdown",
   "metadata": {},
   "source": [
    "### Function ball composition and the choice of domain\n",
    "\n",
    "Let $f,g\\in\\mathcal{A}$.  We note that for all $z\\in\\mathbb{C}$ with $|z|<1$, we have $|g(z)|\\le\\|g\\|_1$ and, therefore, that the composition $f\\circ g$ is well-defined when $\\|g\\|<1$.\n",
    "\n",
    "Recall that for functions $F, G\\in\\mathcal{A}_\\Omega$, we write\n",
    "$$\n",
    "F=f\\circ\\psi_\\Omega,\\quad\n",
    "G=g\\circ\\psi_\\Omega,\n",
    "$$\n",
    "with $f,g\\in\\mathcal{A}$.  Writing the composition $F\\circ G$ in this form yields\n",
    "\\begin{align}\n",
    "H = F\\circ G\n",
    "&= (f\\circ\\psi_\\Omega)\\circ(g\\circ\\psi_\\Omega)\\\\\n",
    "&= \\left[f\\circ(\\psi_\\Omega\\circ g)\\right]\\circ\\psi_\\Omega\\\\\n",
    "&=: h\\circ\\psi_\\Omega.\n",
    "\\end{align}\n",
    "Note that the composition $\\psi_\\Omega\\circ{g}$ in the expression for $h$ is always well-defined, being the composition of an affine map with an analytic function.  However, to guarantee that the leftmost composition is well-defined, we require that\n",
    "$$\n",
    "\\|\\psi_\\Omega\\circ{g}\\|<1.\n",
    "$$\n",
    "The domain $\\Omega$ must to chosen to ensure that this is the case for crucial compositions occurring on the right-hand side of the renormalisation operator.  In fact, showing that the operator is well-defined is done more naturally via domain extension, outlined below."
   ]
  },
  {
   "cell_type": "markdown",
   "metadata": {},
   "source": [
    "### Bound #1: Domain extension\n",
    "\n",
    "In order to establish that the operator $\\mathbb{T}$ is well-defined on $F_1\\subset\\mathcal{A}_\\Omega$, and that its derivative is compact, we show that $\\mathbb{T}$ has the *analyticity-improving property*.  That is, we verify that for a suitable domain $\\Omega$, and for $G$ close enough to the fixed point, the transformed function, $\\mathbb{T}(G)$, is analytic on a strictly larger domain than $\\Omega$.\n",
    "\n",
    "[Krasnosel’skii]\n",
    "\n",
    "We verify that the complex domain $\\Omega\\subset\\mathbb{C}$ is such that for all $G\\in F_1$ with $a:=G(1)$,\n",
    "\\begin{align}\n",
    "\\mathrm{cl}(a^d\\Omega) &\\subset \\Omega^\\mathrm{o},\\\\\n",
    "\\mathrm{cl}(Q(G(a^d\\Omega))) &\\subset \\Omega^\\mathrm{o},\n",
    "\\end{align}\n",
    "where $\\Omega^\\mathrm{o}$ denotes the interior.\n",
    "\n",
    "We do this by covering the boundary circle $\\partial\\Omega$ with overlapping rectangles and using the rigorous framework to compute a covering of the left-hand sides of the above containments.  Using rectangle arithmetic - that is, complex arithmetic using intervals for the real and imaginary parts - we verify that for each rectangle $z=x+yi$ in the resulting covering, we have\n",
    "$|z-c| < r$."
   ]
  },
  {
   "cell_type": "code",
   "execution_count": 11,
   "metadata": {},
   "outputs": [
    {
     "data": {
      "image/png": "[encoded data removed]",
      "text/plain": [
       "<Figure size 609.449x609.449 with 1 Axes>"
      ]
     },
     "metadata": {
      "needs_background": "light"
     },
     "output_type": "display_data"
    }
   ],
   "source": [
    "# complex domain extension; compute sets of covering rectangles\n",
    "Omega = F1.dom\n",
    "c, r = Omega.c, Omega.r\n",
    "z_vals = list(cover_circle(c, r, 32, eps=2**-10))\n",
    "a = F1(1)\n",
    "alpha = Interval(1)/a\n",
    "za2 = [z*a**d for z in z_vals]\n",
    "gza2 = [F1(z) for z in za2]\n",
    "qgza2 = [Q(z) for z in gza2]\n",
    "gqgza2 = [F1(z) for z in qgza2]\n",
    "alphagqgza2 = [z*alpha for z in gqgza2]\n",
    "a2alphagqgza2 = [z*a**d for z in alphagqgza2]\n",
    "\n",
    "# complex domain extension; produce diagrams\n",
    "if make_figures:\n",
    "    init_plotting(plt)\n",
    "    plt.figure(figsize=set_size('prl', ratio=1))\n",
    "    for k, w_vals in enumerate([za2, qgza2]):\n",
    "        plt.axhline(0, color='k')\n",
    "        plt.axvline(0, color='k')\n",
    "        theta = np.linspace(0, np.pi*2, 501)\n",
    "        fc, fr = float(c), float(r)\n",
    "        plt.plot(fc+np.cos(theta)*fr, np.sin(theta)*fr, color='b', linestyle='--')\n",
    "        x, y = rectangles_coords(w_vals)\n",
    "        plt.plot(x, y, color=['r', 'g', 'b', 'c'][k])\n",
    "    plt.xlabel('$x$')\n",
    "    plt.ylabel('$y$')\n",
    "    plt.plot([c], [0], linewidth=0, marker='o', color='k')\n",
    "    plt.annotate(r'$\\partial\\Omega$', (2.3, 1.5))\n",
    "    plt.annotate(r'$c$', (c, RR(-0.2)*r))\n",
    "    plt.annotate(r'$\\Gamma_1$', (-0.6, 0.2))\n",
    "    plt.annotate(r'$\\Gamma_2$', (1, -1.5))\n",
    "    plt.savefig(f'fig/{prefix}_de_{k}.pdf')\n",
    "\n",
    "# complex domain extension; verify results\n",
    "all_okay = True\n",
    "for w_vals in za2, qgza2:\n",
    "    for w in w_vals:\n",
    "        z = w - c\n",
    "        okay = z.re**2 + z.im**2 < Interval(r)**2\n",
    "        all_okay = all_okay and okay\n",
    "#print(f'Complex domain extension: {all_okay}')\n",
    "    \n",
    "assert all_okay"
   ]
  },
  {
   "cell_type": "markdown",
   "metadata": {},
   "source": [
    "#### Consequences of domain extension\n",
    "\n",
    "We note that in general the spectral properties of arbitrarily-high degree truncations of a linear operator need not bear very much resemblance to those of the operator itself.\n",
    "\n",
    "In addition to ensuring at $\\mathbb{T}$ is well defined, verifying the domain extension conditions for a chosen domain and ball around an approximate fixed point ensures that the derivative $D\\mathbb{T}(G)$, exists (in fact, it follows that $\\mathbb{T}$ is $C^{\\infty}$) and is a compact operator.  See, for example, [Krasnosel’skii, 1972, \\S 18].  This means that $0$ is in the spectrum, that all other elements of the spectrum are eigenvalues of finite multiplicity, and that for any other linear operator $L$ such that $\\|L-D\\mathbb{T}(G)\\|\\to 0$, the spectrum of $L$ converges to that of $D\\mathbb{T}(G)$ (except for $0$).  In particular, with increasing truncation degree, the spectra of finite-rank approximations to $D\\mathbb{T}(G)$ converge (with the exception of $0$) to that of $D\\mathbb{T}(G)$ itself."
   ]
  },
  {
   "cell_type": "markdown",
   "metadata": {},
   "source": [
    "## Bounds (in function space) for the existence proof"
   ]
  },
  {
   "cell_type": "markdown",
   "metadata": {},
   "source": [
    "### Newton's method for fixed points\n",
    "\n",
    "The operator $\\mathbb{T}$ is not contractive near the desired fixed point and thus direct iteration of $\\mathbb{T}$ is not useful.  Following Lanford and others, we utilise the circle of ideas around Newton's method in order to overcome this problem.  We note first that the fixed points of $\\mathbb{T}$ are exactly the zeros of the operator defined by\n",
    "$$\n",
    "\\mathbb{F} = \\mathbb{T}-\\mathbb{I}.\n",
    "$$\n",
    "Newton's method for zeros of $\\mathbb{F}$ may be written as\n",
    "\\begin{align}\n",
    "\\mathcal{N}: G\n",
    "&\\mapsto G - [D\\mathbb{F}(G)]^{-1}[\\mathbb{F}(G)]\\\\\n",
    "&= G - [D\\mathbb{T}(G)-\\mathbb{I}]^{-1}[\\mathbb{T}(G)-G].\n",
    "\\end{align}\n",
    "In the above, $D$ represents Frechet differentiation."
   ]
  },
  {
   "cell_type": "markdown",
   "metadata": {},
   "source": [
    "### Contractivity\n",
    "\n",
    "We seek to use the Contraction Mapping Theorem to establish the existence of a fixed point for an operator that shares the same fixed points as $\\mathbb{T}$.\n",
    "\n",
    "In particular, we seek to prove that Newton's method for fixed points is a contraction on a suitably-chosen ball around an approximate fixed point $G_0$ of $\\mathbb{T}$.  By appealing to the Mean Value Theorem, the contractivity of $\\mathcal{N}$ may be bounded by examining the derivative $D\\mathcal{N}$.  However, note that $D\\mathcal{N}$ involves the second (Frechet) derivative of $\\mathbb{T}$ and this is inconvenient to bound in practice."
   ]
  },
  {
   "cell_type": "markdown",
   "metadata": {},
   "source": [
    "### Modified Newton method\n",
    "\n",
    "Instead, consider the modified Newton method defined by\n",
    "$$\n",
    "\\Phi:G \\mapsto G - \\Lambda[\\mathbb{T}(G)-G],\n",
    "$$\n",
    "for a fixed linear operator $\\Lambda$.  Note that, for a suitable (nondegenerate) choice of $\\Lambda$, this method has the same fixed points as $\\mathbb{T}$.\n",
    "\n",
    "We note that $\\mathcal{A}$ is isomorphic to the direct sum\n",
    "$$\n",
    "\\mathcal{A}=\\mathbb{R}^{N+1}\\oplus\\ell_1,\n",
    "$$\n",
    "and choose $\\Lambda$ to be a fixed linear operator that approximates $[D\\mathbb{T}(G)-\\mathbb{I}]^{-1}$ in the sense that\n",
    "$$\n",
    "\\Lambda = [\\Delta-\\mathbb{I}]^{-1},\n",
    "$$\n",
    "where $\\Delta\\simeq D\\mathbb{T}(G_0)$ acts on the low-order part of the space (isomorphic to $\\mathbb{R}^{N+1}$) as a real $(N+1)\\times(N+1)$ matrix (and is zero on the high-order part) and, thus, the action of $\\Lambda$ on the high-order part of the space is given by $-\\mathbb{I}$."
   ]
  },
  {
   "cell_type": "code",
   "execution_count": 12,
   "metadata": {},
   "outputs": [],
   "source": [
    "# matrix used to construct the linear operator in the approximate newton method\n",
    "Lambda_elts = import_matrix('dat/' + prefix + '_lambda.dat')\n",
    "Lambda_elts = [row[:trunc_degree+1] for row in Lambda_elts[:trunc_degree+1]]\n",
    "assert len(Lambda_elts) == len(Lambda_elts[0]) == trunc_degree+1\n",
    "\n",
    "# construct the real interval matrix\n",
    "Lambda = RMatrix(Lambda_elts)\n",
    "\n",
    "# apply the newton method and see how far F0 moves; defines epsilon for the proof\n",
    "def Phi(F):\n",
    "    return F - Lambda * (T_even(F) - F)"
   ]
  },
  {
   "cell_type": "markdown",
   "metadata": {},
   "source": [
    "### Bound #2: Distance moved by approximate fixed point\n",
    "\n",
    "We prove that\n",
    "$$\n",
    "\\|\\Phi(G_0)-G_0\\|_1<\\varepsilon,\n",
    "$$\n",
    "for a machine-representable number $\\varepsilon>0$,\n",
    "by rigorous computation on the function ball $F_0\\ni G_0$.  In other words, we show that the approximate fixed point doesn't move too far under the modified Newton method."
   ]
  },
  {
   "cell_type": "code",
   "execution_count": 13,
   "metadata": {
    "scrolled": true
   },
   "outputs": [
    {
     "name": "stdout",
     "output_type": "stream",
     "text": [
      "CPU times: user 995 ms, sys: 3.7 ms, total: 999 ms\n",
      "Wall time: 998 ms\n"
     ]
    }
   ],
   "source": [
    "%%time\n",
    "\n",
    "Phi_F0 = Phi(F0)\n",
    "residue_Phi = Phi_F0 - F0"
   ]
  },
  {
   "cell_type": "markdown",
   "metadata": {},
   "source": [
    "From the above we may take as $\\varepsilon$ the (upper bound on the) interval $\\|\\Phi(F_0)-F_0\\|$ given by:"
   ]
  },
  {
   "cell_type": "code",
   "execution_count": 14,
   "metadata": {},
   "outputs": [
    {
     "name": "stdout",
     "output_type": "stream",
     "text": [
      "epsilon\n",
      "= ||Phi(F0)-F0||_1\n",
      "= [+0.00000000000000E+00, +1.58431379745242E-21]\n"
     ]
    }
   ],
   "source": [
    "epsilon = abs(residue_Phi)\n",
    "print('epsilon\\n= ||Phi(F0)-F0||_1\\n=', epsilon)\n",
    "assert epsilon < rho"
   ]
  },
  {
   "cell_type": "markdown",
   "metadata": {},
   "source": [
    "### Derivative of modified Newton method\n",
    "\n",
    "The Frechet derivative of the modified Newton operator is given by\n",
    "$$\n",
    "D\\Phi(G) = I - \\Lambda[D\\mathbb{T}(G)-I].\n",
    "$$\n",
    "Thus\n",
    "$$\n",
    "D\\Phi(G): \\delta G \\mapsto \\delta G - \\Lambda[D\\mathbb{T}(G)(\\delta G)-\\delta G].\n",
    "$$\n",
    "Note that considering $\\ell_1=\\mathbb{R}^{N+1}\\oplus\\ell_1$ and writing $\\delta G=\\delta G_P+\\delta G_H$, on the high-order part of the space this gives\n",
    "\\begin{align}\n",
    "D\\Phi(G): \\delta G_H\n",
    "&\\mapsto \\delta G_H + [D\\mathbb{T}(G)(\\delta G_H)-\\delta G_H]\\nonumber\\\\\n",
    "&= D\\mathbb{T}(G)(\\delta G_H).\n",
    "\\end{align}\n",
    "\n",
    "Note: it is vital to use the latter expression for the action on the high-order part of the space when implementing the operator using function ball operations.  The presence of terms $\\delta G$ and $-\\delta G$ in the former expression leads to a variant of the dependency problem, well-known from the study of interval arithmetic.  To illustrate, consider that a naive attempt to bound the expression $x-x$ in the case where $x$ is bounded within an interval $[a,b]$ would be to compute the interval $[a,b]-[a,b]$.  Note, however, that the result of this interval arithmetic operation is the interval $[a-b,b-a]\\neq[0,0]$ in general.  This issue arises because interval subtraction is an operation between sets defined by\n",
    "$$\n",
    "X\\ominus Y = \\{x-y:\\ x\\in X,y\\in Y\\},\n",
    "$$\n",
    "in which $x,y$ are allowed to vary independently within $X,Y$.  Thus, dependency between the operands in the expression $x-x$ is not reflected in the expression $[a,b]-[a,b]$ and thus not in the corresponding computable operation $[a,b]\\boxminus[a,b]$.  The analogous difficulty in implementing the above expression for the action of $D\\Phi(G)$ using function ball arithmetic, in particular when the only information available regarding high-order terms that that their norm is bounded within $[0,v_H]$ and that their contribution to the overall norm lies within $[-v_H,v_H]$, is avoided by using the simplified expression $D\\mathbb{T}(G)$ on the high-order part of the space.\n",
    "\n",
    "The Frechet derivative of the operator $\\mathbb{T}$, appearing in the above expressions, is given by the following"
   ]
  },
  {
   "cell_type": "raw",
   "metadata": {},
   "source": [
    "\\begin{widetext}"
   ]
  },
  {
   "cell_type": "markdown",
   "metadata": {},
   "source": [
    "\\begin{align}\n",
    "D\\mathbb{T}(G):\\delta G(X)\\mapsto\n",
    "&-a^{-2}\\delta a \\cdot G(Q(G(a^dX)))\\nonumber\\\\\n",
    "&\\quad{}+ a^{-1}\\cdot\\delta G(Q(G(a^dX)))\\nonumber\\\\\n",
    "&\\qquad{}+ a^{-1}\\cdot G'(Q(G(a^dX)))\\cdot Q'(G(a^dX))\\cdot\\delta G(a^dX)\\nonumber\\\\\n",
    "&\\qquad\\quad{}+ a^{-1}\\cdot G'(Q(G(a^dX)))\\cdot Q'(G(a^dX))\\cdot G'(a^dX)\\cdot Q'(a)\\delta a X,\n",
    "\\end{align}\n",
    "where $a:=G(1)$ implies that $\\delta a=\\delta G(1)$."
   ]
  },
  {
   "cell_type": "raw",
   "metadata": {},
   "source": [
    "\\end{widetext}"
   ]
  },
  {
   "cell_type": "markdown",
   "metadata": {},
   "source": [
    "### Bound #3: Contractivity of quasi-Newton operator\n",
    "\n",
    "We bound\n",
    "$$\n",
    "\\|D\\Phi(G)\\|\\le\\kappa<1,\n",
    "$$\n",
    "for all $G\\in F_1$, i.e., for all $G$ with $\\|G-G_0\\|_1\\le\\rho$.  Identifying the tangent space of $\\mathcal{A}_\\Omega$ with $\\mathcal{A}_\\Omega$, we do this by bounding $D\\Phi(G)(e_k)$ for all basis vectors\n",
    "$$\n",
    "e_k(x)=\\left(\\frac{x-c}{r}\\right)^k.\n",
    "$$\n",
    "Specifically, for $0\\le k\\le N$, we bound each $e_k$ (tightly) by a function ball\n",
    "$$\n",
    "E_k := \\mathcal{A}_\\Omega([0,0],\\ldots,[1,1],\\ldots,[0,0];0;0).\n",
    "$$\n",
    "This leaves infinitely-many basis vectors $e_k$ for $k>N$.  We bound all of these (loosely) by the single function ball denoted\n",
    "$$\n",
    "E_{N+1} \\equiv E_H := \\mathcal{A}_\\Omega([0,0],\\ldots,[0,0];1;0),\n",
    "$$\n",
    "with high-order bound $v_H=1$.\n",
    "\n",
    "We note that it is critical, in order for the proof to succeed, that the norms\n",
    "$$\n",
    "\\|D\\Phi(G)(e_k)\\|_1,\n",
    "$$\n",
    "decay quickly-enough with increasing $k$, otherwise the bounds that we can compute on $\\|D\\Phi(F_1)(E_{N+1})\\|_1$ will be too large."
   ]
  },
  {
   "cell_type": "markdown",
   "metadata": {},
   "source": [
    "In this way, we are able to find $\\kappa$ such that\n",
    "$$\n",
    "\\|D\\Phi(G)(e_k)\\|_1\\le\\kappa<1,\n",
    "$$\n",
    "for all $G\\in F_1$ and all $k\\ge 0$.  Accordingly, the *maximum column sum norm* $\\|D\\Phi(G)\\|$, of $D\\Phi(G)$ itself, is then bounded by $\\kappa$.  [We note that computation of the $D\\Phi(G)(e_k)$ can be performed efficiently in parallel.]\n",
    "\n",
    "Appealing to the Mean Value Theorem, and noting convexity of the function balls, this establishes the contractivity of $\\Phi$ on $F_1$: take any $X,Y\\in F_1$, then there exists $\\eta=\\lambda Y + (1-\\lambda)X\\in F_1$ for some $\\lambda\\in[0,1]$ such that\n",
    "\\begin{align}\n",
    "\\|\\Phi(X)-\\Phi(Y)\\|\n",
    "&=\\|D\\Phi(\\eta)\\|\\cdot\\|X-Y\\|\\\\\n",
    "&\\le\\sup_{F\\in F_1}{\\|D\\Phi(F)\\|}\\cdot\\|X-Y\\|\\\\\n",
    "&\\le\\kappa\\|X-Y\\|.\n",
    "\\end{align}"
   ]
  },
  {
   "cell_type": "code",
   "execution_count": 15,
   "metadata": {},
   "outputs": [
    {
     "name": "stdout",
     "output_type": "stream",
     "text": [
      "CPU times: user 2.48 s, sys: 0 ns, total: 2.48 s\n",
      "Wall time: 2.48 s\n"
     ]
    }
   ],
   "source": [
    "%%time\n",
    "\n",
    "# next, we will bound the derivative of our newton operator Phi on F1\n",
    "# for efficiency, we first compute all subexpressions in the frechet\n",
    "# derivative DT(G)(deltaG) that are independent of deltaG.\n",
    "\n",
    "DTG = DT(F1)"
   ]
  },
  {
   "cell_type": "code",
   "execution_count": 16,
   "metadata": {},
   "outputs": [],
   "source": [
    "# the following computation treats one basis element, element number k\n",
    "# we will perform many of these in parallel\n",
    "\n",
    "def bound_derivative_of_newton(k, dependency=True, DTG=DTG):\n",
    "\n",
    "    # define basis element\n",
    "    E_k = F1.basis_element(k)\n",
    "    \n",
    "    # check basic property\n",
    "    if k < trunc_degree+1:\n",
    "        assert Interval(1) in abs(E_k), f'{abs(E_k)}'\n",
    "    else:\n",
    "        assert Interval(0, 1) in abs(E_k), f'{abs(E_k)}'\n",
    "\n",
    "    # evalulate and bound Frechet derivative of T\n",
    "    deltaT_k = DTG(E_k)\n",
    "    norm_deltaT_k = abs(deltaT_k)\n",
    "\n",
    "    # evalulate and bound derivative of newton operator\n",
    "    # the default behaviour of rmatrix on the high-order part is +/-I\n",
    "    if k > trunc_degree and dependency:\n",
    "        DPhi_F1_E_k = - Lambda * deltaT_k\n",
    "    else:\n",
    "        DPhi_F1_E_k = E_k - Lambda * (deltaT_k - E_k)\n",
    "\n",
    "    # report on the cruicial norms\n",
    "    norm_DPhi_F1_E_k = abs(DPhi_F1_E_k)\n",
    "\n",
    "    # return the norm\n",
    "    return deltaT_k, norm_deltaT_k, DPhi_F1_E_k, norm_DPhi_F1_E_k"
   ]
  },
  {
   "cell_type": "code",
   "execution_count": 17,
   "metadata": {
    "scrolled": false
   },
   "outputs": [
    {
     "name": "stdout",
     "output_type": "stream",
     "text": [
      "CPU times: user 181 ms, sys: 24.2 ms, total: 205 ms\n",
      "Wall time: 5.92 s\n"
     ]
    }
   ],
   "source": [
    "%%time\n",
    "\n",
    "# we use the pathos framework to run the function in parallel; install it via:\n",
    "# conda install -c conda-forge pathos\n",
    "k_vals = list(range(trunc_degree+2))\n",
    "if parallel:\n",
    "    import pathos.multiprocessing\n",
    "    from pathos.multiprocessing import ProcessingPool as Pool\n",
    "    num_processors = pathos.multiprocessing.cpu_count()\n",
    "    with Pool(num_processors) as pool:\n",
    "        DTG_ks, norm_DTG_ks, DPhi_ks, norm_DPhi_ks = list(zip(*pool.map(bound_derivative_of_newton, k_vals)))\n",
    "else:\n",
    "    DTG_ks, norm_DTG_ks, DPhi_ks, norm_DPhi_ks = list(zip(*map(bound_derivative_of_newton, k_vals)))"
   ]
  },
  {
   "cell_type": "markdown",
   "metadata": {},
   "source": [
    "The following table shows bounds on the derivative of the operator $\\mathbb{T}$ itself, $\\|D\\mathbb{T}(G)(e_k)\\|_1$ valid for all $G\\in F_1$.  [These will prove useful later, in bounding the spectrum of $D\\mathbb{T}(G)$.]  We observe that the norm decays approximately at a geometric rate with increasing degree (noting that the final bound is for $\\|D\\mathbb{T}(G)(E_{N+1})\\|_1$ where $E_{N+1}$ is the convex hull that contains all $e_k$ for $k\\ge N+1$)."
   ]
  },
  {
   "cell_type": "code",
   "execution_count": 18,
   "metadata": {
    "scrolled": false
   },
   "outputs": [
    {
     "name": "stdout",
     "output_type": "stream",
     "text": [
      "||DT(F_1)(E_k)||_1:\n",
      "000: [+1.88268405957669E+1, +1.88268405957670E+1]\n",
      "001: [+1.04059316618501E+1, +1.04059316618502E+1]\n",
      "002: [+7.84995293700679E+0, +7.84995293700680E+0]\n",
      "003: [+4.33898473574701E+0, +4.33898473574702E+0]\n",
      "004: [+3.58294878995776E+0, +3.58294878995777E+0]\n",
      "005: [+2.84343537926175E+0, +2.84343537926176E+0]\n",
      "006: [+2.06907684379669E+0, +2.06907684379670E+0]\n",
      "007: [+1.63966102609243E+0, +1.63966102609244E+0]\n",
      "008: [+1.19756130781775E+0, +1.19756130781776E+0]\n",
      "009: [+9.14828120195283E-1, +9.14828120195284E-1]\n",
      "010: [+6.97214746328223E-1, +6.97214746328224E-1]\n",
      "011: [+5.32750642367224E-1, +5.32750642367225E-1]\n",
      "012: [+4.03921140422645E-1, +4.03921140422646E-1]\n",
      "013: [+3.09320398422399E-1, +3.09320398422400E-1]\n",
      "014: [+2.37356587669743E-1, +2.37356587669744E-1]\n",
      "015: [+1.81862708279064E-1, +1.81862708279065E-1]\n",
      "016: [+1.39392548105749E-1, +1.39392548105764E-1]\n",
      "017: [+1.07487052146867E-1, +1.07487052147029E-1]\n",
      "018: [+8.28067231668177E-2, +8.28067231739250E-2]\n",
      "019: [+6.37436967567020E-2, +6.37436969938297E-2]\n",
      "020: [+4.93134739627411E-2, +4.93134776357637E-2]\n",
      "021: [+3.81582249325706E-2, +3.81582614014793E-2]\n",
      "022: [+2.95215332097691E-2, +2.95217928604697E-2]\n",
      "023: [+2.28939640096184E-2, +2.28953678857752E-2]\n",
      "024: [+1.77737924150974E-2, +1.77797649980047E-2]\n",
      "025: [+1.37921712824465E-2, +1.38126609228315E-2]\n",
      "026: [+1.06873395170966E-2, +1.07450617830714E-2]\n",
      "027: [+8.23662999574789E-3, +8.37208832016987E-3]\n",
      "028: [+6.25935415979532E-3, +6.52734556379830E-3]\n",
      "029: [+4.64244058192057E-3, +5.09426637328277E-3]\n",
      "030: [+3.32581568728469E-3, +3.98192115621500E-3]\n",
      "031: [+2.28489582736650E-3, +3.11503967742247E-3]\n",
      "032: [+1.51143590522054E-3, +2.43922475311239E-3]\n",
      "033: [+9.81214589867049E-4, +1.91272387634102E-3]\n",
      "034: [+6.43576005138810E-4, +1.50120447348880E-3]\n",
      "035: [+4.38103763605723E-4, +1.17928437429189E-3]\n",
      "036: [+3.12109599373026E-4, +9.27497982898960E-4]\n",
      "037: [+2.29732078298409E-4, +7.30082796460750E-4]\n",
      "038: [+1.71831094813868E-4, +5.75159698658876E-4]\n",
      "039: [+1.29305034931120E-4, +4.53568711967031E-4]\n",
      "040: [+9.74143986059739E-5, +3.57966272695387E-4]\n",
      "041: [+0.00000000000000E+00, +3.21720743777473E-4]\n"
     ]
    }
   ],
   "source": [
    "print('||DT(F_1)(E_k)||_1:')\n",
    "for k, norm in enumerate(norm_DTG_ks):\n",
    "    print(f'{k:0>3}: {norm}')"
   ]
  },
  {
   "cell_type": "markdown",
   "metadata": {},
   "source": [
    "The following table shows bounds on the derivative of the adapted Newton method, $\\|D\\Phi(G)(e_k)\\|_1$, valid for all $G\\in F_1$."
   ]
  },
  {
   "cell_type": "code",
   "execution_count": 19,
   "metadata": {
    "scrolled": false
   },
   "outputs": [
    {
     "name": "stdout",
     "output_type": "stream",
     "text": [
      "||DPhi(F_1)(E_k)||_1:\n",
      "000: [+0.00000000000000E+00, +2.11190586574761E-16]\n",
      "001: [+0.00000000000000E+00, +1.29931112976610E-16]\n",
      "002: [+0.00000000000000E+00, +8.42469254959052E-17]\n",
      "003: [+0.00000000000000E+00, +5.76468559682917E-17]\n",
      "004: [+0.00000000000000E+00, +4.13262774691011E-17]\n",
      "005: [+0.00000000000000E+00, +3.09377134591248E-17]\n",
      "006: [+0.00000000000000E+00, +2.39464816197319E-17]\n",
      "007: [+0.00000000000000E+00, +1.89801306804310E-17]\n",
      "008: [+0.00000000000000E+00, +1.52903331670406E-17]\n",
      "009: [+0.00000000000000E+00, +1.24557788083193E-17]\n",
      "010: [+0.00000000000000E+00, +1.02465290948898E-17]\n",
      "011: [+0.00000000000000E+00, +8.46901276400844E-18]\n",
      "012: [+0.00000000000000E+00, +7.02211753438776E-18]\n",
      "013: [+0.00000000000000E+00, +6.05486215053879E-18]\n",
      "014: [+0.00000000000000E+00, +1.70536341278553E-17]\n",
      "015: [+0.00000000000000E+00, +1.03262909035975E-16]\n",
      "016: [+0.00000000000000E+00, +1.38809016352429E-14]\n",
      "017: [+0.00000000000000E+00, +1.60231647072980E-13]\n",
      "018: [+0.00000000000000E+00, +7.10716197971234E-12]\n",
      "019: [+0.00000000000000E+00, +2.37127539494507E-10]\n",
      "020: [+0.00000000000000E+00, +3.67302250672771E-9]\n",
      "021: [+0.00000000000000E+00, +3.64689086056194E-8]\n",
      "022: [+0.00000000000000E+00, +2.59650700428536E-7]\n",
      "023: [+0.00000000000000E+00, +1.40387615675563E-6]\n",
      "024: [+0.00000000000000E+00, +5.97258290725140E-6]\n",
      "025: [+0.00000000000000E+00, +2.04896403848527E-5]\n",
      "026: [+0.00000000000000E+00, +5.77222659747372E-5]\n",
      "027: [+0.00000000000000E+00, +1.35458324421961E-4]\n",
      "028: [+0.00000000000000E+00, +2.67991404002976E-4]\n",
      "029: [+0.00000000000000E+00, +4.51825791362191E-4]\n",
      "030: [+0.00000000000000E+00, +6.56105468930299E-4]\n",
      "031: [+0.00000000000000E+00, +8.30143850055964E-4]\n",
      "032: [+0.00000000000000E+00, +9.27788847891843E-4]\n",
      "033: [+0.00000000000000E+00, +9.31509286473971E-4]\n",
      "034: [+0.00000000000000E+00, +8.57628468349981E-4]\n",
      "035: [+0.00000000000000E+00, +7.41180610686158E-4]\n",
      "036: [+0.00000000000000E+00, +6.15388383525933E-4]\n",
      "037: [+0.00000000000000E+00, +5.00350718162341E-4]\n",
      "038: [+0.00000000000000E+00, +4.03328603845008E-4]\n",
      "039: [+0.00000000000000E+00, +3.24263677035911E-4]\n",
      "040: [+0.00000000000000E+00, +2.60551874089413E-4]\n",
      "041: [+0.00000000000000E+00, +4.78714283542048E-3]\n"
     ]
    }
   ],
   "source": [
    "print('||DPhi(F_1)(E_k)||_1:')\n",
    "for k, norm in enumerate(norm_DPhi_ks):\n",
    "    print(f'{k:0>3}: {norm}')"
   ]
  },
  {
   "cell_type": "code",
   "execution_count": 20,
   "metadata": {},
   "outputs": [
    {
     "name": "stdout",
     "output_type": "stream",
     "text": [
      "kappa\n",
      "= [+0.00000000000000E+00, +4.78714283542048E-3]\n"
     ]
    }
   ],
   "source": [
    "# we require the maximum column sum norm,\n",
    "# i.e., the maximum of all of these norms\n",
    "# care should be taken here!\n",
    "# be sure to use the convex hull rather than the max\n",
    "# because intervals are not totally ordered\n",
    "maximum_norm = Interval.hull(norm_DPhi_ks)\n",
    "kappa = maximum_norm\n",
    "print(f'kappa\\n=', kappa)"
   ]
  },
  {
   "cell_type": "markdown",
   "metadata": {},
   "source": [
    "### Application of the contraction mapping theorem\n",
    "\n",
    "Together, these bounds are used to establish the crucial inequality\n",
    "\\begin{align}\n",
    "%\\varepsilon + \\kappa\\rho &< \\rho\\\\\n",
    "%\\Leftrightarrow\n",
    "\\varepsilon &< \\rho(1-\\kappa),\n",
    "\\end{align}\n",
    "which, together with contractivity established above, proves that the ball of functions $F_1\\subset\\mathcal{A}_\\Omega$ is mapped into itself contractively by $\\Phi$."
   ]
  },
  {
   "cell_type": "raw",
   "metadata": {},
   "source": [
    "\\begin{center}\n",
    "\\includegraphics{./fig/contractball}\n",
    "\\end{center}"
   ]
  },
  {
   "cell_type": "code",
   "execution_count": 21,
   "metadata": {},
   "outputs": [
    {
     "name": "stdout",
     "output_type": "stream",
     "text": [
      "epsilon < rho(1-kappa)\n",
      " <=> [+0.00000000000000E+00, +1.58431379745242E-21]\n",
      "   < [+9.95212857164579E-21, +1.00000000000000E-20]\n",
      " <=> True\n"
     ]
    }
   ],
   "source": [
    "# report the data we collected\n",
    "print(f'epsilon < rho(1-kappa)')\n",
    "print(f' <=> {epsilon}')\n",
    "print(f'   < {rho*(1-kappa)}')\n",
    "print(f' <=> {epsilon < rho*(1-kappa)}')"
   ]
  },
  {
   "cell_type": "code",
   "execution_count": 22,
   "metadata": {
    "scrolled": true
   },
   "outputs": [],
   "source": [
    "# determine if the proof has succeeded\n",
    "assert epsilon < rho*(1-kappa)"
   ]
  },
  {
   "cell_type": "markdown",
   "metadata": {},
   "source": [
    "Hence, by the CMT, there exists a (locally) unique fixed point $G_{*}$ of $\\Phi$ in the function ball $F_1$.  Since fixed points of $\\Phi$ are exactly those of $\\mathbb{T}$, this concludes the proof."
   ]
  },
  {
   "cell_type": "markdown",
   "metadata": {},
   "source": [
    "### Bounds on the universal function"
   ]
  },
  {
   "cell_type": "code",
   "execution_count": 23,
   "metadata": {},
   "outputs": [],
   "source": [
    "# universal function in the conventional coordinates\n",
    "def g(x):\n",
    "    X = Q(x)\n",
    "    return F1(X)"
   ]
  },
  {
   "cell_type": "code",
   "execution_count": 24,
   "metadata": {},
   "outputs": [
    {
     "name": "stdout",
     "output_type": "stream",
     "text": [
      "Figure: Rigorous covering of the even representation, $G$\n"
     ]
    },
    {
     "data": {
      "image/png": "[encoded data removed]",
      "text/plain": [
       "<Figure size 609.449x376.66 with 1 Axes>"
      ]
     },
     "metadata": {
      "needs_background": "light"
     },
     "output_type": "display_data"
    },
    {
     "name": "stdout",
     "output_type": "stream",
     "text": [
      "Figure: Rigorous covering of the universal function, $g$\n"
     ]
    },
    {
     "data": {
      "image/png": "[encoded data removed]",
      "text/plain": [
       "<Figure size 609.449x376.66 with 1 Axes>"
      ]
     },
     "metadata": {
      "needs_background": "light"
     },
     "output_type": "display_data"
    }
   ],
   "source": [
    "if make_figures:\n",
    "    buffer = RR('0.95')\n",
    "    init_plotting(plt)\n",
    "    plt.figure(figsize=set_size('prl'))\n",
    "    plt.plot(*rectangles_coords(cover_graph(F1, c-r*buffer, c+r*buffer, 10)), color='r', linestyle='--')\n",
    "    plt.plot(*rectangles_coords(cover_graph(F1, c-r*buffer, c+r*buffer, 1000)), color='b')\n",
    "    plt.axhline(0)\n",
    "    plt.axvline(0)\n",
    "    plt.axvline(1, linestyle='--', color='b')\n",
    "    plt.xlabel('$X$')\n",
    "    plt.ylabel('$G(X)$')\n",
    "    plt.title('Rigorous covering of the even representation, $G$')\n",
    "    savefig(plt, 'fig/feig_G_small.pdf')\n",
    "    plt.show()\n",
    "\n",
    "    xy0 = rectangles_coords(cover_graph(g, -(c+r*buffer)**RR(0.25), (c+r*buffer)**RR(0.25), 10)) #-5, 10\n",
    "    xy1 = rectangles_coords(cover_graph(g, -(c+r*buffer)**RR(0.25), (c+r*buffer)**RR(0.25), 1000)) #-5, 10\n",
    "\n",
    "    plt.figure(figsize=set_size('prl'))\n",
    "    plt.plot(*xy0, color='r', linestyle='--')\n",
    "    plt.plot(*xy1, color='b')\n",
    "    plt.axhline(0)\n",
    "    plt.axvline(0)\n",
    "    plt.xlabel('$x$')\n",
    "    plt.ylabel('$g(x)$')\n",
    "    plt.title('Rigorous covering of the universal function, $g$')\n",
    "    savefig(plt, 'fig/feig_g_small.pdf')\n",
    "    plt.show()"
   ]
  },
  {
   "cell_type": "markdown",
   "metadata": {},
   "source": [
    "In order to bound the function outside of the domain of the function ball $F_1$, we may use the fixed-point equation:\n",
    "$$\n",
    "g(x) = a^{-1}g(g(ax)),\n",
    "$$\n",
    "recursively."
   ]
  },
  {
   "cell_type": "code",
   "execution_count": 25,
   "metadata": {},
   "outputs": [],
   "source": [
    "def G_full(X):\n",
    "    if -r <= X-c <= r:\n",
    "        return F1(X)\n",
    "    else:\n",
    "        return alpha*G_full(Q(G_full(a**d*X)))\n",
    "\n",
    "def g_full(x):\n",
    "    return G_full(Q(x))"
   ]
  },
  {
   "cell_type": "code",
   "execution_count": 26,
   "metadata": {},
   "outputs": [
    {
     "name": "stdout",
     "output_type": "stream",
     "text": [
      "Figure: Rigorous covering of the even representation, $G$\n"
     ]
    },
    {
     "data": {
      "image/png": "[encoded data removed]",
      "text/plain": [
       "<Figure size 609.449x376.66 with 1 Axes>"
      ]
     },
     "metadata": {
      "needs_background": "light"
     },
     "output_type": "display_data"
    },
    {
     "name": "stdout",
     "output_type": "stream",
     "text": [
      "Figure: Rigorous covering of the universal function, $g$\n"
     ]
    },
    {
     "data": {
      "image/png": "[encoded data removed]",
      "text/plain": [
       "<Figure size 609.449x376.66 with 1 Axes>"
      ]
     },
     "metadata": {
      "needs_background": "light"
     },
     "output_type": "display_data"
    }
   ],
   "source": [
    "if make_figures:\n",
    "    init_plotting(plt)\n",
    "    plt.figure(figsize=set_size('prl'))\n",
    "    plt.plot(*rectangles_coords(cover_graph(G_full, -25, 100, 10)), color='r', linestyle='--')\n",
    "    plt.plot(*rectangles_coords(cover_graph(G_full, -25, 100, 1000)), color='b')\n",
    "    plt.axhline(0)\n",
    "    plt.axvline(0)\n",
    "    plt.xlabel('$X$')\n",
    "    plt.ylabel('$G(X)$')\n",
    "    plt.title('Rigorous covering of the even representation, $G$')\n",
    "    savefig(plt, 'fig/feig_G_large.pdf')\n",
    "    plt.show()\n",
    "\n",
    "    xy0 = rectangles_coords(cover_graph(g_full, -2, 3, 10)) #-5, 10\n",
    "    xy1 = rectangles_coords(cover_graph(g_full, -2, 3, 1000)) #-5, 10\n",
    "\n",
    "    plt.figure(figsize=set_size('prl'))\n",
    "    plt.plot(*xy0, color='r', linestyle='--')\n",
    "    plt.plot(*xy1, color='b')\n",
    "    #plt.axhline(0)\n",
    "    #plt.axvline(0)\n",
    "    plt.xlabel('$x$')\n",
    "    plt.ylabel('$g(x)$')\n",
    "    plt.title('Rigorous covering of the universal function, $g$')\n",
    "    if False:\n",
    "        ax = plt.gca().inset_axes([0.075, 0.075, 0.5, 0.4])\n",
    "        ax.plot(*xy0, color='r', linestyle='--')\n",
    "        ax.plot(*xy1, color='b')\n",
    "        ax.set_xticklabels('')\n",
    "        ax.set_yticklabels('')\n",
    "        ax.set_xlim(0.85, 1.15)\n",
    "        ax.set_ylim(-0.6, -0.2)\n",
    "    savefig(plt, 'fig/feig_g_large.pdf')\n",
    "    plt.show()"
   ]
  },
  {
   "cell_type": "markdown",
   "metadata": {},
   "source": [
    "## Spectral theory\n",
    "\n",
    "The purpose of this section is to obtain rigorous bounds on the spectrum of $D\\mathbb{T}$ at the fixed point $G$.  The analyticity improving property, established in the section on *domain extension* implies that $D\\mathbb{T}(G)$ is a compact operator.  In turn, this means that the spectrum of $D\\mathbb{T}(G)$ consists of a countable set of isolated eigenvalues of finite multiplicity, together with the point $0$ (at which these eigenvalues may accumulate)."
   ]
  },
  {
   "cell_type": "markdown",
   "metadata": {},
   "source": [
    "### Change of basis\n",
    "\n",
    "At this point, we make a change of basis for the polynomial part of $D\\mathbb{T}(G)$ in order to bring it into a form closer to diagonal, from which the largest magnitude eigenvalues can more easily be bounded.\n",
    "To this end, we choose a linear operator $\\mathcal{P}$, whose action on the high-order part of the space is the identity and which acts on the polynomial part as an $(N+1)\\times (N+1)$ real matrix $A$.\n",
    "We form the columns of this matrix using approximate (numerical) eigenvectors of $D\\mathbb{T}(G)$. \n",
    "\n",
    "Computationally, we represent the polynomial part of the operator by a real interval matrix with degenerate elements.\n",
    "Note that we can bound the inverse $\\mathcal{P}^{-1}$ of this operator by performing interval Gauss elimination on $A$.\n",
    "\n",
    "\\begin{equation}\n",
    "\\mathcal{P}^{-1}\n",
    "=\n",
    "\\left(\\begin{array}{c|c}\n",
    "A^{-1} & 0\\\\\n",
    "\\hline\n",
    "0 & I\n",
    "\\end{array}\\right).\n",
    "\\end{equation}\n",
    "\n",
    "We thus bound a linear operator $\\mathcal{P}$ and its inverse $\\mathcal{P}^{-1}$ and hence may bound the composition\n",
    "$$\n",
    "\\mathcal{P}^{-1}D\\mathbb{T}(G)\\mathcal{P} =: E,\n",
    "$$\n",
    "for all $G\\in F_1$ by using function ball operations to bound the expression for the Frechet derivative evaluated over the function ball $F_1$ on all basis elements, $\\mathcal{P}e_k$.  Note that the linear operator $E$ represents $D\\mathbb{T}(G)$ under a change of basis."
   ]
  },
  {
   "cell_type": "code",
   "execution_count": 27,
   "metadata": {},
   "outputs": [],
   "source": [
    "# suppressed; not required\n",
    "if trunc_degree <= 20:\n",
    "    N = trunc_degree\n",
    "    DTG_approx_mat = np.array([[float(DTG_ks[k].func.P[j].lo) for k in range(N+1)] for j in range(N+1)])\n",
    "    eigval_approx, eigvec_as_cols_approx = np.linalg.eig(DTG_approx_mat)\n",
    "    P_mat_approx = eigvec_as_cols_approx\n",
    "    P_mat_elts = [[Interval(RR(elt)) for elt in row] for row in P_mat_approx]\n",
    "    P_mat = RMatrix(P_mat_elts)\n",
    "    P_inv_mat = P_mat.inv()\n",
    "    m, n = P_mat.shape()\n",
    "    assert m == n\n",
    "    DTG_PP_mat = RMatrix([[DTG_ks[k].func.P[j] for k in range(n)] for j in range(n)])\n",
    "    E_semirig = P_inv_mat * DTG_PP_mat * P_mat"
   ]
  },
  {
   "cell_type": "code",
   "execution_count": 28,
   "metadata": {},
   "outputs": [],
   "source": [
    "# suppressed; not required\n",
    "if trunc_degree <= 20:\n",
    "\n",
    "    def bound_similarity_transformed_DTG(k, P_mat=P_mat, P_inv_mat=P_inv_mat):\n",
    "        # passing the globals P_mat and P_inv_mat as default args\n",
    "        # seems to avoid problems with pathos multiprocessing and\n",
    "        # dill pickling this function.\n",
    "        one = Interval(1)\n",
    "        E_k = F1.basis_element(k)\n",
    "        P_k = P_mat * E_k\n",
    "        DTG_P_k = DT_even(F1, P_k)\n",
    "        Pinv_DTG_P_k = P_inv_mat * DTG_P_k  \n",
    "        return P_k, DTG_P_k, Pinv_DTG_P_k\n",
    "\n",
    "    if parallel:\n",
    "        with Pool(num_processors-1) as pool:\n",
    "            P_ks, DTG_P_ks, Pinv_DTG_P_ks = list(zip(*pool.map(bound_similarity_transformed_DTG, k_vals)))\n",
    "    else:\n",
    "        P_ks, DTG_P_ks, Pinv_DTG_P_ks = list(zip(*map(bound_similarity_transformed_DTG, k_vals)))"
   ]
  },
  {
   "cell_type": "markdown",
   "metadata": {},
   "source": [
    "### Contracted vectors and contracted matrices\n",
    "\n",
    "The key tool in dealing with the spectrum is the concept of a *contracted matrix*.\n",
    "\n",
    "Firstly, we establish some notation.  We choose to present the following in a slightly more general context than needed.  Let $X$ be a real Banach space, let $m\\le N$ be a positive integer, let $P$ be a continuous projection operator on $X$ of $m$-dimensional range and put $H = I - P$.  We choose $m$ to be at least the number of specific eigenvalues that we wish to isolate.  In this case, it is useful to choose $m\\ge 2$ since $D\\mathbb{T}(G)$ is hyperbolic with expanding directions corresponding to eigenvalues $\\alpha^d$ and $\\delta$, with all other eigenvalues having $|\\lambda|\\le r<1$.  We note that it may be necessary to choose $m$ larger than this desired number in order to achieve tighter bounds; in particular, there are tradeoffs with the truncation degree $N$, the function ball radius $\\rho$, the accuracy of the approximate fixed point, and so on."
   ]
  },
  {
   "cell_type": "markdown",
   "metadata": {},
   "source": [
    "We choose a basis\n",
    "$\\{e_1, e_2,\\ldots, e_m\\}$ of $PX$. The equation \n",
    "$$\n",
    "Px = \\sum_{i = 1}^m \\phi_i(x) e_i,\n",
    "$$\n",
    "defines the (coordinate) functionals $\\phi_i$.\n",
    "\n",
    "In this context, $(m+1)$-dimensional interval\n",
    "vectors $u = (u_1,\\ldots,u_{m+1})$ will be called *contracted vectors*.  The $(m+1)-th$ element should be thought of as bounding infinitely-many 'high-order' elements."
   ]
  },
  {
   "cell_type": "markdown",
   "metadata": {},
   "source": [
    "The key idea is the following: we can define a concept of containment of $x\\in X$ in a contracted vector $u$ and of a linear operator in a contracted matrix, with the useful property that if contracted matrix $C$ contains linear operator $T$ and $\\lambda$ is an interval containing a real eigenvalue of $T$, then the interval $\\det(C-\\lambda I)$ contains zero."
   ]
  },
  {
   "cell_type": "markdown",
   "metadata": {},
   "source": [
    "Definition: Let $u$ be a contracted vector and $x\\in X$.  We say that $u$ contains (or bounds) $x$ (with respect to the chosen decomposition $X=PX\\oplus HX$ and the chosen basis of $PX$), represented symbolically by $x\\in u$, if\n",
    "$$\n",
    "\\phi_k(x)\\in u_k,\\quad 1\\le k\\le m,\n",
    "$$\n",
    "and\n",
    "$$\n",
    "\\psi(Hx)\\in u_{m+1}\\quad\\forall\\psi\\in(HX)^{*},\\|\\psi\\|\\le 1.\n",
    "$$\n",
    "\n",
    "In particular, if $x\\in X$ and intervals $u_k$ contain the coordinates $\\phi_k(x)$, then $x$ is bounded by the vector of intervals\n",
    "\\begin{equation}\n",
    "u = (u_1,\\ldots,u_m,[-\\|Hx\\|,+\\|Hx\\|]).\n",
    "\\end{equation}"
   ]
  },
  {
   "cell_type": "markdown",
   "metadata": {},
   "source": [
    "The following useful properties then enable us to bound operations on $X$ by those on contracted vectors:\n",
    "\\begin{align}\n",
    "x\\in u,y\\in v &\\Rightarrow x+y\\in u+v,\\\\\n",
    "x\\in u,\\lambda\\in\\ell &\\Rightarrow \\lambda x\\in\\ell u.\n",
    "\\end{align}"
   ]
  },
  {
   "cell_type": "markdown",
   "metadata": {},
   "source": [
    "In a similar way, we may contain a bounded linear operator in a contracted matrix.\n",
    "\n",
    "Definition: If $L$ is a bounded linear operator on $X$ and $C=(c_{jk})$ is an $(m+1)\\times(m+1)$ interval matrix, then we say that $C$ contains (or bounds) $L$, represented symbolically by $L\\in C$, with respect to the decomposition $X=PX\\oplus HX$ and the chosen basis for $PX$ if the following hold for $1\\le j,k\\le m$, for all $z\\in HX$ with $\\|z\\|\\le 1$, and for all $\\psi\\in(HX)^{*}$ with $\\|\\psi\\|\\le 1$:"
   ]
  },
  {
   "cell_type": "markdown",
   "metadata": {},
   "source": [
    "\\begin{align}\n",
    "\\phi_j(Le_k) &\\in c_{jk},\\\\\n",
    "\\phi_j(Lz) &\\in c_{j(m+1)},\\\\\n",
    "\\psi(HLe_k) &\\in c_{(m+1)k},\\\\\n",
    "\\psi(HLz) &\\in c_{(m+1)(m+1)}.\n",
    "\\end{align}"
   ]
  },
  {
   "cell_type": "markdown",
   "metadata": {},
   "source": [
    "In particular, let $L$ be a bounded linear operator on $X$, with\n",
    "\\begin{align}\n",
    "a_{jk}&:=\\phi_j(Le_k),\\\\\n",
    "\\theta_j &:= \\phi_jL | HX,\\\\\n",
    "t_k &:= HLe_k,\\\\\n",
    "\\Theta &:= HL | HX,\n",
    "\\end{align}\n",
    "so that $\\theta_j\\in(HX)^{*}$, $t_k\\in HX$, and $\\Theta\\in L(HX,HX)$, and we may therefore represent $L$ in block form, with respect to the decomposition $X=PX\\oplus HX$ and the chosen basis $(e_k)$ for $PX$, by\n",
    "\\begin{equation}\n",
    "L=\\left(\\begin{array}{ccc|c}\n",
    "a_{11} & \\cdots & a_{1m} & \\theta_1\\\\\n",
    "\\vdots & \\ddots & \\vdots & \\vdots\\\\\n",
    "a_{m1} & \\cdots & a_{mm} & \\theta_m\\\\\n",
    "\\hline\n",
    "t_1 & \\cdots & t_m & \\Theta\n",
    "\\end{array}\\right).\n",
    "\\end{equation}\n",
    "If the 'matrix elements' $a_{jk}$ are contained in the intervals $c_{jk}$,\n",
    "then $L$ is contained in the interval matrix $C$ given by:"
   ]
  },
  {
   "cell_type": "raw",
   "metadata": {},
   "source": [
    "\\begin{widetext}"
   ]
  },
  {
   "cell_type": "markdown",
   "metadata": {},
   "source": [
    "\\begin{equation}\n",
    "C=\\left(\\begin{array}{ccc|c}\n",
    "c_{11} & \\cdots & c_{1m} & [-\\|\\theta_1\\|,+\\|\\theta_1\\|]\\\\\n",
    "\\vdots & \\ddots & \\vdots & \\vdots\\\\\n",
    "c_{m1} & \\cdots & c_{mm} & [-\\|\\theta_m\\|,+\\|\\theta_m\\|]\\\\\n",
    "\\hline\n",
    "[-\\|t_1\\|,+\\|t_1\\|] & \\cdots & [-\\|t_m\\|,+\\|t_m\\|] & [-\\|\\Theta\\|,+\\|\\Theta\\|]\n",
    "\\end{array}\\right)\n",
    "\\end{equation}"
   ]
  },
  {
   "cell_type": "raw",
   "metadata": {},
   "source": [
    "\\end{widetext}"
   ]
  },
  {
   "cell_type": "markdown",
   "metadata": {},
   "source": [
    "Again, the utility of the above definition lies in properties that allow us to bound the action of $L$ on elements of $X$ by the action of a contracted matrix on a contracted vector: we have, in particular,\n",
    "\\begin{align}\n",
    "L\\in C,x\\in u\\Rightarrow Lx\\in Cu,\n",
    "\\end{align}\n",
    "in which the operation on the right-hand side of the final containment is simply (interval) matrix multiplication."
   ]
  },
  {
   "cell_type": "markdown",
   "metadata": {},
   "source": [
    "The above notion of containment preserves enough of the linear structure to yield the following result: we note that if $L$ is a linear operator and $C$ a contracted matrix with $L\\in C$, and $\\lambda\\in\\sigma(L)$ is a real eigenvalue of $L$, then the interval $\\det(C-\\lambda I)$ contains $0$.  Trivially, note also that if $\\lambda$ is itself an interval containing an eigenvalue of $L$ then $\\det(C-\\lambda I)\\ni 0$."
   ]
  },
  {
   "cell_type": "markdown",
   "metadata": {},
   "source": [
    "### Bounding the spectrum\n",
    "\n",
    "We use the above ideas to bound the spectrum of $D\\mathbb{T}(G)$.  We form a contracted matrix $C$ that contains $\\mathcal{P}^{-1}D\\mathbb{T}(G)\\mathcal{P}$, i.e., $D\\mathbb{T}(G)$ under a change of basis that moves it closer to diagonal, for all $G\\in F_1$.  We choose an interval in $\\mathbb{R}$ in which to search for eigenvalues of $D\\mathbb{T}(G)$.  This interval may be chosen by noting that the spectral radius of $D\\mathbb{T}(G)$ is bounded by the operator norm which is in turn bounded by the maximum column sum norm.  A bound on this final norm was produced as a by-product of the existence proof.\n",
    "\n",
    "We then sub-divide this interval into small sub-intervals and evaluate the expression $\\det(C-\\lambda I)$ on each subinterval $\\lambda$ using Gauss elimination to row echelon form using row operations with interval arithmetic.  There are two possible outcomes: either (i) the result is an interval bounded away from zero, or (ii) the elimination either fails as a suitable pivot interval cannot be determined or results in an interval containing zero.  In case (i), the expression $\\det(C-\\lambda I)$ has been bounded strictly away from zero and thus the interval $\\lambda$ does not contain an eigenvalue.  Case (ii) is inconclusive by itself and we must reason about the pattern of sign changes between any nearest-neighbouring subintervals that fall under case (i) in order to determine whether a zero exists.\n",
    "\n",
    "[We may also move to the realification of the space $X$ by taking $\\{e_k\\}\\cup\\{ie_k\\}$, where here $i$ represents the imaginary unit, as a basis for $(\\ell_1\\oplus\\ell_1)^2$ and working with rectangle arithmetic.  Doing this yields the corresponding result that if a rectangle $\\lambda\\subset\\mathbb{C}$ contains a complex eigenvalue of the linear operator $L\\in C$, then the rectangle $\\det(C-\\lambda I)$ contains zero.  In this way, one can deal with the full spectrum of bounded linear operators on a real Banach space $X$.]"
   ]
  },
  {
   "cell_type": "code",
   "execution_count": 29,
   "metadata": {},
   "outputs": [],
   "source": [
    "def high_order_parts_are_balanced(A):\n",
    "    assert isinstance(A, RMatrix)\n",
    "    m, n = A.shape()\n",
    "    assert m == n\n",
    "    for j in range(n):\n",
    "        if A[j,-1].hi != -A[j,-1].lo:\n",
    "            return False\n",
    "    for k in range(n):\n",
    "        if A[-1,k].hi != -A[-1,k].lo:\n",
    "            return False\n",
    "    return True"
   ]
  },
  {
   "cell_type": "code",
   "execution_count": 30,
   "metadata": {},
   "outputs": [],
   "source": [
    "def balanced_matrix_off_diagonals(A):\n",
    "    assert isinstance(A, RMatrix)\n",
    "    m, n = A.shape()\n",
    "    assert m == n\n",
    "    B = RMatrix.zeros((n, n))\n",
    "    for j in range(n):\n",
    "        for k in range(n):\n",
    "            if j == k:\n",
    "                B[j, k] = A[j, k]\n",
    "            else:\n",
    "                x = A[j, k]\n",
    "                B[j, k] = Interval.hull([x, -x])\n",
    "    return B"
   ]
  },
  {
   "cell_type": "code",
   "execution_count": 31,
   "metadata": {},
   "outputs": [],
   "source": [
    "def off_diagonals_are_balanced(A):\n",
    "    assert isinstance(A, RMatrix)\n",
    "    m, n = A.shape()\n",
    "    assert m == n\n",
    "    for j in range(n):\n",
    "        for k in range(n):\n",
    "            if j != k:\n",
    "                if A[j, k].lo != -A[j, k].hi:\n",
    "                    return False\n",
    "    return True"
   ]
  },
  {
   "cell_type": "code",
   "execution_count": 32,
   "metadata": {},
   "outputs": [],
   "source": [
    "# suppressed; not required\n",
    "if trunc_degree <= 20:\n",
    "    V_contracted = RMatrix.zeros((trunc_degree+2, trunc_degree+2))\n",
    "    for j in range(trunc_degree+2):\n",
    "        for k in range(trunc_degree+2):\n",
    "            if j <= trunc_degree:\n",
    "                V_contracted[j,k] = Pinv_DTG_P_ks[k].func.P[j]\n",
    "            else:\n",
    "                assert Pinv_DTG_P_ks[k].func.G.hi == 0\n",
    "                h = Pinv_DTG_P_ks[k].func.H.hi\n",
    "                V_contracted[j,k] = Interval(-h, h)\n",
    "\n",
    "    assert high_order_parts_are_balanced(V_contracted)\n",
    "\n",
    "    #V_balanced = balanced_matrix_off_diagonals(V_contracted)\n",
    "    # balancing the off-diagonals, by expanding those intervals,\n",
    "    # would be required for the perturbation argument of Mestel to\n",
    "    # be used; we are not using that argument here.\n",
    "\n",
    "    V_balanced = V_contracted\n",
    "\n",
    "    assert high_order_parts_are_balanced(V_balanced)\n",
    "    #assert off_diagonals_are_balanced(V_balanced)"
   ]
  },
  {
   "cell_type": "code",
   "execution_count": 33,
   "metadata": {},
   "outputs": [],
   "source": [
    "# real-line version; use complex plane version\n",
    "# if full spectral bounds are needed; not required.\n",
    "def classify(I):\n",
    "    try:\n",
    "        d = RMatrix.det(V_balanced-RMatrix.eye(trunc_degree+2)*I)\n",
    "        if d < 0:\n",
    "            s = -1\n",
    "        else:\n",
    "            s = +1\n",
    "    except ZeroDivisionError:\n",
    "        s = 0\n",
    "    return s\n",
    "\n",
    "def refine(cover):\n",
    "    new_cover = []\n",
    "    for I, s in cover:\n",
    "        if s != 0:\n",
    "            new_cover.append((I, s))\n",
    "        else:\n",
    "            n = 10\n",
    "            for k in range(n):\n",
    "                c = (I.hi + I.lo)/2\n",
    "                p0 = Interval(k)/Interval(n)\n",
    "                q0 = Interval(1)-p0\n",
    "                p1 = Interval(k+1)/Interval(n)\n",
    "                q1 = Interval(1)-p1\n",
    "                a = Interval(I.lo)*q0 + Interval(I.hi)*p0\n",
    "                b = Interval(I.lo)*q1 + Interval(I.hi)*p1\n",
    "                x = Interval.hull([a, b])\n",
    "                xs = classify(x)\n",
    "                new_cover.append((x, xs))\n",
    "    return new_cover\n",
    "\n",
    "def group(cover):\n",
    "    prev = None\n",
    "    for I, s in cover:\n",
    "        if prev is None:\n",
    "            prev = I, s\n",
    "        else:\n",
    "            Iprev, sprev = prev\n",
    "            if sprev == s and I.lo == Iprev.hi:\n",
    "                prev = Interval.hull([Iprev, I]), s\n",
    "            else:\n",
    "                yield prev\n",
    "                prev = I, s\n",
    "    if prev is not None:\n",
    "        yield prev"
   ]
  },
  {
   "cell_type": "markdown",
   "metadata": {},
   "source": [
    "For the case of truncation degree 20, for example, the following intervals were identified as containing eigenvalues with $|\\lambda|>1$:"
   ]
  },
  {
   "cell_type": "code",
   "execution_count": 34,
   "metadata": {},
   "outputs": [
    {
     "name": "stdout",
     "output_type": "stream",
     "text": [
      "[+7.28468621363200E+0, +7.28468622361600E+0]\n",
      "[+8.16315831577600E+0, +8.16315832576000E+0]\n"
     ]
    }
   ],
   "source": [
    "# cached previous result as we don't run technique for N>20 here\n",
    "# or for the current results\n",
    "print(Interval(RR('+7.28468621363200E+0'), RR('+7.28468622361600E+0')))\n",
    "print(Interval(RR('+8.16315831577600E+0'), RR('+8.16315832576000E+0')))"
   ]
  },
  {
   "cell_type": "code",
   "execution_count": 35,
   "metadata": {},
   "outputs": [],
   "source": [
    "# suppressed; not required\n",
    "if trunc_degree <= 20:\n",
    "    cover = [(Interval(-100, RR('-0.16')), 0), (Interval(RR('0.16'), 100), 0)]\n",
    "    for k in range(10):\n",
    "        #print(len(cover), end=', ')\n",
    "        cover = refine(cover)\n",
    "\n",
    "    for I, s in group(cover):\n",
    "        if s == 0:\n",
    "            print(I)\n",
    "\n",
    "    assert alpha**4 in list(group(cover))[-2][0]"
   ]
  },
  {
   "cell_type": "markdown",
   "metadata": {},
   "source": [
    "These intervals bound Feigenbaum's $\\delta$ and $\\alpha^4$, respectively.  All other eigenvalues are bounded with $|\\lambda|<0.256$.  We note the absence of odd powers of $\\alpha$ in the spectrum is due to our formulation of the operator with the even representation.  We note also that the eigenvalue $\\alpha^4$ is non-essential, being a coordinate change eigenvalue and that it has been shown elsewhere that the particular choice of $\\alpha$ respecting the normalisation $g(0)=1$ only affects the spectrum up to non-essential eigenvalues."
   ]
  },
  {
   "cell_type": "markdown",
   "metadata": {},
   "source": [
    "Complex bounds: Our goal is to bound the spectrum of $V$, which is identical to that of $DT(G)$.\n",
    "\n",
    "The idea now is to consider a one-parameter family of linear transformations $\\mu\\mapsto L_\\mu$ with $\\mu\\in[0, 1]$ such that $L_0=D$, a diagonal operator consisting of $V$ with off-diagonal elements zeroed, and whose spectrum is therefore trivial to bound (in both eigenvalues and multiplicities), and $L_1=V$.\n",
    "\n",
    "We cover circles $\\Gamma_k$, surrounding candidate eigenvalues, with collections $R_k$ of rectangles in $\\mathbb{C}$ and cover the interval $[0, 1]\\ni \\mu$ with overlapping subintervals, and hence bound the contracted matrix determinant\n",
    "$$\n",
    "\\det(L_\\mu-\\lambda I),\n",
    "$$\n",
    "for all $\\mu\\in[0,1]$ and all $\\lambda\\in R_k$.  If this quantity remains bounded away from zero, then no eigenvalue can cross the circle $\\Gamma_k$ and, since the determinant is continuous in the linear operator, we gain bounds on the spectrum of $V$ (both in location of eigenvalues and multiplicities) and hence $DT(G)$."
   ]
  },
  {
   "cell_type": "markdown",
   "metadata": {},
   "source": [
    "These bounds could be improved by taking a higher truncation degree, a smaller function ball $F_1$, and by increasing the contraction degree $m$.  However, it is arguably more effective to use a quasi-Newton operator for the corresponding eigenfunction problem to refine a suitable approximate eigenvalue-eigenfunction pair, and then to prove contractivity of a ball around the resulting pair, i.e., to apply the techniques used in the existence proof to this problem.\n",
    "\n",
    "We do this below, and in the paper.\n",
    "\n",
    "In the Julia version of the code, we work with rectangle arithmetic to bound the spectrum in the complex plane, rather than solely on the real line."
   ]
  },
  {
   "cell_type": "markdown",
   "metadata": {},
   "source": [
    "## Rigorous bounds on eigenfunctions"
   ]
  },
  {
   "cell_type": "code",
   "execution_count": 36,
   "metadata": {},
   "outputs": [],
   "source": [
    "# coordinate functional, taking into account general term\n",
    "def phi(V):\n",
    "    return V.func.P[0] + Interval(-V.func.G.hi, +V.func.G.hi)\n",
    "\n",
    "# error in eigenfunction with corresponding eigenvalue as its constant term\n",
    "def F(V):\n",
    "    return DTG(V) - V*phi(V)\n",
    "\n",
    "# Frechet derivative of the error\n",
    "def DF(V, delta_V):\n",
    "    return DTG(delta_V) - (delta_V*phi(V) + V*phi(delta_V))"
   ]
  },
  {
   "cell_type": "markdown",
   "metadata": {},
   "source": [
    "### The eigenproblem\n",
    "\n",
    "We now aim to get rigorous bounds on eigenfunction-eigenvalue pairs $(V, \\lambda)$: we need to solve the equation\n",
    "\\begin{align}\n",
    "D\\mathbb{T}(G)V &= \\lambda V,\n",
    "\\end{align}\n",
    "which we abbreviate to\n",
    "\\begin{align}\n",
    "LV &= \\lambda V.\n",
    "\\end{align}\n",
    "For eigenfunctions we insist that $V\\not\\equiv 0$ and thus there is a minimum $k$ such that $\\phi_k(V)\\neq 0$, where $\\phi_k$ denotes the $k$-th coordinate functional with respect to our chosen basis.  We may then encode the eigenvalue $\\lambda$ within the eigenfunction $V$ by writing $\\phi=\\phi_k$ and\n",
    "\\begin{align}\n",
    "(V, \\lambda)\\mapsto \\lambda\\frac{V}{\\phi(V)},\n",
    "\\end{align}\n",
    "and then solving the corresponding nonlinear problem given by \n",
    "\\begin{align}\n",
    "LV &= \\phi(V)V.\n",
    "\\end{align}\n",
    "Accordingly, we seek a zero of the corresponding operator\n",
    "\\begin{align}\n",
    "F(V) &:= LV - \\phi(V)V,\n",
    "\\end{align}\n",
    "which has Frechet derivative given formally by\n",
    "\\begin{align}\n",
    "DF(V)\\delta V &= L\\delta V - \\phi(\\delta V)V - \\phi(V)\\delta V.\n",
    "\\end{align}"
   ]
  },
  {
   "cell_type": "markdown",
   "metadata": {},
   "source": [
    "### Newton's method for eigenfunctions\n",
    "\n",
    "The Newton operator for this problem is given by\n",
    "\\begin{align}\n",
    "\\mathcal{N}(V) &= V - [DF(V)]^{-1}F(V).\n",
    "\\end{align}\n",
    "Just as in the existence proof, we seek to show that the Newton operator is a contraction mapping on a suitable ball around an approximate eigenfunction $V$.  Since we establish contractivity via the mean value theorem applied to the Frechet derivative $D\\mathcal{N}(V)$ and the latter would involve finding inverse operators and second derivatives, we make an approximation by choosing a fixed linear operator $\\Lambda$ such that\n",
    "\\begin{align}\n",
    "\\Lambda &\\simeq [DF(V)]^{-1},\n",
    "\\end{align}\n",
    "and work with an approximate Newton operator that shares the same fixed points as $\\mathcal{N}$:\n",
    "\\begin{align}\n",
    "\\Psi(V)\n",
    "&= V - \\Lambda F(V),\\\\\n",
    "D\\Psi(V)\\delta V \n",
    "&= \\delta V - \\Lambda\\bigl(D\\mathbb{T}(G)\\delta V\\nonumber\\\\\n",
    "&\\quad{}- \\phi(\\delta V)V - \\phi(V)\\delta V\\bigr).\n",
    "\\end{align}"
   ]
  },
  {
   "cell_type": "markdown",
   "metadata": {},
   "source": [
    "We now need to choose a suitable linear operator, $\\Lambda$.  We have\n",
    "\\begin{align}\n",
    "DF(V)\\delta V\n",
    "&= D\\mathbb{T}(G)\\delta V - \\phi(\\delta V)V - \\phi(V)\\delta V\\\\\n",
    "&= \\left(D\\mathbb{T}(G) - Ve_k^{*} - V_kI\\right)\\delta V,\\\\\n",
    "DF(V)\n",
    "&\\simeq \\Delta - V^0e_k^{*} - V^0_kI,\n",
    "\\end{align}\n",
    "where $V^0$ is a suitable approximate eigenfunction.  In order to implement $\\Lambda$ (which we choose to be the inverse of the above operator) we need to think about the action of the operator on the polynomial and high-order parts of the space."
   ]
  },
  {
   "cell_type": "markdown",
   "metadata": {},
   "source": [
    "Assume, without loss of generality, that $k=0$ so that $\\phi(V)=V_0$, where the subscript denotes the relevant power series coefficient, and for a suitable $V^0$ (chosen with $HV^0=0$) then we may take the (block diagonal) operator specified by"
   ]
  },
  {
   "cell_type": "raw",
   "metadata": {},
   "source": [
    "\\begin{widetext}"
   ]
  },
  {
   "cell_type": "markdown",
   "metadata": {},
   "source": [
    "$$\n",
    "\\Gamma\n",
    "=\\Delta-V^0e_0^{*}-V^0_0I\n",
    "=\n",
    "\\left(\\begin{array}{cccc|c}\n",
    "\\Delta_{00}-2V^0_0 & \\Delta_{01} & \\cdots & \\Delta_{0N} & 0\\\\\n",
    "\\Delta_{10}-V^0_1 & \\Delta_{11}-V^0_0 & \\cdots & \\Delta_{1N} & 0\\\\\n",
    "\\vdots & \\vdots & \\ddots & \\vdots & \\vdots\\\\\n",
    "\\Delta_{N0}-V^0_N & \\Delta_{N1} & \\cdots & \\Delta_{NN}-V^0_0 & 0\\\\\n",
    "\\hline\n",
    "0 & 0 & \\cdots & 0 & -V^0_0I\n",
    "\\end{array}\\right).\n",
    "$$"
   ]
  },
  {
   "cell_type": "raw",
   "metadata": {},
   "source": [
    "\\end{widetext}"
   ]
  },
  {
   "cell_type": "code",
   "execution_count": 37,
   "metadata": {},
   "outputs": [],
   "source": [
    "c, r, coeffs = import_poly_with_domain('dat/' + prefix + '_V10.dat')\n",
    "assert Domain(c, r) == F1.dom"
   ]
  },
  {
   "cell_type": "code",
   "execution_count": 38,
   "metadata": {},
   "outputs": [],
   "source": [
    "V0_coeffs = list(map(Interval, coeffs))\n",
    "V0_trunc = Trunc(trunc_degree, V0_coeffs)\n",
    "V0_ball = Ball(V0_trunc, 0, 0)\n",
    "V0 = Function(F1.dom, V0_ball)\n",
    "V0_0 = phi(V0)"
   ]
  },
  {
   "cell_type": "code",
   "execution_count": 39,
   "metadata": {},
   "outputs": [],
   "source": [
    "# matrix used to construct the linear operator in the approximate newton method\n",
    "Delta_elts = import_matrix('dat/' + prefix + '_delta.dat')\n",
    "Delta_elts = [row[:trunc_degree+1] for row in Delta_elts[:trunc_degree+1]]\n",
    "assert len(Delta_elts) == len(Delta_elts[0]) == trunc_degree+1\n",
    "\n",
    "# construct the real interval matrix\n",
    "Delta = RMatrix(Delta_elts)"
   ]
  },
  {
   "cell_type": "code",
   "execution_count": 40,
   "metadata": {},
   "outputs": [],
   "source": [
    "e0_star = RMatrix([[1]+[0 for k in range(trunc_degree)]])\n",
    "V0_coef = RMatrix([[V0.func.P[j]] for j in range(trunc_degree+1)])\n",
    "Id = RMatrix.eye(trunc_degree+1)\n",
    "\n",
    "DFV_approx_PP = Delta - V0_coef*e0_star - Id*phi(V0)\n",
    "DFV_approx_HH = -V0_0\n",
    "\n",
    "Lambda_hat_PP = DFV_approx_PP.inv()\n",
    "Lambda_hat_HH = -1/DFV_approx_HH"
   ]
  },
  {
   "cell_type": "code",
   "execution_count": 41,
   "metadata": {},
   "outputs": [],
   "source": [
    "def Psi(V):\n",
    "    return V - Lambda_hat_PP(F(V), high_order_coeff=Lambda_hat_HH)"
   ]
  },
  {
   "cell_type": "markdown",
   "metadata": {},
   "source": [
    "We first bound the norm\n",
    "$$\n",
    "\\|\\Psi(V^0)-V^0\\|_1\\le\\hat\\varepsilon.\n",
    "$$"
   ]
  },
  {
   "cell_type": "code",
   "execution_count": 42,
   "metadata": {},
   "outputs": [
    {
     "name": "stdout",
     "output_type": "stream",
     "text": [
      "epsilon_hat\n",
      "= [+0.00000000000000E+00, +3.57500081594949E-16]\n"
     ]
    }
   ],
   "source": [
    "V1 = Psi(V0)\n",
    "epsilon_hat = abs(V1 - V0)\n",
    "print(f'epsilon_hat\\n= {epsilon_hat}')"
   ]
  },
  {
   "cell_type": "markdown",
   "metadata": {},
   "source": [
    "Now we choose a ball of radius $\\hat\\rho$ around $V^0$ in order to bound the derivative of $\\Psi$:"
   ]
  },
  {
   "cell_type": "code",
   "execution_count": 43,
   "metadata": {},
   "outputs": [
    {
     "name": "stdout",
     "output_type": "stream",
     "text": [
      "rho_hat\n",
      "= 1e-15\n"
     ]
    }
   ],
   "source": [
    "print(f'rho_hat\\n= {rho_hat:e}')"
   ]
  },
  {
   "cell_type": "code",
   "execution_count": 44,
   "metadata": {},
   "outputs": [],
   "source": [
    "rho_ball = F0.general_ball(rho_hat)"
   ]
  },
  {
   "cell_type": "code",
   "execution_count": 45,
   "metadata": {},
   "outputs": [
    {
     "name": "stdout",
     "output_type": "stream",
     "text": [
      "Function Ball: c=0.5754, r=0.8, N=40 (15 sf shown)\n",
      "000: [+7.28468621707334E+0, +7.28468621707335E+0]\n",
      "001: [+7.16683984317480E+0, +7.16683984317481E+0]\n",
      "002: [-5.43300167629706E+0, -5.43300167629705E+0]\n",
      "003: [-8.16230343866872E-1, -8.16230343866871E-1]\n",
      "004: [+1.27486077618858E+0, +1.27486077618859E+0]\n",
      "005: [-2.77161353084312E-1, -2.77161353084311E-1]\n",
      "006: [-8.20315350141913E-2, -8.20315350141912E-2]\n",
      "007: [+5.96938563008511E-2, +5.96938563008512E-2]\n",
      "008: [-7.96816236743724E-3, -7.96816236743723E-3]\n",
      "009: [-4.47323696173472E-3, -4.47323696173471E-3]\n",
      "010: [+2.08343751086433E-3, +2.08343751086434E-3]\n",
      "011: [-6.64564002293342E-5, -6.64564002293341E-5]\n",
      "012: [-2.09931232201390E-4, -2.09931232201389E-4]\n",
      "013: [+6.42560110994945E-5, +6.42560110994946E-5]\n",
      "014: [+5.09624679670856E-6, +5.09624679670857E-6]\n",
      "015: [-8.32605993204189E-6, -8.32605993204188E-6]\n",
      "016: [+1.79021111702992E-6, +1.79021111702993E-6]\n",
      "017: [+3.68640140954579E-7, +3.68640140954580E-7]\n",
      "018: [-2.86831458275473E-7, -2.86831458275472E-7]\n",
      "019: [+4.17427962308966E-8, +4.17427962308967E-8]\n",
      "020: [+1.74580704815924E-8, +1.74580704815925E-8]\n",
      "021: [-8.92876991621473E-9, -8.92876991621472E-9]\n",
      "022: [+6.77612470365266E-10, +6.77612470365267E-10]\n",
      "023: [+7.02946094323317E-10, +7.02946094323318E-10]\n",
      "024: [-2.55334825589832E-10, -2.55334825589831E-10]\n",
      "025: [-1.16398554175431E-12, -1.16398554175430E-12]\n",
      "026: [+2.54597040096789E-11, +2.54597040096790E-11]\n",
      "027: [-6.65860700888324E-12, -6.65860700888323E-12]\n",
      "028: [-7.29834019920776E-13, -7.29834019920775E-13]\n",
      "029: [+8.45841337805659E-13, +8.45841337805660E-13]\n",
      "030: [-1.52722658145451E-13, -1.52722658145450E-13]\n",
      "031: [-4.21378919650436E-14, -4.21378919650435E-14]\n",
      "032: [+2.60088977635122E-14, +2.60088977635123E-14]\n",
      "033: [-2.76256270333594E-15, -2.76256270333593E-15]\n",
      "034: [-1.79894556732555E-15, -1.79894556732554E-15]\n",
      "035: [+7.41708575737706E-16, +7.41708575737707E-16]\n",
      "036: [-2.06403057364769E-17, -2.06403057364768E-17]\n",
      "037: [-6.64703929012360E-17, -6.64703929012359E-17]\n",
      "038: [+1.94767936748131E-17, +1.94767936748132E-17]\n",
      "039: [+1.31641208260975E-18, +1.31641208260976E-18]\n",
      "040: [-2.23190840938041E-18, -2.23190840938040E-18]\n",
      "  H: [+0.00000000000000E+00, +0.00000000000000E+00]\n",
      "  G: [+0.00000000000000E+00, +1.00000000000000E-15]\n"
     ]
    }
   ],
   "source": [
    "V0_rho = V0 + rho_ball\n",
    "print(V0_rho)"
   ]
  },
  {
   "cell_type": "code",
   "execution_count": 46,
   "metadata": {},
   "outputs": [],
   "source": [
    "# the notation in this cell is misleading.\n",
    "# this is not the derivative of Phi.\n",
    "# it is only the derivative of the operator with a zero.\n",
    "\n",
    "def bound_linear_op(k,\n",
    "                    phi=phi,\n",
    "                    V0=V0,\n",
    "                    V0_rho=V0_rho,\n",
    "                    Lambda_hat_PP=Lambda_hat_PP,\n",
    "                    Lambda_hat_HH=Lambda_hat_HH,\n",
    "                    DTG_ks=DTG_ks,\n",
    "                    dependency=True):\n",
    "\n",
    "    # define basis element\n",
    "    E_k = F1.basis_element(k)\n",
    "    \n",
    "    # check basic property\n",
    "    if k < trunc_degree+1:\n",
    "        assert Interval(1) in abs(E_k), f'{abs(E_k)}'\n",
    "    else:\n",
    "        assert Interval(0, 1) in abs(E_k), f'{abs(E_k)}'\n",
    "\n",
    "    # evalulate and bound Frechet derivative of T\n",
    "    deltaT_k = DTG_ks[k] #DT_even(F1, E_k)\n",
    "    deltaF_k = deltaT_k - (E_k*phi(V0_rho) + V0_rho*phi(E_k))\n",
    "    \n",
    "    # evalulate and bound derivative of newton operator\n",
    "    if k > trunc_degree and dependency:\n",
    "        DPsi_V0_E_k = E_k*(Interval(1)-phi(V0_rho)/phi(V0)) - Lambda_hat_PP(deltaT_k, high_order_coeff=Lambda_hat_HH)\n",
    "    else:\n",
    "        DPsi_V0_E_k = E_k - Lambda_hat_PP(deltaF_k, high_order_coeff=Lambda_hat_HH)\n",
    "\n",
    "    # report on the cruicial norms\n",
    "    norm_deltaF_k = abs(deltaF_k)\n",
    "    norm_DPsi_V0_E_k = abs(DPsi_V0_E_k)\n",
    "\n",
    "    # return the quantities and their norms\n",
    "    return deltaF_k, norm_deltaF_k, DPsi_V0_E_k, norm_DPsi_V0_E_k"
   ]
  },
  {
   "cell_type": "code",
   "execution_count": 47,
   "metadata": {},
   "outputs": [
    {
     "name": "stdout",
     "output_type": "stream",
     "text": [
      "CPU times: user 2.49 s, sys: 3.95 ms, total: 2.5 s\n",
      "Wall time: 2.56 s\n"
     ]
    }
   ],
   "source": [
    "%%time\n",
    "\n",
    "# run the function in parallel\n",
    "k_vals = list(range(trunc_degree+2))\n",
    "if parallel:\n",
    "    import pathos.multiprocessing\n",
    "    from pathos.multiprocessing import ProcessingPool as Pool\n",
    "    num_processors = pathos.multiprocessing.cpu_count()\n",
    "    with Pool(num_processors) as pool:\n",
    "        ans = list(zip(*pool.map(bound_linear_op, k_vals)))\n",
    "else:\n",
    "    ans = list(zip(*map(bound_linear_op, k_vals)))"
   ]
  },
  {
   "cell_type": "code",
   "execution_count": 48,
   "metadata": {},
   "outputs": [],
   "source": [
    "deltaF_ks, norm_deltaF_ks, DPsi_V0_E_ks, norm_DPsi_V0_E_ks = ans"
   ]
  },
  {
   "cell_type": "markdown",
   "metadata": {},
   "source": [
    "Bounds on\n",
    "$$\n",
    "\\|DF(v)(e_k)\\|_1\\quad\\forall v\\in B(V^0,\\hat\\rho),k\\ge 0\n",
    "$$\n",
    "are as follows:"
   ]
  },
  {
   "cell_type": "code",
   "execution_count": 49,
   "metadata": {},
   "outputs": [
    {
     "name": "stdout",
     "output_type": "stream",
     "text": [
      "||DF(B(V^0, rho_hat))(E_k)||_1:\n",
      "000: [+1.17208926778732E+1, +1.17208926778733E+1]\n",
      "001: [+6.35191098428516E+0, +6.35191098428518E+0]\n",
      "002: [+1.51346391540801E+1, +1.51346391540802E+1]\n",
      "003: [+1.15194702847126E+1, +1.15194702847127E+1]\n",
      "004: [+1.08676350070311E+1, +1.08676350070312E+1]\n",
      "005: [+9.97897975809454E+0, +9.97897975809455E+0]\n",
      "006: [+9.35376306087003E+0, +9.35376306087004E+0]\n",
      "007: [+8.83608913670661E+0, +8.83608913670662E+0]\n",
      "008: [+8.48224752489109E+0, +8.48224752489110E+0]\n",
      "009: [+8.16907315975784E+0, +8.16907315975785E+0]\n",
      "010: [+7.98190096340156E+0, +7.98190096340157E+0]\n",
      "011: [+7.80704739866608E+0, +7.80704739866610E+0]\n",
      "012: [+7.68860735749598E+0, +7.68860735749599E+0]\n",
      "013: [+7.59039475654251E+0, +7.59039475654252E+0]\n",
      "014: [+7.52204280474308E+0, +7.52204280474309E+0]\n",
      "015: [+7.46529080669922E+0, +7.46529080669923E+0]\n",
      "016: [+7.42407876517909E+0, +7.42407876517911E+0]\n",
      "017: [+7.39173573563794E+0, +7.39173573563811E+0]\n",
      "018: [+7.36749294024016E+0, +7.36749294024727E+0]\n",
      "019: [+7.34827790659798E+0, +7.34827790683512E+0]\n",
      "020: [+7.33399969103608E+0, +7.33399969470911E+0]\n",
      "021: [+7.32279167507469E+0, +7.32279171154362E+0]\n",
      "022: [+7.31420775028311E+0, +7.31420800993382E+0]\n",
      "023: [+7.30756187956115E+0, +7.30756328343732E+0]\n",
      "024: [+7.30246000948843E+0, +7.30246598207135E+0]\n",
      "025: [+7.29847204630866E+0, +7.29849253594906E+0]\n",
      "026: [+7.29537355659043E+0, +7.29543127885642E+0]\n",
      "027: [+7.29292065131835E+0, +7.29305610964278E+0]\n",
      "028: [+7.29094557123313E+0, +7.29121356263715E+0]\n",
      "029: [+7.28932789813090E+0, +7.28977972392228E+0]\n",
      "030: [+7.28801203276062E+0, +7.28866813822956E+0]\n",
      "031: [+7.28697085041950E+0, +7.28780099426956E+0]\n",
      "032: [+7.28619765297856E+0, +7.28712544182646E+0]\n",
      "033: [+7.28566734103893E+0, +7.28659885032541E+0]\n",
      "034: [+7.28532979307848E+0, +7.28618742154684E+0]\n",
      "035: [+7.28512428957817E+0, +7.28586547018887E+0]\n",
      "036: [+7.28499832667271E+0, +7.28561371505625E+0]\n",
      "037: [+7.28491593838027E+0, +7.28541628909845E+0]\n",
      "038: [+7.28485804816815E+0, +7.28526137677201E+0]\n",
      "039: [+7.28481551840035E+0, +7.28513978207740E+0]\n",
      "040: [+7.28478363147194E+0, +7.28504418334604E+0]\n",
      "041: [+0.00000000000000E+00, +7.28500793781713E+0]\n"
     ]
    }
   ],
   "source": [
    "print('||DF(B(V^0, rho_hat))(E_k)||_1:')\n",
    "for k, norm in enumerate(norm_deltaF_ks):\n",
    "    print(f'{k:0>3}: {norm}')"
   ]
  },
  {
   "cell_type": "markdown",
   "metadata": {},
   "source": [
    "Observation: the $\\|DF(V^0)(e_k)\\|_1$ appear to converge to $\\delta$."
   ]
  },
  {
   "cell_type": "markdown",
   "metadata": {},
   "source": [
    "Bounds on\n",
    "$$\n",
    "\\|D\\Psi(V)(e_k)\\|_1\\quad\\forall V\\in B(V^0,\\hat\\rho),k\\ge 0\n",
    "$$\n",
    "are as follows:"
   ]
  },
  {
   "cell_type": "code",
   "execution_count": 50,
   "metadata": {},
   "outputs": [
    {
     "name": "stdout",
     "output_type": "stream",
     "text": [
      "||DPsi(B(V^0, rho_hat))(E_k)||_1:\n",
      "000: [+0.00000000000000E+00, +9.20158262312233E-15]\n",
      "001: [+0.00000000000000E+00, +1.40327987546170E-15]\n",
      "002: [+0.00000000000000E+00, +1.01546897545873E-15]\n",
      "003: [+0.00000000000000E+00, +9.61546666420078E-16]\n",
      "004: [+0.00000000000000E+00, +7.28312588825097E-16]\n",
      "005: [+0.00000000000000E+00, +5.62078126143282E-16]\n",
      "006: [+0.00000000000000E+00, +4.45521644642501E-16]\n",
      "007: [+0.00000000000000E+00, +3.64120271216376E-16]\n",
      "008: [+0.00000000000000E+00, +3.02644695720057E-16]\n",
      "009: [+0.00000000000000E+00, +2.58538848531860E-16]\n",
      "010: [+0.00000000000000E+00, +2.25688571714032E-16]\n",
      "011: [+0.00000000000000E+00, +2.02240737950277E-16]\n",
      "012: [+0.00000000000000E+00, +1.84807568987811E-16]\n",
      "013: [+0.00000000000000E+00, +1.72291707532791E-16]\n",
      "014: [+0.00000000000000E+00, +1.64616260640164E-16]\n",
      "015: [+0.00000000000000E+00, +1.69805290351223E-16]\n",
      "016: [+0.00000000000000E+00, +2.05620410389892E-15]\n",
      "017: [+0.00000000000000E+00, +2.21428217645005E-14]\n",
      "018: [+0.00000000000000E+00, +9.75774991699492E-13]\n",
      "019: [+0.00000000000000E+00, +3.25516530257001E-11]\n",
      "020: [+0.00000000000000E+00, +5.04211633235366E-10]\n",
      "021: [+0.00000000000000E+00, +5.00624303364846E-9]\n",
      "022: [+0.00000000000000E+00, +3.56433611149123E-8]\n",
      "023: [+0.00000000000000E+00, +1.92716078075778E-7]\n",
      "024: [+0.00000000000000E+00, +8.19881972988998E-7]\n",
      "025: [+0.00000000000000E+00, +2.81270047539409E-6]\n",
      "026: [+0.00000000000000E+00, +7.92378206221929E-6]\n",
      "027: [+0.00000000000000E+00, +1.85949429236206E-5]\n",
      "028: [+0.00000000000000E+00, +3.67883249900152E-5]\n",
      "029: [+0.00000000000000E+00, +6.20240567540486E-5]\n",
      "030: [+0.00000000000000E+00, +9.00664008552031E-5]\n",
      "031: [+0.00000000000000E+00, +1.13957392991250E-4]\n",
      "032: [+0.00000000000000E+00, +1.27361539021181E-4]\n",
      "033: [+0.00000000000000E+00, +1.27872259520495E-4]\n",
      "034: [+0.00000000000000E+00, +1.17730323969334E-4]\n",
      "035: [+0.00000000000000E+00, +1.01745029037769E-4]\n",
      "036: [+0.00000000000000E+00, +8.44769925826906E-5]\n",
      "037: [+0.00000000000000E+00, +6.86852807730625E-5]\n",
      "038: [+0.00000000000000E+00, +5.53666406249201E-5]\n",
      "039: [+0.00000000000000E+00, +4.45130603260473E-5]\n",
      "040: [+0.00000000000000E+00, +3.57670689342459E-5]\n"
     ]
    }
   ],
   "source": [
    "print('||DPsi(B(V^0, rho_hat))(E_k)||_1:')\n",
    "for k, norm in enumerate(norm_DPsi_V0_E_ks[:-1]):\n",
    "    print(f'{k:0>3}: {norm}')"
   ]
  },
  {
   "cell_type": "markdown",
   "metadata": {},
   "source": [
    "The $\\|D\\Psi(B(V^0,\\hat\\rho))(E_k)\\|_1$ are small enough, as desired, for $0\\le k\\le N$.  However, the high-order perturbations produce the following bound on the norm $\\|D\\Psi(B(V^0,\\hat\\rho))(E_{N+1})\\|_1$:"
   ]
  },
  {
   "cell_type": "code",
   "execution_count": 51,
   "metadata": {},
   "outputs": [
    {
     "name": "stdout",
     "output_type": "stream",
     "text": [
      "041: [+0.00000000000000E+00, +2.00081200252125E+0]\n"
     ]
    }
   ],
   "source": [
    "_, _, _, norm = bound_linear_op(trunc_degree+1, dependency=False)\n",
    "print(f'{trunc_degree+1:0>3}: {norm}')"
   ]
  },
  {
   "cell_type": "markdown",
   "metadata": {},
   "source": [
    "### Overcoming the dependency problem\n",
    "\n",
    "Notice that the bound on $\\|D\\Psi(B(V^0,\\hat\\rho))(E_{N+1})\\|_1$ is approximately $2$.  This is due to the naive expression for $DF(V)\\delta v$ being used to compute it; this is another symptom of the dependency problem: multiple occurences of the perturbation $\\delta v$ are treated as independent function balls in the rigorous computational framework, each contributing separately to the resulting norm.  The issue is removed by the following reasoning.  Recall that\n",
    "\\begin{align}\n",
    "F:V\n",
    "&\\mapsto V-\\Lambda(DT(G)V - \\phi(V)V),\n",
    "\\end{align}\n",
    "with Frechet derivative\n",
    "\\begin{align}\n",
    "DF(V):\\delta V\n",
    "&\\mapsto \\delta V - \\Lambda(DT(G)\\delta V - \\phi(\\delta V)V - \\phi(V)\\delta V).\n",
    "\\end{align}\n",
    "There is a dependency problem due to the terms $\\delta V$ and $-\\Lambda\\phi(V)\\delta V$ in the above.\n",
    "To resolve this, consider the action of $DF(V)$ on a high-order perturbation $\\delta V_H$:\n",
    "\\begin{align}\n",
    "DF(V)\\delta V_H\n",
    "&=\\delta V_H - \\Lambda(DT(G)\\delta V_H - \\phi(V)\\delta V_H)\n",
    "\\nonumber\\\\\n",
    "&=\\left(1-\\Lambda\\phi(V)\\right)\\delta V_H - \\Lambda DT(G)\\delta V_H\n",
    "\\nonumber\\\\\n",
    "&=\\left(1-\\frac{\\phi(V)}{\\phi(V^0)}\\right)\\delta V_H - \\Lambda DT(G)\\delta V_H,\n",
    "\\end{align}\n",
    "since $\\phi(\\delta V_H)=0$ and the action of $\\Lambda$ on the high-order part of the space is $-(1/V^0_0)I$.  Note, also, that for $V$ close to $V^0$, the contribution from the first term in the above expression is close to zero.  We therefore use the above expression, with $V$ ranging over the ball $B(V^0,\\hat\\rho)$, when computing $D\\Psi(V)E_{N+1}$."
   ]
  },
  {
   "cell_type": "code",
   "execution_count": 52,
   "metadata": {},
   "outputs": [
    {
     "name": "stdout",
     "output_type": "stream",
     "text": [
      "041: [+0.00000000000000E+00, +8.12002521245432E-4]\n"
     ]
    }
   ],
   "source": [
    "_, _, _, norm = bound_linear_op(trunc_degree+1, dependency=True)\n",
    "print(f'{trunc_degree+1:0>3}: {norm}')"
   ]
  },
  {
   "cell_type": "markdown",
   "metadata": {},
   "source": [
    "The resulting bound on $\\hat\\kappa$, the contractivity of the modified Newton operator $\\Psi$ on the ball $B(V^0,\\hat\\rho)$ is given by:"
   ]
  },
  {
   "cell_type": "code",
   "execution_count": 53,
   "metadata": {},
   "outputs": [
    {
     "name": "stdout",
     "output_type": "stream",
     "text": [
      "kappa_hat\n",
      "= [+0.00000000000000E+00, +8.12002521245432E-4]\n"
     ]
    }
   ],
   "source": [
    "kappa_hat = Interval.hull(norm_DPsi_V0_E_ks)\n",
    "print(f'kappa_hat\\n= {kappa_hat}')"
   ]
  },
  {
   "cell_type": "code",
   "execution_count": 54,
   "metadata": {},
   "outputs": [
    {
     "name": "stdout",
     "output_type": "stream",
     "text": [
      "epsilon_hat < rho_hat(1-kappa_hat)\n",
      " <=> [+0.00000000000000E+00, +3.57500081594949E-16]\n",
      "   < [+9.99187997478754E-16, +1.00000000000000E-15]\n",
      " <=> True\n"
     ]
    }
   ],
   "source": [
    "# report the data we collected\n",
    "print(f'epsilon_hat < rho_hat(1-kappa_hat)')\n",
    "print(f' <=> {epsilon_hat}')\n",
    "print(f'   < {rho_hat*(1-kappa_hat)}')\n",
    "print(f' <=> {epsilon_hat < rho_hat*(1-kappa_hat)}')"
   ]
  },
  {
   "cell_type": "code",
   "execution_count": 55,
   "metadata": {},
   "outputs": [],
   "source": [
    "# determine if the proof has succeeded\n",
    "assert epsilon_hat < rho_hat*(1-kappa_hat)"
   ]
  },
  {
   "cell_type": "markdown",
   "metadata": {},
   "source": [
    "We have established that the ball $B(V^0,\\hat\\rho)$ contains an eigenfunction of $DT(G)$ and, thus, that $\\phi(B(V^0,\\hat\\rho))$ bounds the corresponding eigenvalue."
   ]
  },
  {
   "cell_type": "markdown",
   "metadata": {},
   "source": [
    "Note that our formulation of $\\phi$ must take into account the general bound on the function ball, since this may, in the worst case, contribute entirely to the constant term of functions contained in the ball.  Thus\n",
    "$$\n",
    "\\phi\\left(\\mathcal{A}_\\Omega(a_0,a_1,\\ldots,a_N;a_H,a_G)\\right)\n",
    "= a_0 + [-a_G,+a_G].\n",
    "$$"
   ]
  },
  {
   "cell_type": "code",
   "execution_count": 56,
   "metadata": {},
   "outputs": [
    {
     "name": "stdout",
     "output_type": "stream",
     "text": [
      "delta\n",
      "= [+7.28468621707334E+0, +7.28468621707335E+0]\n"
     ]
    }
   ],
   "source": [
    "print(f'delta\\n= {phi(V0_rho)}')"
   ]
  },
  {
   "cell_type": "code",
   "execution_count": 57,
   "metadata": {},
   "outputs": [
    {
     "data": {
      "text/plain": [
       "Interval(Decimal('7.28468621707334'), Decimal('7.28468621707335'))"
      ]
     },
     "execution_count": 57,
     "metadata": {},
     "output_type": "execute_result"
    }
   ],
   "source": [
    "from rigorous.interval import quantize\n",
    "\n",
    "quantize(phi(V0_rho))"
   ]
  },
  {
   "cell_type": "markdown",
   "metadata": {},
   "source": [
    "### Rigorous covering of the eigenfunction"
   ]
  },
  {
   "cell_type": "code",
   "execution_count": 58,
   "metadata": {},
   "outputs": [
    {
     "name": "stdout",
     "output_type": "stream",
     "text": [
      "Figure: Rigorous covering of the even representation, $V$\n"
     ]
    },
    {
     "data": {
      "image/png": "[encoded data removed]",
      "text/plain": [
       "<Figure size 609.449x376.66 with 1 Axes>"
      ]
     },
     "metadata": {
      "needs_background": "light"
     },
     "output_type": "display_data"
    },
    {
     "name": "stdout",
     "output_type": "stream",
     "text": [
      "Figure: Rigorous covering of the universal eigenfunction, $v$\n"
     ]
    },
    {
     "data": {
      "image/png": "[encoded data removed]",
      "text/plain": [
       "<Figure size 609.449x376.66 with 1 Axes>"
      ]
     },
     "metadata": {
      "needs_background": "light"
     },
     "output_type": "display_data"
    }
   ],
   "source": [
    "from rigorous.covering import cover_circle, rectangles_coords\n",
    "from rigorous.covering import cover_interval, cover_graph\n",
    "\n",
    "# universal function in the conventional coordinates\n",
    "def v0_rho(x):\n",
    "    X = Q(x)\n",
    "    return V0_rho(X)\n",
    "\n",
    "# safety margin to stay safely within the domain\n",
    "safety = RR(1e-3)\n",
    "c, r = RR(Omega.c), RR(Omega.r)\n",
    "\n",
    "if make_figures:\n",
    "    # plot rigorous coverings\n",
    "    init_plotting(plt)\n",
    "    plt.figure(figsize=set_size('prl'))\n",
    "    plt.plot(*rectangles_coords(cover_graph(V0_rho, c-r+safety, c+r-safety, 10)), color='r', linestyle='--')\n",
    "    plt.plot(*rectangles_coords(cover_graph(V0_rho, c-r+safety, c+r-safety, 1000)), color='b')\n",
    "    plt.axhline(0)\n",
    "    plt.axvline(0)\n",
    "    Qinvc = c**(1/RR(d))\n",
    "    plt.axvline(c, linestyle='--')\n",
    "    plt.axhline(V0_rho(Interval(c)).lo, linestyle='--')\n",
    "    plt.xlabel('$X$')\n",
    "    plt.ylabel('$V(X)$')\n",
    "    plt.title('Rigorous covering of the even representation, $V$')\n",
    "    savefig(plt, 'fig/feig_V_small.pdf')\n",
    "    plt.show()\n",
    "\n",
    "    X_range = Interval(max(0.0, c-r), max(0, c+r))\n",
    "    x_range = X_range**0.25\n",
    "    plt.figure(figsize=set_size('prl'))\n",
    "    plt.plot(*rectangles_coords(cover_graph(v0_rho, -x_range.hi+safety, x_range.hi-safety, 10)), color='r', linestyle='--')\n",
    "    plt.plot(*rectangles_coords(cover_graph(v0_rho, -x_range.hi+safety, x_range.hi-safety, 1000)), color='b')\n",
    "    plt.axhline(0)\n",
    "    plt.axvline(0)\n",
    "    plt.axvline(Qinvc, linestyle='--')\n",
    "    plt.axhline(v0_rho(Interval(Qinvc)).lo, linestyle='--')\n",
    "    plt.xlabel('$x$')\n",
    "    plt.ylabel('$v(x)$')\n",
    "    plt.title('Rigorous covering of the universal eigenfunction, $v$')\n",
    "    savefig(plt, 'fig/feig_v_small.pdf')\n",
    "    plt.show()"
   ]
  },
  {
   "cell_type": "markdown",
   "metadata": {},
   "source": [
    "To aid in interpreting the vertical scale of the above plots, recall that we have proved that the function ball $B(V^0,\\hat\\rho)$ contains the relevant eigenfunction $V$ that, with our chosen normalisation, has constant term $V_0=\\phi(V)=\\delta$, Feigenbaum's delta.  Since the coefficients of $V$ are defined with respect to the basis determined by the domain $\\Omega=D(c,r)$, then a consequence is that, for our chosen normalisation, we have $V(c)=\\delta$ (indicated by the dashed lines in the plots).\n",
    "\n",
    "In order to compute a rigorous covering of the eigenfunction over much larger subintervals of the real line, in particular those extending much out of the domain $\\Omega$, we may use function ball operations (evaluations) to implement the following expression (together with the fixed-point equation for $G$) recursively:"
   ]
  },
  {
   "cell_type": "raw",
   "metadata": {},
   "source": [
    "\\begin{widetext}"
   ]
  },
  {
   "cell_type": "markdown",
   "metadata": {},
   "source": [
    "\\begin{align}\n",
    "V(X)\n",
    "&= \\delta^{-1}DT(G)V(X)\\\\\n",
    "&= \\delta^{-1}\\bigl[-a^{-2}\\delta \\cdot G(Q(G(a^dX)))\\nonumber\\\\\n",
    "&\\quad{}+ a^{-1}\\cdot V(Q(G(a^dX)))\\nonumber\\\\\n",
    "&\\qquad{}+ a^{-1}\\cdot G'(Q(G(a^dX)))\\cdot 2G(a^dX)\\cdot V(a^dX)\\nonumber\\\\\n",
    "&\\qquad\\quad{}+ a^{-1}\\cdot G'(Q(G(a^dX)))\\cdot Q'(G(a^dX))\\cdot G'(a^dX)\\cdot Q'(a)\\delta\\cdot X\\bigr],\n",
    "\\end{align}\n",
    "where $a:=G(1)$ and $\\delta:=\\phi(V)$."
   ]
  },
  {
   "cell_type": "raw",
   "metadata": {},
   "source": [
    "\\end{widetext}"
   ]
  },
  {
   "cell_type": "markdown",
   "metadata": {},
   "source": [
    "In order to use the above expression, notice that we also require bounds on the derivative $G'(X)$."
   ]
  },
  {
   "cell_type": "markdown",
   "metadata": {},
   "source": [
    "#### Derivatives of function balls\n",
    "\n",
    "Recall that we have a function ball $F_1$ with $G\\in F_1$.  We now want to find a function ball $F_1'$ such that $G'\\in F_1'$.\n",
    "\n",
    "Unfortunately, it is not possible to bound $G'$ directly.  The corresponding derivative operator is unbounded.  To see why, consider a function ball of the form\n",
    "$$\n",
    "B = \\mathcal{A}([0,0],[0,0],\\ldots,[0,0];1;0).\n",
    "$$\n",
    "For a given truncation degree $N$, this ball contains, for example, the functions\n",
    "$$\n",
    "q(x) = x^{2N},\\quad\\mbox{and}\\quad p(x) = x^{3N},\n",
    "$$\n",
    "whose derivatives are given by\n",
    "$$\n",
    "q'(x) = 2Nx^{2N-1},\\quad\\mbox{and}\\quad p'(x) = 3Nx^{3N-1},\n",
    "$$\n",
    "with $\\ell_1$-norms $\\|q'\\|_1=2N$ and $\\|p'\\|_1=3N$, respectively.  This example should be enough to illustrate that the image of the original function ball $B\\ni q,p$ under the relevant derivative operator is not bounded and thus the *derivative of a function ball* cannot in general be bounded using another function ball in our formulation.\n",
    "\n",
    "However, the operation of *differentiation followed by composition* $G'\\circ H$ can be bounded for suitable functions, $H$, namely those with $\\|\\psi_\\Omega\\circ H\\|_1<1$.  This is because (1) composition $A\\circ B$ is well-defined for $A,B\\in\\mathcal{A}$ when $\\|B\\|_1<1$ and, (2) since $G=\\hat{G}\\circ\\psi_\\Omega$ for a suitable $\\hat{G}\\in\\mathcal{A}$, we have\n",
    "$$\n",
    "G'=\\hat{G}'\\circ\\psi_\\Omega\\cdot\\psi_\\Omega'=\\hat{G}'\\circ\\psi_\\Omega\\cdot\\frac{1}{r},\n",
    "$$\n",
    "(see, for example, EKW), and finally (3) the expression $Nx^{N-1}$ attains a maximum at finite $N$ for $0<x<1$."
   ]
  },
  {
   "cell_type": "markdown",
   "metadata": {},
   "source": [
    "#### Function ball containing the derivative of $G$\n",
    "\n",
    "We can use the fixed-point equation for $G$:\n",
    "\\begin{equation}\n",
    "G(X) = a^{-1}G(Q(G(a^dX))).\n",
    "\\end{equation}\n",
    "Differentiating gives\n",
    "\\begin{equation}\n",
    "G'(X) = a^{-1}G'(Q(G(a^dX)))\\cdot Q'(G(a^dX))\\cdot G'(a^dX)\\cdot a^d.\n",
    "\\end{equation}\n",
    "Although we cannot bound the left-hand side $G'$ directly, we can bound every subexpression on the right-hand side, in particular notice that $G'$ only occurs on the right-hand side as a composition $G'\\circ H$ with various maps $H$.  Further, from the propery of Domain Extension, established for our chosen domains during the existence proof, the $\\ell_1$-norms of all of the relevant maps $\\psi_\\Omega\\circ H$ are less than unity.  Using the above expression (together with the fixed-point equation for $G$) recursively allows us to bound $G'$ over larger intervals extending outside $\\Omega$."
   ]
  },
  {
   "cell_type": "code",
   "execution_count": 59,
   "metadata": {},
   "outputs": [],
   "source": [
    "G = F1\n",
    "X = G.identity()\n",
    "a = G(Interval(1))\n",
    "alpha = Interval(1)/a\n",
    "\n",
    "Xad = X*a**d\n",
    "GXad = G(Xad)\n",
    "QGXad = Q(GXad)\n",
    "GQGXad = G(QGXad)\n",
    "\n",
    "TG = alphaGQGXad = GQGXad*alpha"
   ]
  },
  {
   "cell_type": "code",
   "execution_count": 60,
   "metadata": {},
   "outputs": [],
   "source": [
    "# bound the derivative of G on X\n",
    "# we cannot gain useful bounds using G alone\n",
    "# we can use derivative and composition with a suitable map\n",
    "# we use the derivative of the RHS of the fixed-point eqn\n",
    "dG = G.diff_compose\n",
    "dQ = Qdash\n",
    "\n",
    "U = dG(QGXad)\n",
    "V = dQ(GXad)\n",
    "W = dG(Xad)*a**d\n",
    "\n",
    "G_prime = U*V*W*alpha"
   ]
  },
  {
   "cell_type": "code",
   "execution_count": 61,
   "metadata": {},
   "outputs": [],
   "source": [
    "# this needs to be scaled\n",
    "# using the expression for the Frechet derivative\n",
    "# of T at G.\n",
    "\n",
    "def Gdash_full(X):\n",
    "    if abs((X-c)/r) <= 1:\n",
    "        return G_prime(X)\n",
    "    else:\n",
    "        G = F1\n",
    "        a = G(Interval(1))\n",
    "        alpha = Interval(1)/a\n",
    "        Xad = X*a**d\n",
    "        GXad = G_full(Xad)\n",
    "        QGXad = Q(GXad)\n",
    "        GQGXad = G_full(QGXad)\n",
    "        return Gdash_full(QGXad)*Qdash(GXad)*Gdash_full(Xad)*a**(d-1)"
   ]
  },
  {
   "cell_type": "code",
   "execution_count": 62,
   "metadata": {},
   "outputs": [
    {
     "name": "stdout",
     "output_type": "stream",
     "text": [
      "Figure: Rigorous covering of the even representation, $G'$\n"
     ]
    },
    {
     "data": {
      "image/png": "[encoded data removed]",
      "text/plain": [
       "<Figure size 609.449x376.66 with 1 Axes>"
      ]
     },
     "metadata": {
      "needs_background": "light"
     },
     "output_type": "display_data"
    }
   ],
   "source": [
    "if make_figures:\n",
    "    init_plotting(plt)\n",
    "    plt.figure(figsize=set_size('prl'))\n",
    "    plt.plot(*rectangles_coords(cover_graph(Gdash_full, -25, 100, 1000)), color='b')\n",
    "    plt.axhline(0)\n",
    "    plt.axvline(0)\n",
    "    plt.axvline(c, linestyle='--')\n",
    "    plt.xlabel('$X$')\n",
    "    plt.ylabel(\"$G'(X)$\")\n",
    "    plt.title(\"Rigorous covering of the even representation, $G'$\")\n",
    "    savefig(plt, 'fig/feig_Gdash_large.pdf')\n",
    "    plt.show()"
   ]
  },
  {
   "cell_type": "markdown",
   "metadata": {},
   "source": [
    "#### Rigorous coverings of the eigenfunction on larger intervals\n",
    "\n",
    "Finally, combining the fixed-point equation for $G$, the recurrence for $G'$, and the recurrence for $V$, allows us to bound the eigenfunction $V(X)$ itself, and hence $v(x)=V(Q(x))$, the corresponding eigenfunction for the derivative of the original renormalisation operator (rather than our even representation), over larger subintervals of the real line."
   ]
  },
  {
   "cell_type": "code",
   "execution_count": 92,
   "metadata": {},
   "outputs": [],
   "source": [
    "def V_full(X):\n",
    "    if abs((X-c)/r) <= Interval(1):\n",
    "        return V0_rho(X)\n",
    "    else:\n",
    "        G = F1\n",
    "        a = G(Interval(1))\n",
    "        alpha = Interval(1)/a\n",
    "        delta = phi(V0_rho)\n",
    "        \n",
    "        Xad = X*a**d\n",
    "        GXad = G_full(Xad)\n",
    "        QGXad = Q(GXad)\n",
    "        GQGXad = G_full(QGXad)\n",
    "\n",
    "        GdXad = Gdash_full(Xad)\n",
    "        GdQGXad = Gdash_full(QGXad)      \n",
    "        \n",
    "        DTGV_0 = -alpha**2*V0_rho(1)*GQGXad\n",
    "        DTGV_1 = alpha*V_full(QGXad)\n",
    "        DTGV_2 = alpha*GdQGXad*Qdash(GXad)*V_full(Xad)\n",
    "        DTGV_3 = alpha*GdQGXad*Qdash(GXad)*GdXad*Qdash(a)*V0_rho(1)*X\n",
    "        \n",
    "        return (DTGV_0+DTGV_1+DTGV_2+DTGV_3)*(Interval(1)/delta)"
   ]
  },
  {
   "cell_type": "code",
   "execution_count": 93,
   "metadata": {},
   "outputs": [
    {
     "name": "stdout",
     "output_type": "stream",
     "text": [
      "Figure: Rigorous covering of the even representation, $V$\n"
     ]
    },
    {
     "data": {
      "image/png": "[encoded data removed]",
      "text/plain": [
       "<Figure size 609.449x376.66 with 1 Axes>"
      ]
     },
     "metadata": {
      "needs_background": "light"
     },
     "output_type": "display_data"
    }
   ],
   "source": [
    "if make_figures:\n",
    "    init_plotting(plt)\n",
    "    plt.figure(figsize=set_size('prl'))\n",
    "    plt.axhline(0)\n",
    "    plt.axvline(0)\n",
    "    plt.plot(*rectangles_coords(cover_graph(V_full, -25, 100, 1000)), color='b')\n",
    "    plt.xlabel('$X$')\n",
    "    plt.ylabel(\"$V(X)$\")\n",
    "    plt.title(\"Rigorous covering of the even representation, $V$\")\n",
    "    savefig(plt, 'fig/feig_V_large.pdf')\n",
    "    plt.show()"
   ]
  },
  {
   "cell_type": "code",
   "execution_count": 94,
   "metadata": {},
   "outputs": [],
   "source": [
    "def v_full(x):\n",
    "    X = Q(x)\n",
    "    return V_full(X)"
   ]
  },
  {
   "cell_type": "code",
   "execution_count": 97,
   "metadata": {},
   "outputs": [
    {
     "name": "stdout",
     "output_type": "stream",
     "text": [
      "Figure: Rigorous covering of the universal eigenfunction, $v$\n"
     ]
    },
    {
     "data": {
      "image/png": "[encoded data removed]",
      "text/plain": [
       "<Figure size 609.449x376.66 with 1 Axes>"
      ]
     },
     "metadata": {
      "needs_background": "light"
     },
     "output_type": "display_data"
    }
   ],
   "source": [
    "if make_figures:\n",
    "    xy1 = rectangles_coords(cover_graph(v_full, -2, 2.85, 1000))\n",
    "\n",
    "    plt.figure(figsize=set_size('prl'))\n",
    "    plt.axhline(0)\n",
    "    plt.axvline(0)\n",
    "    plt.plot(*xy1, color='b')\n",
    "    plt.axvline(c, linestyle='--')\n",
    "    plt.xlabel('$x$')\n",
    "    plt.ylabel('$v(x)$')\n",
    "    plt.title('Rigorous covering of the universal eigenfunction, $v$')\n",
    "    savefig(plt, 'fig/feig_v_large.pdf')\n",
    "    plt.show()"
   ]
  },
  {
   "cell_type": "markdown",
   "metadata": {},
   "source": [
    "The above results could be improved by working to higher truncation degree, computing a tighter ball $F_1$ around the fixed point $G$, which would allow us to work with a better approximate eigenvalue $V^0$ and a smaller ball around it."
   ]
  },
  {
   "cell_type": "markdown",
   "metadata": {},
   "source": [
    "## The effect of noise\n",
    "\n",
    "Following [cite] we consider the universality observed in the period-doubling of unimodal maps with noise, exemplified by iteration of the family of maps\n",
    "$$\n",
    "x_{n} \\mapsto 1-\\lambda x_n^2+\\kappa\\xi_n,\n",
    "$$\n",
    "in which the $\\xi_n$ are i.i.d. random variables with expected value zero and a fixed variance $\\sigma^2$.\n",
    "\n",
    "Following Crutchfield et al. [cite 1981] and Shraiman et al. [cite], a renormalisation group analysis leads to the eigenproblem\n",
    "$$\n",
    "\\gamma^2\\theta(a^{-1}x) = a^{-2}\\left[(g'(g(x)))^2\\theta(x)+\\theta(g(x))\\right].\n",
    "$$"
   ]
  },
  {
   "cell_type": "markdown",
   "metadata": {},
   "source": [
    "### Deriving the noise eigenproblem\n",
    "\n",
    "Specifically, iterate the map\n",
    "\n",
    "\\begin{align}\n",
    "x_{n+1} &= g_0(x_n) + \\kappa U_0(x_n)\\xi_n,\\\\\n",
    "g_0(x) &= 1-\\lambda_\\infty x^2,\\\\\n",
    "U_0(x) &\\equiv 1,\n",
    "\\end{align}\n",
    "\n",
    "where $\\lambda_\\infty$ denotes the critical value of the parameter $\\lambda$ that puts the logistic family at the limit of its first period-doubling cascade.  To first order in the parameter $\\kappa$, we obtain\n",
    "\n",
    "\\begin{align}\n",
    "x_{n+2}\n",
    "&= g_0(g_0(x_n))\\nonumber\\\\\n",
    "&\\quad{}+ \\kappa\\left[g_0'(g_0(x_n))U_0(x_n)\\xi_n\n",
    "+ U_0(g_0(x_n))\\xi_{n+1}\\right].\n",
    "\\end{align}\n",
    "\n",
    "Define $U_1(x)$ to be a scaling that normalises the expression in the square brackets to preserve the variance in the sense that putting\n",
    "\n",
    "$$\n",
    "\\left[g_0'(g_0(x_n))U_0(x_n)\\xi_n\n",
    "+ U_0(g_0(x_n))\\xi_{n+1}\\right] =: U_1(x)x_n',\n",
    "$$\n",
    "\n",
    "gives $\\mathrm{var}(x_n')=\\sigma^2$.\n",
    "Taking the variance (noting the independence of the $\\xi_k$) gives\n",
    "\n",
    "$$\n",
    "\\mathbb{E}(U_1^2)\n",
    "=a^{-2}\\left[(g_0'(g_0(x)))^2U_0^2(x)+U_0^2(g_0(x))\\right].\n",
    "$$\n",
    "\n",
    "Repeating this, we obtain the recurrence\n",
    "\n",
    "$$\n",
    "x_{n+2} = g_{k+1}(x_n) + \\kappa U_{k+1}(x_n)\\xi_n,\n",
    "$$\n",
    "\n",
    "which has the same functional form as the original iteration, but with\n",
    "\n",
    "\\begin{align}\n",
    "g_{k+1}(x)\n",
    "&= a^{-1}g_k(g_k(ax)),\\\\\n",
    "U_{k+1}(x)\n",
    "&= \\sqrt{a^{-2}\\left[(g_k'(g_k(x)))^2U_k^2(x)\n",
    "+ U_k^2(g_k(x))\\right]}.\n",
    "\\end{align}\n",
    "\n",
    "Iterating this renormalisation operation gives $g_k\\to g$, the Feigenbaum fixed point, for which\n",
    "\n",
    "$$\n",
    "g(x) = a^{-1}g(g(ax)).\n",
    "$$\n",
    "\n",
    "Thus, for $k\\to\\infty$,\n",
    "\n",
    "$$\n",
    "U_{k+1}(x)\n",
    "\\to \\sqrt{a^{-2}\\left[(g'(g(x)))^2U_k^2(x)\n",
    "+ U_k^2(g(x))\\right]}.\n",
    "$$\n",
    "\n",
    "Making the ansatz\n",
    "\n",
    "$$\n",
    "U_k(x) = \\gamma^k\\sqrt{\\varphi(x)},\n",
    "$$\n",
    "\n",
    "then leads to the eigenproblem stated earlier,\n",
    "\n",
    "$$\n",
    "\\gamma^2\\theta(a^{-1}x) = a^{-2}\\left[(g'(g(x)))^2\\theta(x)+\\theta(g(x))\\right].\n",
    "$$"
   ]
  },
  {
   "cell_type": "markdown",
   "metadata": {},
   "source": [
    "### Noise eigenproblem in the even representation\n",
    "\n",
    "Writing $\\theta = K\\circ Q$, we consider the following nonlinear eigenproblem\n",
    "$$\n",
    "\\gamma^2K\n",
    "= \\mathscr{L}K,\n",
    "$$\n",
    "where we define $\\gamma=\\phi(K)$ and\n",
    "\\begin{align}\n",
    "\\mathscr{L}K\n",
    "&=\n",
    "a^{-2}\\biggl[\n",
    "\\bigl(G'(Q(G(a^dX)))\\cdot Q'(G(a^dX))\\bigr)^2K(a^dX)\\nonumber\\\\\n",
    "&\\quad{}+ K(Q(G(a^dX)))\n",
    "\\biggr],\n",
    "\\end{align}\n",
    "this leads to the following operator, which differs in explicit functional form from the one implied by the above derivation\n",
    "\n",
    "$$\n",
    "\\mathscr{F}(K)\n",
    "=\n",
    "\\mathscr{L}K - \\phi(K)^2K.\n",
    "$$"
   ]
  },
  {
   "cell_type": "markdown",
   "metadata": {},
   "source": [
    "Again, we may bound the function $K$ rigorously by performing Newton's method numerically to find a good approximate fixed point $K^0$ on a suitable domain, and then establishing that a corresponding modified Newton operator is a contraction mapping on a ball around $K^0$."
   ]
  },
  {
   "cell_type": "code",
   "execution_count": 67,
   "metadata": {},
   "outputs": [],
   "source": [
    "c, r, coeffs = import_poly_with_domain('dat/' + prefix + '_K0.dat')\n",
    "assert Domain(c, r) == F1.dom\n",
    "\n",
    "K0_coeffs = list(map(Interval, coeffs))\n",
    "K0_trunc = Trunc(trunc_degree, K0_coeffs)\n",
    "K0_ball = Ball(K0_trunc, 0, 0)\n",
    "K0 = Function(F1.dom, K0_ball)"
   ]
  },
  {
   "cell_type": "code",
   "execution_count": 68,
   "metadata": {},
   "outputs": [],
   "source": [
    "def make_L_noise(F1):\n",
    "    G = F1\n",
    "    a = G(1)\n",
    "    X = G.identity()\n",
    "\n",
    "    Xad = X*a**d\n",
    "    GXad = G(Xad)\n",
    "    QGXad = Q(GXad)\n",
    "    GQGXad = G(QGXad)\n",
    "\n",
    "    Gdash = G.diff_compose\n",
    "    GdashXad = Gdash(Xad)\n",
    "    GdashQGXad = Gdash(QGXad)\n",
    "    GdashQGXaddQGXad2 = (GdashQGXad*Qdash(GXad))**2\n",
    "    \n",
    "    def L_noise(K):\n",
    "        return (K(QGXad) + GdashQGXaddQGXad2*K(Xad))*a**-2\n",
    "    return L_noise\n",
    "\n",
    "L_noise = make_L_noise(F1)\n",
    "\n",
    "def F_noise(K,\n",
    "            L_noise=L_noise,\n",
    "            phi=phi):\n",
    "    return L_noise(K) - K*phi(K)**2\n",
    "\n",
    "def DF_noise(K, dK,\n",
    "             L_noise=L_noise,\n",
    "             phi=phi):\n",
    "    return L_noise(dK) - (K*2*phi(K)*phi(dK) + dK*phi(K)**2)"
   ]
  },
  {
   "cell_type": "markdown",
   "metadata": {},
   "source": [
    "The Frechet derivative of $\\mathscr{F}(K)$ is given by\n",
    "\n",
    "\\begin{align}\n",
    "D\\mathscr{F}(K)\\delta K\n",
    "=\n",
    "\\mathscr{L}\\delta K\n",
    "- 2\\phi(K)\\phi(\\delta K)K\n",
    "- \\phi(K)^2\\delta K.\n",
    "\\end{align}\n",
    "\n",
    "The modified Newton operator is given by\n",
    "\n",
    "\\begin{align}\n",
    "\\Psi(K)\n",
    "&= K - \\Lambda\\mathscr{F}(K),\n",
    "\\end{align}\n",
    "\n",
    "where $\\Lambda$ is a fixed linear operator approximating $[D\\mathscr{F}(K)]^{-1}$.\n",
    "\n",
    "We will then have\n",
    "\n",
    "\\begin{align}\n",
    "&D\\Psi(K)\\delta K\\nonumber\\\\\n",
    "&= \\delta K - \\Lambda D\\mathscr{F}(K)\\delta K\\\\\n",
    "&= \\delta K - \\Lambda\\bigl[\n",
    "\\mathscr{L}\\delta K\n",
    "- 2\\phi(K)\\phi(\\delta K)K\n",
    "- \\phi(K)^2\\delta K.\n",
    "\\bigr].\n",
    "\\end{align}"
   ]
  },
  {
   "cell_type": "markdown",
   "metadata": {},
   "source": [
    "We take\n",
    "\\begin{align}\n",
    "D\\mathscr{F}(K)\n",
    "&\\simeq \\mathscr{L}-2\\phi(K^0)K^0e_0^{*}-\\phi(K^0)^2I,\n",
    "\\end{align}\n",
    "and then let $\\Lambda$ be an approximation to the inverse of the right-hand side, where $K^0$ is chosen such that $K^0_H=0$."
   ]
  },
  {
   "cell_type": "markdown",
   "metadata": {},
   "source": [
    "The (fixed) linear operator $\\Lambda$ that results has the following action on high-order terms\n",
    "\n",
    "\\begin{align}\n",
    "\\Lambda\\delta K_H\n",
    "&= \\Lambda_{HH}\\delta K_H\\\\\n",
    "\\Lambda_{HH}\n",
    "&:= -\\frac{1}{\\phi(K^0)^2}I.\n",
    "\\end{align}"
   ]
  },
  {
   "cell_type": "code",
   "execution_count": 69,
   "metadata": {},
   "outputs": [],
   "source": [
    "# matrix used to construct the linear operator in the approximate newton method\n",
    "Lambda_noise_elts = import_matrix('dat/' + prefix + '_lambda_noise.dat')\n",
    "Lambda_noise_elts = [row[:trunc_degree+1] for row in Lambda_noise_elts[:trunc_degree+1]]\n",
    "assert len(Lambda_noise_elts) == len(Lambda_noise_elts[0]) == trunc_degree+1\n",
    "\n",
    "# construct the real interval matrix\n",
    "Lambda_noise_PP = RMatrix(Lambda_noise_elts)\n",
    "\n",
    "# compute the high-order action of the operator\n",
    "Lambda_noise_HH = -Interval(1)/phi(K0)**2\n",
    "\n",
    "# apply the newton method and see how far F0 moves; defines epsilon for the proof\n",
    "def Phi_noise(K):\n",
    "    return K - Lambda_noise_PP(F_noise(K),\n",
    "                               high_order_coeff=Lambda_noise_HH)\n",
    "\n",
    "def DPhi_noise(K, dK):\n",
    "    return dK - Lambda_noise_PP(DF_noise(K, dK),\n",
    "                                high_order_coeff=Lambda_noise_HH)"
   ]
  },
  {
   "cell_type": "code",
   "execution_count": 70,
   "metadata": {},
   "outputs": [
    {
     "name": "stdout",
     "output_type": "stream",
     "text": [
      "eps_noise\n",
      "= ||Phi_noise(K^0)-K^0||_1\n",
      "= [+0.00000000000000E+00, +2.33678882043686E-16]\n"
     ]
    }
   ],
   "source": [
    "eps_noise = abs(Phi_noise(K0)-K0)\n",
    "print(f'eps_noise\\n= ||Phi_noise(K^0)-K^0||_1\\n= {eps_noise}')"
   ]
  },
  {
   "cell_type": "code",
   "execution_count": 71,
   "metadata": {},
   "outputs": [
    {
     "name": "stdout",
     "output_type": "stream",
     "text": [
      "rho_noise\n",
      "= 1E-15\n"
     ]
    }
   ],
   "source": [
    "#rho_noise = RR('1E-5') #chosen at top of notebook\n",
    "print(f'rho_noise\\n= {rho_noise}')\n",
    "assert rho_noise > eps_noise"
   ]
  },
  {
   "cell_type": "code",
   "execution_count": 72,
   "metadata": {
    "scrolled": true
   },
   "outputs": [
    {
     "name": "stdout",
     "output_type": "stream",
     "text": [
      "B(K^0, rho_noise)\n",
      "= Function Ball: c=0.5754, r=0.8, N=40 (15 sf shown)\n",
      "000: [+8.24391085425258E+0, +8.24391085425259E+0]\n",
      "001: [-6.03226928484236E+0, -6.03226928484235E+0]\n",
      "002: [-9.98201839348877E-1, -9.98201839348876E-1]\n",
      "003: [+2.63638003557548E+0, +2.63638003557549E+0]\n",
      "004: [-8.14179619821450E-1, -8.14179619821449E-1]\n",
      "005: [-2.91477669697415E-1, -2.91477669697414E-1]\n",
      "006: [+2.74537207055011E-1, +2.74537207055012E-1]\n",
      "007: [-4.63312571430640E-2, -4.63312571430639E-2]\n",
      "008: [-3.00177043418710E-2, -3.00177043418709E-2]\n",
      "009: [+1.74740610815969E-2, +1.74740610815970E-2]\n",
      "010: [-1.24484001648334E-3, -1.24484001648333E-3]\n",
      "011: [-2.11004672857074E-3, -2.11004672857073E-3]\n",
      "012: [+8.33345817213018E-4, +8.33345817213019E-4]\n",
      "013: [+2.86367958847238E-5, +2.86367958847239E-5]\n",
      "014: [-1.18931881832365E-4, -1.18931881832364E-4]\n",
      "015: [+3.21647135914723E-5, +3.21647135914724E-5]\n",
      "016: [+5.53339073414234E-6, +5.53339073414235E-6]\n",
      "017: [-5.69230219120874E-6, -5.69230219120873E-6]\n",
      "018: [+1.00723785799458E-6, +1.00723785799459E-6]\n",
      "019: [+3.96064417536716E-7, +3.96064417536717E-7]\n",
      "020: [-2.37817856081609E-7, -2.37817856081608E-7]\n",
      "021: [+2.26864758780621E-8, +2.26864758780622E-8]\n",
      "022: [+2.12890026384404E-8, +2.12890026384405E-8]\n",
      "023: [-8.81275725199076E-9, -8.81275725199075E-9]\n",
      "024: [+9.84733187584995E-11, +9.84733187584996E-11]\n",
      "025: [+9.75905658473499E-10, +9.75905658473500E-10]\n",
      "026: [-2.90686776870052E-10, -2.90686776870051E-10]\n",
      "027: [-2.65455122660100E-11, -2.65455122660099E-11]\n",
      "028: [+3.99468213390827E-11, +3.99468213390828E-11]\n",
      "029: [-8.38682138153557E-12, -8.38682138153556E-12]\n",
      "030: [-2.02620717975036E-12, -2.02620717975035E-12]\n",
      "031: [+1.48912342850206E-12, +1.48912342850207E-12]\n",
      "032: [-1.98047307643781E-13, -1.98047307643780E-13]\n",
      "033: [-1.05762175650022E-13, -1.05762175650021E-13]\n",
      "034: [+5.09255644513077E-14, +5.09255644513078E-14]\n",
      "035: [-2.85701603554401E-15, -2.85701603554400E-15]\n",
      "036: [-4.64661538928184E-15, -4.64661538928183E-15]\n",
      "037: [+1.59426074061071E-15, +1.59426074061072E-15]\n",
      "038: [+5.10125709483305E-17, +5.10125709483306E-17]\n",
      "039: [-1.82567883044912E-16, -1.82567883044911E-16]\n",
      "040: [+4.50090127318409E-17, +4.50090127318410E-17]\n",
      "  H: [+0.00000000000000E+00, +0.00000000000000E+00]\n",
      "  G: [+0.00000000000000E+00, +1.00000000000000E-15]\n"
     ]
    }
   ],
   "source": [
    "K0_rho = K0 + K0.general_ball(rho_noise)\n",
    "print(f'B(K^0, rho_noise)\\n= {K0_rho}')"
   ]
  },
  {
   "cell_type": "markdown",
   "metadata": {},
   "source": [
    "Anticipating the dependency problem, we compute\n",
    "$\\|D\\Psi(B(K^0, \\rho_\\mathrm{noise}))E_H\\|_1$ using the naiive expression given above:"
   ]
  },
  {
   "cell_type": "code",
   "execution_count": 73,
   "metadata": {
    "scrolled": true
   },
   "outputs": [
    {
     "name": "stdout",
     "output_type": "stream",
     "text": [
      "41 [+0.00000000000000E+00, +2.00067251255341E+0]\n"
     ]
    }
   ],
   "source": [
    "k = trunc_degree+1\n",
    "E_k = K0.basis_element(k)\n",
    "print(k, abs(DPhi_noise(K0_rho, E_k)))"
   ]
  },
  {
   "cell_type": "markdown",
   "metadata": {},
   "source": [
    "We mitigate the dependency problem in this case by using\n",
    "\\begin{align}\n",
    "D\\Psi(K)\\delta K_H\n",
    "&= \\left[1-\\left(\\frac{\\phi(K)}{\\phi(K^0)}\\right)^2\\right]\\delta K_H\n",
    "-\\Lambda\\mathscr{L}\\delta K_H.\n",
    "\\end{align}"
   ]
  },
  {
   "cell_type": "code",
   "execution_count": 74,
   "metadata": {},
   "outputs": [],
   "source": [
    "def bound_DPhi_noise(k,\n",
    "                     phi=phi,\n",
    "                     K0=K0,\n",
    "                     K0_rho=K0_rho,\n",
    "                     V0=V0,\n",
    "                     V0_rho=V0_rho,\n",
    "                     L_noise=L_noise,\n",
    "                     DF_noise=DF_noise,\n",
    "                     Lambda_noise_PP=Lambda_noise_PP,\n",
    "                     Lambda_noise_HH=Lambda_noise_HH,\n",
    "                     dependency=True):\n",
    "\n",
    "    E_k = K0.basis_element(k)\n",
    "    L_k = L_noise(E_k)\n",
    "    deltaF_k = DF_noise(K0_rho, E_k)\n",
    "    if k > trunc_degree and dependency:\n",
    "        DPsi_k = (E_k*(Interval(1)-(phi(V0_rho)/phi(V0))**2) - Lambda_noise_PP(L_k, high_order_coeff=Lambda_noise_HH))\n",
    "    else:\n",
    "        DPsi_k = E_k - Lambda_noise_PP(deltaF_k, high_order_coeff=Lambda_noise_HH)\n",
    "\n",
    "    # report on the cruicial norms\n",
    "    norm_deltaF_k = abs(deltaF_k)\n",
    "    norm_DPsi_k = abs(DPsi_k)\n",
    "\n",
    "    # return the quantities and their norms\n",
    "    return deltaF_k, norm_deltaF_k, DPsi_k, norm_DPsi_k"
   ]
  },
  {
   "cell_type": "code",
   "execution_count": 75,
   "metadata": {},
   "outputs": [
    {
     "name": "stdout",
     "output_type": "stream",
     "text": [
      "CPU times: user 1.4 s, sys: 4.07 ms, total: 1.4 s\n",
      "Wall time: 12 s\n"
     ]
    }
   ],
   "source": [
    "%%time\n",
    "\n",
    "# run the function in parallel using multiprocessing\n",
    "# we note that the decimal library is process-safe;\n",
    "# each process gets its own context.\n",
    "\n",
    "k_vals = list(range(trunc_degree+2))\n",
    "if parallel:\n",
    "    import pathos.multiprocessing\n",
    "    from pathos.multiprocessing import ProcessingPool as Pool\n",
    "    num_processors = pathos.multiprocessing.cpu_count()\n",
    "    with Pool(num_processors) as pool:\n",
    "        ans = list(zip(*pool.map(bound_DPhi_noise, k_vals)))\n",
    "else:\n",
    "    ans = list(zip(*map(bound_DPhi_noise, k_vals)))"
   ]
  },
  {
   "cell_type": "code",
   "execution_count": 76,
   "metadata": {},
   "outputs": [],
   "source": [
    "deltaF_ks, norm_deltaF_ks, DPsi_ks, norm_DPsi_ks = ans"
   ]
  },
  {
   "cell_type": "markdown",
   "metadata": {},
   "source": [
    "Bounds computed on the $\\|D\\Psi(K)e_k\\|_1$, using the modified expression for the high-order bound, are then as follows:"
   ]
  },
  {
   "cell_type": "code",
   "execution_count": 77,
   "metadata": {
    "scrolled": false
   },
   "outputs": [
    {
     "name": "stdout",
     "output_type": "stream",
     "text": [
      "000: [+0.00000000000000E+00, +1.12667768246143E-14]\n",
      "001: [+0.00000000000000E+00, +4.40417042823963E-16]\n",
      "002: [+0.00000000000000E+00, +4.35034146599447E-16]\n",
      "003: [+0.00000000000000E+00, +3.75573199569834E-16]\n",
      "004: [+0.00000000000000E+00, +3.45584699788559E-16]\n",
      "005: [+0.00000000000000E+00, +3.27366341922487E-16]\n",
      "006: [+0.00000000000000E+00, +3.16841778131417E-16]\n",
      "007: [+0.00000000000000E+00, +2.98811029842399E-16]\n",
      "008: [+0.00000000000000E+00, +2.86442972669459E-16]\n",
      "009: [+0.00000000000000E+00, +2.75176789027006E-16]\n",
      "010: [+0.00000000000000E+00, +2.67170869539023E-16]\n",
      "011: [+0.00000000000000E+00, +2.60689031756123E-16]\n",
      "012: [+0.00000000000000E+00, +2.56250893492122E-16]\n",
      "013: [+0.00000000000000E+00, +2.52878608551290E-16]\n",
      "014: [+0.00000000000000E+00, +2.50603801722212E-16]\n",
      "015: [+0.00000000000000E+00, +2.50790081665735E-16]\n",
      "016: [+0.00000000000000E+00, +5.92046337176461E-16]\n",
      "017: [+0.00000000000000E+00, +4.23095465831788E-15]\n",
      "018: [+0.00000000000000E+00, +1.77009190438669E-13]\n",
      "019: [+0.00000000000000E+00, +5.89790778529597E-12]\n",
      "020: [+0.00000000000000E+00, +9.13529825154231E-11]\n",
      "021: [+0.00000000000000E+00, +9.07028355869440E-10]\n",
      "022: [+0.00000000000000E+00, +6.45784320166728E-9]\n",
      "023: [+0.00000000000000E+00, +3.49161847102025E-8]\n",
      "024: [+0.00000000000000E+00, +1.48545728817772E-7]\n",
      "025: [+0.00000000000000E+00, +5.09603400725948E-7]\n",
      "026: [+0.00000000000000E+00, +1.43562612504572E-6]\n",
      "027: [+0.00000000000000E+00, +3.36902070790694E-6]\n",
      "028: [+0.00000000000000E+00, +6.66528685813653E-6]\n",
      "029: [+0.00000000000000E+00, +1.12374817412258E-5]\n",
      "030: [+0.00000000000000E+00, +1.63181769795491E-5]\n",
      "031: [+0.00000000000000E+00, +2.06467327360356E-5]\n",
      "032: [+0.00000000000000E+00, +2.30752879474830E-5]\n",
      "033: [+0.00000000000000E+00, +2.31678199840210E-5]\n",
      "034: [+0.00000000000000E+00, +2.13303101283437E-5]\n",
      "035: [+0.00000000000000E+00, +1.84341038929080E-5]\n",
      "036: [+0.00000000000000E+00, +1.53054913105921E-5]\n",
      "037: [+0.00000000000000E+00, +1.24443583501400E-5]\n",
      "038: [+0.00000000000000E+00, +1.00312950435378E-5]\n",
      "039: [+0.00000000000000E+00, +8.06484981540968E-6]\n",
      "040: [+0.00000000000000E+00, +6.48025629289768E-6]\n",
      "041: [+0.00000000000000E+00, +6.72512553404319E-4]\n"
     ]
    }
   ],
   "source": [
    "for k, norm_DPsi_k in enumerate(norm_DPsi_ks):\n",
    "    print(f'{k:03d}: {norm_DPsi_k}')"
   ]
  },
  {
   "cell_type": "markdown",
   "metadata": {},
   "source": [
    "The resulting bound $\\|D\\Psi(K)e_k\\|_1\\le\\kappa_\\mathrm{noise}$ for all $K\\in B(K^0,\\rho_\\mathrm{noise})$ and $k\\ge 0$ is given by"
   ]
  },
  {
   "cell_type": "code",
   "execution_count": 78,
   "metadata": {},
   "outputs": [
    {
     "name": "stdout",
     "output_type": "stream",
     "text": [
      "kap_noise\n",
      "= [+0.00000000000000E+00, +6.72512553404319E-4]\n"
     ]
    }
   ],
   "source": [
    "kap_noise = Interval.hull(norm_DPsi_ks)\n",
    "print(f'kap_noise\\n= {kap_noise}')"
   ]
  },
  {
   "cell_type": "code",
   "execution_count": 79,
   "metadata": {},
   "outputs": [
    {
     "name": "stdout",
     "output_type": "stream",
     "text": [
      "epsilon_noise < rho_noise(1-kappa_noise)\n",
      " <=> [+0.00000000000000E+00, +2.33678882043686E-16]\n",
      "   < [+9.99327487446595E-16, +1.00000000000000E-15]\n",
      " <=> True\n"
     ]
    }
   ],
   "source": [
    "print(f'epsilon_noise < rho_noise(1-kappa_noise)')\n",
    "print(f' <=> {eps_noise}')\n",
    "print(f'   < {rho_noise*(1-kap_noise)}')\n",
    "print(f' <=> {eps_noise < rho_noise*(1-kap_noise)}')"
   ]
  },
  {
   "cell_type": "code",
   "execution_count": 80,
   "metadata": {},
   "outputs": [],
   "source": [
    "assert eps_noise < rho_noise*(Interval(1)-kap_noise)"
   ]
  },
  {
   "cell_type": "markdown",
   "metadata": {},
   "source": [
    "### Bounding the noise eigenfunction on larger intervals\n",
    "\n",
    "Finally, combining the fixed-point equation for $G$, the recurrence for $G'$, and the recurrence for $K$ shown here\n",
    "\\begin{align}\n",
    "K(X)\n",
    "&= \\phi(K)^{-2}\\mathscr{L}K(X)\\\\\n",
    "&= \\phi(K)^{-2}\\bigl[a^{-2} K(Q(G(a^dX)))\\nonumber\\\\\n",
    "&\\quad{}+ a^{-2} [G'(Q(G(a^dX)))\\cdot Q'(G(a^dX))]^2\\cdot K(a^dX)\\bigr],\n",
    "\\end{align}\n",
    "where $a:=G(1)$ and $\\gamma=\\phi(K):=K_0$ (coefficient), allows us to gain rigorous bounds on the eigenfunction $K(X)$ itself, and hence $\\theta(x)=K(x^d)$ over larger subintervals of the real line."
   ]
  },
  {
   "cell_type": "code",
   "execution_count": 81,
   "metadata": {},
   "outputs": [],
   "source": [
    "V_noise = K0_rho\n",
    "\n",
    "def V_noise_full(X):\n",
    "    if abs(X-c) <= r:\n",
    "        return V_noise(X)\n",
    "    else:\n",
    "        a = G(1)\n",
    "        adX = a**d*X\n",
    "        GadX = G_full(adX)\n",
    "        QGadX = Q(GadX)\n",
    "        GQGadX = G_full(QGadX)\n",
    "    \n",
    "        GdashadX = Gdash_full(adX)\n",
    "        GdashQGadX = Gdash_full(QGadX)\n",
    "\n",
    "        term2 = (a**-1)**2*V_noise_full(QGadX)\n",
    "        term3 = (a**-1*GdashQGadX*Qdash(GadX))**2*V_noise_full(adX)\n",
    "        lhs = term2 + term3\n",
    "        \n",
    "        # don't forget to divide by the square of the eigenvalue;\n",
    "        return lhs/phi(V_noise)**2\n",
    "    \n",
    "def v_noise_full(x):\n",
    "    return V_noise_full(Q(x))"
   ]
  },
  {
   "cell_type": "code",
   "execution_count": 82,
   "metadata": {},
   "outputs": [
    {
     "name": "stdout",
     "output_type": "stream",
     "text": [
      "Figure: Rigorous covering of noise eigenfunction, $\\theta$\n"
     ]
    },
    {
     "data": {
      "image/png": "[encoded data removed]",
      "text/plain": [
       "<Figure size 609.449x376.66 with 1 Axes>"
      ]
     },
     "metadata": {
      "needs_background": "light"
     },
     "output_type": "display_data"
    }
   ],
   "source": [
    "if make_figures:\n",
    "    xy1 = rectangles_coords(cover_graph(v_noise_full, -2.5, 2.5, 100))\n",
    "    xy2 = rectangles_coords(cover_graph(v_noise_full, -2.5, 2.5, 2000))\n",
    "\n",
    "    plt.figure(figsize=set_size('prl'))\n",
    "    plt.axhline(0)\n",
    "    plt.axvline(0)\n",
    "    plt.plot(*xy1, color='b', alpha=0.5)\n",
    "    plt.plot(*xy2, color='k')\n",
    "    plt.axvline(c**(1/RR(d)), linestyle='--', color='r')\n",
    "    plt.axhline(v_noise_full(c**(1/RR(d))).hi, linestyle='--', color='r')\n",
    "    plt.xlabel(r'$x$')\n",
    "    plt.ylabel(r'$\\theta(x)$')\n",
    "    plt.title(r'Rigorous covering of noise eigenfunction, $\\theta$')\n",
    "    savefig(plt, 'fig/feig_k_large1.pdf')\n",
    "    plt.show()"
   ]
  },
  {
   "cell_type": "markdown",
   "metadata": {},
   "source": [
    "The bound that we gain on the eigenvalue is given by $\\gamma=\\phi(K)$:"
   ]
  },
  {
   "cell_type": "code",
   "execution_count": 83,
   "metadata": {},
   "outputs": [
    {
     "name": "stdout",
     "output_type": "stream",
     "text": [
      "[+8.24391085425258E+0, +8.24391085425259E+0]\n"
     ]
    }
   ],
   "source": [
    "print(phi(V_noise))"
   ]
  },
  {
   "cell_type": "code",
   "execution_count": 84,
   "metadata": {},
   "outputs": [
    {
     "name": "stdout",
     "output_type": "stream",
     "text": [
      "[+8.24391085425258E+0, +8.24391085425259E+0]\n"
     ]
    }
   ],
   "source": [
    "print(V_noise(c))"
   ]
  },
  {
   "cell_type": "code",
   "execution_count": 86,
   "metadata": {
    "scrolled": false
   },
   "outputs": [
    {
     "name": "stdout",
     "output_type": "stream",
     "text": [
      "Figure: Rigorous coverings of noise eigenfunction\n"
     ]
    },
    {
     "data": {
      "image/png": "[encoded data removed]",
      "text/plain": [
       "<Figure size 609.449x376.66 with 1 Axes>"
      ]
     },
     "metadata": {
      "needs_background": "light"
     },
     "output_type": "display_data"
    }
   ],
   "source": [
    "if make_figures:\n",
    "    xy1 = rectangles_coords(cover_graph(v_noise_full, -3, 3, 100))\n",
    "    xy2 = rectangles_coords(cover_graph(v_noise_full, -3, 3, 1000))\n",
    "    \n",
    "    plt.figure(figsize=set_size('prl'))\n",
    "    plt.axhline(0)\n",
    "    plt.plot(*xy1, color='b', alpha=0.5)\n",
    "    plt.plot(*xy2, color='k')\n",
    "    plt.xlabel(r'$x$')\n",
    "    plt.ylabel(r'$\\theta(x)$')\n",
    "    plt.title(r'Rigorous coverings of noise eigenfunction')\n",
    "    savefig(plt, 'fig/feig_k_large2.pdf')\n",
    "    plt.ylim(0, 15)\n",
    "    plt.show()"
   ]
  },
  {
   "cell_type": "markdown",
   "metadata": {},
   "source": [
    "### Rigorous bounds on constants"
   ]
  },
  {
   "cell_type": "code",
   "execution_count": 87,
   "metadata": {},
   "outputs": [
    {
     "name": "stdout",
     "output_type": "stream",
     "text": [
      "N = 40\n",
      "dN = 160\n",
      "prec = 40\n",
      "rho = 1E-20\n",
      "rho_hat = 1E-15\n",
      "rho_noise = 1E-15\n"
     ]
    }
   ],
   "source": [
    "values = trunc_degree, trunc_degree*d, prec, rho, rho_hat, rho_noise\n",
    "names = 'N', 'dN', 'prec', 'rho', 'rho_hat', 'rho_noise'\n",
    "params = dict(zip(names, values))\n",
    "\n",
    "for name, value in params.items():\n",
    "    print(f'{name} = {value}')"
   ]
  },
  {
   "cell_type": "code",
   "execution_count": 88,
   "metadata": {},
   "outputs": [],
   "source": [
    "def all_digits(x):\n",
    "    return f'[{x.lo:+E},\\n {x.hi:+E}]'"
   ]
  },
  {
   "cell_type": "code",
   "execution_count": 89,
   "metadata": {},
   "outputs": [
    {
     "name": "stdout",
     "output_type": "stream",
     "text": [
      "a\n",
      "[-5.916099166344381501496243579964057537199E-1,\n",
      " -5.916099166344381501296243579964057537192E-1]\n",
      "alpha\n",
      "[-1.690302971405244853372351381347709310006E+0,\n",
      " -1.690302971405244853315208898644881309997E+0]\n",
      "delta\n",
      "[+7.284686217073343329620517875715518284184E+0,\n",
      " +7.284686217073343398997339667326053475956E+0]\n",
      "gamma\n",
      "[+8.243910854252585818398468140727485681598E+0,\n",
      " +8.243910854252587818398468140727485681598E+0]\n"
     ]
    }
   ],
   "source": [
    "values = F1(1), Interval(1)/F1(1), phi(V1), phi(K0_rho)\n",
    "names = 'a', 'alpha', 'delta', 'gamma'\n",
    "constants = dict(zip(names, values))\n",
    "\n",
    "for name, x in constants.items():\n",
    "    print(f'{name}\\n{all_digits(x)}')"
   ]
  },
  {
   "cell_type": "code",
   "execution_count": 90,
   "metadata": {
    "scrolled": true
   },
   "outputs": [
    {
     "name": "stdout",
     "output_type": "stream",
     "text": [
      "a\n",
      "[-5.916099166344381502E-1,\n",
      " -5.916099166344381501E-1]\n",
      "alpha\n",
      "[-1.6903029714052448534E+0,\n",
      " -1.6903029714052448533E+0]\n",
      "delta\n",
      "[+7.2846862170733433E+0,\n",
      " +7.2846862170733434E+0]\n",
      "gamma\n",
      "[+8.24391085425258E+0,\n",
      " +8.24391085425259E+0]\n"
     ]
    }
   ],
   "source": [
    "for name, x in constants.items():\n",
    "    print(f'{name}\\n{all_digits(quantize(x))}')"
   ]
  },
  {
   "cell_type": "markdown",
   "metadata": {},
   "source": [
    "## Technical aspects\n",
    "\n",
    "The underlying numerical computations were performed using number systems for decimal [Python version] and binary [Julia version] computation, with correctly implemented rigorous directed rounding modes and multiple-precision, that conform to the relevant subsets of the ANSI-X3.274-1996 and the IEEE-754-2008 standards, respectively.\n",
    "\n",
    "The rigorous computational framework for function spaces is verified with the aid of over 1200 unit tests."
   ]
  },
  {
   "cell_type": "markdown",
   "metadata": {},
   "source": [
    "## Acknowledgements\n",
    "\n",
    "We thank Andreas Stirnemann and Ben Mestel for their invaluable advice.  The Jupyter Notebook with a Python 3 kernel [Python version] and a Julia 1.3.1 kernel [Julia version] was used as a literate programming environment for developing the main calculations presented in the note."
   ]
  },
  {
   "cell_type": "markdown",
   "metadata": {},
   "source": [
    "## Report on packages used"
   ]
  },
  {
   "cell_type": "code",
   "execution_count": 91,
   "metadata": {},
   "outputs": [
    {
     "name": "stdout",
     "output_type": "stream",
     "text": [
      "python==3.7.4 (default, Aug 13 2019, 20:35:49) \n",
      "[GCC 7.3.0]\n",
      "decimal==1.70\n",
      "pathos==0.2.3\n",
      "numpy==1.18.1\n",
      "matplotlib==3.1.3\n"
     ]
    }
   ],
   "source": [
    "import sys\n",
    "import decimal\n",
    "import pathos\n",
    "\n",
    "print(f'python=={sys.version}')\n",
    "print(f'decimal=={decimal.__version__}')\n",
    "print(f'pathos=={pathos.__version__}')\n",
    "\n",
    "import matplotlib\n",
    "import numpy\n",
    "\n",
    "print(f'numpy=={np.__version__}')\n",
    "print(f'matplotlib=={matplotlib.__version__}')"
   ]
  },
  {
   "cell_type": "code",
   "execution_count": null,
   "metadata": {},
   "outputs": [],
   "source": []
  }
 ],
 "metadata": {
  "@webio": {
   "lastCommId": null,
   "lastKernelId": null
  },
  "hide_input": "true",
  "kernelspec": {
   "display_name": "Python 3",
   "language": "python",
   "name": "python3"
  },
  "language_info": {
   "codemirror_mode": {
    "name": "ipython",
    "version": 3
   },
   "file_extension": ".py",
   "mimetype": "text/x-python",
   "name": "python",
   "nbconvert_exporter": "python",
   "pygments_lexer": "ipython3",
   "version": "3.7.4"
  },
  "latex_metadata": {
   "affiliation": "University of Portsmouth, UK",
   "author": "A D Burbanks, A H Osbaldestin, J A Thurlby",
   "bib": "ref.bib",
   "pacs": "05.45.+b Theory and models of chaotic systems -- 47.53.+n Fractals",
   "title": "Existence of Feigenbaum's period-doubling renormalisation fixed point"
  }
 },
 "nbformat": 4,
 "nbformat_minor": 2
}
