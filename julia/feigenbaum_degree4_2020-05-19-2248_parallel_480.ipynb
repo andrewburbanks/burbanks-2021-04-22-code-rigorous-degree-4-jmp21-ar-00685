{
 "cells": [
  {
   "cell_type": "code",
   "execution_count": 1,
   "metadata": {},
   "outputs": [],
   "source": [
    "using Distributed"
   ]
  },
  {
   "cell_type": "code",
   "execution_count": 2,
   "metadata": {},
   "outputs": [
    {
     "data": {
      "text/plain": [
       "8-element Array{Int64,1}:\n",
       " 2\n",
       " 3\n",
       " 4\n",
       " 5\n",
       " 6\n",
       " 7\n",
       " 8\n",
       " 9"
      ]
     },
     "execution_count": 2,
     "metadata": {},
     "output_type": "execute_result"
    }
   ],
   "source": [
    "procs = addprocs(8)"
   ]
  },
  {
   "cell_type": "code",
   "execution_count": 3,
   "metadata": {},
   "outputs": [
    {
     "data": {
      "text/plain": [
       "8"
      ]
     },
     "execution_count": 3,
     "metadata": {},
     "output_type": "execute_result"
    }
   ],
   "source": [
    "length(procs)"
   ]
  },
  {
   "cell_type": "code",
   "execution_count": 4,
   "metadata": {},
   "outputs": [
    {
     "data": {
      "text/plain": [
       "(4, 480, 320, 1063, 0.575400000000000000000000000000000000000000000000000000000000000000000000000000000000000000000000000000000000000000000000000000000000000000000000000000000000000000000000000000000000000000000000000000000000000000000000000000000000000000000000000000000000000000000000000000000000000000000000000000000000000000000000000000001, 0.799999999999999999999999999999999999999999999999999999999999999999999999999999999999999999999999999999999999999999999999999999999999999999999999999999999999999999999999999999999999999999999999999999999999999999999999999999999999999999999999999999999999999999999999999999999999999999999999999999999999999999999999999999996)"
      ]
     },
     "execution_count": 4,
     "metadata": {},
     "output_type": "execute_result"
    }
   ],
   "source": [
    "@everywhere begin\n",
    "\n",
    "const d = 4\n",
    "const N = 480\n",
    "const P = Int(floor(2*N/3)) #N\n",
    "const nbits = max(53, Int(floor(P*log2(10))))\n",
    "\n",
    "# choose a binary precision matching P as closely as we can.\n",
    "setprecision(BigFloat, nbits)\n",
    "\n",
    "const c_text = \"0.5754\"\n",
    "const r_text = \"0.8\"\n",
    "    \n",
    "const c = BigFloat(c_text)\n",
    "const r = BigFloat(r_text)\n",
    "\n",
    "prefix = \"feig_d$(d)_N$(N)_P$(P)_c$(c_text)_r$(r_text)_\"\n",
    "    \n",
    "end\n",
    "\n",
    "d, N, P, nbits, c, r"
   ]
  },
  {
   "cell_type": "code",
   "execution_count": 5,
   "metadata": {},
   "outputs": [],
   "source": [
    "@everywhere begin\n",
    "\n",
    "import Base: <, <=, ==, >, >=\n",
    "import Base: zero, one\n",
    "import Base: abs\n",
    "import Base: +, -, *, /, ^\n",
    "\n",
    "struct Poly\n",
    "    coeffs::Array{BigFloat, 1}\n",
    "    cr::Tuple{BigFloat, BigFloat}\n",
    "    Poly(a::Array{BigFloat, 1}, cr) = length(a) == 1+N ? new(a, cr) : error(\"wrong #coeffs\")\n",
    "end\n",
    "\n",
    "abs(t::Poly) = sum(abs(a) for a in t.coeffs)\n",
    "zero(p::Poly) = Poly(fill(BigFloat(0), N+1), p.cr)\n",
    "one(p::Poly) = Poly([k==0 ? BigFloat(1) : BigFloat(0) for k in 0:N], p.cr)\n",
    "\n",
    "(-)(p::Poly) = Poly(-p.coeffs, p.cr)\n",
    "\n",
    "(*)(p::Poly, a::Number) = Poly(p.coeffs*a, p.cr)\n",
    "(*)(a::Number, p::Poly) = p*a\n",
    "\n",
    "(/)(p::Poly, a::BigFloat) = p*(1/a)\n",
    "\n",
    "function +(p::Poly, a::BigFloat)\n",
    "    coeffs = copy(p.coeffs)\n",
    "    coeffs[1] += a\n",
    "    Poly(coeffs, p.cr)\n",
    "end\n",
    "\n",
    "(+)(a::BigFloat, p::Poly) = p+a\n",
    "(-)(p::Poly, a::BigFloat) = p+(-a)\n",
    "\n",
    "(+)(p::Poly, q::Poly) = p.cr == q.cr ? Poly(p.coeffs+q.coeffs, p.cr) : error(\"!\")\n",
    "(-)(p::Poly, q::Poly) = p.cr == q.cr ? Poly(p.coeffs-q.coeffs, p.cr) : error(\"!\")\n",
    "\n",
    "(*)(a::Array{BigFloat, 1}, b::BigFloat) = [ak*b for ak in a]\n",
    "(*)(b::BigFloat, a::Array{BigFloat, 1}) = a*b\n",
    "\n",
    "(/)(a::Array{BigFloat, 1}, b::BigFloat) = [ak/b for ak in a]\n",
    "\n",
    "function *(p::Poly, q::Poly)\n",
    "    if p.cr != q.cr error(\"!\") end\n",
    "    coeffs = fill(BigFloat(0), N+1)\n",
    "    for j in 0:N\n",
    "        for k in 0:N\n",
    "            if j+k <= N\n",
    "                coeffs[1+j+k] += p.coeffs[1+j]*q.coeffs[1+k]\n",
    "            end\n",
    "        end\n",
    "    end\n",
    "    Poly(coeffs, p.cr)\n",
    "end\n",
    "\n",
    "basis_element(p::Poly, k::Integer) = Poly([j==k ? BigFloat(1) : BigFloat(0) for j in 0:N], p.cr)\n",
    "\n",
    "function identity(p::Poly)\n",
    "    c, r = p.cr\n",
    "    coeffs = fill(BigFloat(0), N+1)\n",
    "    coeffs[1] = c\n",
    "    coeffs[2] = r\n",
    "    Poly(coeffs, p.cr)\n",
    "end\n",
    "\n",
    "function diff(p::Poly)\n",
    "    c, r = p.cr\n",
    "    Poly([k == N+1 ? BigFloat(0) : k*p.coeffs[1+k] for k in 1:N+1], p.cr)/r\n",
    "end\n",
    "\n",
    "# Power\n",
    "function russian(t, p::Integer)\n",
    "    if p == 0\n",
    "        return one(t)\n",
    "    elseif p == 1\n",
    "        return t\n",
    "    end\n",
    "    \n",
    "    # ignore trailing zeros in binary expansion\n",
    "    trailing = trailing_zeros(p) + 1\n",
    "    p >>= trailing\n",
    "    \n",
    "    # repeatedly square\n",
    "    while (trailing -= 1) > 0\n",
    "        t *= t\n",
    "    end\n",
    "    \n",
    "    # compute the rest\n",
    "    u = t\n",
    "    while p > 0\n",
    "        trailing = trailing_zeros(p) + 1\n",
    "        p >>= trailing\n",
    "        while (trailing -= 1) >= 0\n",
    "            t *= t\n",
    "        end\n",
    "        u *= t\n",
    "    end\n",
    "    u\n",
    "end\n",
    "\n",
    "(^)(t::Poly, p::Integer) = russian(t, p)\n",
    "\n",
    "# Evaluation and composition of polynomial.\n",
    "function (t::Poly)(x::Union{BigFloat, Poly, Complex{BigFloat}})\n",
    "    c, r = t.cr\n",
    "    u = (x-c)/r\n",
    "    total = t.coeffs[N+1]*u + t.coeffs[N]\n",
    "    for k in N-1:-1:1\n",
    "        total = total*u + t.coeffs[k]\n",
    "    end\n",
    "    total\n",
    "end\n",
    "\n",
    "(t::Poly)(x::Number) = t(BigFloat(x))\n",
    "    \n",
    "end"
   ]
  },
  {
   "cell_type": "code",
   "execution_count": 6,
   "metadata": {},
   "outputs": [],
   "source": [
    "@everywhere begin\n",
    "\n",
    "coeffs = fill(BigFloat(0), N+1)\n",
    "mu_infty = BigFloat(\"-1.5949013562288205644978287\")\n",
    "coeffs[1:2] = [BigFloat(1), mu_infty]\n",
    "p0 = Poly(coeffs, (BigFloat(0), BigFloat(1)))\n",
    "\n",
    "zero_Omega = zero(Poly(fill(BigFloat(0), N+1), (c, r)))\n",
    "I_Omega = identity(zero_Omega)\n",
    "\n",
    "g0 = p0(I_Omega)\n",
    "    \n",
    "end"
   ]
  },
  {
   "cell_type": "code",
   "execution_count": 7,
   "metadata": {},
   "outputs": [],
   "source": [
    "@everywhere poly_basis = [basis_element(g0, k) for k in 0:N];"
   ]
  },
  {
   "cell_type": "code",
   "execution_count": 8,
   "metadata": {},
   "outputs": [],
   "source": [
    "@everywhere begin\n",
    "\n",
    "Q(z) = z^d\n",
    "Qdash(z) = d == 2 ? 2*z : d*z^(d-1)\n",
    "\n",
    "function T(f)\n",
    "    x = identity(f)\n",
    "    a = f(1)\n",
    "    (1/a)*f(Q(f(x*Q(a))))\n",
    "end\n",
    "\n",
    "function T(g)\n",
    "    x = identity(g)\n",
    "    \n",
    "    a = g(1)\n",
    "    Qa = Q(a)\n",
    "    xQa = x*Qa\n",
    "    gxQa = g(xQa)\n",
    "    QgxQa = Q(gxQa)\n",
    "    gQgxQa = g(QgxQa)\n",
    "    Tg = (1/a)*gQgxQa\n",
    "end\n",
    "\n",
    "function T_and_DT(g)\n",
    "    x = identity(g)\n",
    "    \n",
    "    a = g(1)\n",
    "    Qa = Q(a)\n",
    "    xQa = x*Qa\n",
    "    gxQa = g(xQa)\n",
    "    QgxQa = Q(gxQa)\n",
    "    gQgxQa = g(QgxQa)\n",
    "    Tg = (1/a)*gQgxQa\n",
    "    \n",
    "    g_dash = diff(g)\n",
    "    g_dashxQa = g_dash(xQa)\n",
    "    g_dashQgxQa = g_dash(QgxQa)\n",
    "    \n",
    "    dgxQadm1 = d*gxQa^(d-1)\n",
    "    \n",
    "    # we should ensure that any subexpressions\n",
    "    # that do not depend on delta_g\n",
    "    # are computed in the outer function, here.\n",
    "    \n",
    "    function DTg(delta_g)\n",
    "        delta_a = delta_g(1)\n",
    "        delta_Qa = d*a^(d-1)*delta_a\n",
    "        delta_xQa = x*delta_Qa\n",
    "        delta_gxQa = delta_g(xQa) + g_dashxQa*delta_xQa\n",
    "        delta_QgxQa = dgxQadm1*delta_gxQa\n",
    "        delta_gQgxQa = delta_g(QgxQa) + g_dashQgxQa*delta_QgxQa\n",
    "        delta_Tg = (-1/a^2)*delta_a*gQgxQa + (1/a)*delta_gQgxQa\n",
    "    end\n",
    "    \n",
    "    Tg, DTg\n",
    "end\n",
    "    \n",
    "end"
   ]
  },
  {
   "cell_type": "code",
   "execution_count": 9,
   "metadata": {},
   "outputs": [],
   "source": [
    "@everywhere begin\n",
    "\n",
    "function eye(T::Type, n::Integer)\n",
    "    I::Array{T, 2} = [j==k ? T(1) : T(0) for k in 1:n, j in 1:n]\n",
    "end\n",
    "\n",
    "# be careful that matrix_elements is only used from 1 process.\n",
    "# pmap can then be used below.\n",
    "# for large degree, this should help significantly.\n",
    "# when the function being applied is a closure,\n",
    "# there might be a benefit to using CachingPool(workers())\n",
    "# as an additional, second, argument to pmap.\n",
    "# actually, here, DTp is not a closure...\n",
    "    \n",
    "function matrix_elements(L, basis)\n",
    "    J_polys = pmap(L, basis)\n",
    "    #J_polys = pmap(L, CachingPool(workers()), basis)\n",
    "    J = [J_polys[k].coeffs[j] for j in 1:N+1, k in 1:N+1]\n",
    "end\n",
    "    \n",
    "function newtonstep(p::Poly)\n",
    "    Tp, DTp = T_and_DT(p)\n",
    "    Fp = Tp - p\n",
    "    J = matrix_elements(DTp, poly_basis)\n",
    "    I = eye(BigFloat, N+1)\n",
    "    q = Poly(p.coeffs - inv(J-I)*Fp.coeffs, p.cr)\n",
    "end\n",
    "    \n",
    "function newton(p0::Poly, n::Integer)\n",
    "    prev_error = BigFloat(10)^10\n",
    "    for k in 1:n\n",
    "        p1 = newtonstep(p0)\n",
    "        error = abs(T(p1)-p1)\n",
    "        if error < prev_error\n",
    "            println(\"$k: $error\")\n",
    "            p0 = p1\n",
    "            prev_error = error\n",
    "        else\n",
    "            break\n",
    "        end\n",
    "    end\n",
    "    p0\n",
    "end\n",
    "    \n",
    "end"
   ]
  },
  {
   "cell_type": "markdown",
   "metadata": {},
   "source": [
    "## Skip if precomputed"
   ]
  },
  {
   "cell_type": "code",
   "execution_count": null,
   "metadata": {},
   "outputs": [],
   "source": [
    "ga = g0\n",
    "gb = T(ga)\n",
    "erra = abs(gb-ga)\n",
    "for k in 1:20\n",
    "    gc = T(gb)\n",
    "    errb = abs(gc - gb)\n",
    "    println(\"$(k) $(errb)\")\n",
    "    if errb < erra\n",
    "        gb, ga = gc, gb\n",
    "        erra = errb\n",
    "    else\n",
    "        break\n",
    "    end\n",
    "end"
   ]
  },
  {
   "cell_type": "code",
   "execution_count": null,
   "metadata": {},
   "outputs": [],
   "source": [
    "using Serialization\n",
    "#open(f -> serialize(f, ga), \"$(prefix)ga.jls\", \"w\")\n",
    "ga = open(deserialize, \"$(prefix)ga.jls\")"
   ]
  },
  {
   "cell_type": "code",
   "execution_count": null,
   "metadata": {},
   "outputs": [],
   "source": [
    "ga.coeffs[1]"
   ]
  },
  {
   "cell_type": "code",
   "execution_count": null,
   "metadata": {},
   "outputs": [],
   "source": [
    "abs(T(ga)-ga)"
   ]
  },
  {
   "cell_type": "code",
   "execution_count": null,
   "metadata": {},
   "outputs": [],
   "source": [
    "#precompile\n",
    "newton(g0, 0);"
   ]
  },
  {
   "cell_type": "code",
   "execution_count": null,
   "metadata": {},
   "outputs": [],
   "source": [
    "@time gn = newton(ga, 20);"
   ]
  },
  {
   "cell_type": "code",
   "execution_count": null,
   "metadata": {},
   "outputs": [],
   "source": [
    "using Serialization\n",
    "open(f -> serialize(f, gn), \"$(prefix)g.jls\", \"w\")"
   ]
  },
  {
   "cell_type": "code",
   "execution_count": 10,
   "metadata": {},
   "outputs": [],
   "source": [
    "@everywhere begin\n",
    "    \n",
    "using Serialization\n",
    "\n",
    "gn = open(deserialize, \"$(prefix)g.jls\")\n",
    "    \n",
    "end"
   ]
  },
  {
   "cell_type": "code",
   "execution_count": 11,
   "metadata": {},
   "outputs": [
    {
     "data": {
      "text/plain": [
       "0.999999999999999999999999999999999999999999999999999999999999999999999999999999999999999999999999999999999999999999999999999999999999999999999999999999999999999999999999999999999999999999999999999999999999999999999999999999999999999999999999999999999999999999999999999999999999999999999999999999999999999999999999999999352"
      ]
     },
     "execution_count": 11,
     "metadata": {},
     "output_type": "execute_result"
    }
   ],
   "source": [
    "gn(0)"
   ]
  },
  {
   "cell_type": "code",
   "execution_count": 12,
   "metadata": {},
   "outputs": [
    {
     "data": {
      "text/plain": [
       "-0.59160991663443815013962435438162895379022298919075582963905626080827016110024444655309687311596718431035214180064326974386372389312068288207799315961624092594115430529642761347098829399268704915779588874083761701454374048090852176811921141707111710425330824210097035806422600848343287080164784677856439804861554138904365"
      ]
     },
     "execution_count": 12,
     "metadata": {},
     "output_type": "execute_result"
    }
   ],
   "source": [
    "gn(1)"
   ]
  },
  {
   "cell_type": "code",
   "execution_count": 13,
   "metadata": {},
   "outputs": [
    {
     "data": {
      "text/plain": [
       "-1.69030297140524485334378015032416134822827805970956196668242326344973921908881055143276608578615291915193152630821259416410507756163090857294057319252627831020424401895602517765504793522623687664454132190710719267683493554697194567276686678514845145318901391119413556852821208047546969604755898739185932950666235922598764"
      ]
     },
     "execution_count": 13,
     "metadata": {},
     "output_type": "execute_result"
    }
   ],
   "source": [
    "1/gn(1)"
   ]
  },
  {
   "cell_type": "code",
   "execution_count": 14,
   "metadata": {},
   "outputs": [
    {
     "data": {
      "text/plain": [
       "6.32219722834607033963127958555050817227207160942808246749377818873892277592547743648832460947555051186911220510108844238765938098243171742281710813202463745295957739260858335225717811192715666248511164047073478584307407816680050678113993057604933538847117566435556452351562572390108554439640939159160195139854339205565014e-320"
      ]
     },
     "execution_count": 14,
     "metadata": {},
     "output_type": "execute_result"
    }
   ],
   "source": [
    "residue_approx = T(gn)-gn\n",
    "abs(residue_approx)"
   ]
  },
  {
   "cell_type": "code",
   "execution_count": 15,
   "metadata": {},
   "outputs": [
    {
     "data": {
      "text/plain": [
       "-0.000151171335061129165684026115927091901923775570970981721741458291806610434525924828836356997034390993684305294387095565163200728045636680125417549713449569423320469102252552574492161812762786829830685112885175097562816774077570383265530993215881160052371659054243871523164183598068583884702984027202906700261992146676290441"
      ]
     },
     "execution_count": 15,
     "metadata": {},
     "output_type": "execute_result"
    }
   ],
   "source": [
    "ccc = gn.coeffs[1]"
   ]
  },
  {
   "cell_type": "code",
   "execution_count": 16,
   "metadata": {},
   "outputs": [
    {
     "data": {
      "text/plain": [
       "0.75364232572374388642559314584525423132748397114787467033324286405808484824979727256100486193234202536287922460074048275410890290122269727045838556697346693657264436023656968240295609319639618159106220101257625513117221372274555702513440107551471256631555571167330186795168896776725745898011104718382320959599965091912712"
      ]
     },
     "execution_count": 16,
     "metadata": {},
     "output_type": "execute_result"
    }
   ],
   "source": [
    "a = gn(1)\n",
    "x = identity(gn)\n",
    "xQa = x*Q(a)\n",
    "psi(x) = (x-c)/r\n",
    "norm1 = abs(psi(xQa))"
   ]
  },
  {
   "cell_type": "code",
   "execution_count": 17,
   "metadata": {},
   "outputs": [
    {
     "data": {
      "text/plain": [
       "0.803456506833079315574654312297506629435330198722760835629229170742817646148571214296434581368027119437827172601921702663859697238320239970447291256156999052942497069063510529834442902560510264194885642373504199632451165391212698190484150813079245002854058125847568762187684022037360979944039653737159897852269175134422817"
      ]
     },
     "execution_count": 17,
     "metadata": {},
     "output_type": "execute_result"
    }
   ],
   "source": [
    "QgxQa = Q(gn(xQa))\n",
    "norm2 = abs(psi(QgxQa))"
   ]
  },
  {
   "cell_type": "code",
   "execution_count": 18,
   "metadata": {},
   "outputs": [],
   "source": [
    "if norm1 >= 1 || norm2 >= 1\n",
    "    println(\"Proof hopeless with these domains.\")\n",
    "end"
   ]
  },
  {
   "cell_type": "code",
   "execution_count": null,
   "metadata": {},
   "outputs": [],
   "source": [
    "Tgn, DTgn = T_and_DT(gn)"
   ]
  },
  {
   "cell_type": "code",
   "execution_count": null,
   "metadata": {},
   "outputs": [],
   "source": [
    "@time J = matrix_elements(DTgn, poly_basis);"
   ]
  },
  {
   "cell_type": "code",
   "execution_count": null,
   "metadata": {},
   "outputs": [],
   "source": [
    "using Serialization\n",
    "open(f -> serialize(f, gn), \"$(prefix)g.jls\", \"w\")\n",
    "open(f -> serialize(f, J), \"$(prefix)jac.jls\", \"w\")"
   ]
  },
  {
   "cell_type": "markdown",
   "metadata": {},
   "source": [
    "## Continue..."
   ]
  },
  {
   "cell_type": "code",
   "execution_count": 19,
   "metadata": {},
   "outputs": [],
   "source": [
    "@everywhere begin\n",
    "    \n",
    "using Serialization\n",
    "\n",
    "gn = open(deserialize, \"$(prefix)g.jls\")\n",
    "J = open(deserialize, \"$(prefix)jac.jls\")\n",
    "    \n",
    "end"
   ]
  },
  {
   "cell_type": "code",
   "execution_count": 20,
   "metadata": {},
   "outputs": [
    {
     "data": {
      "text/plain": [
       "true"
      ]
     },
     "execution_count": 20,
     "metadata": {},
     "output_type": "execute_result"
    }
   ],
   "source": [
    "gn.cr == (c, r)"
   ]
  },
  {
   "cell_type": "code",
   "execution_count": null,
   "metadata": {},
   "outputs": [],
   "source": [
    "Tgn, DTgn = T_and_DT(gn) # only if not done above"
   ]
  },
  {
   "cell_type": "code",
   "execution_count": null,
   "metadata": {},
   "outputs": [],
   "source": [
    "for (k, a) in enumerate(gn.coeffs)\n",
    "    println(\"$(k-1): $(a)\")\n",
    "end"
   ]
  },
  {
   "cell_type": "code",
   "execution_count": 21,
   "metadata": {},
   "outputs": [
    {
     "data": {
      "text/plain": [
       "-1.69030297140524485334378015032416134822827805970956196668242326344973921908881055143276608578615291915193152630821259416410507756163090857294057319252627831020424401895602517765504793522623687664454132190710719267683493554697194567276686678514845145318901391119413556852821208047546969604755898739185932950666235922598764"
      ]
     },
     "execution_count": 21,
     "metadata": {},
     "output_type": "execute_result"
    }
   ],
   "source": [
    "a = gn(1)\n",
    "alpha = 1/a"
   ]
  },
  {
   "cell_type": "code",
   "execution_count": 22,
   "metadata": {},
   "outputs": [],
   "source": [
    "@everywhere begin\n",
    "\n",
    "# interval datatype\n",
    "struct Interval\n",
    "    lo::BigFloat\n",
    "    hi::BigFloat\n",
    "    Interval(lo, hi) = lo > hi ? error(\"bad Interval\") : new(lo, hi)\n",
    "    Interval(a) = Interval(a, a)\n",
    "    Interval(i::Interval) = new(i.lo, i.hi)\n",
    "end\n",
    "\n",
    "# membership\n",
    "function in(a::Number, x::Interval)\n",
    "    x.lo <= a <= x.hi\n",
    "end\n",
    "\n",
    "# subset\n",
    "function in(x::Interval, y::Interval)\n",
    "    y.lo <= x.lo && x.hi <= y.hi\n",
    "end\n",
    "\n",
    "(==)(x::Interval, y::Interval) = x.lo == y.lo && x.hi == y.hi\n",
    "\n",
    "(<)(x::Interval, y::Interval) = x.hi < y.lo\n",
    "(>)(x::Interval, y::Interval) = y<x\n",
    "\n",
    "(<)(x::BigFloat, y::Interval) = x < y.lo\n",
    "(<)(x::Interval, y::BigFloat) = x.hi < y\n",
    "\n",
    "(>)(x::BigFloat, y::Interval) = y<x\n",
    "(>)(x::Interval, y::BigFloat) = y<x\n",
    "\n",
    "zero(i::Interval) = Interval(0)\n",
    "one(i::Interval) = Interval(1)\n",
    "\n",
    "function abs(x::Interval)\n",
    "    if 0 in x\n",
    "        return Interval(0, max(abs(x.lo), abs(x.hi)))\n",
    "    else\n",
    "        return Interval(min(abs(x.lo), abs(x.hi)), max(abs(x.lo), abs(x.hi)))\n",
    "    end\n",
    "end\n",
    "\n",
    "import Base: setrounding\n",
    "\n",
    "function +(x::Interval, y::Interval)\n",
    "    setrounding(BigFloat, RoundDown)\n",
    "    lo::BigFloat = x.lo+y.lo\n",
    "    setrounding(BigFloat, RoundUp)\n",
    "    hi::BigFloat = x.hi+y.hi\n",
    "    setrounding(BigFloat, RoundNearest)\n",
    "    Interval(lo, hi)\n",
    "end\n",
    "\n",
    "(-)(x::Interval) = Interval(-x.hi, -x.lo)\n",
    "(-)(x::Interval, y::Interval) = x+(-y)\n",
    "\n",
    "function +(x::Interval, a::Number)\n",
    "    setrounding(BigFloat, RoundDown)\n",
    "    lo::BigFloat = x.lo+a\n",
    "    setrounding(BigFloat, RoundUp)\n",
    "    hi::BigFloat = x.hi+a\n",
    "    setrounding(BigFloat, RoundNearest)\n",
    "    Interval(lo, hi)\n",
    "end\n",
    "\n",
    "(+)(a::Number, x::Interval) = x+a\n",
    "(-)(x::Interval, a::Number) = x+(-a)\n",
    "(-)(a::Number, x::Interval) = -x+a\n",
    "\n",
    "function *(x::Interval, y::Interval)\n",
    "    setrounding(BigFloat, RoundDown)\n",
    "    lo::BigFloat = min(x.lo*y.lo, x.lo*y.hi, x.hi*y.lo, x.hi*y.hi)\n",
    "    setrounding(BigFloat, RoundUp)\n",
    "    hi::BigFloat = max(x.lo*y.lo, x.lo*y.hi, x.hi*y.lo, x.hi*y.hi)\n",
    "    setrounding(BigFloat, RoundNearest)\n",
    "    Interval(lo, hi)\n",
    "end\n",
    "\n",
    "function *(x::Interval, a::Number)\n",
    "    if a >= 0\n",
    "        setrounding(BigFloat, RoundDown)\n",
    "        c::BigFloat = x.lo*a\n",
    "        setrounding(BigFloat, RoundUp)\n",
    "        d::BigFloat = x.hi*a\n",
    "        setrounding(BigFloat, RoundNearest)\n",
    "        Interval(c, d)\n",
    "    else\n",
    "        setrounding(BigFloat, RoundDown)\n",
    "        e::BigFloat = x.hi*a\n",
    "        setrounding(BigFloat, RoundUp)\n",
    "        f::BigFloat = x.lo*a\n",
    "        setrounding(BigFloat, RoundNearest)\n",
    "        Interval(e, f)\n",
    "    end\n",
    "end\n",
    "\n",
    "(*)(a::Number, x::Interval) = x*a\n",
    "\n",
    "function iRec(x::Interval)\n",
    "    if 0 in x\n",
    "        error(\"division by zero\")\n",
    "    else\n",
    "        setrounding(BigFloat, RoundDown)\n",
    "        lo::BigFloat = 1/x.hi\n",
    "        setrounding(BigFloat, RoundUp)\n",
    "        hi::BigFloat = 1/x.lo\n",
    "        setrounding(BigFloat, RoundNearest)\n",
    "        Interval(lo, hi)\n",
    "    end\n",
    "end\n",
    "\n",
    "(/)(x::Interval, y::Interval) = x*iRec(y)\n",
    "(/)(x::Interval, a::Number) = x*(1/a)\n",
    "(/)(a::Number, x::Interval) = a*iRec(x)\n",
    "\n",
    "function ^(x::Interval, n::Integer)\n",
    "    if n%2 == 1 || x.lo >= 0\n",
    "        # odd power\n",
    "        setrounding(BigFloat, RoundDown)\n",
    "        a::BigFloat = x.lo^n\n",
    "        setrounding(BigFloat, RoundUp)\n",
    "        b::BigFloat = x.hi^n\n",
    "        setrounding(BigFloat, RoundNearest)\n",
    "        return Interval(a, b)\n",
    "    elseif x.hi < 0\n",
    "        setrounding(BigFloat, RoundDown)\n",
    "        c::BigFloat = x.hi^n\n",
    "        setrounding(BigFloat, RoundUp)\n",
    "        d::BigFloat = x.lo^n\n",
    "        setrounding(BigFloat, RoundNearest)\n",
    "        return Interval(c, d)\n",
    "    else\n",
    "        setrounding(BigFloat, RoundUp)\n",
    "        e::BigFloat = x.lo^n\n",
    "        f::BigFloat = x.hi^n\n",
    "        setrounding(BigFloat, RoundNearest)\n",
    "        return Interval(0, max(e, f))\n",
    "    end\n",
    "end\n",
    "\n",
    "function sqrt(x::Interval)\n",
    "    half = BigFloat(1)/BigFloat(2)\n",
    "    @assert half*BigFloat(2) == BigFloat(1)\n",
    "    @assert x.lo >= BigFloat(0)\n",
    "    setrounding(BigFloat, RoundDown)\n",
    "    a = x.lo^half\n",
    "    setrounding(BigFloat, RoundUp)\n",
    "    b = x.hi^half\n",
    "    setrounding(BigFloat, RoundNearest)\n",
    "    Interval(a, b)\n",
    "end\n",
    "\n",
    "comparable(x::Interval, y::Interval) = x.hi <= y.lo || x.lo >= y.hi\n",
    "\n",
    "setrounding(t::Type{Float64}, mode) = nothing\n",
    "#setrounding(t::Type{Double64}, mode) = nothing\n",
    "\n",
    "function bound_quasi_power_careful(k0, g_norm::Interval)\n",
    "    @assert(g_norm.hi < Interval(1))\n",
    "    @assert(g_norm.hi > Interval(0))\n",
    "    # important to make the interval trivial, here\n",
    "    g_norm = Interval(g_norm.hi, g_norm.hi)\n",
    "    k = k0 + 1\n",
    "    latest = k * g_norm ^ (k - 1)\n",
    "    greatest_upper = latest.hi\n",
    "    greatest_lower = latest.lo\n",
    "    \n",
    "    # a new upper bound strictly below a previous lower bound\n",
    "    # indicates that we have passed the maximum.\n",
    "    # at that point, the greatest upper bound found so far\n",
    "    # and the greatest lower bound found so far\n",
    "    # together bound the maximum of the graph.\n",
    "    \n",
    "    while latest.hi >= greatest_lower\n",
    "        if latest.lo > greatest_lower\n",
    "            greatest_lower = latest.lo\n",
    "        end\n",
    "        if latest.hi > greatest_upper\n",
    "            greatest_upper = latest.hi\n",
    "        end\n",
    "        k = k + 1\n",
    "        latest = k * g_norm ^ (k - 1)\n",
    "        #println(latest)\n",
    "    end\n",
    "    Interval(greatest_lower, greatest_upper)\n",
    "end\n",
    "\n",
    "# here, we would make the argument that\n",
    "# the rounded version of the quasi power\n",
    "# is not order reversing at any point.\n",
    "\n",
    "# this means that it should be sufficient to\n",
    "# compute upper bounds only.\n",
    "\n",
    "function bound_quasi_power(k0, g_norm::Interval)\n",
    "    @assert(g_norm.hi < Interval(1))\n",
    "    @assert(g_norm.hi > Interval(0))\n",
    "    # important to make the interval trivial, here\n",
    "    k = k0 + 1\n",
    "    setrounding(BigFloat, RoundUp)\n",
    "    latest = k * g_norm.hi ^ (k - 1)\n",
    "    greatest_upper = latest\n",
    "    while latest >= greatest_upper\n",
    "        if latest > greatest_upper\n",
    "            greatest_upper = latest\n",
    "        end\n",
    "        k = k + 1\n",
    "        latest = k * g_norm.hi ^ (k - 1)\n",
    "    end\n",
    "    setrounding(BigFloat, RoundNearest)\n",
    "    Interval(0, greatest_upper)\n",
    "end\n",
    "\n",
    "# we established that the two methods produce the same results\n",
    "#for k in 1:100\n",
    "#    p = Int(floor(rand()*500))\n",
    "#    x = 1-0.001*rand()\n",
    "#    bound1 = bound_quasi_power(p, Interval(x)).hi\n",
    "#    bound2 = bound_quasi_power_crude(p, Interval(x)).hi\n",
    "#    if bound1 != bound2\n",
    "#        println(\"$x: $bound1 != $bound2\")\n",
    "#    end\n",
    "#end\n",
    "\n",
    "function balanced(i::Interval)\n",
    "    a = max(abs(i.lo), abs(i.hi))\n",
    "    Interval(-a, a)\n",
    "end\n",
    "\n",
    "function nonnegative(i::Interval)\n",
    "    a = max(i.lo, BigFloat(0))\n",
    "    @assert i.hi>=0\n",
    "    Interval(a, i.hi)\n",
    "end\n",
    "\n",
    "function hull(v::Array{Interval, 1})\n",
    "    lo = min([i.lo for i in v]...)\n",
    "    hi = max([i.hi for i in v]...)\n",
    "    Interval(lo, hi)\n",
    "end\n",
    "\n",
    "unit_vector(t::Type, k::Integer) = [j == k ? t(1) : t(0) for j in 0:N]\n",
    "    \n",
    "end"
   ]
  },
  {
   "cell_type": "code",
   "execution_count": 23,
   "metadata": {},
   "outputs": [],
   "source": [
    "@everywhere begin\n",
    "\n",
    "struct Rectangle\n",
    "    re::Interval\n",
    "    im::Interval\n",
    "    Rectangle(re::Interval, im::Interval) = new(re, im)\n",
    "    Rectangle(re, im) = new(Interval(re), Interval(im))\n",
    "    Rectangle(re) = new(Interval(re), Interval(0))\n",
    "end\n",
    "\n",
    "in(x::Rectangle, z::Rectangle) = x.re in z.re && x.im in z.im\n",
    "zero(z::Rectangle) = Rectangle(0, 0)\n",
    "one(z::Rectangle) = Rectangle(1, 0)\n",
    "\n",
    "(-)(z::Rectangle) = Rectangle(-z.re, -z.im)\n",
    "\n",
    "(+)(z::Rectangle, w::Rectangle) = Rectangle(z.re+w.re, z.im+w.im)\n",
    "(-)(z::Rectangle, w::Rectangle) = Rectangle(z.re-w.re, z.im-w.im)\n",
    "\n",
    "(*)(z::Rectangle, x::Interval) = Rectangle(z.re*x, z.im*x)\n",
    "(/)(z::Rectangle, x::Interval) = z*(1/x)\n",
    "\n",
    "function reciprocal(z::Rectangle)\n",
    "    d = z.re^2 + z.im^2\n",
    "    Rectangle(z.re/d, -z.im/d)\n",
    "end\n",
    "\n",
    "(/)(z::Rectangle, w::Rectangle) = z*reciprocal(w)\n",
    "\n",
    "(*)(z::Rectangle, w::Rectangle) = Rectangle(z.re*w.re-z.im*w.im, z.re*w.im+z.im*w.re)\n",
    "\n",
    "(+)(z::Rectangle, x::Interval) = Rectangle(z.re+x, z.im)\n",
    "(-)(z::Rectangle, x::Interval) = Rectangle(z.re-x, z.im)\n",
    "\n",
    "# derived\n",
    "(*)(x::Interval, z::Rectangle) = z*x\n",
    "(/)(x::Interval, z::Rectangle) = Rectangle(x)/z\n",
    "(+)(x::Interval, z::Rectangle) = z+x\n",
    "(-)(x::Interval, z::Rectangle) = -z+x\n",
    "\n",
    "# we don't have sqrt of an interval yet.\n",
    "abs(z::Rectangle) = sqrt(z.re^2 + z.im^2)\n",
    "\n",
    "(^)(z::Rectangle, p::Integer) = russian(z, p)\n",
    "\n",
    "Rectangle(z::Complex{BigFloat}) = Rectangle(z.re, z.im)\n",
    "    \n",
    "end"
   ]
  },
  {
   "cell_type": "code",
   "execution_count": 24,
   "metadata": {},
   "outputs": [],
   "source": [
    "@everywhere begin\n",
    "\n",
    "struct Trunc\n",
    "    coeffs::Array{Interval, 1}\n",
    "    Trunc(a::Array{Interval, 1}) = length(a) == 1+N ? new(a) : error(\"wrong #coeffs\")\n",
    "end\n",
    "\n",
    "abs(t::Trunc) = sum(abs(a) for a in t.coeffs)\n",
    "\n",
    "(^)(t::Trunc, p::Integer) = russian(t, p)\n",
    "\n",
    "zero(t::Trunc) = Trunc([Interval(0) for k in 0:N])\n",
    "one(t::Trunc) = Trunc([k == 0 ? Interval(1) : Interval(0) for k in 0:N])\n",
    "\n",
    "# Vector space essentials\n",
    "(+)(t::Trunc, u::Trunc) = Trunc(t.coeffs + u.coeffs)\n",
    "(-)(t::Trunc) = Trunc(-t.coeffs)\n",
    "(*)(t::Trunc, a::Union{Number, Interval}) = Trunc(t.coeffs * a)\n",
    "\n",
    "# Vector space derived\n",
    "(-)(t::Trunc, u::Trunc) = t+(-u)\n",
    "(/)(t::Trunc, a::Interval) = t*(1/a)\n",
    "(*)(a::Union{Number, Interval}, t::Trunc) = t*a\n",
    "\n",
    "# I think that (*)(Array{T, 1}, Number) is defined already by default.\n",
    "# But since Interval is not a subtype of Number,\n",
    "# we must define (*)(Array{Interval, 1}, Interval).\n",
    "(*)(a::Array{Interval, 1}, b::Interval) = [ak*b for ak in a]\n",
    "(*)(b::Interval, a::Array{Interval, 1}) = a*b\n",
    "\n",
    "# Convenience\n",
    "function +(t::Trunc, a::Interval)\n",
    "    coeffs = copy(t.coeffs)\n",
    "    coeffs[1] += a\n",
    "    Trunc(coeffs)\n",
    "end\n",
    "\n",
    "function -(t::Trunc, a::Interval)\n",
    "    coeffs = copy(t.coeffs)\n",
    "    coeffs[1] -= a\n",
    "    Trunc(coeffs)\n",
    "end\n",
    "\n",
    "(+)(a::Interval, t::Trunc) = t+a\n",
    "(-)(a::Interval, t::Trunc) = (-t)+a\n",
    "\n",
    "# Algebra\n",
    "function *(t::Trunc, u::Trunc)\n",
    "    coeffs = fill(Interval(0), N+1)\n",
    "    for j in 0:N\n",
    "        for k in 0:N-j\n",
    "            coeffs[1+j+k] += t.coeffs[1+j]*u.coeffs[1+k]\n",
    "        end\n",
    "    end\n",
    "    Trunc(coeffs)\n",
    "end\n",
    "\n",
    "# Evaluation and composition of polynomial. Compact, but could be made more efficient?\n",
    "#(t::Trunc)(x::Union{Interval, Rectangle, Trunc}) = sum(a*x^(k-1) for (k, a) in enumerate(t.coeffs))\n",
    "function (t::Trunc)(x::Union{Interval, Rectangle, Trunc})\n",
    "    total = t.coeffs[N+1]*x + t.coeffs[N]\n",
    "    for k in N-1:-1:1\n",
    "        total = total*x + t.coeffs[k]\n",
    "    end\n",
    "    total\n",
    "end\n",
    "\n",
    "function bound_high_order_product(t::Trunc, u::Trunc)\n",
    "    coeffs = Dict{Int64, Interval}()\n",
    "    for j in 0:N\n",
    "        for k in 0:N\n",
    "            if j+k > N\n",
    "                a::Interval = t.coeffs[1+j]*u.coeffs[1+k]\n",
    "                if haskey(coeffs, j+k)\n",
    "                    coeffs[j+k] += a\n",
    "                else\n",
    "                    coeffs[j+k] = a\n",
    "                end\n",
    "            end\n",
    "        end\n",
    "    end\n",
    "    sum(abs(a) for (k, a) in coeffs)\n",
    "end\n",
    "\n",
    "abs_star(t::Trunc) = sum(abs(t.coeffs[1+k]) for k in 1:N)\n",
    "\n",
    "diff(t::Trunc) = Trunc([k == N ? Interval(0) : (1+k)*t.coeffs[2+k] for k in 0:N])\n",
    "\n",
    "end"
   ]
  },
  {
   "cell_type": "code",
   "execution_count": 25,
   "metadata": {},
   "outputs": [],
   "source": [
    "@everywhere begin\n",
    "\n",
    "struct StdBall\n",
    "    P::Trunc\n",
    "    H::Interval\n",
    "    G::Interval\n",
    "    \n",
    "    # we enforce the intervals h, g to be of the form [0, b].\n",
    "    StdBall(p::Trunc, h::Number, g::Number) = new(p, Interval(0, h), Interval(0, g))\n",
    "    StdBall(p::Trunc, h::Interval, g::Interval) = new(p, Interval(0, h.hi), Interval(0, g.hi))\n",
    "end\n",
    "\n",
    "zero(b::StdBall) = StdBall(zero(b.P), Interval(0), Interval(0))\n",
    "one(b::StdBall) = StdBall(one(b.P), Interval(0), Interval(0))\n",
    "\n",
    "# Abs\n",
    "abs(b::StdBall) = nonnegative(abs(b.P) + b.H + balanced(b.G))\n",
    "\n",
    "# Vector space operations\n",
    "\n",
    "# Negative\n",
    "(-)(b::StdBall) = StdBall(-b.P, b.H, b.G)\n",
    "\n",
    "# Scalar multiples\n",
    "(*)(b::StdBall, i::Interval) = StdBall(b.P*i, b.H*abs(i), b.G*abs(i))\n",
    "(/)(b::StdBall, i::Interval) = b*(1/i)\n",
    "\n",
    "# Add and subtract\n",
    "(+)(b::StdBall, c::StdBall) = StdBall(b.P+c.P, b.H+c.H, b.G+c.G)\n",
    "(-)(b::StdBall, c::StdBall) = b+(-c)\n",
    "\n",
    "# Constant add and subtract\n",
    "(+)(b::StdBall, i::Interval) = StdBall(b.P+i, b.H, b.G)\n",
    "(-)(b::StdBall, i::Interval) = StdBall(b.P-i, b.H, b.G)\n",
    "\n",
    "# Derived\n",
    "(*)(i::Interval, b::StdBall) = b*i\n",
    "(+)(i::Interval, b::StdBall) = b+i\n",
    "(-)(i::Interval, b::StdBall) = (-b)+i\n",
    "\n",
    "function *(b::StdBall, c::StdBall)\n",
    "    PP_P = b.P*c.P\n",
    "    PP_H = bound_high_order_product(b.P, c.P)\n",
    "    PH = abs(b.P)*c.H\n",
    "    PG = abs(b.P)*c.G\n",
    "\n",
    "    HP = b.H*abs(c.P)\n",
    "    HH = b.H*c.H\n",
    "    HG = b.H*c.G\n",
    "    \n",
    "    GP = b.G*abs(c.P)\n",
    "    GH = b.G*c.H\n",
    "    GG = b.G*c.G\n",
    "    \n",
    "    P = PP_P\n",
    "    H = PP_H + PH + HP + HH + GH + HG\n",
    "    G = PG + GP + GG\n",
    "    \n",
    "    StdBall(P, H, G)\n",
    "end\n",
    "\n",
    "(^)(t::StdBall, p::Integer) = russian(t, p)\n",
    "\n",
    "function abs_star(g::StdBall)\n",
    "    x = abs_star(g.P) + Interval(0, g.G.hi) + Interval(-g.G.hi, g.G.hi)\n",
    "    Interval(max(0, x.lo), x.hi)\n",
    "end\n",
    "\n",
    "# function ball compose\n",
    "\n",
    "function (f::StdBall)(g::StdBall)\n",
    "    if ~(f.H == f.G == Interval(0)) && ~(abs(g) in Interval(0, 1))\n",
    "        error(\"composition not defined\")\n",
    "    end\n",
    "    ball_1 = f.P(g)\n",
    "    ball_3 = StdBall(zero(f.P), Interval(0), f.G)\n",
    "    g_norm = abs(g)^(N+1)\n",
    "    g_star_norm = abs_star(g)^(N+1)\n",
    "    ball_2 = StdBall(zero(f.P), f.H*g_star_norm, f.H*(g_norm - g_star_norm))\n",
    "    ball_1 + ball_2 + ball_3\n",
    "end\n",
    "\n",
    "function (f::StdBall)(g) #could be g::AbstractRigorousScalar\n",
    "    if ~(f.H == f.G == Interval(0)) && ~(abs(g) in Interval(0, 1))\n",
    "        error(\"composition not defined\")\n",
    "    end\n",
    "    g_norm = abs(g)^(N + 1)\n",
    "    r = f.H * g_norm + f.G\n",
    "    f.P(g) + Interval(-r.hi, r.hi)\n",
    "end\n",
    "\n",
    "# could absorb this into earlier definition\n",
    "#(t::Trunc)(x::StdBall) = sum(a*x^(k-1) for (k, a) in enumerate(t.coeffs))\n",
    "function (t::Trunc)(x::StdBall)\n",
    "    total = t.coeffs[N+1]*x + t.coeffs[N]\n",
    "    for k in N-1:-1:1\n",
    "        total = total*x + t.coeffs[k]\n",
    "    end\n",
    "    total\n",
    "end\n",
    "\n",
    "function diff_compose(f::StdBall, g::StdBall)\n",
    "    if (f.H.hi > 0 || f.G.hi > 0) && ~(abs(g) in Interval(0, 1))\n",
    "        error(\"diff composition not defined\")\n",
    "    end\n",
    "    ball_1 = diff(f.P)(g)\n",
    "    g_norm = abs(g)\n",
    "    if f.G == f.H == Interval(0)\n",
    "        norm_sup_H = norm_sup_G = 0\n",
    "    else\n",
    "        norm_sup_H = bound_quasi_power(N, g_norm)\n",
    "        norm_sup_G = bound_quasi_power(0, g_norm)\n",
    "    end\n",
    "    # some sacrifice is made here! absorbing into general term!\n",
    "    # an alternative is to absord into both high-order term and\n",
    "    # the final polynomial coefficient.\n",
    "    ball_2 = StdBall(zero(f.P), Interval(0), f.H * norm_sup_H)\n",
    "    ball_3 = StdBall(zero(f.P), Interval(0), f.G * norm_sup_G)\n",
    "    ball_1 + ball_2 + ball_3\n",
    "end\n",
    "\n",
    "diff_compose(f::StdBall, t::Trunc) = diff_compose(f, StdBall(t, 0, 0))\n",
    "\n",
    "function basis_element(b::StdBall, k::Integer)\n",
    "    if k <= N\n",
    "        return StdBall(Trunc(unit_vector(Interval, k)), 0, 0)\n",
    "    else\n",
    "        return StdBall(Trunc(fill(Interval(0), N+1)), 1, 0)\n",
    "    end\n",
    "end\n",
    "    \n",
    "end"
   ]
  },
  {
   "cell_type": "code",
   "execution_count": 26,
   "metadata": {},
   "outputs": [],
   "source": [
    "@everywhere begin\n",
    "\n",
    "struct Domain\n",
    "    c::Interval\n",
    "    r::Interval\n",
    "    Domain(c::Interval, r::Interval) = r.lo <= 0 ? error(\"domain radius\") : new(c, r)\n",
    "end\n",
    "\n",
    "in(z::Union{BigFloat, Interval}, d::Domain) = abs(z-d.c) < d.r\n",
    "in(z::Rectangle, d::Domain) = abs(z-Rectangle(d.c, 0)) < d.r\n",
    "(==)(d::Domain, e::Domain) = d.c==e.c && d.r==e.r\n",
    "    \n",
    "end"
   ]
  },
  {
   "cell_type": "code",
   "execution_count": 27,
   "metadata": {},
   "outputs": [],
   "source": [
    "@everywhere begin\n",
    "\n",
    "struct Ball\n",
    "    std::StdBall\n",
    "    dom::Domain\n",
    "end\n",
    "\n",
    "# negative\n",
    "(-)(f::Ball) = Ball(-f.std, f.dom)\n",
    "\n",
    "# scalar multiply\n",
    "(*)(f::Ball, i::Interval) = Ball(f.std*i, f.dom)\n",
    "(*)(i::Interval, f::Ball) = f*i\n",
    "(/)(f::Ball, i::Interval) = f*(1/i)\n",
    "\n",
    "(*)(f::Ball, a::Number) = f*Interval(a)\n",
    "(*)(a::Number, f::Ball) = f*a\n",
    "\n",
    "# ball add\n",
    "(+)(f::Ball, g::Ball) = f.dom == g.dom ? Ball(f.std+g.std, f.dom) : error(\"domain mismatch\")\n",
    "(-)(f::Ball, g::Ball) = f.dom == g.dom ? Ball(f.std-g.std, f.dom) : error(\"domain mismatch\")\n",
    "\n",
    "# scalar add\n",
    "(+)(f::Ball, a::Interval) = Ball(f.std+a, f.dom)\n",
    "(-)(f::Ball, a::Interval) = Ball(f.std-a, f.dom)\n",
    "\n",
    "# ball mul\n",
    "(*)(f::Ball, g::Ball) = f.dom == g.dom ? Ball(f.std*g.std, f.dom) : error(\"domain mismatich\")\n",
    "\n",
    "# ball pow\n",
    "(^)(f::Ball, n::Integer) = Ball(f.std^n, f.dom)\n",
    "\n",
    "# ball eval/compose\n",
    "(f::Ball)(i) = f.std((i - f.dom.c)/f.dom.r)\n",
    "(f::Ball)(g::Ball) = Ball(f.std((g.std - f.dom.c)/f.dom.r), g.dom)\n",
    "\n",
    "# diff_compose\n",
    "diff_compose(f::Ball, g::Ball) = Ball(diff_compose(f.std, (g.std - f.dom.c)/f.dom.r)/f.dom.r, g.dom)\n",
    "\n",
    "# allow differentiation for composition\n",
    "function diff(f::Ball)\n",
    "    df(g::Ball) = diff_compose(f, g)\n",
    "end\n",
    "\n",
    "# identity with respect to domain\n",
    "function identity(f::Ball)\n",
    "    coeffs = fill(Interval(0), N+1)\n",
    "    coeffs[1] = f.dom.c\n",
    "    coeffs[2] = f.dom.r\n",
    "    Ball(StdBall(Trunc(coeffs), Interval(0), Interval(0)), f.dom)\n",
    "end\n",
    "\n",
    "basis_element(f::Ball, k::Integer) = Ball(basis_element(f.std, k), f.dom)\n",
    "\n",
    "function Ball(p::Poly, h::Number, g::Number)\n",
    "    c, r = p.cr\n",
    "    dom = Domain(Interval(c), Interval(r))\n",
    "    t = Trunc(map(Interval, p.coeffs))\n",
    "    s = StdBall(t, h, g)\n",
    "    b = Ball(s, dom)\n",
    "end\n",
    "\n",
    "abs(b::Ball) = abs(b.std)\n",
    "\n",
    "function (m::Array{Interval, 2})(b::Ball, coeff_HH::Interval)\n",
    "    PP = m*b.std.P.coeffs\n",
    "    # assume all of G is in the polynomial part\n",
    "    PG = [hull(m[1+k,:])*balanced(b.std.G) for k in 0:N]\n",
    "    P = Trunc(PP + PG)\n",
    "    H = (b.std.H + b.std.G)*abs(coeff_HH)\n",
    "    G = Interval(0)\n",
    "    Ball(StdBall(P, H, G), b.dom)\n",
    "end\n",
    "    \n",
    "end"
   ]
  },
  {
   "cell_type": "code",
   "execution_count": 28,
   "metadata": {},
   "outputs": [],
   "source": [
    "@everywhere dom = Domain(Interval(c), Interval(r))"
   ]
  },
  {
   "cell_type": "code",
   "execution_count": 29,
   "metadata": {},
   "outputs": [],
   "source": [
    "@everywhere I = eye(BigFloat, N+1);"
   ]
  },
  {
   "cell_type": "code",
   "execution_count": null,
   "metadata": {
    "scrolled": false
   },
   "outputs": [],
   "source": [
    "@everywhere Lambda_pp = map(Interval, inv(J-I))"
   ]
  },
  {
   "cell_type": "code",
   "execution_count": 30,
   "metadata": {},
   "outputs": [],
   "source": [
    "@everywhere begin\n",
    "\n",
    "function gauss(A_::Matrix)\n",
    "    A = copy(A_)      \n",
    "    m, n = size(A)\n",
    "    @assert m <= n\n",
    "\n",
    "    for k in 1:m\n",
    "        \n",
    "        # seek largest nonzero A[j,k] across j\n",
    "        best, abs_best = k, abs(A[k,k])\n",
    "        for i in k+1:m\n",
    "            if abs(A[i,k]) > abs_best\n",
    "                best, abs_best = i, abs(A[i,k])\n",
    "            end\n",
    "        end\n",
    "\n",
    "        # swap rows to position pivot\n",
    "        A[k,:], A[best,:] = A[best,:], A[k,:]\n",
    "\n",
    "        # divide row by pivot\n",
    "        pivot = A[k,k]\n",
    "        for j in k:n\n",
    "            A[k,j] /= pivot\n",
    "        end\n",
    "\n",
    "        # clear zeros above and below\n",
    "        for k_that in 1:m\n",
    "            if k_that != k\n",
    "                ratio = A[k_that,k]/A[k,k]\n",
    "                for j in k:n\n",
    "                    A[k_that,j] -= ratio*A[k,j]\n",
    "                end\n",
    "            end\n",
    "        end\n",
    "    end\n",
    "    A\n",
    "end\n",
    "\n",
    "#invert(A::Matrix) = gauss(hcat(A, eye(typeof(A[1,1]), size(A)[1])))[:,size(A)[2]+1:end]\n",
    "    \n",
    "end"
   ]
  },
  {
   "cell_type": "code",
   "execution_count": null,
   "metadata": {},
   "outputs": [],
   "source": [
    "# success here means that Lambda_pp, and hence Lambda itself,\n",
    "# is invertible.\n",
    "#@everywhere Lambda_pp_inv = invert(Lambda_pp);"
   ]
  },
  {
   "cell_type": "code",
   "execution_count": null,
   "metadata": {},
   "outputs": [],
   "source": [
    "@everywhere function Phi(b0::Ball, Lambda_pp::Array{Interval, 2})\n",
    "    Tb0, DTb0 = T_and_DT(b0)\n",
    "    Phib0 = b0 - Lambda_pp(Tb0-b0, Interval(1))\n",
    "end"
   ]
  },
  {
   "cell_type": "code",
   "execution_count": null,
   "metadata": {
    "scrolled": false
   },
   "outputs": [],
   "source": [
    "B0 = Ball(gn, 0, 0);"
   ]
  },
  {
   "cell_type": "code",
   "execution_count": null,
   "metadata": {},
   "outputs": [],
   "source": [
    "@time Phi_B0 = Phi(B0, Lambda_pp);"
   ]
  },
  {
   "cell_type": "code",
   "execution_count": null,
   "metadata": {},
   "outputs": [],
   "source": [
    "epsilon = abs(Phi_B0-B0)"
   ]
  },
  {
   "cell_type": "code",
   "execution_count": null,
   "metadata": {},
   "outputs": [],
   "source": [
    "rho_log10 = Int(round(0.5+log10(epsilon.hi)))\n",
    "rho = BigFloat(10)^rho_log10"
   ]
  },
  {
   "cell_type": "code",
   "execution_count": null,
   "metadata": {},
   "outputs": [],
   "source": [
    "B1 = Ball(gn, 0, rho);"
   ]
  },
  {
   "cell_type": "code",
   "execution_count": null,
   "metadata": {},
   "outputs": [],
   "source": [
    "open(f -> serialize(f, B0), \"$(prefix)b0.jls\", \"w\")\n",
    "open(f -> serialize(f, B1), \"$(prefix)b1.jls\", \"w\")"
   ]
  },
  {
   "cell_type": "code",
   "execution_count": 31,
   "metadata": {},
   "outputs": [],
   "source": [
    "@everywhere begin\n",
    "    \n",
    "B0 = open(deserialize, \"$(prefix)b0.jls\")\n",
    "B1 = open(deserialize, \"$(prefix)b1.jls\")\n",
    "rho = B1.std.G.hi\n",
    "    \n",
    "end"
   ]
  },
  {
   "cell_type": "code",
   "execution_count": 32,
   "metadata": {},
   "outputs": [
    {
     "data": {
      "text/plain": [
       "Interval(-0.591609916634438150139624354381628953790222989190755829639056260808270161100244446553096873115967184310352141800643269743863723893120682882077993159616240925941154305296427613470988293992687049157795888740837617014543740480908521768119211417071117114253308242100970358064226008483432870801647846778564398048615541389043671, -0.591609916634438150139624354381628953790222989190755829639056260808270161100244446553096873115967184310352141800643269743863723893120682882077993159616240925941154305296427613470988293992687049157795888740837617014543740480908521768119211417071117094253308242100970358064226008483432870801647846778564398048615541389043629)"
      ]
     },
     "execution_count": 32,
     "metadata": {},
     "output_type": "execute_result"
    }
   ],
   "source": [
    "@everywhere psi(x) = (x-B1.dom.c)/B1.dom.r\n",
    "a = B1(Interval(1))"
   ]
  },
  {
   "cell_type": "code",
   "execution_count": null,
   "metadata": {},
   "outputs": [],
   "source": [
    "@everywhere begin\n",
    "T_B1, DT_B1 = T_and_DT(B1)\n",
    "end"
   ]
  },
  {
   "cell_type": "code",
   "execution_count": null,
   "metadata": {},
   "outputs": [],
   "source": [
    "dB_H = basis_element(B1, N+1)\n",
    "DPhi_B1_dB_H = -Lambda_pp(DT_B1(dB_H), Interval(1))\n",
    "norm_H = abs(DPhi_B1_dB_H)"
   ]
  },
  {
   "cell_type": "code",
   "execution_count": 33,
   "metadata": {},
   "outputs": [],
   "source": [
    "@everywhere E = [basis_element(B1, k) for k in 0:N+1];"
   ]
  },
  {
   "cell_type": "code",
   "execution_count": null,
   "metadata": {},
   "outputs": [],
   "source": [
    "# Precompute DT(B^1)(E_k) for all basis vectors, E_k.\n",
    "@time DT_B1_E = pmap(DT_B1, E);"
   ]
  },
  {
   "cell_type": "code",
   "execution_count": null,
   "metadata": {},
   "outputs": [],
   "source": [
    "open(f -> serialize(f, DT_B1_E), \"$(prefix)DT_B1_E.jls\", \"w\")"
   ]
  },
  {
   "cell_type": "code",
   "execution_count": 34,
   "metadata": {},
   "outputs": [],
   "source": [
    "@everywhere begin\n",
    "\n",
    "DT_B1_E = open(deserialize, \"$(prefix)DT_B1_E.jls\")\n",
    "    \n",
    "function bound_kappa_naively(k::Int)\n",
    "    DPhi_B1_E_k = E[k] - Lambda_pp(DT_B1_E[k]-E[k], Interval(1))\n",
    "    norm = abs(DPhi_B1_E_k)\n",
    "end\n",
    "\n",
    "end"
   ]
  },
  {
   "cell_type": "code",
   "execution_count": null,
   "metadata": {},
   "outputs": [],
   "source": [
    "@time norms = pmap(bound_kappa_naively, [k for k in 1:N+2])"
   ]
  },
  {
   "cell_type": "code",
   "execution_count": null,
   "metadata": {},
   "outputs": [],
   "source": [
    "norms[end] = norm_H\n",
    "kappa = hull(norms).hi"
   ]
  },
  {
   "cell_type": "code",
   "execution_count": null,
   "metadata": {},
   "outputs": [],
   "source": [
    "Phi_is_contractive = kappa < BigFloat(1)"
   ]
  },
  {
   "cell_type": "code",
   "execution_count": null,
   "metadata": {},
   "outputs": [],
   "source": [
    "fixed_point_exists = epsilon < rho*(Interval(1)-kappa)"
   ]
  },
  {
   "cell_type": "code",
   "execution_count": null,
   "metadata": {
    "scrolled": false
   },
   "outputs": [],
   "source": [
    "println(\"Parameters:\")\n",
    "println(\"Power                     = $d\")\n",
    "println(\"Domain centre             = $c\")\n",
    "println(\"Domain radius             = $r\")\n",
    "println(\"Term G^u_0 (approx)       = $(gn.coeffs[1])\")\n",
    "println(\"Degree (reduced)          = $N\")\n",
    "println(\"Degree (original)         = $(N*d)\")\n",
    "println(\"Floating point type       = $(BigFloat)\")\n",
    "println(\"Precision (digits approx) = $P\")\n",
    "println(\"Precision (bits)          = $(precision(BigFloat))\")\n",
    "println()\n",
    "println(\"Bounds:\")\n",
    "println(\"epsilon       = $(epsilon.hi)\")\n",
    "println(\"rho           = $rho\")\n",
    "#println(\"composition1  = $(norm1.hi)\")\n",
    "#println(\"composition2  = $(norm2.hi)\")\n",
    "println(\"kappa         = $kappa.hi\")\n",
    "println(\"rho*(1-kappa) = $((rho*(Interval(1)-kappa)).lo)\")\n",
    "println()\n",
    "println(\"Conclusions:\")\n",
    "#println(\"proved domain extension   = $domain_extension\")\n",
    "println(\"proved phi is contractive = $Phi_is_contractive\")\n",
    "println(\"proved fixed point exists = $fixed_point_exists\")\n",
    "if fixed_point_exists\n",
    "    println()\n",
    "    println(\"Constants:\")\n",
    "    println(\"a = g(1)       = $(B1(1))\")\n",
    "    println(\"alpha = 1/g(1) = $(1/B1(1))\")\n",
    "end\n",
    "println(\"Processors: 1+$(length(procs))\")"
   ]
  },
  {
   "cell_type": "code",
   "execution_count": null,
   "metadata": {},
   "outputs": [],
   "source": [
    "open(f -> serialize(f, [epsilon, rho, kappa]), \"$(prefix)erk.jls\", \"w\")"
   ]
  },
  {
   "cell_type": "code",
   "execution_count": null,
   "metadata": {},
   "outputs": [],
   "source": [
    "# now we must decide what to do with the high-order\n",
    "# and general bounds we could take each general\n",
    "# bound [0, g] and add [-g, g] to every polynomial\n",
    "# term for the high-order bound [0, h] we form\n",
    "# [-h, h]+[-g, g].  in this way we form what i call\n",
    "# the augmented matrix $M$\n",
    "\n",
    "M_aug = [Interval(0) for j in 1:N+2, k in 1:N+2]\n",
    "\n",
    "for k in 1:N+2\n",
    "    b_H = balanced(DT_B1_E[k].std.H)\n",
    "    b_G = balanced(DT_B1_E[k].std.G)\n",
    "    for j in 1:N+1\n",
    "        M_aug[j,k] = DT_B1_E[k].std.P.coeffs[j] + b_G\n",
    "    end\n",
    "    M_aug[N+2,k] = b_H + b_G\n",
    "end\n",
    "M_aug;\n",
    "\n",
    "# ignoring the high-order parts yields the so-called PP matrix\n",
    "M_PP = M_aug[1:N+1,1:N+1];"
   ]
  },
  {
   "cell_type": "code",
   "execution_count": null,
   "metadata": {},
   "outputs": [],
   "source": [
    "# we now find approximate eigvenvalues and vectors of the PP matrix"
   ]
  },
  {
   "cell_type": "code",
   "execution_count": null,
   "metadata": {},
   "outputs": [],
   "source": [
    "using GenericSchur\n",
    "\n",
    "M_approx = map(i -> i.lo, M_PP)\n",
    "@time vals_rev, vecs_rev = GenericSchur.eigen(M_approx);"
   ]
  },
  {
   "cell_type": "code",
   "execution_count": null,
   "metadata": {},
   "outputs": [],
   "source": [
    "vals = reverse(vals_rev)"
   ]
  },
  {
   "cell_type": "code",
   "execution_count": null,
   "metadata": {},
   "outputs": [],
   "source": [
    "open(f -> serialize(f, vals), \"$(prefix)val.jls\", \"w\")"
   ]
  },
  {
   "cell_type": "code",
   "execution_count": null,
   "metadata": {},
   "outputs": [],
   "source": [
    "vecs_rev_re = map(x->BigFloat(x), vecs_rev)\n",
    "vecs = vecs_rev_re[1:N+1,N+1:-1:1];"
   ]
  },
  {
   "cell_type": "code",
   "execution_count": null,
   "metadata": {},
   "outputs": [],
   "source": [
    "normalised_T = [vecs[:,k]/sum(map(abs, vecs[:,k])) for k in 1:N+1]\n",
    "vecs = [normalised_T[k][j] for j in 1:N+1, k in 1:N+1];"
   ]
  },
  {
   "cell_type": "code",
   "execution_count": null,
   "metadata": {},
   "outputs": [],
   "source": [
    "eigen_error = sum(map(abs, M_PP*vecs[:,1] - vals[1]*vecs[:,1]))"
   ]
  },
  {
   "cell_type": "code",
   "execution_count": 35,
   "metadata": {},
   "outputs": [],
   "source": [
    "@everywhere begin\n",
    "\n",
    "span(i::Interval) = Interval(0, (i-i).hi)\n",
    "\n",
    "phi(p::Poly) = p.coeffs[1]\n",
    "phi(b::Ball) = b.std.P.coeffs[1] + balanced(b.std.G)\n",
    "    \n",
    "end"
   ]
  },
  {
   "cell_type": "code",
   "execution_count": null,
   "metadata": {},
   "outputs": [],
   "source": [
    "phi(B0)"
   ]
  },
  {
   "cell_type": "code",
   "execution_count": null,
   "metadata": {},
   "outputs": [],
   "source": [
    "span(phi(B0))"
   ]
  },
  {
   "cell_type": "code",
   "execution_count": null,
   "metadata": {},
   "outputs": [],
   "source": [
    "phi(B1)"
   ]
  },
  {
   "cell_type": "code",
   "execution_count": null,
   "metadata": {},
   "outputs": [],
   "source": [
    "span(phi(B1))"
   ]
  },
  {
   "cell_type": "code",
   "execution_count": null,
   "metadata": {},
   "outputs": [],
   "source": [
    "i = 2\n",
    "val_approx = vals[i]\n",
    "vec_approx = vecs[1:end,i]\n",
    "\n",
    "# normalize properly\n",
    "f0_poly_coeffs = vec_approx/vec_approx[1]*val_approx.re\n",
    "f0_poly_coeffs[1]"
   ]
  },
  {
   "cell_type": "code",
   "execution_count": null,
   "metadata": {},
   "outputs": [],
   "source": [
    "f0_poly = Poly(f0_poly_coeffs, (c, r))"
   ]
  },
  {
   "cell_type": "code",
   "execution_count": null,
   "metadata": {},
   "outputs": [],
   "source": [
    "abs(DTgn(f0_poly)-f0_poly*vals[i].re)\n",
    "\n",
    "#computation dies here.\n",
    "#error is at the minus, but\n",
    "#likely the error is DTgn not being in scope?\n",
    "#but this is non-rigorous check\n",
    "#however we need DTgn later?\n",
    "\n",
    "#the error appears to be from - domain mismatch.\n",
    "#let's check the domains next."
   ]
  },
  {
   "cell_type": "code",
   "execution_count": 36,
   "metadata": {},
   "outputs": [],
   "source": [
    "@everywhere begin\n",
    "    \n",
    "function newtonstep2(p::Poly)\n",
    "    Fp = DTgn(p) - p.coeffs[1]*p\n",
    "    Z = [BigFloat(0) for j in 1:N+1,k in 1:N+1]\n",
    "    for j in 1:N+1\n",
    "        for k in 1:N+1\n",
    "            if k == 1\n",
    "                Z[j, k] += p.coeffs[j]\n",
    "            end\n",
    "            if j == k\n",
    "                Z[j, k] += p.coeffs[1]\n",
    "            end\n",
    "        end\n",
    "    end\n",
    "    q = Poly(p.coeffs - inv(J-Z)*Fp.coeffs, p.cr)\n",
    "    q, abs(Fp)\n",
    "end\n",
    "\n",
    "function newton2(p0::Poly, n::Integer)\n",
    "    prev_error = BigFloat(10)^10\n",
    "    for k in 1:n\n",
    "        p1, error = newtonstep2(p0)\n",
    "        if error < prev_error\n",
    "            println(\"$k: $error\")\n",
    "            p0 = p1\n",
    "            prev_error = error\n",
    "        else\n",
    "            break\n",
    "        end\n",
    "    end\n",
    "    p0\n",
    "end\n",
    "    \n",
    "end"
   ]
  },
  {
   "cell_type": "code",
   "execution_count": null,
   "metadata": {},
   "outputs": [],
   "source": [
    "@time fn = newton2(f0_poly, 20);"
   ]
  },
  {
   "cell_type": "code",
   "execution_count": null,
   "metadata": {},
   "outputs": [],
   "source": [
    "@time Delta_PP = matrix_elements(DTgn, poly_basis);"
   ]
  },
  {
   "cell_type": "code",
   "execution_count": null,
   "metadata": {},
   "outputs": [],
   "source": [
    "Delta_mod = [BigFloat(0) for j in 1:N+1,k in 1:N+1]\n",
    "for j in 1:N+1\n",
    "    for k in 1:N+1\n",
    "        Delta_mod[j,k] = Delta_PP[j,k]\n",
    "        if k == 1\n",
    "            Delta_mod[j,k] = Delta_mod[j,k] - fn.coeffs[j]\n",
    "        end\n",
    "        if j == k\n",
    "            Delta_mod[j,k] = Delta_mod[j,k] - fn.coeffs[1]\n",
    "        end\n",
    "    end\n",
    "end\n",
    "Delta_mod;"
   ]
  },
  {
   "cell_type": "code",
   "execution_count": null,
   "metadata": {},
   "outputs": [],
   "source": [
    "L_pp = map(Interval, inv(Delta_mod));\n",
    "\n",
    "# now we check that the resulting interval matrix is invertible\n",
    "#@time invert(L_pp);"
   ]
  },
  {
   "cell_type": "code",
   "execution_count": null,
   "metadata": {},
   "outputs": [],
   "source": [
    "V0 = Ball(StdBall(Trunc(map(Interval, fn.coeffs)), BigFloat(0), BigFloat(0)), dom);"
   ]
  },
  {
   "cell_type": "code",
   "execution_count": null,
   "metadata": {},
   "outputs": [],
   "source": [
    "eigenfunction_error = abs(V0*phi(V0) - DT_B1(V0))"
   ]
  },
  {
   "cell_type": "code",
   "execution_count": null,
   "metadata": {},
   "outputs": [],
   "source": [
    "V0.dom == B1.dom"
   ]
  },
  {
   "cell_type": "code",
   "execution_count": null,
   "metadata": {},
   "outputs": [],
   "source": [
    "open(f -> serialize(f, L_pp), \"$(prefix)L_pp.jls\", \"w\")\n",
    "open(f -> serialize(f, V0), \"$(prefix)V0.jls\", \"w\")"
   ]
  },
  {
   "cell_type": "code",
   "execution_count": 37,
   "metadata": {},
   "outputs": [],
   "source": [
    "@everywhere begin\n",
    "\n",
    "L_pp = open(deserialize, \"$(prefix)L_pp.jls\")\n",
    "V0 = open(deserialize, \"$(prefix)V0.jls\")\n",
    "    \n",
    "function Psi(v::Ball, L_pp::Array{Interval, 2})\n",
    "    Psi_v = v - L_pp(DT_B1(v)-v*phi(v), -Interval(1)/V0.std.P.coeffs[1])\n",
    "end\n",
    "    \n",
    "end"
   ]
  },
  {
   "cell_type": "code",
   "execution_count": null,
   "metadata": {},
   "outputs": [],
   "source": [
    "@time epsilon_hat = abs(Psi(V0, L_pp)-V0)"
   ]
  },
  {
   "cell_type": "code",
   "execution_count": null,
   "metadata": {},
   "outputs": [],
   "source": [
    "rho_hat = BigFloat(10)^Int(round(0.5+log10(epsilon_hat.hi)))"
   ]
  },
  {
   "cell_type": "code",
   "execution_count": null,
   "metadata": {},
   "outputs": [],
   "source": [
    "V1 = Ball(fn, 0, rho_hat);"
   ]
  },
  {
   "cell_type": "code",
   "execution_count": null,
   "metadata": {},
   "outputs": [],
   "source": [
    "open(f -> serialize(f, V1), \"$(prefix)V1.jls\", \"w\")"
   ]
  },
  {
   "cell_type": "code",
   "execution_count": null,
   "metadata": {},
   "outputs": [],
   "source": [
    "println(phi(V1).lo)\n",
    "println(phi(V1).hi)\n",
    "println(1+rho_hat)"
   ]
  },
  {
   "cell_type": "code",
   "execution_count": null,
   "metadata": {},
   "outputs": [],
   "source": [
    "rho_hat"
   ]
  },
  {
   "cell_type": "code",
   "execution_count": 38,
   "metadata": {},
   "outputs": [],
   "source": [
    "@everywhere begin\n",
    "    \n",
    "V1 = open(deserialize, \"$(prefix)V1.jls\")\n",
    "\n",
    "function DPsi(b::Ball, L_pp::Array{Interval, 2})\n",
    "    function DPsi_b(db::Ball)\n",
    "        DF = DTb1(db)-phi(b)*db-phi(db)*b\n",
    "        DPsi_b_db = db - L_pp(DF, -Interval(1)/phi(V0))\n",
    "    end\n",
    "    DPsi_b\n",
    "end\n",
    "\n",
    "function bound_kappa_hat_naively(k::Int)\n",
    "    b = V1\n",
    "    DPsi_b_es_k = E[k] - L_pp(DT_B1_E[k]-phi(b)*E[k]-phi(E[k])*b, -Interval(1)/phi(V0))\n",
    "    norm = abs(DPsi_b_es_k)\n",
    "end\n",
    "    \n",
    "end"
   ]
  },
  {
   "cell_type": "code",
   "execution_count": null,
   "metadata": {},
   "outputs": [],
   "source": [
    "EH = basis_element(V1, N+1)\n",
    "DT_G_EH = DT_B1(EH)\n",
    "DPsi_V1_EH = (Interval(1)-phi(V1)/phi(V0))*EH -L_pp(DT_G_EH, -Interval(1)/phi(V0))\n",
    "norm_H = abs(DPsi_V1_EH)"
   ]
  },
  {
   "cell_type": "code",
   "execution_count": null,
   "metadata": {},
   "outputs": [],
   "source": [
    "@time norms_v = pmap(bound_kappa_hat_naively, [k for k in 1:N+2])"
   ]
  },
  {
   "cell_type": "code",
   "execution_count": null,
   "metadata": {},
   "outputs": [],
   "source": [
    "norms_v[end] = norm_H\n",
    "kappa_hat = hull(norms_v)"
   ]
  },
  {
   "cell_type": "code",
   "execution_count": null,
   "metadata": {},
   "outputs": [],
   "source": [
    "epsilon_hat < rho_hat*(Interval(1)-kappa_hat)"
   ]
  },
  {
   "cell_type": "code",
   "execution_count": null,
   "metadata": {},
   "outputs": [],
   "source": [
    "epsilon_hat"
   ]
  },
  {
   "cell_type": "code",
   "execution_count": null,
   "metadata": {},
   "outputs": [],
   "source": [
    "rho_hat*(Interval(1)-kappa_hat)"
   ]
  },
  {
   "cell_type": "code",
   "execution_count": null,
   "metadata": {},
   "outputs": [],
   "source": [
    "println(phi(V1).lo)\n",
    "println(phi(V1).hi)\n",
    "println(1+rho_hat)"
   ]
  },
  {
   "cell_type": "markdown",
   "metadata": {},
   "source": [
    "# Critical scaling of additive noise"
   ]
  },
  {
   "cell_type": "code",
   "execution_count": 39,
   "metadata": {},
   "outputs": [],
   "source": [
    "@everywhere function make_noise_functions(G)\n",
    "    \n",
    "    a = G(1)\n",
    "    \n",
    "    X = identity(G)\n",
    "    XQa = X*Q(a)\n",
    "    GXQa = G(XQa)\n",
    "    QGXQa = Q(GXQa)\n",
    "    GQGXQa = G(QGXQa)\n",
    "    \n",
    "    Gdash = diff(G)\n",
    "    GdashQa = Gdash(XQa)\n",
    "    GdashQGXQa = Gdash(QGXQa)\n",
    "    \n",
    "    t2 = (1/a^2)\n",
    "    t3 = ((1/a)*GdashQGXQa*Qdash(GXQa))^2\n",
    "    \n",
    "    function T_noise(H)\n",
    "        term2 = t2*H(QGXQa)\n",
    "        term3 = t3*H(XQa)\n",
    "        lhs = term2 + term3\n",
    "        return lhs\n",
    "    end\n",
    "\n",
    "    function DT_noise(H)\n",
    "        function DT_noise_H(K)\n",
    "            term2 = t2*K(QGXQa)\n",
    "            term3 = t3*K(XQa)\n",
    "            lhs = term2 + term3\n",
    "            return lhs\n",
    "        end\n",
    "        return DT_noise_H\n",
    "    end\n",
    "\n",
    "    function F_noise(H)\n",
    "        lhs = T_noise(H)\n",
    "        rhs = phi(H)^2*H\n",
    "        return lhs - rhs\n",
    "    end\n",
    "    \n",
    "    function DF_noise(H)\n",
    "        function DF_noise_H(K)\n",
    "            term2 = t2*K(QGXQa)\n",
    "            term3 = t3*K(XQa)\n",
    "            lhs = term2 + term3\n",
    "            rhs = 2*phi(H)*phi(K)*H + phi(H)^2*K\n",
    "            return lhs - rhs\n",
    "        end\n",
    "        return DF_noise_H\n",
    "    end\n",
    "    \n",
    "    return T_noise, DT_noise, F_noise, DF_noise\n",
    "end"
   ]
  },
  {
   "cell_type": "code",
   "execution_count": 40,
   "metadata": {},
   "outputs": [
    {
     "data": {
      "text/plain": [
       "(T_noise, DT_noise, F_noise, DF_noise)"
      ]
     },
     "execution_count": 40,
     "metadata": {},
     "output_type": "execute_result"
    }
   ],
   "source": [
    "T_noise, DT_noise, F_noise, DF_noise = make_noise_functions(gn)"
   ]
  },
  {
   "cell_type": "code",
   "execution_count": 41,
   "metadata": {},
   "outputs": [
    {
     "data": {
      "text/plain": [
       "newton3 (generic function with 1 method)"
      ]
     },
     "execution_count": 41,
     "metadata": {},
     "output_type": "execute_result"
    }
   ],
   "source": [
    "function newtonstep3(p::Poly)\n",
    "    F_noise_p = F_noise(p)\n",
    "    \n",
    "    DF_noise_p = DF_noise(p)\n",
    "    Gamma_noise_inv = matrix_elements(DF_noise_p, poly_basis);\n",
    "    \n",
    "    q = Poly(p.coeffs - inv(Gamma_noise_inv)*F_noise_p.coeffs, p.cr)\n",
    "    q, abs(F_noise_p)\n",
    "end\n",
    "\n",
    "function newton3(p0::Poly, n::Integer)\n",
    "    basis = [basis_element(p0, k) for k in 0:N]\n",
    "    prev_error = BigFloat(10)^10\n",
    "    for k in 1:n\n",
    "        p1, error = newtonstep3(p0)\n",
    "        if error < prev_error\n",
    "            println(\"$k: $error\")\n",
    "            p0 = p1\n",
    "            prev_error = error\n",
    "        else\n",
    "            break\n",
    "        end\n",
    "    end\n",
    "    p0\n",
    "end"
   ]
  },
  {
   "cell_type": "code",
   "execution_count": 42,
   "metadata": {},
   "outputs": [
    {
     "data": {
      "text/plain": [
       "10-element Array{BigFloat,1}:\n",
       "  8.243910854252586517532108700834214687347412109375         \n",
       " -6.0314979598335032306977154803462326526641845703125        \n",
       " -0.9990655744053247300229259053594432771205902099609375     \n",
       "  2.63653972143580350717684268602170050144195556640625       \n",
       " -0.8139325509983177386885699888807721436023712158203125     \n",
       " -0.29165019972945838144795516200247220695018768310546875    \n",
       "  0.27455204544220934703702141632675193250179290771484375    \n",
       " -0.046298278368911614799596776492762728594243526458740234375\n",
       " -0.03003398317265670858233761464362032711505889892578125    \n",
       "  0.017474018792551150591751962792841368354856967926025390625"
      ]
     },
     "execution_count": 42,
     "metadata": {},
     "output_type": "execute_result"
    }
   ],
   "source": [
    "v_noise_coeffs = BigFloat[8.2439108542525868183984625308166, -6.0314979598335030543896628404458, -0.99906557440532477623573316007567, 2.6365397214358035500680010442941, -0.81393255099831777701118943916041, -0.2916501997294583937683387447899, 0.27455204544220932923048986000544, -0.04629827836891161318089224352731, -0.03003398317265670879893203510508, 0.017474018792551148952490914683149]"
   ]
  },
  {
   "cell_type": "code",
   "execution_count": 43,
   "metadata": {},
   "outputs": [
    {
     "data": {
      "text/plain": [
       "(10.9621005673414116003563562277573216712884357581514427277456736817273785788984241662546992301940917968749999999999999999999999999999999999999999999999999999999999999999999999999999999999999999999999999999999999999999999999999999999999999999999999999999999999999999999999999999999999999999999999999999999999999999999999999, 8.243910854252586517532108700834214687347412109375)"
      ]
     },
     "execution_count": 43,
     "metadata": {},
     "output_type": "execute_result"
    }
   ],
   "source": [
    "v_noise_0 = Poly([k <= length(v_noise_coeffs) ? v_noise_coeffs[k] : BigFloat(0) for k in 1:N+1], (c, r))\n",
    "v_noise_0(0), phi(v_noise_0)"
   ]
  },
  {
   "cell_type": "code",
   "execution_count": 44,
   "metadata": {},
   "outputs": [
    {
     "name": "stdout",
     "output_type": "stream",
     "text": [
      "1: 0.454837852395630709055392316170017424365370838090626425442378484986421392888101590157702013471394976248536888100966475027354248487049574149648397655044528568077420885254541326407061093557896689706439557584621156447035135178729270991428213998447054650659537584767416781363347972429224951044249083180787764848580046396221107\n",
      "2: 3.30375516301673304367710704074673438310699703412850107608948296582697205803669644188977790017236431680902165408619024907697159348978324721724765452969188831928178219004392681682909830696128385020787988563150751759989399022598458659248161343420693223921448422444043791265480675346377056457809677909089152332250178404139053e-17\n",
      "3: 2.47464309052560811945442001253620403794582969455250517501272320019516790910696459983913945253463871063253789409375715993564804624412909551582059869445457058795997827092343572250263201358797291862159687321914826567894854213825842821956999409427397990077091432937362174618583885578658236887746670079687003463349571225450018e-37\n",
      "4: 2.33850743202515871184808543284403426450643732755557625254405625668248720148024938836778894610298057497385636317146735352728183172574646419996608755058775112703818372667147082961174173630932421278835273802973641604225152129742647008806626185833384210205912024835491230293117350960817146171858696100105723912691793576319731e-77\n",
      "5: 2.5342053895422503012874138863569002779775990406102407696756379666034271390593801025206261898479519513299122010054972152242686429923653966056966889510388859853152449141282606799195502055972703680700236956525270026764235358036592680737172022334725875653225360901527291031795721560241208129120460885774622494446665327120109e-157\n",
      "6: 5.35085546738481069993791595401442283225858159436907993024449574733223737084534744425924842678056922204100774635238902578847769983737469300166910255563372220426527594218981773888902314762265824563148253727963096292865165249318245829256839858305673216704057602419404326810209269806691651301931812919152412508511118319196027e-317\n",
      "7: 8.50400183380139596178093888321695449278909978520366093032817286084600321890907715893804688531813988843505129276538148491580979371277868267852566139082972195093375717043301473468965396337220318532040189703082369877237269736181242953789769012072588027183487323258300033599169059596826730458099441618138780314188888087553738e-318\n",
      "8: 4.24507388194862176095814917904927506291857384413006605967837498867392212274496523945876317327446562234430490845346720572344391240447092601680000308409760453234084046087562082550295986627827862677929553876359819583147472948931388143762731304738353093324879813945922612779074493750677906409354885745057358800274929438493423e-320\n",
      "9: 4.11069011003950016754050730895913713358734789919985545010793149423029208004612676061911658101653683696308739664003273973857154550351981533316373974472102593357655645345838179618693118339385881427808482964907840798657241853490510754852187195348656473185503996560960219688123491367617610248471553892749639536883232251301275e-320\n",
      "10: 4.11068987259079921848327309902627262782904320954629549920670816661599334080230925348874843273450561048739727345986327847284202937387796098213773394647887104948850362600165378388856530749830642666158162532974304443574743661556378346063806413591051887085443468111661591731862684512737177303264107001504156990360663885185169e-320\n",
      "11: 4.11068794142694228607278127029827061940850292833582334707373375011167421394819430882221368685521629826646112817169755091725495166618638727699224833821127041972471990163179445581633280037292458146719638820320614559079585228144445893069674724860001384918111806504887462036039061695749707489465192666556428774092981150440806e-320\n"
     ]
    }
   ],
   "source": [
    "v_noise_n = newton3(v_noise_0, 20);"
   ]
  },
  {
   "cell_type": "code",
   "execution_count": 45,
   "metadata": {},
   "outputs": [],
   "source": [
    "open(f -> serialize(f, v_noise_n), \"$(prefix)noise_n.jls\", \"w\")\n",
    "\n",
    "@everywhere v_noise_n = deserialize(\"$(prefix)noise_n.jls\")"
   ]
  },
  {
   "cell_type": "code",
   "execution_count": 46,
   "metadata": {},
   "outputs": [
    {
     "data": {
      "text/plain": [
       "8.24391085425258681839846236502923761606731776662405840926219256825653663924142562689964204720757842422300873689832234963510717328253743947119166688892324018278114543435570594770800377985238316683467659857290704875987642458476648182567707405595689842976849327088118449196788121462757670908015117705258032330416064898594114"
      ]
     },
     "execution_count": 46,
     "metadata": {},
     "output_type": "execute_result"
    }
   ],
   "source": [
    "phi(v_noise_n)"
   ]
  },
  {
   "cell_type": "code",
   "execution_count": 47,
   "metadata": {},
   "outputs": [
    {
     "name": "stdout",
     "output_type": "stream",
     "text": [
      "2183.053496 seconds (12.57 M allocations: 473.218 MiB, 0.01% gc time)\n"
     ]
    }
   ],
   "source": [
    "@time Lambda_PP_inv_noise = matrix_elements(DF_noise(v_noise_n), poly_basis);"
   ]
  },
  {
   "cell_type": "code",
   "execution_count": 48,
   "metadata": {},
   "outputs": [
    {
     "name": "stdout",
     "output_type": "stream",
     "text": [
      " 53.065379 seconds (593.41 M allocations: 57.462 GiB, 14.25% gc time)\n"
     ]
    }
   ],
   "source": [
    "@time Lambda_PP_noise = map(Interval, inv(Lambda_PP_inv_noise));"
   ]
  },
  {
   "cell_type": "code",
   "execution_count": 49,
   "metadata": {},
   "outputs": [],
   "source": [
    "open(f -> serialize(f, Lambda_PP_noise), \"$(prefix)Lambda_PP_noise.jls\", \"w\")\n",
    "\n",
    "@everywhere begin\n",
    "Lambda_PP_noise = deserialize(\"$(prefix)Lambda_PP_noise.jls\");\n",
    "end"
   ]
  },
  {
   "cell_type": "code",
   "execution_count": 50,
   "metadata": {},
   "outputs": [],
   "source": [
    "#@time Lambda_PP_noise_inv_check = inv(Lambda_PP_noise);"
   ]
  },
  {
   "cell_type": "code",
   "execution_count": null,
   "metadata": {},
   "outputs": [],
   "source": [
    "@everywhere begin\n",
    "    \n",
    "T_noise, DT_noise, F_noise, DF_noise = make_noise_functions(B1)\n",
    "\n",
    "function Phi_noise(b::Ball)\n",
    "    b - Lambda_PP_noise(F_noise(b), -1/phi(b)^2)\n",
    "end\n",
    "    \n",
    "end"
   ]
  },
  {
   "cell_type": "code",
   "execution_count": 52,
   "metadata": {},
   "outputs": [],
   "source": [
    "B0_noise = Ball(v_noise_n, BigFloat(0), BigFloat(0));"
   ]
  },
  {
   "cell_type": "code",
   "execution_count": 53,
   "metadata": {},
   "outputs": [
    {
     "name": "stdout",
     "output_type": "stream",
     "text": [
      "433.196371 seconds (7.59 G allocations: 705.015 GiB, 19.19% gc time)\n"
     ]
    },
    {
     "data": {
      "text/plain": [
       "Interval(0.0, 5.30557574029653007784375492872222769234313569654218565827762872972975002025774650106654475828710597747703149576883715412992750998704765691680361164189769116242423432507624004568985760578868515240629503039164942748038184785348621937116203639703900305288587604956458888013680004239999155548302794920602892262155167694942758e-242)"
      ]
     },
     "execution_count": 53,
     "metadata": {},
     "output_type": "execute_result"
    }
   ],
   "source": [
    "@time epsilon_noise = abs(Phi_noise(B0_noise) - B0_noise)"
   ]
  },
  {
   "cell_type": "code",
   "execution_count": 54,
   "metadata": {},
   "outputs": [
    {
     "data": {
      "text/plain": [
       "Interval(1.0e-241, 1.0e-241)"
      ]
     },
     "execution_count": 54,
     "metadata": {},
     "output_type": "execute_result"
    }
   ],
   "source": [
    "rho_noise = Interval(BigFloat(10)^Int(round(0.5+log10(epsilon_noise.hi))))"
   ]
  },
  {
   "cell_type": "code",
   "execution_count": 55,
   "metadata": {},
   "outputs": [],
   "source": [
    "B1_noise = Ball(v_noise_n, BigFloat(0), BigFloat(rho_noise.hi));"
   ]
  },
  {
   "cell_type": "code",
   "execution_count": 56,
   "metadata": {},
   "outputs": [
    {
     "name": "stdout",
     "output_type": "stream",
     "text": [
      "8.24391085425258681839846236502923761606731776662405840926219256825653663924142562689964204720757842422300873689832234963510717328253743947119166688892324018278114543435570594770800377985238316683467659857290704875987642458476648182567707405585689842976849327088118449196788121462757670908015117705258032330416064898594108\n",
      "8.24391085425258681839846236502923761606731776662405840926219256825653663924142562689964204720757842422300873689832234963510717328253743947119166688892324018278114543435570594770800377985238316683467659857290704875987642458476648182567707405605689842976849327088118449196788121462757670908015117705258032330416064898594119\n",
      "1.00000000000000000000000000000000000000000000000000000000000000000000000000000000000000000000000000000000000000000000000000000000000000000000000000000000000000000000000000000000000000000000000000000000000000000000000000000000000000000000000009999999999999999999999999999999999999999999999999999999999999999999999999999999\n"
     ]
    }
   ],
   "source": [
    "println(phi(B1_noise).lo)\n",
    "println(phi(B1_noise).hi)\n",
    "println(1+rho_noise.hi)"
   ]
  },
  {
   "cell_type": "code",
   "execution_count": 57,
   "metadata": {},
   "outputs": [],
   "source": [
    "open(f -> serialize(f, B0_noise), \"$(prefix)B0_noise.jls\", \"w\")\n",
    "open(f -> serialize(f, B1_noise), \"$(prefix)B1_noise.jls\", \"w\")\n",
    "\n",
    "@everywhere begin\n",
    "B0_noise = deserialize(\"$(prefix)B0_noise.jls\");\n",
    "B1_noise = deserialize(\"$(prefix)B1_noise.jls\");\n",
    "end"
   ]
  },
  {
   "cell_type": "code",
   "execution_count": 58,
   "metadata": {},
   "outputs": [],
   "source": [
    "@everywhere begin\n",
    "    \n",
    "function DPhi_noise(b::Ball, L_pp::Array{Interval, 2})\n",
    "    DF_noise_b = DF_noise(b)\n",
    "    function DPhi_noise_b(db::Ball)\n",
    "        DF = DF_noise_b(db)\n",
    "        DPhi_b_db = db - L_pp(DF, -Interval(1)/phi(V0)^2)\n",
    "    end\n",
    "    DPhi_noise_b\n",
    "end\n",
    "\n",
    "function bound_kappa_noise_naively(k::Int)\n",
    "    b = B1_noise\n",
    "    L_pp = Lambda_PP_noise\n",
    "    DPhi_noise_b = DPhi_noise(b, L_pp)\n",
    "    DPhi_noise_b_es_k = DPhi_noise_b(E[k])\n",
    "    norm = abs(DPhi_noise_b_es_k)\n",
    "end\n",
    "    \n",
    "end"
   ]
  },
  {
   "cell_type": "code",
   "execution_count": 59,
   "metadata": {},
   "outputs": [
    {
     "data": {
      "text/plain": [
       "Interval(0.0, 4.11603001660192150912262828033891699369877343274731758217205842965092270960795382157606742460435674595096983184564436792338294237547367356868933076758968100756781962192456798130309735452547136172699062278332625024596857037023423776015658939202547805600349384525301983491910973523583435719073635260467547139204683951998967e-45)"
      ]
     },
     "execution_count": 59,
     "metadata": {},
     "output_type": "execute_result"
    }
   ],
   "source": [
    "EH = basis_element(B1_noise, N+1)\n",
    "DT_noise_B1_EH = DT_noise(B1_noise)(EH)\n",
    "DPhi_noise_B1_EH = (Interval(1)-(phi(B1_noise)/phi(B0_noise))^2)*EH -L_pp(DT_noise_B1_EH, -Interval(1)/phi(V0))\n",
    "norm_H = abs(DPhi_noise_B1_EH)"
   ]
  },
  {
   "cell_type": "code",
   "execution_count": 60,
   "metadata": {},
   "outputs": [
    {
     "name": "stdout",
     "output_type": "stream",
     "text": [
      "52360.993610 seconds (2.80 M allocations: 104.160 MiB, 0.00% gc time)\n"
     ]
    },
    {
     "data": {
      "text/plain": [
       "482-element Array{Interval,1}:\n",
       " Interval(0.0, 1.18115183282446060742769803269497548421234404719522011414659507982044936060521492239012324837523458452162956400176245165029426078079018015771805997124048718227440883539187174453006772977694198107921369899994823698958489346304542130011294776047471177597758923884132194582011715311829103604551583248938391736311653771710248e-239)\n",
       " Interval(0.0, 4.74805713348789855699451703151566532478317923409790955208346420440041815085380545425995762496988202784886345241484713604844105875339851983172553159316821041371972047374030466793012663442167688751310217375028152461711552331539173992925521186805562220749057296065836738528883597731927185809885538678886989398495142560618779e-242)\n",
       " Interval(0.0, 4.61676603310582726523428257610957457068203193285359481077566581518924113096545344856058428504903921634816736820549514558008146414902855868522021286793974657299938883495734064731722890264694281764623394699691706811802678569351330424178360759476436106109039332703746664236847493711748725584580338068083231192150965750190862e-242)\n",
       " Interval(0.0, 3.90951288625353406717558398612230621940231403866789694615508258940571133670135756112510631116581174468348326194648627675821260462203706934534650554698410016867525337403394226784102280278425902214016345803287323250719958925450217279095301105992197998647610032695828320128536582862585023648609831558834711085622164580822331e-242)\n",
       " Interval(0.0, 3.6504305863554742028097437483641531489740340818678270128156858357728709012610413929709519723317715123058977115189227757488923485043792011801587334785219438330728269869886593344531519820291381487002338260439064159400755202204056412238996357535352394791324385878601372742483446697140212709254864996837124768785128627857414e-242) \n",
       " Interval(0.0, 3.50453783848673945799905677282015324263684456381955404953819919543559448088299037746749604054040419683724226436142128134268040181902164938638505006130188465356913100835963555304222612352094342370439374927538935482929852509460138394955087909499305879095599123704190248197824808518412300855819947879374197792731706276053544e-242)\n",
       " Interval(0.0, 3.43370508695246237235855271006209107838889576149947173940605353785129776748814131190370173612542845982530654411608101613509126607491631795634354018242539282356985923356266645000913978394336324042813617479752373108638763642149945573311557887613845966875161415714622955140673248812835228659681085083959615126817435205561741e-242)\n",
       " Interval(0.0, 3.26020420089676861326696691631669668518683290678463131952590332852173995073415637042795745266472570542447702375722297402021422546974132869795047498867724249458698333147055382418289500300217739098361034585405172271063867105148680052789320774406291371196391353709961533799245161557103743512612441561692964497429936607560109e-242)\n",
       " Interval(0.0, 3.1155945504448477122457695161528742928757051175446267024087184180412479704992580485223438006994163573772907965795172072956733224844496799322081755032502449458668267513530962623293281740110609102920101418583964969259248500769505586714864842423958182693594076435432396739919685465910988426423784246778563777160579268153904e-242) \n",
       " Interval(0.0, 2.9566519360862707511105085864113762998830307478811461367772912786759913397841627821165478829839582839201368462492035562457572654859998658671203958416340810890362926657953829862689695691783894182500115430858638047901828734441587723378659498211371120490797387143896509839543121944998378692437179454306952267365473405619318e-242) \n",
       " Interval(0.0, 2.81481889015680475362597787494893940034054671443505532825246952172022548451594334780453970151702772848087360009746890792342098954006958514170764633681259385211752334439148754866012230874138480625026579660051925946652931767431660767572645267399896674184801261810509427000679447004368626342989878808436514752609868010195013e-242)\n",
       " Interval(0.0, 2.68592642414126977819007633750365915065969037890387481596083045705703923412173043965908674549290918210014567002334419437948041118410726621022174221361015757052990455940037003123850609915647076539552960106261260701470134696250770865998401279661297327523332786917940784415633715172893180606522335197254565815361294572359121e-242)\n",
       " Interval(0.0, 2.63924901677017892910994796412852937597092784354662965771657592489321925689684627436957647198487440060570545043621255168194203416014636025454594602379459258431898371905259958003760127646538881348281768456068421615350462669178012334771667369865354531904116349215131961447783779289442084046840793450039881794694184030725965e-242)\n",
       " ⋮                                                                                                                                                                                                                                                                                                                                                     \n",
       " Interval(0.0, 8.69057540974865523288885753924249067740750891333089431705098702252512201222531872254631300838674791798025698921211713212803731512280597604704220930354147749964791494076902101767769562251848914717736587017827064725940388578238863739486457552790385345524522862771398713264354380055090678739024198739134586231559117110031757e-47) \n",
       " Interval(0.0, 6.98249936108611148591882842395647972012096227954190616192285873596121750656158770825551332626315188429017457683202572358243819366470191047014660692038310320368708782009590112299430382315825192986361268643920441031688193997343431274493258148987554672248188440632560316937980234379989623754378583707632262370152476145890332e-47) \n",
       " Interval(0.0, 5.61013454562245528833688886629116843966749764268024115943867098593582300404767090502275857060166211181949070352622654300705451232849258438449878972795126279096618726489209150983253671982980571235850812770123222770966107574302405988702118786269277136613346935270410167354685562462673650269392078687033358851169960552829695e-47) \n",
       " Interval(0.0, 4.5074991048894025686572585888575831139705335138415151226952302404231931262960495479319497719098288516039759103064771750456952537315619425343859710763950440650129258098032144806964902366561461368503538871726087239918798157880450317475839735527989732563900635036041318614496498096162919788120136875802742879144207368608421e-47)  \n",
       " Interval(0.0, 3.62157948536767117349541653830008005039989037241452297666891898558140486397540718612633417859297537266112897670232672007680470227549922892624210289396552999076164298952086625910545475692327087261079755478254300848936405293622652658583719804857054909468464679120682819697316799109039518104955990313192446303540328776915061e-47) \n",
       " Interval(0.0, 2.90978160253185016538285547183272231335241659366824944437116990067528319968301670460067098791813559055136187732098521279706224369302074545421791315547394379536029761472040922570056325544498595889712892291630594139711601457944941922206174199029560388864439532340624610611843838122841184874296018243479222014283104317497132e-47) \n",
       " Interval(0.0, 2.33788296201739995350298575690036356741013132126559805340327408278155081541896286054088055428177482120871073540153016000157508792327861852100202784246269144937354451793013772066225354843862242278373361558664509137940708366869630565092573669598936526570817086033444547246619055422533540586010707790111750677002157499407815e-47) \n",
       " Interval(0.0, 1.87838727804707281573717249392239750916752400840860859195317678344032981202131143550529870648243333001094073300635769210161856591554129409440184592661773080695000760655205286710292628869713073161858898283469302344567706331314458993117231996364675766438354031211167309892637878779728637506232569504117232433856840326020558e-47) \n",
       " Interval(0.0, 1.50920248089939721603936373487016661953989106464042428237482693894422760166770088650385113803299807321122939867840789187212902877668380375589695949789595735922005612614715257155831017695916963431177137524144697865021357246903575026718774169742018742599997724443135839407011665717025837310528824057632985890025920981896751e-47) \n",
       " Interval(0.0, 1.21257855340724679455635447531180858068046612553701360209045530902940037362232106697741734698286839415089232765405250616853350934435316032087105036511199229208547673239265879501149627546554001395192670101733684760832180910017664422651261812096142236731125018013050838479986095825169528343660897317867160915377154939620896e-47) \n",
       " Interval(0.0, 9.74254128781295015986961957191389318854038066359410802274647168192792837422039599955036040593436582128888068911640010828306883891802808810201430458020111079745277502325468698868657700156055117914384384404367279580339452621651013050279549563643903693419740779323740102016317030887292877872191736560593549160459860550435969e-48) \n",
       " Interval(0.0, 2.28069252478970913405731524941179353208403366641412925828506646002576735256105053254138727892063906223835423302419858212660433729136941377821945253595725160536229692876853546508306918025463418805833768850877631404362238196379301424234416302905899095442289048858859211229196440423207316504298368059160564168100326901920831)     "
      ]
     },
     "execution_count": 60,
     "metadata": {},
     "output_type": "execute_result"
    }
   ],
   "source": [
    "@time norms_w = pmap(bound_kappa_noise_naively, [k for k in 1:N+2])"
   ]
  },
  {
   "cell_type": "code",
   "execution_count": 61,
   "metadata": {},
   "outputs": [
    {
     "data": {
      "text/plain": [
       "Interval(2.31794121734352752533583599905761850914777601659795338099602813993329039259251901282908395244688029775594617143556539835584716650453138679624603115280827638871317991145709562634544360471830567211942881891057027395896313658224806865023580883759625115507965100364033015842296650353002436148001309109975120645042428943342176e-37, 2.31794121734352752533583599905761850914777601659795338099602813993329039259251901282908395244688029775594617143556539835584716650453138679624603115280827638871317991145709562634544360471830567211942881891057027395896313658224806865023580883759625115507965100364033015842296650353002436148001309109975120645042428943342176e-37)"
      ]
     },
     "execution_count": 61,
     "metadata": {},
     "output_type": "execute_result"
    }
   ],
   "source": [
    "norms_w[end] = norm_H\n",
    "kappa_noise = Interval(hull(norms_w).hi)"
   ]
  },
  {
   "cell_type": "code",
   "execution_count": 62,
   "metadata": {},
   "outputs": [
    {
     "data": {
      "text/plain": [
       "true"
      ]
     },
     "execution_count": 62,
     "metadata": {},
     "output_type": "execute_result"
    }
   ],
   "source": [
    "noise_existence = epsilon_noise < rho_noise*(Interval(1)-kappa_noise)"
   ]
  },
  {
   "cell_type": "code",
   "execution_count": 66,
   "metadata": {},
   "outputs": [
    {
     "name": "stdout",
     "output_type": "stream",
     "text": [
      "Degree of map at critical point, d:\n",
      "4\n",
      "Domain centre, c:\n",
      "0.575400000000000000000000000000000000000000000000000000000000000000000000000000000000000000000000000000000000000000000000000000000000000000000000000000000000000000000000000000000000000000000000000000000000000000000000000000000000000000000000000000000000000000000000000000000000000000000000000000000000000000000000000000001\n",
      "Domain radius, r:\n",
      "0.799999999999999999999999999999999999999999999999999999999999999999999999999999999999999999999999999999999999999999999999999999999999999999999999999999999999999999999999999999999999999999999999999999999999999999999999999999999999999999999999999999999999999999999999999999999999999999999999999999999999999999999999999999996\n",
      "Truncation degree, N:\n",
      "480\n",
      "Precision (digits approx.), P:\n",
      "320\n",
      "\n",
      "epsilon_noise:\n",
      "5.30557574029653007784375492872222769234313569654218565827762872972975002025774650106654475828710597747703149576883715412992750998704765691680361164189769116242423432507624004568985760578868515240629503039164942748038184785348621937116203639703900305288587604956458888013680004239999155548302794920602892262155167694942758e-242\n",
      "rho_noise:\n",
      "1.0e-241\n",
      "kappa_noise:\n",
      "2.31794121734352752533583599905761850914777601659795338099602813993329039259251901282908395244688029775594617143556539835584716650453138679624603115280827638871317991145709562634544360471830567211942881891057027395896313658224806865023580883759625115507965100364033015842296650353002436148001309109975120645042428943342176e-37\n",
      "\n",
      "a=G(1) lower bound:\n",
      "-0.591609916634438150139624354381628953790222989190755829639056260808270161100244446553096873115967184310352141800643269743863723893120682882077993159616240925941154305296427613470988293992687049157795888740837617014543740480908521768119211417071117114253308242100970358064226008483432870801647846778564398048615541389043671\n",
      "a=G(1) upper bound:\n",
      "-0.591609916634438150139624354381628953790222989190755829639056260808270161100244446553096873115967184310352141800643269743863723893120682882077993159616240925941154305296427613470988293992687049157795888740837617014543740480908521768119211417071117094253308242100970358064226008483432870801647846778564398048615541389043629\n",
      "1+rho:\n",
      "1.00000000000000000000000000000000000000000000000000000000000000000000000000000000000000000000000000000000000000000000000000000000000000000000000000000000000000000000000000000000000000000000000000000000000000000000000000000000000000000000000000000000999999999999999999999999999999999999999999999999999999999999999999999999\n",
      "\n",
      "alpha=1/G(1) lower bound:\n",
      "-1.69030297140524485334378015032416134822827805970956196668242326344973921908881055143276608578615291915193152630821259416410507756163090857294057319252627831020424401895602517765504793522623687664454132190710719267683493554697194567276686678514845148176025526260813557195946344136681931675054007400565591176045581967536909\n",
      "alpha=1/G(1) upper bound:\n",
      "-1.69030297140524485334378015032416134822827805970956196668242326344973921908881055143276608578615291915193152630821259416410507756163090857294057319252627831020424401895602517765504793522623687664454132190710719267683493554697194567276686678514845142461777255978013556509696071958412007534457790077806274725286889877660619\n",
      "1+rho:\n",
      "1.00000000000000000000000000000000000000000000000000000000000000000000000000000000000000000000000000000000000000000000000000000000000000000000000000000000000000000000000000000000000000000000000000000000000000000000000000000000000000000000000000000000999999999999999999999999999999999999999999999999999999999999999999999999\n",
      "\n",
      "gamma=phi(K) lower bound:\n",
      "8.24391085425258681839846236502923761606731776662405840926219256825653663924142562689964204720757842422300873689832234963510717328253743947119166688892324018278114543435570594770800377985238316683467659857290704875987642458476648182567707405585689842976849327088118449196788121462757670908015117705258032330416064898594108\n",
      "gamma=phi(K) upper bound:\n",
      "8.24391085425258681839846236502923761606731776662405840926219256825653663924142562689964204720757842422300873689832234963510717328253743947119166688892324018278114543435570594770800377985238316683467659857290704875987642458476648182567707405605689842976849327088118449196788121462757670908015117705258032330416064898594119\n",
      "1+rho_noise:\n",
      "1.00000000000000000000000000000000000000000000000000000000000000000000000000000000000000000000000000000000000000000000000000000000000000000000000000000000000000000000000000000000000000000000000000000000000000000000000000000000000000000000000009999999999999999999999999999999999999999999999999999999999999999999999999999999\n"
     ]
    }
   ],
   "source": [
    "println(\"Degree of map at critical point, d:\\n$(d)\")\n",
    "println(\"Domain centre, c:\\n$(c)\")\n",
    "println(\"Domain radius, r:\\n$(r)\")\n",
    "println(\"Truncation degree, N:\\n$(N)\")\n",
    "println(\"Precision (digits approx.), P:\\n$(P)\")\n",
    "\n",
    "#println(\"\\nepsilon:\\n$(epsilon.hi)\")\n",
    "#println(\"rho:\\n$(rho)\")\n",
    "#println(\"kappa:\\n$(kappa)\")\n",
    "\n",
    "#println(\"\\nepsilon_hat:\\n$(epsilon_hat.hi)\")\n",
    "#println(\"rho_hat:\\n$(rho_hat)\")\n",
    "#println(\"kappa_hat:\\n$(kappa_hat.hi)\")\n",
    "\n",
    "println(\"\\nepsilon_noise:\\n$(epsilon_noise.hi)\")\n",
    "println(\"rho_noise:\\n$(rho_noise.hi)\")\n",
    "println(\"kappa_noise:\\n$(kappa_noise.hi)\")\n",
    "\n",
    "println(\"\\na=G(1) lower bound:\\n$(B1(1).lo)\")\n",
    "println(\"a=G(1) upper bound:\\n$(B1(1).hi)\")\n",
    "println(\"1+rho:\\n$(1+rho)\")\n",
    "\n",
    "println(\"\\nalpha=1/G(1) lower bound:\\n$((1/B1(1)).lo)\")\n",
    "println(\"alpha=1/G(1) upper bound:\\n$((1/B1(1)).hi)\")\n",
    "println(\"1+rho:\\n$(1+rho)\")\n",
    "\n",
    "#println(\"\\ndelta=phi(V) lower bound:\\n$(phi(V1).lo)\")\n",
    "#println(\"delta=phi(V) upper bound:\\n$(phi(V1).hi)\")\n",
    "#println(\"1+rho_hat:\\n$(1+rho_hat)\")\n",
    "\n",
    "println(\"\\ngamma=phi(K) lower bound:\\n$(phi(B1_noise).lo)\")\n",
    "println(\"gamma=phi(K) upper bound:\\n$(phi(B1_noise).hi)\")\n",
    "println(\"1+rho_noise:\\n$(1+rho_noise.hi)\")"
   ]
  },
  {
   "cell_type": "code",
   "execution_count": 67,
   "metadata": {},
   "outputs": [
    {
     "data": {
      "text/plain": [
       "Task (done) @0x00007eff26091390"
      ]
     },
     "execution_count": 67,
     "metadata": {},
     "output_type": "execute_result"
    }
   ],
   "source": [
    "rmprocs(procs)"
   ]
  },
  {
   "cell_type": "code",
   "execution_count": null,
   "metadata": {},
   "outputs": [],
   "source": []
  }
 ],
 "metadata": {
  "@webio": {
   "lastCommId": null,
   "lastKernelId": null
  },
  "hide_input": true,
  "hide_output": true,
  "kernelspec": {
   "display_name": "Julia 1.3.1",
   "language": "julia",
   "name": "julia-1.3"
  },
  "language_info": {
   "file_extension": ".jl",
   "mimetype": "application/julia",
   "name": "julia",
   "version": "1.3.1"
  },
  "latex_metadata": {
   "abstract": "We gain tight rigorous bounds on the renormalisation fixed point for period doubling in families of maps with degree $4$ critical point.  We prove that the fixed point is hyperbolic and use a contraction mapping argument to bound essential eigenfunctions and eigenvalues for the linearisation and for the scaling of additive noise.  We find analytic extensions of the fixed point function to larger domains.  We use multi-precision arithmetic with rigorous directed rounding to bound operations in a space of analytic functions and hence find tight bounds on power series and universal constants.",
   "affiliation": "School of Mathematics and Physics, University of Portsmouth, UK.",
   "author": "Andrew D Burbanks$^1$, Andrew H Osbaldestin$^2$, Judi Thurlby.",
   "email": "$^1$andrew.burbanks@port.ac.uk",
   "keywords": "Dynamical systems; Renormalisation group; Universality; Period-doubling; Bifurcations; Computer-assisted proofs",
   "orcid": "$^1$0000-0003-0685-6670, $^2$0000-0002-2482-0738, $^3$0000-0002-7372-9471.",
   "title": "Rigorous computer-assisted proof for existence of period doubling renormalisation fixed points in maps with critical point of degree 4"
  }
 },
 "nbformat": 4,
 "nbformat_minor": 2
}
