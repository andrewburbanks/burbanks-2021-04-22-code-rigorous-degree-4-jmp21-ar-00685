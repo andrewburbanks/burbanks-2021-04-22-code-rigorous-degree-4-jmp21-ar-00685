{
 "cells": [
  {
   "cell_type": "code",
   "execution_count": 1,
   "metadata": {},
   "outputs": [],
   "source": [
    "using Distributed"
   ]
  },
  {
   "cell_type": "code",
   "execution_count": 2,
   "metadata": {},
   "outputs": [
    {
     "data": {
      "text/plain": [
       "6-element Array{Int64,1}:\n",
       " 2\n",
       " 3\n",
       " 4\n",
       " 5\n",
       " 6\n",
       " 7"
      ]
     },
     "execution_count": 2,
     "metadata": {},
     "output_type": "execute_result"
    }
   ],
   "source": [
    "procs = addprocs(6)"
   ]
  },
  {
   "cell_type": "code",
   "execution_count": 3,
   "metadata": {},
   "outputs": [
    {
     "data": {
      "text/plain": [
       "6"
      ]
     },
     "execution_count": 3,
     "metadata": {},
     "output_type": "execute_result"
    }
   ],
   "source": [
    "length(procs)"
   ]
  },
  {
   "cell_type": "code",
   "execution_count": 4,
   "metadata": {},
   "outputs": [
    {
     "data": {
      "text/plain": [
       "(4, 41, 27, 89, 0.5753999999999999999999999996, 0.8000000000000000000000000006)"
      ]
     },
     "execution_count": 4,
     "metadata": {},
     "output_type": "execute_result"
    }
   ],
   "source": [
    "@everywhere begin\n",
    "\n",
    "const d = 4\n",
    "const N = 41\n",
    "const P = Int(floor(2*N/3))\n",
    "    \n",
    "const nbits = max(53, Int(floor(P*log2(10))))\n",
    "setprecision(BigFloat, nbits)\n",
    "\n",
    "const c_text = \"0.5754\" #0.575303744708453\n",
    "const r_text = \"0.8\"\n",
    "    \n",
    "const c = BigFloat(c_text)\n",
    "const r = BigFloat(r_text)\n",
    "\n",
    "prefix = \"feig_d$(d)_N$(N)_P$(P)_c$(c_text)_r$(r_text)\" \n",
    "    \n",
    "end\n",
    "\n",
    "mkpath(prefix)\n",
    "\n",
    "d, N, P, nbits, c, r"
   ]
  },
  {
   "cell_type": "code",
   "execution_count": 5,
   "metadata": {},
   "outputs": [],
   "source": [
    "@everywhere begin\n",
    "\n",
    "import Base: <, <=, ==, >, >=\n",
    "import Base: zero, one\n",
    "import Base: abs\n",
    "import Base: +, -, *, /, ^\n",
    "\n",
    "struct Poly\n",
    "    coeffs::Array{BigFloat, 1}\n",
    "    cr::Tuple{BigFloat, BigFloat}\n",
    "    Poly(a::Array{BigFloat, 1}, cr) = length(a) == 1+N ? new(a, cr) : error(\"wrong #coeffs\")\n",
    "end\n",
    "\n",
    "abs(t::Poly) = sum(abs(a) for a in t.coeffs)\n",
    "zero(p::Poly) = Poly(fill(BigFloat(0), N+1), p.cr)\n",
    "one(p::Poly) = Poly([k==0 ? BigFloat(1) : BigFloat(0) for k in 0:N], p.cr)\n",
    "\n",
    "(-)(p::Poly) = Poly(-p.coeffs, p.cr)\n",
    "\n",
    "(*)(p::Poly, a::Number) = Poly(p.coeffs*a, p.cr)\n",
    "(*)(a::Number, p::Poly) = p*a\n",
    "\n",
    "(/)(p::Poly, a::BigFloat) = p*(1/a)\n",
    "\n",
    "function +(p::Poly, a::BigFloat)\n",
    "    coeffs = copy(p.coeffs)\n",
    "    coeffs[1] += a\n",
    "    Poly(coeffs, p.cr)\n",
    "end\n",
    "\n",
    "(+)(a::BigFloat, p::Poly) = p+a\n",
    "(-)(p::Poly, a::BigFloat) = p+(-a)\n",
    "\n",
    "(+)(p::Poly, q::Poly) = p.cr == q.cr ? Poly(p.coeffs+q.coeffs, p.cr) : error(\"!\")\n",
    "(-)(p::Poly, q::Poly) = p.cr == q.cr ? Poly(p.coeffs-q.coeffs, p.cr) : error(\"!\")\n",
    "\n",
    "(*)(a::Array{BigFloat, 1}, b::BigFloat) = [ak*b for ak in a]\n",
    "(*)(b::BigFloat, a::Array{BigFloat, 1}) = a*b\n",
    "\n",
    "(/)(a::Array{BigFloat, 1}, b::BigFloat) = [ak/b for ak in a]\n",
    "\n",
    "function *(p::Poly, q::Poly)\n",
    "    if p.cr != q.cr error(\"!\") end\n",
    "    coeffs = fill(BigFloat(0), N+1)\n",
    "    for j in 0:N\n",
    "        for k in 0:N\n",
    "            if j+k <= N\n",
    "                coeffs[1+j+k] += p.coeffs[1+j]*q.coeffs[1+k]\n",
    "            end\n",
    "        end\n",
    "    end\n",
    "    Poly(coeffs, p.cr)\n",
    "end\n",
    "\n",
    "basis_element(p::Poly, k::Integer) = Poly([j==k ? BigFloat(1) : BigFloat(0) for j in 0:N], p.cr)\n",
    "\n",
    "function identity(p::Poly)\n",
    "    c, r = p.cr\n",
    "    coeffs = fill(BigFloat(0), N+1)\n",
    "    coeffs[1] = c\n",
    "    coeffs[2] = r\n",
    "    Poly(coeffs, p.cr)\n",
    "end\n",
    "\n",
    "function diff(p::Poly)\n",
    "    c, r = p.cr\n",
    "    Poly([k == N+1 ? BigFloat(0) : k*p.coeffs[1+k] for k in 1:N+1], p.cr)/r\n",
    "end\n",
    "\n",
    "# Power\n",
    "function russian(t, p::Integer)\n",
    "    if p == 0\n",
    "        return one(t)\n",
    "    elseif p == 1\n",
    "        return t\n",
    "    end\n",
    "    \n",
    "    # ignore trailing zeros in binary expansion\n",
    "    trailing = trailing_zeros(p) + 1\n",
    "    p >>= trailing\n",
    "    \n",
    "    # repeatedly square\n",
    "    while (trailing -= 1) > 0\n",
    "        t *= t\n",
    "    end\n",
    "    \n",
    "    # compute the rest\n",
    "    u = t\n",
    "    while p > 0\n",
    "        trailing = trailing_zeros(p) + 1\n",
    "        p >>= trailing\n",
    "        while (trailing -= 1) >= 0\n",
    "            t *= t\n",
    "        end\n",
    "        u *= t\n",
    "    end\n",
    "    u\n",
    "end\n",
    "\n",
    "(^)(t::Poly, p::Integer) = russian(t, p)\n",
    "\n",
    "# Evaluation and composition of polynomial.\n",
    "function (t::Poly)(x::Union{BigFloat, Poly, Complex{BigFloat}})\n",
    "    c, r = t.cr\n",
    "    u = (x-c)/r\n",
    "    total = t.coeffs[N+1]*u + t.coeffs[N]\n",
    "    for k in N-1:-1:1\n",
    "        total = total*u + t.coeffs[k]\n",
    "    end\n",
    "    total\n",
    "end\n",
    "\n",
    "(t::Poly)(x::Number) = t(BigFloat(x))\n",
    "    \n",
    "end"
   ]
  },
  {
   "cell_type": "code",
   "execution_count": 6,
   "metadata": {},
   "outputs": [],
   "source": [
    "@everywhere begin\n",
    "\n",
    "coeffs = fill(BigFloat(0), N+1)\n",
    "mu_infty = BigFloat(\"-1.5949013562288205644978287\")\n",
    "coeffs[1:2] = [BigFloat(1), mu_infty]\n",
    "p0 = Poly(coeffs, (BigFloat(0), BigFloat(1)))\n",
    "\n",
    "zero_Omega = zero(Poly(fill(BigFloat(0), N+1), (c, r)))\n",
    "I_Omega = identity(zero_Omega)\n",
    "\n",
    "g0 = p0(I_Omega)\n",
    "    \n",
    "end"
   ]
  },
  {
   "cell_type": "code",
   "execution_count": 7,
   "metadata": {},
   "outputs": [],
   "source": [
    "@everywhere poly_basis = [basis_element(g0, k) for k in 0:N];"
   ]
  },
  {
   "cell_type": "code",
   "execution_count": 8,
   "metadata": {},
   "outputs": [],
   "source": [
    "@everywhere begin\n",
    "\n",
    "Q(z) = z^d\n",
    "Qdash(z) = d == 2 ? 2*z : d*z^(d-1)\n",
    "\n",
    "function T(f)\n",
    "    x = identity(f)\n",
    "    a = f(1)\n",
    "    (1/a)*f(Q(f(x*Q(a))))\n",
    "end\n",
    "\n",
    "function T(g)\n",
    "    x = identity(g)\n",
    "    \n",
    "    a = g(1)\n",
    "    Qa = Q(a)\n",
    "    xQa = x*Qa\n",
    "    gxQa = g(xQa)\n",
    "    QgxQa = Q(gxQa)\n",
    "    gQgxQa = g(QgxQa)\n",
    "    Tg = (1/a)*gQgxQa\n",
    "end\n",
    "\n",
    "function T_and_DT(g)\n",
    "    x = identity(g)\n",
    "    \n",
    "    a = g(1)\n",
    "    Qa = Q(a)\n",
    "    xQa = x*Qa\n",
    "    gxQa = g(xQa)\n",
    "    QgxQa = Q(gxQa)\n",
    "    gQgxQa = g(QgxQa)\n",
    "    Tg = (1/a)*gQgxQa\n",
    "    \n",
    "    g_dash = diff(g)\n",
    "    g_dashxQa = g_dash(xQa)\n",
    "    g_dashQgxQa = g_dash(QgxQa)\n",
    "    \n",
    "    dgxQadm1 = d*gxQa^(d-1)\n",
    "    \n",
    "    # we should ensure that any subexpressions\n",
    "    # that do not depend on delta_g\n",
    "    # are computed in the outer function, here.\n",
    "    \n",
    "    function DTg(delta_g)\n",
    "        delta_a = delta_g(1)\n",
    "        delta_Qa = d*a^(d-1)*delta_a\n",
    "        delta_xQa = x*delta_Qa\n",
    "        delta_gxQa = delta_g(xQa) + g_dashxQa*delta_xQa\n",
    "        delta_QgxQa = dgxQadm1*delta_gxQa\n",
    "        delta_gQgxQa = delta_g(QgxQa) + g_dashQgxQa*delta_QgxQa\n",
    "        delta_Tg = (-1/a^2)*delta_a*gQgxQa + (1/a)*delta_gQgxQa\n",
    "    end\n",
    "    \n",
    "    Tg, DTg\n",
    "end\n",
    "    \n",
    "end"
   ]
  },
  {
   "cell_type": "code",
   "execution_count": 9,
   "metadata": {},
   "outputs": [],
   "source": [
    "@everywhere begin\n",
    "\n",
    "function eye(T::Type, n::Integer)\n",
    "    I::Array{T, 2} = [j==k ? T(1) : T(0) for k in 1:n, j in 1:n]\n",
    "end\n",
    "\n",
    "# be careful that matrix_elements is only used from 1 process.\n",
    "# pmap can then be used below.\n",
    "# for large degree, this should help significantly.\n",
    "# when the function being applied is a closure,\n",
    "# there might be a benefit to using CachingPool(workers())\n",
    "# as an additional, second, argument to pmap.\n",
    "# actually, here, DTp is not a closure...\n",
    "    \n",
    "function matrix_elements(L, basis)\n",
    "    J_polys = pmap(L, basis)\n",
    "    #J_polys = pmap(L, CachingPool(workers()), basis)\n",
    "    J = [J_polys[k].coeffs[j] for j in 1:N+1, k in 1:N+1]\n",
    "end\n",
    "    \n",
    "function newtonstep(p::Poly)\n",
    "    Tp, DTp = T_and_DT(p)\n",
    "    Fp = Tp - p\n",
    "    J = matrix_elements(DTp, poly_basis)\n",
    "    I = eye(BigFloat, N+1)\n",
    "    q = Poly(p.coeffs - inv(J-I)*Fp.coeffs, p.cr)\n",
    "end\n",
    "    \n",
    "function newton(p0::Poly, n::Integer)\n",
    "    prev_error = BigFloat(10)^10\n",
    "    for k in 1:n\n",
    "        p1 = newtonstep(p0)\n",
    "        error = abs(T(p1)-p1)\n",
    "        if error < prev_error\n",
    "            println(\"$k: $error\")\n",
    "            p0 = p1\n",
    "            prev_error = error\n",
    "        else\n",
    "            break\n",
    "        end\n",
    "    end\n",
    "    p0\n",
    "end\n",
    "    \n",
    "end"
   ]
  },
  {
   "cell_type": "markdown",
   "metadata": {},
   "source": [
    "## Skip if precomputed"
   ]
  },
  {
   "cell_type": "code",
   "execution_count": 10,
   "metadata": {},
   "outputs": [
    {
     "name": "stdout",
     "output_type": "stream",
     "text": [
      "1 0.300601521664247044652198378\n",
      "2 0.02346509242791335839763515382\n",
      "3 0.0180426574284850493953795104\n",
      "4 0.001900115087433402971279775082\n",
      "5 0.001275689040555407408813294032\n",
      "6 0.0001662216219179982646270172341\n",
      "7 9.805192134014271184838466372e-05\n",
      "8 1.585895595558708391845038489e-05\n",
      "9 7.819496162817914749060600082e-06\n",
      "10 1.477055958776234932531946545e-06\n",
      "11 6.3516617872692938199616042e-07\n",
      "12 1.334475019895346782541765221e-07\n",
      "13 5.217770131948772800612501723e-08\n",
      "14 1.185084187294380968232706253e-08\n",
      "15 4.321500646820411318768239282e-09\n",
      "16 1.045085488583884904204801862e-09\n",
      "17 4.55397689184676522618084147e-10\n",
      "18 2.080971293226493440240470112e-09\n"
     ]
    }
   ],
   "source": [
    "ga = g0\n",
    "gb = T(ga)\n",
    "erra = abs(gb-ga)\n",
    "for k in 1:20\n",
    "    gc = T(gb)\n",
    "    errb = abs(gc - gb)\n",
    "    println(\"$(k) $(errb)\")\n",
    "    if errb < erra\n",
    "        gb, ga = gc, gb\n",
    "        erra = errb\n",
    "    else\n",
    "        break\n",
    "    end\n",
    "end"
   ]
  },
  {
   "cell_type": "code",
   "execution_count": 11,
   "metadata": {},
   "outputs": [],
   "source": [
    "using Serialization"
   ]
  },
  {
   "cell_type": "code",
   "execution_count": 11,
   "metadata": {},
   "outputs": [],
   "source": [
    "open(f -> serialize(f, ga), \"$(prefix)/ga.jls\", \"w\")"
   ]
  },
  {
   "cell_type": "code",
   "execution_count": 12,
   "metadata": {},
   "outputs": [
    {
     "data": {
      "text/plain": [
       "Poly(BigFloat[-0.0001511713586285057764382956007, -1.256390384719997063102552342, 0.2468156476186510133959630149, 0.05671913432480105149197335683, -0.03593899502915159445308593625, 0.004309827920932066272417000396, 0.001963540983829639871628245721, -0.0008943234096129327486414316774, 6.105399126087436803424560035e-05, 6.188331889293793023558802634e-05  …  -8.193351300176035663556334101e-17, 4.678653983445518422126053491e-18, 6.290975100221391234675622028e-18, -2.03660205890966901812374007e-18, -5.51448882292050912519337327e-20, 2.007811849831702745068772803e-19, -4.634037823704109267536956511e-20, -6.570702792452528126718463147e-21, 5.946188525464014539130369074e-21, -9.218629861643623996582854476e-22], (0.5753999999999999999999999996, 0.8000000000000000000000000006))"
      ]
     },
     "execution_count": 12,
     "metadata": {},
     "output_type": "execute_result"
    }
   ],
   "source": [
    "ga = open(deserialize, \"$(prefix)/ga.jls\")"
   ]
  },
  {
   "cell_type": "code",
   "execution_count": 13,
   "metadata": {},
   "outputs": [
    {
     "data": {
      "text/plain": [
       "-0.0001511713586285057764382956007"
      ]
     },
     "execution_count": 13,
     "metadata": {},
     "output_type": "execute_result"
    }
   ],
   "source": [
    "ga.coeffs[1]"
   ]
  },
  {
   "cell_type": "code",
   "execution_count": 14,
   "metadata": {},
   "outputs": [
    {
     "data": {
      "text/plain": [
       "4.55397689184676522618084147e-10"
      ]
     },
     "execution_count": 14,
     "metadata": {},
     "output_type": "execute_result"
    }
   ],
   "source": [
    "abs(T(ga)-ga)"
   ]
  },
  {
   "cell_type": "code",
   "execution_count": 15,
   "metadata": {},
   "outputs": [],
   "source": [
    "#precompile\n",
    "newton(g0, 0);"
   ]
  },
  {
   "cell_type": "code",
   "execution_count": 16,
   "metadata": {},
   "outputs": [
    {
     "name": "stdout",
     "output_type": "stream",
     "text": [
      "1: 5.771641951697389541109493618e-20\n",
      "2: 2.902662907434221195203508284e-26\n",
      "3: 2.107737285904556334282003902e-26\n",
      "  2.165020 seconds (10.72 M allocations: 507.546 MiB, 6.15% gc time)\n"
     ]
    }
   ],
   "source": [
    "@time gn = newton(ga, 20);"
   ]
  },
  {
   "cell_type": "code",
   "execution_count": 17,
   "metadata": {},
   "outputs": [],
   "source": [
    "using Serialization\n",
    "open(f -> serialize(f, gn), \"$(prefix)/g.jls\", \"w\")"
   ]
  },
  {
   "cell_type": "code",
   "execution_count": 17,
   "metadata": {},
   "outputs": [],
   "source": [
    "@everywhere begin\n",
    "    \n",
    "using Serialization\n",
    "\n",
    "gn = open(deserialize, \"$(prefix)/g.jls\")\n",
    "    \n",
    "end"
   ]
  },
  {
   "cell_type": "code",
   "execution_count": 18,
   "metadata": {},
   "outputs": [
    {
     "data": {
      "text/plain": [
       "0.9999999999999999999999999984"
      ]
     },
     "execution_count": 18,
     "metadata": {},
     "output_type": "execute_result"
    }
   ],
   "source": [
    "gn(0)"
   ]
  },
  {
   "cell_type": "code",
   "execution_count": 19,
   "metadata": {},
   "outputs": [
    {
     "data": {
      "text/plain": [
       "-0.5916099166344381501396243519"
      ]
     },
     "execution_count": 19,
     "metadata": {},
     "output_type": "execute_result"
    }
   ],
   "source": [
    "gn(1)"
   ]
  },
  {
   "cell_type": "code",
   "execution_count": 20,
   "metadata": {},
   "outputs": [
    {
     "data": {
      "text/plain": [
       "-1.690302971405244853343780156"
      ]
     },
     "execution_count": 20,
     "metadata": {},
     "output_type": "execute_result"
    }
   ],
   "source": [
    "1/gn(1)"
   ]
  },
  {
   "cell_type": "code",
   "execution_count": 21,
   "metadata": {},
   "outputs": [
    {
     "data": {
      "text/plain": [
       "2.107737285904556334282003902e-26"
      ]
     },
     "execution_count": 21,
     "metadata": {},
     "output_type": "execute_result"
    }
   ],
   "source": [
    "residue_approx = T(gn)-gn\n",
    "abs(residue_approx)"
   ]
  },
  {
   "cell_type": "code",
   "execution_count": 22,
   "metadata": {},
   "outputs": [
    {
     "data": {
      "text/plain": [
       "-0.0001511713350611291656840259461"
      ]
     },
     "execution_count": 22,
     "metadata": {},
     "output_type": "execute_result"
    }
   ],
   "source": [
    "ccc = gn.coeffs[1]"
   ]
  },
  {
   "cell_type": "code",
   "execution_count": 23,
   "metadata": {},
   "outputs": [
    {
     "data": {
      "text/plain": [
       "0.7536423257237438864255931463"
      ]
     },
     "execution_count": 23,
     "metadata": {},
     "output_type": "execute_result"
    }
   ],
   "source": [
    "a = gn(1)\n",
    "x = identity(gn)\n",
    "xQa = x*Q(a)\n",
    "psi(x) = (x-c)/r\n",
    "norm1 = abs(psi(xQa))"
   ]
  },
  {
   "cell_type": "code",
   "execution_count": 24,
   "metadata": {},
   "outputs": [
    {
     "data": {
      "text/plain": [
       "0.8034565068330793155746543136"
      ]
     },
     "execution_count": 24,
     "metadata": {},
     "output_type": "execute_result"
    }
   ],
   "source": [
    "QgxQa = Q(gn(xQa))\n",
    "norm2 = abs(psi(QgxQa))"
   ]
  },
  {
   "cell_type": "code",
   "execution_count": 25,
   "metadata": {},
   "outputs": [],
   "source": [
    "if norm1 >= 1 || norm2 >= 1\n",
    "    println(\"Proof hopeless with these domains.\")\n",
    "end"
   ]
  },
  {
   "cell_type": "code",
   "execution_count": 26,
   "metadata": {},
   "outputs": [
    {
     "data": {
      "text/plain": [
       "(Poly(BigFloat[-0.0001511713350611291656840145904, -1.256390384839309113454966122, 0.2468156475594798891903756126, 0.05671913449535499518131215488, -0.03593899510003976630438281722, 0.004309827907215549990447627635, 0.001963541004817085940087265941, -0.0008943234149703396950331270934, 6.105398965710550909211669004e-05, 6.18833202716769579476806784e-05  …  -8.193352719716318716845210401e-17, 4.678651669174662819840084076e-18, 6.290977208505213125174331796e-18, -2.036602398263703289116784981e-18, -5.514501237092254757475084934e-20, 2.007812537370097757991522041e-19, -4.634038429218728645259136977e-20, -6.570708157395391346804408734e-21, 5.946190599978746106321751204e-21, -9.218630047818848213294095374e-22], (0.5753999999999999999999999996, 0.8000000000000000000000000006)), var\"#DTg#15\"{Poly,BigFloat,Poly,Poly,Poly,Poly,Poly,Poly}(Poly(BigFloat[0.5753999999999999999999999996, 0.8000000000000000000000000006, 0.0, 0.0, 0.0, 0.0, 0.0, 0.0, 0.0, 0.0  …  0.0, 0.0, 0.0, 0.0, 0.0, 0.0, 0.0, 0.0, 0.0, 0.0], (0.5753999999999999999999999996, 0.8000000000000000000000000006)), -0.5916099166344381501396243519, Poly(BigFloat[0.07048742376292869901793872053, 0.09800128434192380815841323673, 0.0, 0.0, 0.0, 0.0, 0.0, 0.0, 0.0, 0.0  …  0.0, 0.0, 0.0, 0.0, 0.0, 0.0, 0.0, 0.0, 0.0, 0.0], (0.5753999999999999999999999996, 0.8000000000000000000000000006)), Poly(BigFloat[0.5752468012820460080596464827, -0.4732523286091758298356460365, 0.1479557601730117860000398166, -0.02049623738999346282283060046, 0.0008125254232882697161612853874, 8.660881718243166769097835922e-05, -8.490789858802638534582799006e-06, -2.26609756190999751913941459e-08, 3.183044566927272811884602569e-08, -9.871117779862409840739797507e-10  …  3.035973838849057585256655443e-40, -7.578459871072340687069335124e-42, -3.730016834691744677012566933e-43, 2.086054872373697324180971697e-44, 2.768758061665978228721400619e-46, -4.498096176950961909966478861e-47, 4.492027104042510753331968161e-49, 7.39271543343302607759742469e-50, -2.449457385963319276484113431e-51, -8.338247175154226044169606999e-53], (0.5753999999999999999999999996, 0.8000000000000000000000000006)), Poly(BigFloat[8.9434460933031342745790079e-05, 0.7432930108350933297197889915, -0.146018584676738765110757335, -0.0335556024303744538561500679, 0.02126186589506000730914180212, -0.002549736928896566568616483902, -0.001161650330168137131199259669, 0.0005290906009748287024903478859, -3.612014573124003929382216859e-05, -3.661078594698904150822354367e-05  …  4.847268719467918402840304048e-17, -2.76793672396199717031275409e-18, -3.721804501872919565281069217e-18, 1.204874175054286306847651295e-18, 3.262433617156654885123915524e-20, -1.187841807851103267553382896e-19, 2.741543088790874768158012587e-20, 3.887296105225910181955354894e-21, -3.517825325145905750374477029e-21, 5.45383295407383536904341669e-22], (0.5753999999999999999999999996, 0.8000000000000000000000000006)), Poly(BigFloat[-1.827722850993071869667660205, 0.01508123998259020320631372681, 0.008432819374990673034792589689, -0.0002782678210867848731755939047, -1.380321171571409502431125157e-05, 9.880605332090414786749450849e-07, 2.3832883781242971668405748e-09, -1.846667142741373150004344341e-09, 2.886327518923864774660992574e-11, 2.984637895360907070552882594e-12  …  -1.11210004809730895829637387e-42, 6.029439115582522655865117935e-44, -2.557274453597233083788509734e-45, 8.361102785353431107264798622e-47, -2.081479472395900201872370027e-48, 3.843138811460665216731083488e-50, -4.989295215023832661387250415e-52, 4.080662429916282780928428034e-54, -1.585008039210683916998840398e-56, 0.0], (0.5753999999999999999999999996, 0.8000000000000000000000000006)), Poly(BigFloat[-1.570606135250364862301725561, -0.3649707979268912823360885756, 0.1885723255493777204969421445, -0.02516582513607219303132373988, -0.01724149210562791399578056921, 0.008346931831838472152287518987, -0.000327124963968425539758877458, -0.000840913562138042827670850771, 0.0002569681519545327712668268935, 2.327214837451994692273661885e-05  …  -3.183873480775651281125532935e-16, 8.398327844359868894104432122e-17, 8.788270569572307482405296035e-18, -1.044532696510067075310795803e-17, 1.893646071488298909450148377e-18, 5.132874109682236395067441765e-19, -3.181180166273765609606547948e-19, 3.402725468632795090242954746e-20, 2.179048057691578278978253839e-20, -9.022235232403525279447503678e-21], (0.5753999999999999999999999996, 0.8000000000000000000000000006)), Poly(BigFloat[2.642108514533247765403650949, -1.630235931978596004597441153, 0.3420223475960653263441595041, -0.02324665699020507750144897804, -0.0008031646636869554051707238047, 0.0001322022795295735290965819092, -1.650815655035985818188615569e-06, -3.473613642863501614969535661e-07, 1.462129355381581931372910787e-08, 4.501419947740246265179576709e-10  …  3.920221321530338875746973948e-41, 8.344291336279569993377736186e-43, -6.340016429169998409670011825e-44, -1.200828886481386153699028554e-45, 1.756131391654905029148566702e-46, -2.606804500446154479723582283e-48, -2.424771689928001867191866328e-49, 1.018315361575380700016533826e-50, 1.918929218961710695074621113e-52, -2.304744689214629085910926376e-53], (0.5753999999999999999999999996, 0.8000000000000000000000000006))))"
      ]
     },
     "execution_count": 26,
     "metadata": {},
     "output_type": "execute_result"
    }
   ],
   "source": [
    "Tgn, DTgn = T_and_DT(gn)"
   ]
  },
  {
   "cell_type": "code",
   "execution_count": 27,
   "metadata": {},
   "outputs": [
    {
     "name": "stdout",
     "output_type": "stream",
     "text": [
      "  0.084212 seconds (106.17 k allocations: 3.575 MiB)\n"
     ]
    }
   ],
   "source": [
    "@time J = matrix_elements(DTgn, poly_basis);"
   ]
  },
  {
   "cell_type": "code",
   "execution_count": 28,
   "metadata": {},
   "outputs": [],
   "source": [
    "using Serialization\n",
    "open(f -> serialize(f, gn), \"$(prefix)/g.jls\", \"w\")\n",
    "open(f -> serialize(f, J), \"$(prefix)/jac.jls\", \"w\")"
   ]
  },
  {
   "cell_type": "markdown",
   "metadata": {},
   "source": [
    "## Continue..."
   ]
  },
  {
   "cell_type": "code",
   "execution_count": 29,
   "metadata": {},
   "outputs": [],
   "source": [
    "@everywhere begin\n",
    "    \n",
    "using Serialization\n",
    "\n",
    "gn = open(deserialize, \"$(prefix)/g.jls\")\n",
    "J = open(deserialize, \"$(prefix)/jac.jls\")\n",
    "    \n",
    "end"
   ]
  },
  {
   "cell_type": "code",
   "execution_count": 30,
   "metadata": {},
   "outputs": [
    {
     "data": {
      "text/plain": [
       "true"
      ]
     },
     "execution_count": 30,
     "metadata": {},
     "output_type": "execute_result"
    }
   ],
   "source": [
    "gn.cr == (c, r)"
   ]
  },
  {
   "cell_type": "code",
   "execution_count": 31,
   "metadata": {},
   "outputs": [
    {
     "data": {
      "text/plain": [
       "(Poly(BigFloat[-0.0001511713350611291656840145904, -1.256390384839309113454966122, 0.2468156475594798891903756126, 0.05671913449535499518131215488, -0.03593899510003976630438281722, 0.004309827907215549990447627635, 0.001963541004817085940087265941, -0.0008943234149703396950331270934, 6.105398965710550909211669004e-05, 6.18833202716769579476806784e-05  …  -8.193352719716318716845210401e-17, 4.678651669174662819840084076e-18, 6.290977208505213125174331796e-18, -2.036602398263703289116784981e-18, -5.514501237092254757475084934e-20, 2.007812537370097757991522041e-19, -4.634038429218728645259136977e-20, -6.570708157395391346804408734e-21, 5.946190599978746106321751204e-21, -9.218630047818848213294095374e-22], (0.5753999999999999999999999996, 0.8000000000000000000000000006)), var\"#DTg#15\"{Poly,BigFloat,Poly,Poly,Poly,Poly,Poly,Poly}(Poly(BigFloat[0.5753999999999999999999999996, 0.8000000000000000000000000006, 0.0, 0.0, 0.0, 0.0, 0.0, 0.0, 0.0, 0.0  …  0.0, 0.0, 0.0, 0.0, 0.0, 0.0, 0.0, 0.0, 0.0, 0.0], (0.5753999999999999999999999996, 0.8000000000000000000000000006)), -0.5916099166344381501396243519, Poly(BigFloat[0.07048742376292869901793872053, 0.09800128434192380815841323673, 0.0, 0.0, 0.0, 0.0, 0.0, 0.0, 0.0, 0.0  …  0.0, 0.0, 0.0, 0.0, 0.0, 0.0, 0.0, 0.0, 0.0, 0.0], (0.5753999999999999999999999996, 0.8000000000000000000000000006)), Poly(BigFloat[0.5752468012820460080596464827, -0.4732523286091758298356460365, 0.1479557601730117860000398166, -0.02049623738999346282283060046, 0.0008125254232882697161612853874, 8.660881718243166769097835922e-05, -8.490789858802638534582799006e-06, -2.26609756190999751913941459e-08, 3.183044566927272811884602569e-08, -9.871117779862409840739797507e-10  …  3.035973838849057585256655443e-40, -7.578459871072340687069335124e-42, -3.730016834691744677012566933e-43, 2.086054872373697324180971697e-44, 2.768758061665978228721400619e-46, -4.498096176950961909966478861e-47, 4.492027104042510753331968161e-49, 7.39271543343302607759742469e-50, -2.449457385963319276484113431e-51, -8.338247175154226044169606999e-53], (0.5753999999999999999999999996, 0.8000000000000000000000000006)), Poly(BigFloat[8.9434460933031342745790079e-05, 0.7432930108350933297197889915, -0.146018584676738765110757335, -0.0335556024303744538561500679, 0.02126186589506000730914180212, -0.002549736928896566568616483902, -0.001161650330168137131199259669, 0.0005290906009748287024903478859, -3.612014573124003929382216859e-05, -3.661078594698904150822354367e-05  …  4.847268719467918402840304048e-17, -2.76793672396199717031275409e-18, -3.721804501872919565281069217e-18, 1.204874175054286306847651295e-18, 3.262433617156654885123915524e-20, -1.187841807851103267553382896e-19, 2.741543088790874768158012587e-20, 3.887296105225910181955354894e-21, -3.517825325145905750374477029e-21, 5.45383295407383536904341669e-22], (0.5753999999999999999999999996, 0.8000000000000000000000000006)), Poly(BigFloat[-1.827722850993071869667660205, 0.01508123998259020320631372681, 0.008432819374990673034792589689, -0.0002782678210867848731755939047, -1.380321171571409502431125157e-05, 9.880605332090414786749450849e-07, 2.3832883781242971668405748e-09, -1.846667142741373150004344341e-09, 2.886327518923864774660992574e-11, 2.984637895360907070552882594e-12  …  -1.11210004809730895829637387e-42, 6.029439115582522655865117935e-44, -2.557274453597233083788509734e-45, 8.361102785353431107264798622e-47, -2.081479472395900201872370027e-48, 3.843138811460665216731083488e-50, -4.989295215023832661387250415e-52, 4.080662429916282780928428034e-54, -1.585008039210683916998840398e-56, 0.0], (0.5753999999999999999999999996, 0.8000000000000000000000000006)), Poly(BigFloat[-1.570606135250364862301725561, -0.3649707979268912823360885756, 0.1885723255493777204969421445, -0.02516582513607219303132373988, -0.01724149210562791399578056921, 0.008346931831838472152287518987, -0.000327124963968425539758877458, -0.000840913562138042827670850771, 0.0002569681519545327712668268935, 2.327214837451994692273661885e-05  …  -3.183873480775651281125532935e-16, 8.398327844359868894104432122e-17, 8.788270569572307482405296035e-18, -1.044532696510067075310795803e-17, 1.893646071488298909450148377e-18, 5.132874109682236395067441765e-19, -3.181180166273765609606547948e-19, 3.402725468632795090242954746e-20, 2.179048057691578278978253839e-20, -9.022235232403525279447503678e-21], (0.5753999999999999999999999996, 0.8000000000000000000000000006)), Poly(BigFloat[2.642108514533247765403650949, -1.630235931978596004597441153, 0.3420223475960653263441595041, -0.02324665699020507750144897804, -0.0008031646636869554051707238047, 0.0001322022795295735290965819092, -1.650815655035985818188615569e-06, -3.473613642863501614969535661e-07, 1.462129355381581931372910787e-08, 4.501419947740246265179576709e-10  …  3.920221321530338875746973948e-41, 8.344291336279569993377736186e-43, -6.340016429169998409670011825e-44, -1.200828886481386153699028554e-45, 1.756131391654905029148566702e-46, -2.606804500446154479723582283e-48, -2.424771689928001867191866328e-49, 1.018315361575380700016533826e-50, 1.918929218961710695074621113e-52, -2.304744689214629085910926376e-53], (0.5753999999999999999999999996, 0.8000000000000000000000000006))))"
      ]
     },
     "execution_count": 31,
     "metadata": {},
     "output_type": "execute_result"
    }
   ],
   "source": [
    "Tgn, DTgn = T_and_DT(gn) # only if not done above"
   ]
  },
  {
   "cell_type": "code",
   "execution_count": 32,
   "metadata": {},
   "outputs": [
    {
     "name": "stdout",
     "output_type": "stream",
     "text": [
      "0: -0.0001511713350611291656840259461\n",
      "1: -1.256390384839309113454966115\n",
      "2: 0.2468156475594798891903756139\n",
      "3: 0.05671913449535499518131215337\n",
      "4: -0.03593899510003976630438281692\n",
      "5: 0.004309827907215549990447627761\n",
      "6: 0.001963541004817085940087265859\n",
      "7: -0.0008943234149703396950331270792\n",
      "8: 6.105398965710550909211669497e-05\n",
      "9: 6.188332027167695794768067623e-05\n",
      "10: -2.032064217816506082080031603e-05\n",
      "11: -5.917508310565041252403351028e-07\n",
      "12: 1.993110264488937754875573495e-06\n",
      "13: -4.460808064168219715751740601e-07\n",
      "14: -7.091465500270745524324392239e-08\n",
      "15: 5.999985897082526939375574855e-08\n",
      "16: -9.224090264909730396057487991e-09\n",
      "17: -3.081048454699410800420030238e-09\n",
      "18: 1.652284575905043706735798251e-09\n",
      "19: -1.530219765235557359682330951e-10\n",
      "20: -1.096154081162629255138868031e-10\n",
      "21: 4.22375356017612712026145581e-11\n",
      "22: -1.004640487249960190548467289e-12\n",
      "23: -3.558676617626400441095391722e-12\n",
      "24: 1.004423856884389818876374579e-12\n",
      "25: 6.516615444194818766762551315e-14\n",
      "26: -1.079237625624183863379753845e-13\n",
      "27: 2.172052736819717070611182756e-14\n",
      "28: 4.262632899226970967361702419e-15\n",
      "29: -3.071110664243917246695220562e-15\n",
      "30: 3.978542434330043722812955134e-16\n",
      "31: 1.782851232460937282016188991e-16\n",
      "32: -8.193352719716318716845220428e-17\n",
      "33: 4.678651669174662819840125835e-18\n",
      "34: 6.290977208505213125174316785e-18\n",
      "35: -2.036602398263703289116780194e-18\n",
      "36: -5.514501237092254757475233016e-20\n",
      "37: 2.007812537370097757991527002e-19\n",
      "38: -4.634038429218728645259155404e-20\n",
      "39: -6.570708157395391346804337498e-21\n",
      "40: 5.946190599978746106321723769e-21\n",
      "41: -9.218630047818848213293989264e-22\n"
     ]
    }
   ],
   "source": [
    "for (k, a) in enumerate(gn.coeffs)\n",
    "    println(\"$(k-1): $(a)\")\n",
    "end"
   ]
  },
  {
   "cell_type": "code",
   "execution_count": 33,
   "metadata": {},
   "outputs": [
    {
     "data": {
      "text/plain": [
       "-1.690302971405244853343780156"
      ]
     },
     "execution_count": 33,
     "metadata": {},
     "output_type": "execute_result"
    }
   ],
   "source": [
    "a = gn(1)\n",
    "alpha = 1/a"
   ]
  },
  {
   "cell_type": "code",
   "execution_count": 34,
   "metadata": {},
   "outputs": [],
   "source": [
    "@everywhere begin\n",
    "\n",
    "# interval datatype\n",
    "struct Interval\n",
    "    lo::BigFloat\n",
    "    hi::BigFloat\n",
    "    Interval(lo, hi) = lo > hi ? error(\"bad Interval\") : new(lo, hi)\n",
    "    Interval(a) = Interval(a, a)\n",
    "    Interval(i::Interval) = new(i.lo, i.hi)\n",
    "end\n",
    "\n",
    "# membership\n",
    "function in(a::Number, x::Interval)\n",
    "    x.lo <= a <= x.hi\n",
    "end\n",
    "\n",
    "# subset\n",
    "function in(x::Interval, y::Interval)\n",
    "    y.lo <= x.lo && x.hi <= y.hi\n",
    "end\n",
    "\n",
    "(==)(x::Interval, y::Interval) = x.lo == y.lo && x.hi == y.hi\n",
    "\n",
    "(<)(x::Interval, y::Interval) = x.hi < y.lo\n",
    "(>)(x::Interval, y::Interval) = y<x\n",
    "\n",
    "(<)(x::BigFloat, y::Interval) = x < y.lo\n",
    "(<)(x::Interval, y::BigFloat) = x.hi < y\n",
    "\n",
    "(>)(x::BigFloat, y::Interval) = y<x\n",
    "(>)(x::Interval, y::BigFloat) = y<x\n",
    "\n",
    "zero(i::Interval) = Interval(0)\n",
    "one(i::Interval) = Interval(1)\n",
    "\n",
    "function abs(x::Interval)\n",
    "    if 0 in x\n",
    "        return Interval(0, max(abs(x.lo), abs(x.hi)))\n",
    "    else\n",
    "        return Interval(min(abs(x.lo), abs(x.hi)), max(abs(x.lo), abs(x.hi)))\n",
    "    end\n",
    "end\n",
    "\n",
    "import Base: setrounding\n",
    "\n",
    "function +(x::Interval, y::Interval)\n",
    "    setrounding(BigFloat, RoundDown)\n",
    "    lo::BigFloat = x.lo+y.lo\n",
    "    setrounding(BigFloat, RoundUp)\n",
    "    hi::BigFloat = x.hi+y.hi\n",
    "    setrounding(BigFloat, RoundNearest)\n",
    "    Interval(lo, hi)\n",
    "end\n",
    "\n",
    "(-)(x::Interval) = Interval(-x.hi, -x.lo)\n",
    "(-)(x::Interval, y::Interval) = x+(-y)\n",
    "\n",
    "function +(x::Interval, a::Number)\n",
    "    setrounding(BigFloat, RoundDown)\n",
    "    lo::BigFloat = x.lo+a\n",
    "    setrounding(BigFloat, RoundUp)\n",
    "    hi::BigFloat = x.hi+a\n",
    "    setrounding(BigFloat, RoundNearest)\n",
    "    Interval(lo, hi)\n",
    "end\n",
    "\n",
    "(+)(a::Number, x::Interval) = x+a\n",
    "(-)(x::Interval, a::Number) = x+(-a)\n",
    "(-)(a::Number, x::Interval) = -x+a\n",
    "\n",
    "function *(x::Interval, y::Interval)\n",
    "    setrounding(BigFloat, RoundDown)\n",
    "    lo::BigFloat = min(x.lo*y.lo, x.lo*y.hi, x.hi*y.lo, x.hi*y.hi)\n",
    "    setrounding(BigFloat, RoundUp)\n",
    "    hi::BigFloat = max(x.lo*y.lo, x.lo*y.hi, x.hi*y.lo, x.hi*y.hi)\n",
    "    setrounding(BigFloat, RoundNearest)\n",
    "    Interval(lo, hi)\n",
    "end\n",
    "\n",
    "function *(x::Interval, a::Number)\n",
    "    if a >= 0\n",
    "        setrounding(BigFloat, RoundDown)\n",
    "        c::BigFloat = x.lo*a\n",
    "        setrounding(BigFloat, RoundUp)\n",
    "        d::BigFloat = x.hi*a\n",
    "        setrounding(BigFloat, RoundNearest)\n",
    "        Interval(c, d)\n",
    "    else\n",
    "        setrounding(BigFloat, RoundDown)\n",
    "        e::BigFloat = x.hi*a\n",
    "        setrounding(BigFloat, RoundUp)\n",
    "        f::BigFloat = x.lo*a\n",
    "        setrounding(BigFloat, RoundNearest)\n",
    "        Interval(e, f)\n",
    "    end\n",
    "end\n",
    "\n",
    "(*)(a::Number, x::Interval) = x*a\n",
    "\n",
    "function iRec(x::Interval)\n",
    "    if 0 in x\n",
    "        error(\"division by zero\")\n",
    "    else\n",
    "        setrounding(BigFloat, RoundDown)\n",
    "        lo::BigFloat = 1/x.hi\n",
    "        setrounding(BigFloat, RoundUp)\n",
    "        hi::BigFloat = 1/x.lo\n",
    "        setrounding(BigFloat, RoundNearest)\n",
    "        Interval(lo, hi)\n",
    "    end\n",
    "end\n",
    "\n",
    "(/)(x::Interval, y::Interval) = x*iRec(y)\n",
    "(/)(x::Interval, a::Number) = x*(1/a)\n",
    "(/)(a::Number, x::Interval) = a*iRec(x)\n",
    "\n",
    "function ^(x::Interval, n::Integer)\n",
    "    if n%2 == 1 || x.lo >= 0\n",
    "        # odd power\n",
    "        setrounding(BigFloat, RoundDown)\n",
    "        a::BigFloat = x.lo^n\n",
    "        setrounding(BigFloat, RoundUp)\n",
    "        b::BigFloat = x.hi^n\n",
    "        setrounding(BigFloat, RoundNearest)\n",
    "        return Interval(a, b)\n",
    "    elseif x.hi < 0\n",
    "        setrounding(BigFloat, RoundDown)\n",
    "        c::BigFloat = x.hi^n\n",
    "        setrounding(BigFloat, RoundUp)\n",
    "        d::BigFloat = x.lo^n\n",
    "        setrounding(BigFloat, RoundNearest)\n",
    "        return Interval(c, d)\n",
    "    else\n",
    "        setrounding(BigFloat, RoundUp)\n",
    "        e::BigFloat = x.lo^n\n",
    "        f::BigFloat = x.hi^n\n",
    "        setrounding(BigFloat, RoundNearest)\n",
    "        return Interval(0, max(e, f))\n",
    "    end\n",
    "end\n",
    "\n",
    "function sqrt(x::Interval)\n",
    "    half = BigFloat(1)/BigFloat(2)\n",
    "    @assert half*BigFloat(2) == BigFloat(1)\n",
    "    @assert x.lo >= BigFloat(0)\n",
    "    setrounding(BigFloat, RoundDown)\n",
    "    a = x.lo^half\n",
    "    setrounding(BigFloat, RoundUp)\n",
    "    b = x.hi^half\n",
    "    setrounding(BigFloat, RoundNearest)\n",
    "    Interval(a, b)\n",
    "end\n",
    "\n",
    "comparable(x::Interval, y::Interval) = x.hi <= y.lo || x.lo >= y.hi\n",
    "\n",
    "setrounding(t::Type{Float64}, mode) = nothing\n",
    "#setrounding(t::Type{Double64}, mode) = nothing\n",
    "\n",
    "function bound_quasi_power_careful(k0, g_norm::Interval)\n",
    "    @assert(g_norm.hi < Interval(1))\n",
    "    @assert(g_norm.hi > Interval(0))\n",
    "    # important to make the interval trivial, here\n",
    "    g_norm = Interval(g_norm.hi, g_norm.hi)\n",
    "    k = k0 + 1\n",
    "    latest = k * g_norm ^ (k - 1)\n",
    "    greatest_upper = latest.hi\n",
    "    greatest_lower = latest.lo\n",
    "    #println(latest)\n",
    "    \n",
    "    # a new upper bound strictly below a previous lower bound\n",
    "    # indicates that we have passed the maximum.\n",
    "    # at that point, the greatest upper bound found so far\n",
    "    # and the greatest lower bound found so far\n",
    "    # together bound the maximum of the graph.\n",
    "    \n",
    "    while latest.hi >= greatest_lower\n",
    "        if latest.lo > greatest_lower\n",
    "            greatest_lower = latest.lo\n",
    "        end\n",
    "        if latest.hi > greatest_upper\n",
    "            greatest_upper = latest.hi\n",
    "        end\n",
    "        k = k + 1\n",
    "        latest = k * g_norm ^ (k - 1)\n",
    "        #println(latest)\n",
    "    end\n",
    "    Interval(greatest_lower, greatest_upper)\n",
    "end\n",
    "\n",
    "# here, we would make the argument that\n",
    "# the rounded version of the quasi power\n",
    "# is not order reversing at any point.\n",
    "\n",
    "# this means that it should be sufficient to\n",
    "# compute upper bounds only.\n",
    "\n",
    "function bound_quasi_power(k0, g_norm::Interval)\n",
    "    @assert(g_norm.hi < Interval(1))\n",
    "    @assert(g_norm.hi > Interval(0))\n",
    "    # important to make the interval trivial, here\n",
    "    k = k0 + 1\n",
    "    setrounding(BigFloat, RoundUp)\n",
    "    latest = k * g_norm.hi ^ (k - 1)\n",
    "    greatest_upper = latest\n",
    "    while latest >= greatest_upper\n",
    "        if latest > greatest_upper\n",
    "            greatest_upper = latest\n",
    "        end\n",
    "        k = k + 1\n",
    "        latest = k * g_norm.hi ^ (k - 1)\n",
    "    end\n",
    "    setrounding(BigFloat, RoundNearest)\n",
    "    Interval(0, greatest_upper)\n",
    "end\n",
    "\n",
    "# we established that the two methods produce the same results\n",
    "#for k in 1:100\n",
    "#    p = Int(floor(rand()*500))\n",
    "#    x = 1-0.001*rand()\n",
    "#    bound1 = bound_quasi_power(p, Interval(x)).hi\n",
    "#    bound2 = bound_quasi_power_crude(p, Interval(x)).hi\n",
    "#    if bound1 != bound2\n",
    "#        println(\"$x: $bound1 != $bound2\")\n",
    "#    end\n",
    "#end\n",
    "\n",
    "function balanced(i::Interval)\n",
    "    a = max(abs(i.lo), abs(i.hi))\n",
    "    Interval(-a, a)\n",
    "end\n",
    "\n",
    "function nonnegative(i::Interval)\n",
    "    a = max(i.lo, BigFloat(0))\n",
    "    @assert i.hi>=0\n",
    "    Interval(a, i.hi)\n",
    "end\n",
    "\n",
    "function hull(v::Array{Interval, 1})\n",
    "    lo = min([i.lo for i in v]...)\n",
    "    hi = max([i.hi for i in v]...)\n",
    "    Interval(lo, hi)\n",
    "end\n",
    "\n",
    "unit_vector(t::Type, k::Integer) = [j == k ? t(1) : t(0) for j in 0:N]\n",
    "    \n",
    "end"
   ]
  },
  {
   "cell_type": "code",
   "execution_count": 35,
   "metadata": {},
   "outputs": [],
   "source": [
    "@everywhere begin\n",
    "\n",
    "struct Rectangle\n",
    "    re::Interval\n",
    "    im::Interval\n",
    "    Rectangle(re::Interval, im::Interval) = new(re, im)\n",
    "    Rectangle(re, im) = new(Interval(re), Interval(im))\n",
    "    Rectangle(re) = new(Interval(re), Interval(0))\n",
    "end\n",
    "\n",
    "in(x::Rectangle, z::Rectangle) = x.re in z.re && x.im in z.im\n",
    "zero(z::Rectangle) = Rectangle(0, 0)\n",
    "one(z::Rectangle) = Rectangle(1, 0)\n",
    "\n",
    "(-)(z::Rectangle) = Rectangle(-z.re, -z.im)\n",
    "\n",
    "(+)(z::Rectangle, w::Rectangle) = Rectangle(z.re+w.re, z.im+w.im)\n",
    "(-)(z::Rectangle, w::Rectangle) = Rectangle(z.re-w.re, z.im-w.im)\n",
    "\n",
    "(*)(z::Rectangle, x::Interval) = Rectangle(z.re*x, z.im*x)\n",
    "(/)(z::Rectangle, x::Interval) = z*(1/x)\n",
    "\n",
    "function reciprocal(z::Rectangle)\n",
    "    d = z.re^2 + z.im^2\n",
    "    Rectangle(z.re/d, -z.im/d)\n",
    "end\n",
    "\n",
    "(/)(z::Rectangle, w::Rectangle) = z*reciprocal(w)\n",
    "\n",
    "(*)(z::Rectangle, w::Rectangle) = Rectangle(z.re*w.re-z.im*w.im, z.re*w.im+z.im*w.re)\n",
    "\n",
    "(+)(z::Rectangle, x::Interval) = Rectangle(z.re+x, z.im)\n",
    "(-)(z::Rectangle, x::Interval) = Rectangle(z.re-x, z.im)\n",
    "\n",
    "# derived\n",
    "(*)(x::Interval, z::Rectangle) = z*x\n",
    "(/)(x::Interval, z::Rectangle) = Rectangle(x)/z\n",
    "(+)(x::Interval, z::Rectangle) = z+x\n",
    "(-)(x::Interval, z::Rectangle) = -z+x\n",
    "\n",
    "# we don't have sqrt of an interval yet.\n",
    "abs(z::Rectangle) = sqrt(z.re^2 + z.im^2)\n",
    "\n",
    "(^)(z::Rectangle, p::Integer) = russian(z, p)\n",
    "\n",
    "Rectangle(z::Complex{BigFloat}) = Rectangle(z.re, z.im)\n",
    "    \n",
    "end"
   ]
  },
  {
   "cell_type": "code",
   "execution_count": 36,
   "metadata": {},
   "outputs": [],
   "source": [
    "@everywhere begin\n",
    "\n",
    "struct Trunc\n",
    "    coeffs::Array{Interval, 1}\n",
    "    Trunc(a::Array{Interval, 1}) = length(a) == 1+N ? new(a) : error(\"wrong #coeffs\")\n",
    "end\n",
    "\n",
    "abs(t::Trunc) = sum(abs(a) for a in t.coeffs)\n",
    "\n",
    "(^)(t::Trunc, p::Integer) = russian(t, p)\n",
    "\n",
    "zero(t::Trunc) = Trunc([Interval(0) for k in 0:N])\n",
    "one(t::Trunc) = Trunc([k == 0 ? Interval(1) : Interval(0) for k in 0:N])\n",
    "\n",
    "# Vector space essentials\n",
    "(+)(t::Trunc, u::Trunc) = Trunc(t.coeffs + u.coeffs)\n",
    "(-)(t::Trunc) = Trunc(-t.coeffs)\n",
    "(*)(t::Trunc, a::Union{Number, Interval}) = Trunc(t.coeffs * a)\n",
    "\n",
    "# Vector space derived\n",
    "(-)(t::Trunc, u::Trunc) = t+(-u)\n",
    "(/)(t::Trunc, a::Interval) = t*(1/a)\n",
    "(*)(a::Union{Number, Interval}, t::Trunc) = t*a\n",
    "\n",
    "# I think that (*)(Array{T, 1}, Number) is defined already by default.\n",
    "# But since Interval is not a subtype of Number,\n",
    "# we must define (*)(Array{Interval, 1}, Interval).\n",
    "(*)(a::Array{Interval, 1}, b::Interval) = [ak*b for ak in a]\n",
    "(*)(b::Interval, a::Array{Interval, 1}) = a*b\n",
    "\n",
    "# Convenience\n",
    "function +(t::Trunc, a::Interval)\n",
    "    coeffs = copy(t.coeffs)\n",
    "    coeffs[1] += a\n",
    "    Trunc(coeffs)\n",
    "end\n",
    "\n",
    "function -(t::Trunc, a::Interval)\n",
    "    coeffs = copy(t.coeffs)\n",
    "    coeffs[1] -= a\n",
    "    Trunc(coeffs)\n",
    "end\n",
    "\n",
    "(+)(a::Interval, t::Trunc) = t+a\n",
    "(-)(a::Interval, t::Trunc) = (-t)+a\n",
    "\n",
    "# Algebra\n",
    "function *(t::Trunc, u::Trunc)\n",
    "    coeffs = fill(Interval(0), N+1)\n",
    "    for j in 0:N\n",
    "        for k in 0:N-j\n",
    "            coeffs[1+j+k] += t.coeffs[1+j]*u.coeffs[1+k]\n",
    "        end\n",
    "    end\n",
    "    Trunc(coeffs)\n",
    "end\n",
    "\n",
    "# Evaluation and composition of polynomial. Compact, but could be made more efficient?\n",
    "#(t::Trunc)(x::Union{Interval, Rectangle, Trunc}) = sum(a*x^(k-1) for (k, a) in enumerate(t.coeffs))\n",
    "function (t::Trunc)(x::Union{Interval, Rectangle, Trunc})\n",
    "    total = t.coeffs[N+1]*x + t.coeffs[N]\n",
    "    for k in N-1:-1:1\n",
    "        total = total*x + t.coeffs[k]\n",
    "    end\n",
    "    total\n",
    "end\n",
    "\n",
    "function bound_high_order_product(t::Trunc, u::Trunc)\n",
    "    coeffs = Dict{Int64, Interval}()\n",
    "    for j in 0:N\n",
    "        for k in 0:N\n",
    "            if j+k > N\n",
    "                a::Interval = t.coeffs[1+j]*u.coeffs[1+k]\n",
    "                if haskey(coeffs, j+k)\n",
    "                    coeffs[j+k] += a\n",
    "                else\n",
    "                    coeffs[j+k] = a\n",
    "                end\n",
    "            end\n",
    "        end\n",
    "    end\n",
    "    sum(abs(a) for (k, a) in coeffs)\n",
    "end\n",
    "\n",
    "abs_star(t::Trunc) = sum(abs(t.coeffs[1+k]) for k in 1:N)\n",
    "\n",
    "diff(t::Trunc) = Trunc([k == N ? Interval(0) : (1+k)*t.coeffs[2+k] for k in 0:N])\n",
    "\n",
    "end"
   ]
  },
  {
   "cell_type": "code",
   "execution_count": 37,
   "metadata": {},
   "outputs": [],
   "source": [
    "@everywhere begin\n",
    "\n",
    "struct StdBall\n",
    "    P::Trunc\n",
    "    H::Interval\n",
    "    G::Interval\n",
    "    \n",
    "    # we enforce the intervals h, g to be of the form [0, b].\n",
    "    StdBall(p::Trunc, h::Number, g::Number) = new(p, Interval(0, h), Interval(0, g))\n",
    "    StdBall(p::Trunc, h::Interval, g::Interval) = new(p, Interval(0, h.hi), Interval(0, g.hi))\n",
    "end\n",
    "\n",
    "zero(b::StdBall) = StdBall(zero(b.P), Interval(0), Interval(0))\n",
    "one(b::StdBall) = StdBall(one(b.P), Interval(0), Interval(0))\n",
    "\n",
    "# Abs\n",
    "abs(b::StdBall) = nonnegative(abs(b.P) + b.H + balanced(b.G))\n",
    "\n",
    "# Vector space operations\n",
    "\n",
    "# Negative\n",
    "(-)(b::StdBall) = StdBall(-b.P, b.H, b.G)\n",
    "\n",
    "# Scalar multiples\n",
    "(*)(b::StdBall, i::Interval) = StdBall(b.P*i, b.H*abs(i), b.G*abs(i))\n",
    "(/)(b::StdBall, i::Interval) = b*(1/i)\n",
    "\n",
    "# Add and subtract\n",
    "(+)(b::StdBall, c::StdBall) = StdBall(b.P+c.P, b.H+c.H, b.G+c.G)\n",
    "(-)(b::StdBall, c::StdBall) = b+(-c)\n",
    "\n",
    "# Constant add and subtract\n",
    "(+)(b::StdBall, i::Interval) = StdBall(b.P+i, b.H, b.G)\n",
    "(-)(b::StdBall, i::Interval) = StdBall(b.P-i, b.H, b.G)\n",
    "\n",
    "# Derived\n",
    "(*)(i::Interval, b::StdBall) = b*i\n",
    "(+)(i::Interval, b::StdBall) = b+i\n",
    "(-)(i::Interval, b::StdBall) = (-b)+i\n",
    "\n",
    "function *(b::StdBall, c::StdBall)\n",
    "    PP_P = b.P*c.P\n",
    "    PP_H = bound_high_order_product(b.P, c.P)\n",
    "    PH = abs(b.P)*c.H\n",
    "    PG = abs(b.P)*c.G\n",
    "\n",
    "    HP = b.H*abs(c.P)\n",
    "    HH = b.H*c.H\n",
    "    HG = b.H*c.G\n",
    "    \n",
    "    GP = b.G*abs(c.P)\n",
    "    GH = b.G*c.H\n",
    "    GG = b.G*c.G\n",
    "    \n",
    "    P = PP_P\n",
    "    H = PP_H + PH + HP + HH + GH + HG\n",
    "    G = PG + GP + GG\n",
    "    \n",
    "    StdBall(P, H, G)\n",
    "end\n",
    "\n",
    "(^)(t::StdBall, p::Integer) = russian(t, p)\n",
    "\n",
    "function abs_star(g::StdBall)\n",
    "    x = abs_star(g.P) + Interval(0, g.G.hi) + Interval(-g.G.hi, g.G.hi)\n",
    "    Interval(max(0, x.lo), x.hi)\n",
    "end\n",
    "\n",
    "# function ball compose\n",
    "\n",
    "function (f::StdBall)(g::StdBall)\n",
    "    if ~(f.H == f.G == Interval(0)) && ~(abs(g) in Interval(0, 1))\n",
    "        error(\"composition not defined\")\n",
    "    end\n",
    "    ball_1 = f.P(g)\n",
    "    ball_3 = StdBall(zero(f.P), Interval(0), f.G)\n",
    "    g_norm = abs(g)^(N+1)\n",
    "    g_star_norm = abs_star(g)^(N+1)\n",
    "    ball_2 = StdBall(zero(f.P), f.H*g_star_norm, f.H*(g_norm - g_star_norm))\n",
    "    ball_1 + ball_2 + ball_3\n",
    "end\n",
    "\n",
    "function (f::StdBall)(g) #could be g::AbstractRigorousScalar\n",
    "    if ~(f.H == f.G == Interval(0)) && ~(abs(g) in Interval(0, 1))\n",
    "        error(\"composition not defined\")\n",
    "    end\n",
    "    g_norm = abs(g)^(N + 1)\n",
    "    r = f.H * g_norm + f.G\n",
    "    f.P(g) + Interval(-r.hi, r.hi)\n",
    "end\n",
    "\n",
    "# could absorb this into earlier definition\n",
    "#(t::Trunc)(x::StdBall) = sum(a*x^(k-1) for (k, a) in enumerate(t.coeffs))\n",
    "function (t::Trunc)(x::StdBall)\n",
    "    total = t.coeffs[N+1]*x + t.coeffs[N]\n",
    "    for k in N-1:-1:1\n",
    "        total = total*x + t.coeffs[k]\n",
    "    end\n",
    "    total\n",
    "end\n",
    "\n",
    "function diff_compose(f::StdBall, g::StdBall)\n",
    "    if (f.H.hi > 0 || f.G.hi > 0) && ~(abs(g) in Interval(0, 1))\n",
    "        error(\"diff composition not defined\")\n",
    "    end\n",
    "    ball_1 = diff(f.P)(g)\n",
    "    g_norm = abs(g)\n",
    "    if f.G == f.H == Interval(0)\n",
    "        norm_sup_H = norm_sup_G = 0\n",
    "    else\n",
    "        norm_sup_H = bound_quasi_power(N, g_norm)\n",
    "        norm_sup_G = bound_quasi_power(0, g_norm)\n",
    "    end\n",
    "    # some sacrifice is made here! absorbing into general term!\n",
    "    # an alternative is to absord into both high-order term and\n",
    "    # the final polynomial coefficient.\n",
    "    ball_2 = StdBall(zero(f.P), Interval(0), f.H * norm_sup_H)\n",
    "    ball_3 = StdBall(zero(f.P), Interval(0), f.G * norm_sup_G)\n",
    "    ball_1 + ball_2 + ball_3\n",
    "end\n",
    "\n",
    "diff_compose(f::StdBall, t::Trunc) = diff_compose(f, StdBall(t, 0, 0))\n",
    "\n",
    "function basis_element(b::StdBall, k::Integer)\n",
    "    if k <= N\n",
    "        return StdBall(Trunc(unit_vector(Interval, k)), 0, 0)\n",
    "    else\n",
    "        return StdBall(Trunc(fill(Interval(0), N+1)), 1, 0)\n",
    "    end\n",
    "end\n",
    "    \n",
    "end"
   ]
  },
  {
   "cell_type": "code",
   "execution_count": 38,
   "metadata": {},
   "outputs": [],
   "source": [
    "@everywhere begin\n",
    "\n",
    "struct Domain\n",
    "    c::Interval\n",
    "    r::Interval\n",
    "    Domain(c::Interval, r::Interval) = r.lo <= 0 ? error(\"domain radius\") : new(c, r)\n",
    "end\n",
    "\n",
    "in(z::Union{BigFloat, Interval}, d::Domain) = abs(z-d.c) < d.r\n",
    "in(z::Rectangle, d::Domain) = abs(z-Rectangle(d.c, 0)) < d.r\n",
    "(==)(d::Domain, e::Domain) = d.c==e.c && d.r==e.r\n",
    "    \n",
    "end"
   ]
  },
  {
   "cell_type": "code",
   "execution_count": 39,
   "metadata": {},
   "outputs": [],
   "source": [
    "@everywhere begin\n",
    "\n",
    "struct Ball\n",
    "    std::StdBall\n",
    "    dom::Domain\n",
    "end\n",
    "\n",
    "# negative\n",
    "(-)(f::Ball) = Ball(-f.std, f.dom)\n",
    "\n",
    "# scalar multiply\n",
    "(*)(f::Ball, i::Interval) = Ball(f.std*i, f.dom)\n",
    "(*)(i::Interval, f::Ball) = f*i\n",
    "(/)(f::Ball, i::Interval) = f*(1/i)\n",
    "\n",
    "(*)(f::Ball, a::Number) = f*Interval(a)\n",
    "(*)(a::Number, f::Ball) = f*a\n",
    "\n",
    "# ball add\n",
    "(+)(f::Ball, g::Ball) = f.dom == g.dom ? Ball(f.std+g.std, f.dom) : error(\"domain mismatch\")\n",
    "(-)(f::Ball, g::Ball) = f.dom == g.dom ? Ball(f.std-g.std, f.dom) : error(\"domain mismatch\")\n",
    "\n",
    "# scalar add\n",
    "(+)(f::Ball, a::Interval) = Ball(f.std+a, f.dom)\n",
    "(-)(f::Ball, a::Interval) = Ball(f.std-a, f.dom)\n",
    "\n",
    "# ball mul\n",
    "(*)(f::Ball, g::Ball) = f.dom == g.dom ? Ball(f.std*g.std, f.dom) : error(\"domain mismatich\")\n",
    "\n",
    "# ball pow\n",
    "(^)(f::Ball, n::Integer) = Ball(f.std^n, f.dom)\n",
    "\n",
    "# ball eval/compose\n",
    "(f::Ball)(i) = f.std((i - f.dom.c)/f.dom.r)\n",
    "(f::Ball)(g::Ball) = Ball(f.std((g.std - f.dom.c)/f.dom.r), g.dom)\n",
    "\n",
    "# diff_compose\n",
    "diff_compose(f::Ball, g::Ball) = Ball(diff_compose(f.std, (g.std - f.dom.c)/f.dom.r)/f.dom.r, g.dom)\n",
    "\n",
    "# allow differentiation for composition\n",
    "function diff(f::Ball)\n",
    "    df(g::Ball) = diff_compose(f, g)\n",
    "end\n",
    "\n",
    "# identity with respect to domain\n",
    "function identity(f::Ball)\n",
    "    coeffs = fill(Interval(0), N+1)\n",
    "    coeffs[1] = f.dom.c\n",
    "    coeffs[2] = f.dom.r\n",
    "    Ball(StdBall(Trunc(coeffs), Interval(0), Interval(0)), f.dom)\n",
    "end\n",
    "\n",
    "basis_element(f::Ball, k::Integer) = Ball(basis_element(f.std, k), f.dom)\n",
    "\n",
    "function Ball(p::Poly, h::Number, g::Number)\n",
    "    c, r = p.cr\n",
    "    dom = Domain(Interval(c), Interval(r))\n",
    "    t = Trunc(map(Interval, p.coeffs))\n",
    "    s = StdBall(t, h, g)\n",
    "    b = Ball(s, dom)\n",
    "end\n",
    "\n",
    "abs(b::Ball) = abs(b.std)\n",
    "\n",
    "function (m::Array{Interval, 2})(b::Ball, coeff_HH::Interval)\n",
    "    PP = m*b.std.P.coeffs\n",
    "    # assume all of G is in the polynomial part\n",
    "    PG = [hull(m[1+k,:])*balanced(b.std.G) for k in 0:N]\n",
    "    P = Trunc(PP + PG)\n",
    "    H = (b.std.H + b.std.G)*abs(coeff_HH)\n",
    "    G = Interval(0)\n",
    "    Ball(StdBall(P, H, G), b.dom)\n",
    "end\n",
    "    \n",
    "end"
   ]
  },
  {
   "cell_type": "code",
   "execution_count": 40,
   "metadata": {},
   "outputs": [],
   "source": [
    "@everywhere dom = Domain(Interval(c), Interval(r))"
   ]
  },
  {
   "cell_type": "code",
   "execution_count": 41,
   "metadata": {},
   "outputs": [],
   "source": [
    "@everywhere I = eye(BigFloat, N+1);"
   ]
  },
  {
   "cell_type": "code",
   "execution_count": 42,
   "metadata": {
    "scrolled": false
   },
   "outputs": [],
   "source": [
    "@everywhere Lambda_pp = map(Interval, inv(J-I))"
   ]
  },
  {
   "cell_type": "code",
   "execution_count": 43,
   "metadata": {},
   "outputs": [],
   "source": [
    "@everywhere begin\n",
    "\n",
    "function gauss(A_::Matrix)\n",
    "    A = copy(A_)      \n",
    "    m, n = size(A)\n",
    "    @assert m <= n\n",
    "\n",
    "    for k in 1:m\n",
    "        \n",
    "        # seek largest nonzero A[j,k] across j\n",
    "        best, abs_best = k, abs(A[k,k])\n",
    "        for i in k+1:m\n",
    "            if abs(A[i,k]) > abs_best\n",
    "                best, abs_best = i, abs(A[i,k])\n",
    "            end\n",
    "        end\n",
    "\n",
    "        # swap rows to position pivot\n",
    "        A[k,:], A[best,:] = A[best,:], A[k,:]\n",
    "\n",
    "        # divide row by pivot\n",
    "        pivot = A[k,k]\n",
    "        for j in k:n\n",
    "            A[k,j] /= pivot\n",
    "        end\n",
    "\n",
    "        # clear zeros above and below\n",
    "        for k_that in 1:m\n",
    "            if k_that != k\n",
    "                ratio = A[k_that,k]/A[k,k]\n",
    "                for j in k:n\n",
    "                    A[k_that,j] -= ratio*A[k,j]\n",
    "                end\n",
    "            end\n",
    "        end\n",
    "    end\n",
    "    A\n",
    "end\n",
    "\n",
    "#invert(A::Matrix) = gauss(hcat(A, eye(typeof(A[1,1]), size(A)[1])))[:,size(A)[2]+1:end]\n",
    "    \n",
    "end"
   ]
  },
  {
   "cell_type": "code",
   "execution_count": 44,
   "metadata": {},
   "outputs": [],
   "source": [
    "# success here means that Lambda_pp, and hence Lambda itself,\n",
    "# is invertible.\n",
    "#@everywhere Lambda_pp_inv = invert(Lambda_pp);"
   ]
  },
  {
   "cell_type": "code",
   "execution_count": 45,
   "metadata": {},
   "outputs": [],
   "source": [
    "@everywhere function Phi(b0::Ball, Lambda_pp::Array{Interval, 2})\n",
    "    Tb0, DTb0 = T_and_DT(b0)\n",
    "    Phib0 = b0 - Lambda_pp(Tb0-b0, Interval(1))\n",
    "end"
   ]
  },
  {
   "cell_type": "code",
   "execution_count": 46,
   "metadata": {
    "scrolled": false
   },
   "outputs": [],
   "source": [
    "B0 = Ball(gn, 0, 0);"
   ]
  },
  {
   "cell_type": "code",
   "execution_count": 47,
   "metadata": {},
   "outputs": [
    {
     "name": "stdout",
     "output_type": "stream",
     "text": [
      "  0.832063 seconds (12.68 M allocations: 578.383 MiB, 5.52% gc time)\n"
     ]
    }
   ],
   "source": [
    "@time Phi_B0 = Phi(B0, Lambda_pp);"
   ]
  },
  {
   "cell_type": "code",
   "execution_count": 48,
   "metadata": {},
   "outputs": [
    {
     "data": {
      "text/plain": [
       "Interval(0.0, 5.59105108687788961834971942e-22)"
      ]
     },
     "execution_count": 48,
     "metadata": {},
     "output_type": "execute_result"
    }
   ],
   "source": [
    "epsilon = abs(Phi_B0-B0)"
   ]
  },
  {
   "cell_type": "code",
   "execution_count": 49,
   "metadata": {},
   "outputs": [
    {
     "data": {
      "text/plain": [
       "9.999999999999999999999999995e-22"
      ]
     },
     "execution_count": 49,
     "metadata": {},
     "output_type": "execute_result"
    }
   ],
   "source": [
    "rho_log10 = Int(round(0.5+log10(epsilon.hi)))\n",
    "rho = BigFloat(10)^rho_log10"
   ]
  },
  {
   "cell_type": "code",
   "execution_count": 50,
   "metadata": {},
   "outputs": [],
   "source": [
    "B1 = Ball(gn, 0, rho);"
   ]
  },
  {
   "cell_type": "code",
   "execution_count": 51,
   "metadata": {},
   "outputs": [],
   "source": [
    "open(f -> serialize(f, B0), \"$(prefix)/b0.jls\", \"w\")\n",
    "open(f -> serialize(f, B1), \"$(prefix)/b1.jls\", \"w\")"
   ]
  },
  {
   "cell_type": "code",
   "execution_count": 52,
   "metadata": {},
   "outputs": [],
   "source": [
    "@everywhere begin\n",
    "    \n",
    "B0 = open(deserialize, \"$(prefix)/b0.jls\")\n",
    "B1 = open(deserialize, \"$(prefix)/b1.jls\")\n",
    "rho = B1.std.G.hi\n",
    "    \n",
    "end"
   ]
  },
  {
   "cell_type": "code",
   "execution_count": 53,
   "metadata": {},
   "outputs": [
    {
     "data": {
      "text/plain": [
       "Interval(-0.5916099166344381501406243584, -0.5916099166344381501386243439)"
      ]
     },
     "execution_count": 53,
     "metadata": {},
     "output_type": "execute_result"
    }
   ],
   "source": [
    "@everywhere psi(x) = (x-B1.dom.c)/B1.dom.r\n",
    "a = B1(Interval(1))"
   ]
  },
  {
   "cell_type": "code",
   "execution_count": 54,
   "metadata": {},
   "outputs": [],
   "source": [
    "@everywhere begin\n",
    "T_B1, DT_B1 = T_and_DT(B1)\n",
    "end\n",
    "\n",
    "# do we really need this everywhere?\n",
    "# can we serialise functions?"
   ]
  },
  {
   "cell_type": "code",
   "execution_count": 55,
   "metadata": {},
   "outputs": [
    {
     "data": {
      "text/plain": [
       "Interval(0.0, 0.005313973044591245551281963271)"
      ]
     },
     "execution_count": 55,
     "metadata": {},
     "output_type": "execute_result"
    }
   ],
   "source": [
    "dB_H = basis_element(B1, N+1)\n",
    "DPhi_B1_dB_H = -Lambda_pp(DT_B1(dB_H), Interval(1))\n",
    "norm_H = abs(DPhi_B1_dB_H)"
   ]
  },
  {
   "cell_type": "code",
   "execution_count": 56,
   "metadata": {},
   "outputs": [],
   "source": [
    "@everywhere E = [basis_element(B1, k) for k in 0:N+1];"
   ]
  },
  {
   "cell_type": "code",
   "execution_count": 57,
   "metadata": {},
   "outputs": [
    {
     "name": "stdout",
     "output_type": "stream",
     "text": [
      "  1.578745 seconds (1.68 M allocations: 82.183 MiB, 0.39% gc time)\n"
     ]
    }
   ],
   "source": [
    "# Precompute DT(B^1)(E_k) for all basis vectors, E_k.\n",
    "@time DT_B1_E = pmap(DT_B1, E);"
   ]
  },
  {
   "cell_type": "code",
   "execution_count": 58,
   "metadata": {},
   "outputs": [],
   "source": [
    "open(f -> serialize(f, DT_B1_E), \"$(prefix)/DT_B1_E.jls\", \"w\")"
   ]
  },
  {
   "cell_type": "code",
   "execution_count": 59,
   "metadata": {},
   "outputs": [],
   "source": [
    "@everywhere begin\n",
    "\n",
    "DT_B1_E = open(deserialize, \"$(prefix)/DT_B1_E.jls\")\n",
    "    \n",
    "function bound_kappa_naively(k::Int)\n",
    "    DPhi_B1_E_k = E[k] - Lambda_pp(DT_B1_E[k]-E[k], Interval(1))\n",
    "    norm = abs(DPhi_B1_E_k)\n",
    "end\n",
    "\n",
    "end"
   ]
  },
  {
   "cell_type": "code",
   "execution_count": 60,
   "metadata": {},
   "outputs": [
    {
     "name": "stdout",
     "output_type": "stream",
     "text": [
      "  0.558855 seconds (1.10 M allocations: 56.908 MiB, 2.80% gc time)\n"
     ]
    },
    {
     "data": {
      "text/plain": [
       "43-element Array{Interval,1}:\n",
       " Interval(0.0, 1.626908986389681940967032847e-17)\n",
       " Interval(0.0, 8.196309030981745008428412323e-18)\n",
       " Interval(0.0, 5.651604190718895482051113429e-18)\n",
       " Interval(0.0, 4.473176799306854584609027429e-18)\n",
       " Interval(0.0, 3.12920987978943308651098472e-18) \n",
       " Interval(0.0, 2.777990646511471032861495017e-18)\n",
       " Interval(0.0, 2.163828791913701591995265205e-18)\n",
       " Interval(0.0, 1.853818798049203130482125607e-18)\n",
       " Interval(0.0, 1.505330818006822409063382978e-18)\n",
       " Interval(0.0, 1.267527313579883692133994731e-18)\n",
       " Interval(0.0, 1.042718003095593825823300606e-18)\n",
       " Interval(0.0, 8.698763882143882948013176092e-19)\n",
       " Interval(0.0, 7.213001327185265993752275943e-19)\n",
       " ⋮                                               \n",
       " Interval(0.0, 0.0005954004123502826182270213516)\n",
       " Interval(0.0, 0.0007268477294049414569309186962)\n",
       " Interval(0.0, 0.0007888229226959855037313110136)\n",
       " Interval(0.0, 0.0007741671739594375579590396652)\n",
       " Interval(0.0, 0.000701362977229968034199187984) \n",
       " Interval(0.0, 0.0006000755514289347614431225603)\n",
       " Interval(0.0, 0.0004956294435501092152609919918)\n",
       " Interval(0.0, 0.0004021067491496964929911551408)\n",
       " Interval(0.0, 0.0003239174505599820033826093671)\n",
       " Interval(0.0, 0.000260381909432736902771822865) \n",
       " Interval(0.0, 0.0002092176867898698752828049711)\n",
       " Interval(0.0, 2.005313973044591245551281973)    "
      ]
     },
     "execution_count": 60,
     "metadata": {},
     "output_type": "execute_result"
    }
   ],
   "source": [
    "@time norms = pmap(bound_kappa_naively, [k for k in 1:N+2])"
   ]
  },
  {
   "cell_type": "code",
   "execution_count": 61,
   "metadata": {},
   "outputs": [
    {
     "data": {
      "text/plain": [
       "0.005313973044591245551281963271"
      ]
     },
     "execution_count": 61,
     "metadata": {},
     "output_type": "execute_result"
    }
   ],
   "source": [
    "norms[end] = norm_H\n",
    "kappa = hull(norms).hi"
   ]
  },
  {
   "cell_type": "code",
   "execution_count": 62,
   "metadata": {},
   "outputs": [
    {
     "data": {
      "text/plain": [
       "true"
      ]
     },
     "execution_count": 62,
     "metadata": {},
     "output_type": "execute_result"
    }
   ],
   "source": [
    "Phi_is_contractive = kappa < BigFloat(1)"
   ]
  },
  {
   "cell_type": "code",
   "execution_count": 63,
   "metadata": {},
   "outputs": [
    {
     "data": {
      "text/plain": [
       "true"
      ]
     },
     "execution_count": 63,
     "metadata": {},
     "output_type": "execute_result"
    }
   ],
   "source": [
    "fixed_point_exists = epsilon < rho*(Interval(1)-kappa)"
   ]
  },
  {
   "cell_type": "code",
   "execution_count": 64,
   "metadata": {
    "scrolled": false
   },
   "outputs": [
    {
     "name": "stdout",
     "output_type": "stream",
     "text": [
      "Parameters:\n",
      "Power                     = 4\n",
      "Domain centre             = 0.5753999999999999999999999996\n",
      "Domain radius             = 0.8000000000000000000000000006\n",
      "Term G^u_0 (approx)       = -0.0001511713350611291656840259461\n",
      "Degree (reduced)          = 41\n",
      "Degree (original)         = 164\n",
      "Floating point type       = BigFloat\n",
      "Precision (digits approx) = 27\n",
      "Precision (bits)          = 89\n",
      "\n",
      "Bounds:\n",
      "epsilon       = 5.59105108687788961834971942e-22\n",
      "rho           = 9.999999999999999999999999995e-22\n",
      "kappa         = 0.005313973044591245551281963271.hi\n",
      "rho*(1-kappa) = 9.946860269554087544487180361e-22\n",
      "\n",
      "Conclusions:\n",
      "proved phi is contractive = true\n",
      "proved fixed point exists = true\n",
      "\n",
      "Constants:\n",
      "a = g(1)       = Interval(-0.5916099166344381501406243584, -0.5916099166344381501386243439)\n",
      "alpha = 1/g(1) = Interval(-1.690302971405244853346637306, -1.690302971405244853340923013)\n",
      "Processors: 1+6\n"
     ]
    }
   ],
   "source": [
    "println(\"Parameters:\")\n",
    "println(\"Power                     = $d\")\n",
    "println(\"Domain centre             = $c\")\n",
    "println(\"Domain radius             = $r\")\n",
    "println(\"Term G^u_0 (approx)       = $(gn.coeffs[1])\")\n",
    "println(\"Degree (reduced)          = $N\")\n",
    "println(\"Degree (original)         = $(N*d)\")\n",
    "println(\"Floating point type       = $(BigFloat)\")\n",
    "println(\"Precision (digits approx) = $P\")\n",
    "println(\"Precision (bits)          = $(precision(BigFloat))\")\n",
    "println()\n",
    "println(\"Bounds:\")\n",
    "println(\"epsilon       = $(epsilon.hi)\")\n",
    "println(\"rho           = $rho\")\n",
    "#println(\"composition1  = $(norm1.hi)\")\n",
    "#println(\"composition2  = $(norm2.hi)\")\n",
    "println(\"kappa         = $kappa.hi\")\n",
    "println(\"rho*(1-kappa) = $((rho*(Interval(1)-kappa)).lo)\")\n",
    "println()\n",
    "println(\"Conclusions:\")\n",
    "#println(\"proved domain extension   = $domain_extension\")\n",
    "println(\"proved phi is contractive = $Phi_is_contractive\")\n",
    "println(\"proved fixed point exists = $fixed_point_exists\")\n",
    "if fixed_point_exists\n",
    "    println()\n",
    "    println(\"Constants:\")\n",
    "    println(\"a = g(1)       = $(B1(1))\")\n",
    "    println(\"alpha = 1/g(1) = $(1/B1(1))\")\n",
    "end\n",
    "println(\"Processors: 1+$(length(procs))\")"
   ]
  },
  {
   "cell_type": "code",
   "execution_count": 65,
   "metadata": {},
   "outputs": [],
   "source": [
    "open(f -> serialize(f, [epsilon, rho, kappa]), \"$(prefix)/erk.jls\", \"w\")"
   ]
  },
  {
   "cell_type": "code",
   "execution_count": 66,
   "metadata": {},
   "outputs": [],
   "source": [
    "# now we must decide what to do with the high-order\n",
    "# and general bounds we could take each general\n",
    "# bound [0, g] and add [-g, g] to every polynomial\n",
    "# term for the high-order bound [0, h] we form\n",
    "# [-h, h]+[-g, g].  in this way we form what i call\n",
    "# the augmented matrix $M$\n",
    "\n",
    "M_aug = [Interval(0) for j in 1:N+2, k in 1:N+2]\n",
    "\n",
    "for k in 1:N+2\n",
    "    b_H = balanced(DT_B1_E[k].std.H)\n",
    "    b_G = balanced(DT_B1_E[k].std.G)\n",
    "    for j in 1:N+1\n",
    "        M_aug[j,k] = DT_B1_E[k].std.P.coeffs[j] + b_G\n",
    "    end\n",
    "    M_aug[N+2,k] = b_H + b_G\n",
    "end\n",
    "M_aug;\n",
    "\n",
    "# ignoring the high-order parts yields the so-called PP matrix\n",
    "M_PP = M_aug[1:N+1,1:N+1];"
   ]
  },
  {
   "cell_type": "code",
   "execution_count": 67,
   "metadata": {},
   "outputs": [],
   "source": [
    "# we now find approximate eigvenvalues and vectors of the PP matrix"
   ]
  },
  {
   "cell_type": "code",
   "execution_count": 68,
   "metadata": {},
   "outputs": [
    {
     "name": "stdout",
     "output_type": "stream",
     "text": [
      "  3.573160 seconds (16.19 M allocations: 756.888 MiB, 6.90% gc time)\n"
     ]
    }
   ],
   "source": [
    "using GenericSchur\n",
    "\n",
    "M_approx = map(i -> i.lo, M_PP)\n",
    "@time vals_rev, vecs_rev = GenericSchur.eigen(M_approx);"
   ]
  },
  {
   "cell_type": "code",
   "execution_count": 69,
   "metadata": {},
   "outputs": [
    {
     "data": {
      "text/plain": [
       "42-element Array{Complex{BigFloat},1}:\n",
       "      8.163158323607492931540447915 + 0.0im\n",
       "        7.2846862170733433641227755 + 0.0im\n",
       "     0.2918384089835451045914907148 + 0.0im\n",
       "     0.1225016054274047603087610506 + 0.0im\n",
       "    0.04302851883343190636179024568 + 0.0im\n",
       "     0.0150066433322915697807655657 + 0.0im\n",
       "   0.005251575462679995686199226692 + 0.0im\n",
       "   0.001838337900281377069343431905 + 0.0im\n",
       "  0.0006434270306182293151403213955 + 0.0im\n",
       "  0.0002251993440550281914811026444 + 0.0im\n",
       "  7.882025946035435558925834189e-05 + 0.0im\n",
       "  2.758728107153568481030702521e-05 + 0.0im\n",
       "  9.655611709530266331564946238e-06 + 0.0im\n",
       "                                    ⋮      \n",
       " -5.712158191727309113453333614e-06 + 0.0im\n",
       " -1.632055319693357222145224486e-05 + 0.0im\n",
       " -4.663238392763636112523767256e-05 + 0.0im\n",
       " -0.0001332554049810915450138268183 + 0.0im\n",
       " -0.0003808771870070765542643373881 + 0.0im\n",
       "  -0.001089193634100644224408130718 + 0.0im\n",
       "  -0.003117652548854664023123872338 + 0.0im\n",
       "   -0.00893787441231092859131038867 + 0.0im\n",
       "   -0.02570976508112281103411363009 + 0.0im\n",
       "   -0.07372028667560904976738330879 + 0.0im\n",
       "    -0.1555627618433950286178278285 + 0.0im\n",
       "      -0.25566455847429740616332955 + 0.0im"
      ]
     },
     "execution_count": 69,
     "metadata": {},
     "output_type": "execute_result"
    }
   ],
   "source": [
    "vals = reverse(vals_rev)"
   ]
  },
  {
   "cell_type": "code",
   "execution_count": 70,
   "metadata": {},
   "outputs": [],
   "source": [
    "open(f -> serialize(f, vals), \"$(prefix)/val.jls\", \"w\")"
   ]
  },
  {
   "cell_type": "code",
   "execution_count": 71,
   "metadata": {},
   "outputs": [],
   "source": [
    "vecs_rev_re = map(x->BigFloat(x), vecs_rev)\n",
    "vecs = vecs_rev_re[1:N+1,N+1:-1:1];"
   ]
  },
  {
   "cell_type": "code",
   "execution_count": 72,
   "metadata": {},
   "outputs": [],
   "source": [
    "normalised_T = [vecs[:,k]/sum(map(abs, vecs[:,k])) for k in 1:N+1]\n",
    "vecs = [normalised_T[k][j] for j in 1:N+1, k in 1:N+1];"
   ]
  },
  {
   "cell_type": "code",
   "execution_count": 73,
   "metadata": {},
   "outputs": [
    {
     "data": {
      "text/plain": [
       "Interval(0.0, 1.627580703272574871472850542e-17)"
      ]
     },
     "execution_count": 73,
     "metadata": {},
     "output_type": "execute_result"
    }
   ],
   "source": [
    "eigen_error = sum(map(abs, M_PP*vecs[:,1] - vals[1]*vecs[:,1]))"
   ]
  },
  {
   "cell_type": "code",
   "execution_count": 74,
   "metadata": {},
   "outputs": [],
   "source": [
    "@everywhere begin\n",
    "\n",
    "span(i::Interval) = Interval(0, (i-i).hi)\n",
    "\n",
    "phi(p::Poly) = p.coeffs[1]\n",
    "phi(b::Ball) = b.std.P.coeffs[1] + balanced(b.std.G)\n",
    "    \n",
    "end"
   ]
  },
  {
   "cell_type": "code",
   "execution_count": 75,
   "metadata": {},
   "outputs": [
    {
     "data": {
      "text/plain": [
       "Interval(-0.0001511713350611291656840259461, -0.0001511713350611291656840259461)"
      ]
     },
     "execution_count": 75,
     "metadata": {},
     "output_type": "execute_result"
    }
   ],
   "source": [
    "phi(B0)"
   ]
  },
  {
   "cell_type": "code",
   "execution_count": 76,
   "metadata": {},
   "outputs": [
    {
     "data": {
      "text/plain": [
       "Interval(0.0, 0.0)"
      ]
     },
     "execution_count": 76,
     "metadata": {},
     "output_type": "execute_result"
    }
   ],
   "source": [
    "span(phi(B0))"
   ]
  },
  {
   "cell_type": "code",
   "execution_count": 77,
   "metadata": {},
   "outputs": [
    {
     "data": {
      "text/plain": [
       "Interval(-0.0001511713350611291666840259463, -0.0001511713350611291646840259459)"
      ]
     },
     "execution_count": 77,
     "metadata": {},
     "output_type": "execute_result"
    }
   ],
   "source": [
    "phi(B1)"
   ]
  },
  {
   "cell_type": "code",
   "execution_count": 78,
   "metadata": {},
   "outputs": [
    {
     "data": {
      "text/plain": [
       "Interval(0.0, 2.000000000428778400695533731e-21)"
      ]
     },
     "execution_count": 78,
     "metadata": {},
     "output_type": "execute_result"
    }
   ],
   "source": [
    "span(phi(B1))"
   ]
  },
  {
   "cell_type": "code",
   "execution_count": 79,
   "metadata": {},
   "outputs": [
    {
     "data": {
      "text/plain": [
       "7.2846862170733433641227755"
      ]
     },
     "execution_count": 79,
     "metadata": {},
     "output_type": "execute_result"
    }
   ],
   "source": [
    "i = 2\n",
    "val_approx = vals[i]\n",
    "vec_approx = vecs[1:end,i]\n",
    "\n",
    "# normalize properly\n",
    "f0_poly_coeffs = vec_approx/vec_approx[1]*val_approx.re\n",
    "f0_poly_coeffs[1]"
   ]
  },
  {
   "cell_type": "code",
   "execution_count": 80,
   "metadata": {},
   "outputs": [
    {
     "data": {
      "text/plain": [
       "Poly(BigFloat[7.2846862170733433641227755, 7.166839843174802182245915569, -5.433001676297059973436373972, -0.8162303438668710533363711057, 1.274860776188583447150440838, -0.2771613530843119827930050898, -0.08203153501419121655577890955, 0.05969385630085114918568681662, -0.00796816236743723113274201797, -0.004473236961734717358033556199  …  2.600848274698282845798084057e-14, -2.762978368693800165704259949e-15, -1.799360683171407950012539687e-15, 7.412929944938900311682667165e-16, -2.105549282101549703037707637e-17, -6.688591381091639753139283659e-17, 1.906155549151203684505094714e-17, 9.009344499839874884290228882e-19, -2.647183245119983781503755563e-18, 4.44499369252030181177108078e-20], (0.5753999999999999999999999996, 0.8000000000000000000000000006))"
      ]
     },
     "execution_count": 80,
     "metadata": {},
     "output_type": "execute_result"
    }
   ],
   "source": [
    "f0_poly = Poly(f0_poly_coeffs, (c, r))"
   ]
  },
  {
   "cell_type": "code",
   "execution_count": 81,
   "metadata": {},
   "outputs": [
    {
     "data": {
      "text/plain": [
       "1.347793196924461281025465804e-16"
      ]
     },
     "execution_count": 81,
     "metadata": {},
     "output_type": "execute_result"
    }
   ],
   "source": [
    "abs(DTgn(f0_poly)-f0_poly*vals[i].re)"
   ]
  },
  {
   "cell_type": "code",
   "execution_count": 82,
   "metadata": {},
   "outputs": [],
   "source": [
    "@everywhere begin\n",
    "    \n",
    "function newtonstep2(p::Poly)\n",
    "    Fp = DTgn(p) - p.coeffs[1]*p\n",
    "    Z = [BigFloat(0) for j in 1:N+1,k in 1:N+1]\n",
    "    for j in 1:N+1\n",
    "        for k in 1:N+1\n",
    "            if k == 1\n",
    "                Z[j, k] += p.coeffs[j]\n",
    "            end\n",
    "            if j == k\n",
    "                Z[j, k] += p.coeffs[1]\n",
    "            end\n",
    "        end\n",
    "    end\n",
    "    q = Poly(p.coeffs - inv(J-Z)*Fp.coeffs, p.cr)\n",
    "    q, abs(Fp)\n",
    "end\n",
    "\n",
    "function newton2(p0::Poly, n::Integer)\n",
    "    prev_error = BigFloat(10)^10\n",
    "    for k in 1:n\n",
    "        p1, error = newtonstep2(p0)\n",
    "        if error < prev_error\n",
    "            println(\"$k: $error\")\n",
    "            p0 = p1\n",
    "            prev_error = error\n",
    "        else\n",
    "            break\n",
    "        end\n",
    "    end\n",
    "    p0\n",
    "end\n",
    "    \n",
    "end"
   ]
  },
  {
   "cell_type": "code",
   "execution_count": 83,
   "metadata": {},
   "outputs": [
    {
     "name": "stdout",
     "output_type": "stream",
     "text": [
      "1: 1.347793196924461281025465804e-16\n",
      "2: 5.714223028854146813845124733e-25\n",
      "  0.149769 seconds (2.50 M allocations: 116.809 MiB, 10.64% gc time)\n"
     ]
    }
   ],
   "source": [
    "@time fn = newton2(f0_poly, 20);"
   ]
  },
  {
   "cell_type": "code",
   "execution_count": 84,
   "metadata": {},
   "outputs": [
    {
     "data": {
      "text/plain": [
       "6-element Array{Int64,1}:\n",
       " 2\n",
       " 3\n",
       " 4\n",
       " 5\n",
       " 6\n",
       " 7"
      ]
     },
     "execution_count": 84,
     "metadata": {},
     "output_type": "execute_result"
    }
   ],
   "source": [
    "# memory was exceeded with 5 workers, one of which died.\n",
    "# attempting again with 4.\n",
    "# we could look at reassigning DT_B1_E perhaps, if we\n",
    "# are sure that it is no longer needed?\n",
    "# it is needed when bounding kappa_hat.\n",
    "# it could be removed and then reloaded?\n",
    "# for now, just trying 4 procs instead.\n",
    "# we could also force gc() garbage collection, although\n",
    "# I would guess that this is forced already when\n",
    "# memory becomes a problem.\n",
    "workers()"
   ]
  },
  {
   "cell_type": "code",
   "execution_count": 85,
   "metadata": {},
   "outputs": [
    {
     "name": "stdout",
     "output_type": "stream",
     "text": [
      "  0.101603 seconds (106.16 k allocations: 3.575 MiB)\n"
     ]
    }
   ],
   "source": [
    "@time Delta_PP = matrix_elements(DTgn, poly_basis);"
   ]
  },
  {
   "cell_type": "code",
   "execution_count": 86,
   "metadata": {},
   "outputs": [],
   "source": [
    "Delta_mod = [BigFloat(0) for j in 1:N+1,k in 1:N+1]\n",
    "for j in 1:N+1\n",
    "    for k in 1:N+1\n",
    "        Delta_mod[j,k] = Delta_PP[j,k]\n",
    "        if k == 1\n",
    "            Delta_mod[j,k] = Delta_mod[j,k] - fn.coeffs[j]\n",
    "        end\n",
    "        if j == k\n",
    "            Delta_mod[j,k] = Delta_mod[j,k] - fn.coeffs[1]\n",
    "        end\n",
    "    end\n",
    "end\n",
    "Delta_mod;"
   ]
  },
  {
   "cell_type": "code",
   "execution_count": 87,
   "metadata": {},
   "outputs": [],
   "source": [
    "L_pp = map(Interval, inv(Delta_mod)); #invert\n",
    "\n",
    "# now we check that the resulting interval matrix is invertible\n",
    "#@time invert(L_pp);"
   ]
  },
  {
   "cell_type": "code",
   "execution_count": 88,
   "metadata": {},
   "outputs": [],
   "source": [
    "V0 = Ball(StdBall(Trunc(map(Interval, fn.coeffs)), BigFloat(0), BigFloat(0)), dom);"
   ]
  },
  {
   "cell_type": "code",
   "execution_count": 89,
   "metadata": {},
   "outputs": [
    {
     "data": {
      "text/plain": [
       "Interval(0.0, 1.281185478249539988124623527e-17)"
      ]
     },
     "execution_count": 89,
     "metadata": {},
     "output_type": "execute_result"
    }
   ],
   "source": [
    "eigenfunction_error = abs(V0*phi(V0) - DT_B1(V0))"
   ]
  },
  {
   "cell_type": "code",
   "execution_count": 90,
   "metadata": {},
   "outputs": [
    {
     "data": {
      "text/plain": [
       "true"
      ]
     },
     "execution_count": 90,
     "metadata": {},
     "output_type": "execute_result"
    }
   ],
   "source": [
    "V0.dom == B1.dom"
   ]
  },
  {
   "cell_type": "code",
   "execution_count": 91,
   "metadata": {},
   "outputs": [],
   "source": [
    "open(f -> serialize(f, L_pp), \"$(prefix)/L_pp.jls\", \"w\")\n",
    "open(f -> serialize(f, V0), \"$(prefix)/V0.jls\", \"w\")"
   ]
  },
  {
   "cell_type": "code",
   "execution_count": 92,
   "metadata": {},
   "outputs": [],
   "source": [
    "@everywhere begin\n",
    "\n",
    "L_pp = open(deserialize, \"$(prefix)/L_pp.jls\")\n",
    "V0 = open(deserialize, \"$(prefix)/V0.jls\")\n",
    "    \n",
    "function Psi(v::Ball, L_pp::Array{Interval, 2})\n",
    "    Psi_v = v - L_pp(DT_B1(v)-v*phi(v), -Interval(1)/V0.std.P.coeffs[1])\n",
    "end\n",
    "    \n",
    "end"
   ]
  },
  {
   "cell_type": "code",
   "execution_count": 93,
   "metadata": {},
   "outputs": [
    {
     "name": "stdout",
     "output_type": "stream",
     "text": [
      "  0.128084 seconds (5.44 M allocations: 244.456 MiB, 13.18% gc time)\n"
     ]
    },
    {
     "data": {
      "text/plain": [
       "Interval(0.0, 3.21702283848831572380732293e-17)"
      ]
     },
     "execution_count": 93,
     "metadata": {},
     "output_type": "execute_result"
    }
   ],
   "source": [
    "@time epsilon_hat = abs(Psi(V0, L_pp)-V0)"
   ]
  },
  {
   "cell_type": "code",
   "execution_count": 94,
   "metadata": {},
   "outputs": [
    {
     "data": {
      "text/plain": [
       "1.0e-16"
      ]
     },
     "execution_count": 94,
     "metadata": {},
     "output_type": "execute_result"
    }
   ],
   "source": [
    "rho_hat = BigFloat(10)^Int(round(0.5+log10(epsilon_hat.hi)))"
   ]
  },
  {
   "cell_type": "code",
   "execution_count": 95,
   "metadata": {},
   "outputs": [],
   "source": [
    "V1 = Ball(fn, 0, rho_hat);"
   ]
  },
  {
   "cell_type": "code",
   "execution_count": 96,
   "metadata": {},
   "outputs": [],
   "source": [
    "open(f -> serialize(f, V1), \"$(prefix)/V1.jls\", \"w\")"
   ]
  },
  {
   "cell_type": "code",
   "execution_count": 97,
   "metadata": {},
   "outputs": [
    {
     "name": "stdout",
     "output_type": "stream",
     "text": [
      "7.28468621707334326430893103\n",
      "7.284686217073343464308931042\n",
      "1.0000000000000001\n"
     ]
    }
   ],
   "source": [
    "println(phi(V1).lo)\n",
    "println(phi(V1).hi)\n",
    "println(1+rho_hat)"
   ]
  },
  {
   "cell_type": "code",
   "execution_count": 98,
   "metadata": {},
   "outputs": [
    {
     "data": {
      "text/plain": [
       "1.0e-16"
      ]
     },
     "execution_count": 98,
     "metadata": {},
     "output_type": "execute_result"
    }
   ],
   "source": [
    "rho_hat"
   ]
  },
  {
   "cell_type": "code",
   "execution_count": 99,
   "metadata": {},
   "outputs": [],
   "source": [
    "@everywhere begin\n",
    "    \n",
    "V1 = open(deserialize, \"$(prefix)/V1.jls\")\n",
    "\n",
    "function DPsi(b::Ball, L_pp::Array{Interval, 2})\n",
    "    function DPsi_b(db::Ball)\n",
    "        DF = DTb1(db)-phi(b)*db-phi(db)*b\n",
    "        DPsi_b_db = db - L_pp(DF, -Interval(1)/phi(V0))\n",
    "    end\n",
    "    DPsi_b\n",
    "end\n",
    "\n",
    "function bound_kappa_hat_naively(k::Int)\n",
    "    b = V1\n",
    "    DPsi_b_es_k = E[k] - L_pp(DT_B1_E[k]-phi(b)*E[k]-phi(E[k])*b, -Interval(1)/phi(V0))\n",
    "    norm = abs(DPsi_b_es_k)\n",
    "end\n",
    "    \n",
    "end"
   ]
  },
  {
   "cell_type": "code",
   "execution_count": 100,
   "metadata": {},
   "outputs": [
    {
     "data": {
      "text/plain": [
       "Interval(0.0, 0.0008995071552257036770101044016)"
      ]
     },
     "execution_count": 100,
     "metadata": {},
     "output_type": "execute_result"
    }
   ],
   "source": [
    "EH = basis_element(V1, N+1)\n",
    "DT_G_EH = DT_B1(EH)\n",
    "DPsi_V1_EH = (Interval(1)-phi(V1)/phi(V0))*EH -L_pp(DT_G_EH, -Interval(1)/phi(V0))\n",
    "norm_H = abs(DPsi_V1_EH)"
   ]
  },
  {
   "cell_type": "code",
   "execution_count": 101,
   "metadata": {},
   "outputs": [
    {
     "name": "stdout",
     "output_type": "stream",
     "text": [
      "  0.141453 seconds (267.38 k allocations: 13.249 MiB)\n"
     ]
    },
    {
     "data": {
      "text/plain": [
       "43-element Array{Interval,1}:\n",
       " Interval(0.0, 9.329627616842611271349406694e-16)\n",
       " Interval(0.0, 1.393150148818237198095473424e-16)\n",
       " Interval(0.0, 1.010221886406813822014145492e-16)\n",
       " Interval(0.0, 9.588341133353346494105008278e-17)\n",
       " Interval(0.0, 7.264125048053308143912493088e-17)\n",
       " Interval(0.0, 5.614306796449927714779966259e-17)\n",
       " Interval(0.0, 4.45097190979307974957069243e-17) \n",
       " Interval(0.0, 3.640312067115662242256840506e-17)\n",
       " Interval(0.0, 3.026070669111788726325900055e-17)\n",
       " Interval(0.0, 2.585806739382328688335463369e-17)\n",
       " Interval(0.0, 2.257274026423953202047048177e-17)\n",
       " Interval(0.0, 2.022875480175057984253351158e-17)\n",
       " Interval(0.0, 1.84846916550360645685966686e-17) \n",
       " ⋮                                               \n",
       " Interval(0.0, 8.173315838298215791478034227e-05)\n",
       " Interval(0.0, 9.977749318858870361031168186e-05)\n",
       " Interval(0.0, 0.0001082850927535213505783327019)\n",
       " Interval(0.0, 0.0001062732355094579301040935738)\n",
       " Interval(0.0, 9.627909237686340644909331774e-05)\n",
       " Interval(0.0, 8.237493469830165569654243018e-05)\n",
       " Interval(0.0, 6.803717123581620335003677758e-05)\n",
       " Interval(0.0, 5.519891141053770232738099215e-05)\n",
       " Interval(0.0, 4.446553233836025894319871961e-05)\n",
       " Interval(0.0, 3.574373715954598158749450124e-05)\n",
       " Interval(0.0, 2.872020572411478003214092117e-05)\n",
       " Interval(0.0, 2.000899507155225703677010114)    "
      ]
     },
     "execution_count": 101,
     "metadata": {},
     "output_type": "execute_result"
    }
   ],
   "source": [
    "@time norms_v = pmap(bound_kappa_hat_naively, [k for k in 1:N+2])"
   ]
  },
  {
   "cell_type": "code",
   "execution_count": 102,
   "metadata": {},
   "outputs": [
    {
     "data": {
      "text/plain": [
       "Interval(0.0, 0.0008995071552257036770101044016)"
      ]
     },
     "execution_count": 102,
     "metadata": {},
     "output_type": "execute_result"
    }
   ],
   "source": [
    "norms_v[end] = norm_H\n",
    "kappa_hat = hull(norms_v)"
   ]
  },
  {
   "cell_type": "code",
   "execution_count": 103,
   "metadata": {},
   "outputs": [
    {
     "data": {
      "text/plain": [
       "true"
      ]
     },
     "execution_count": 103,
     "metadata": {},
     "output_type": "execute_result"
    }
   ],
   "source": [
    "epsilon_hat < rho_hat*(Interval(1)-kappa_hat)"
   ]
  },
  {
   "cell_type": "code",
   "execution_count": 104,
   "metadata": {},
   "outputs": [
    {
     "data": {
      "text/plain": [
       "Interval(0.0, 3.21702283848831572380732293e-17)"
      ]
     },
     "execution_count": 104,
     "metadata": {},
     "output_type": "execute_result"
    }
   ],
   "source": [
    "epsilon_hat"
   ]
  },
  {
   "cell_type": "code",
   "execution_count": 105,
   "metadata": {},
   "outputs": [
    {
     "data": {
      "text/plain": [
       "Interval(9.991004928447742963229898936e-17, 1.0e-16)"
      ]
     },
     "execution_count": 105,
     "metadata": {},
     "output_type": "execute_result"
    }
   ],
   "source": [
    "rho_hat*(Interval(1)-kappa_hat)"
   ]
  },
  {
   "cell_type": "code",
   "execution_count": 106,
   "metadata": {},
   "outputs": [
    {
     "name": "stdout",
     "output_type": "stream",
     "text": [
      "7.28468621707334326430893103\n",
      "7.284686217073343464308931042\n",
      "1.0000000000000001\n"
     ]
    }
   ],
   "source": [
    "println(phi(V1).lo)\n",
    "println(phi(V1).hi)\n",
    "println(1+rho_hat)"
   ]
  },
  {
   "cell_type": "markdown",
   "metadata": {},
   "source": [
    "# Critical scaling of additive noise"
   ]
  },
  {
   "cell_type": "code",
   "execution_count": 107,
   "metadata": {},
   "outputs": [],
   "source": [
    "@everywhere function make_noise_functions(G)\n",
    "    \n",
    "    a = G(1)\n",
    "    \n",
    "    X = identity(G)\n",
    "    XQa = X*Q(a)\n",
    "    GXQa = G(XQa)\n",
    "    QGXQa = Q(GXQa)\n",
    "    GQGXQa = G(QGXQa)\n",
    "    \n",
    "    Gdash = diff(G)\n",
    "    GdashQa = Gdash(XQa)\n",
    "    GdashQGXQa = Gdash(QGXQa)\n",
    "    \n",
    "    t2 = (1/a^2)\n",
    "    t3 = ((1/a)*GdashQGXQa*Qdash(GXQa))^2\n",
    "    \n",
    "    function T_noise(H)\n",
    "        term2 = t2*H(QGXQa)\n",
    "        term3 = t3*H(XQa)\n",
    "        lhs = term2 + term3\n",
    "        return lhs\n",
    "    end\n",
    "\n",
    "    function DT_noise(H)\n",
    "        function DT_noise_H(K)\n",
    "            term2 = t2*K(QGXQa)\n",
    "            term3 = t3*K(XQa)\n",
    "            lhs = term2 + term3\n",
    "            return lhs\n",
    "        end\n",
    "        return DT_noise_H\n",
    "    end\n",
    "\n",
    "    function F_noise(H)\n",
    "        lhs = T_noise(H)\n",
    "        rhs = phi(H)^2*H\n",
    "        return lhs - rhs\n",
    "    end\n",
    "    \n",
    "    function DF_noise(H)\n",
    "        function DF_noise_H(K)\n",
    "            term2 = t2*K(QGXQa)\n",
    "            term3 = t3*K(XQa)\n",
    "            lhs = term2 + term3\n",
    "            rhs = 2*phi(H)*phi(K)*H + phi(H)^2*K\n",
    "            return lhs - rhs\n",
    "        end\n",
    "        return DF_noise_H\n",
    "    end\n",
    "    \n",
    "    return T_noise, DT_noise, F_noise, DF_noise\n",
    "end"
   ]
  },
  {
   "cell_type": "code",
   "execution_count": 108,
   "metadata": {},
   "outputs": [
    {
     "data": {
      "text/plain": [
       "(T_noise, DT_noise, F_noise, DF_noise)"
      ]
     },
     "execution_count": 108,
     "metadata": {},
     "output_type": "execute_result"
    }
   ],
   "source": [
    "T_noise, DT_noise, F_noise, DF_noise = make_noise_functions(gn)"
   ]
  },
  {
   "cell_type": "code",
   "execution_count": 109,
   "metadata": {},
   "outputs": [
    {
     "data": {
      "text/plain": [
       "newton3 (generic function with 1 method)"
      ]
     },
     "execution_count": 109,
     "metadata": {},
     "output_type": "execute_result"
    }
   ],
   "source": [
    "function newtonstep3(p::Poly)\n",
    "    F_noise_p = F_noise(p)\n",
    "    \n",
    "    DF_noise_p = DF_noise(p)\n",
    "    Gamma_noise_inv = matrix_elements(DF_noise_p, poly_basis);\n",
    "    \n",
    "    q = Poly(p.coeffs - inv(Gamma_noise_inv)*F_noise_p.coeffs, p.cr)\n",
    "    q, abs(F_noise_p)\n",
    "end\n",
    "\n",
    "function newton3(p0::Poly, n::Integer)\n",
    "    basis = [basis_element(p0, k) for k in 0:N]\n",
    "    prev_error = BigFloat(10)^10\n",
    "    for k in 1:n\n",
    "        p1, error = newtonstep3(p0)\n",
    "        if error < prev_error\n",
    "            println(\"$k: $error\")\n",
    "            p0 = p1\n",
    "            prev_error = error\n",
    "        else\n",
    "            break\n",
    "        end\n",
    "    end\n",
    "    p0\n",
    "end"
   ]
  },
  {
   "cell_type": "code",
   "execution_count": 110,
   "metadata": {},
   "outputs": [
    {
     "data": {
      "text/plain": [
       "10-element Array{BigFloat,1}:\n",
       "  8.243910854252586517532108701  \n",
       " -6.03149795983350323069771548   \n",
       " -0.9990655744053247300229259054 \n",
       "  2.636539721435803507176842686  \n",
       " -0.8139325509983177386885699889 \n",
       " -0.291650199729458381447955162  \n",
       "  0.2745520454422093470370214163 \n",
       " -0.04629827836891161479959677649\n",
       " -0.03003398317265670858233761464\n",
       "  0.01747401879255115059175196279"
      ]
     },
     "execution_count": 110,
     "metadata": {},
     "output_type": "execute_result"
    }
   ],
   "source": [
    "v_noise_coeffs = BigFloat[8.2439108542525868183984625308166, -6.0314979598335030543896628404458, -0.99906557440532477623573316007567, 2.6365397214358035500680010442941, -0.81393255099831777701118943916041, -0.2916501997294583937683387447899, 0.27455204544220932923048986000544, -0.04629827836891161318089224352731, -0.03003398317265670879893203510508, 0.017474018792551148952490914683149]"
   ]
  },
  {
   "cell_type": "code",
   "execution_count": 111,
   "metadata": {},
   "outputs": [
    {
     "data": {
      "text/plain": [
       "(10.96210056734141160035635622, 8.243910854252586517532108701)"
      ]
     },
     "execution_count": 111,
     "metadata": {},
     "output_type": "execute_result"
    }
   ],
   "source": [
    "v_noise_0 = Poly([k <= length(v_noise_coeffs) ? v_noise_coeffs[k] : BigFloat(0) for k in 1:N+1], (c, r))\n",
    "v_noise_0(0), phi(v_noise_0)"
   ]
  },
  {
   "cell_type": "markdown",
   "metadata": {},
   "source": [
    "## Clear some space?"
   ]
  },
  {
   "cell_type": "code",
   "execution_count": 112,
   "metadata": {},
   "outputs": [],
   "source": [
    "# aim to clear some variables\n",
    "@everywhere begin\n",
    "    DT_B1_E = 0\n",
    "    # others?\n",
    "end"
   ]
  },
  {
   "cell_type": "code",
   "execution_count": 113,
   "metadata": {},
   "outputs": [
    {
     "name": "stdout",
     "output_type": "stream",
     "text": [
      "1: 0.4548378523956301411684889173\n",
      "2: 3.303755231084358012973987573e-17\n",
      "3: 9.374555883625503769882070639e-25\n"
     ]
    }
   ],
   "source": [
    "v_noise_n = newton3(v_noise_0, 20);\n",
    "# in future, save after each 5 steps, say!\n",
    "# or quit when we don't improve by an order of magnitude?"
   ]
  },
  {
   "cell_type": "code",
   "execution_count": 114,
   "metadata": {},
   "outputs": [],
   "source": [
    "open(f -> serialize(f, v_noise_n), \"$(prefix)/noise_n.jls\", \"w\")\n",
    "\n",
    "@everywhere v_noise_n = deserialize(\"$(prefix)/noise_n.jls\")"
   ]
  },
  {
   "cell_type": "code",
   "execution_count": 115,
   "metadata": {},
   "outputs": [
    {
     "data": {
      "text/plain": [
       "8.243910854252586818398464812"
      ]
     },
     "execution_count": 115,
     "metadata": {},
     "output_type": "execute_result"
    }
   ],
   "source": [
    "phi(v_noise_n)"
   ]
  },
  {
   "cell_type": "code",
   "execution_count": 116,
   "metadata": {},
   "outputs": [
    {
     "name": "stdout",
     "output_type": "stream",
     "text": [
      "  0.076739 seconds (80.51 k allocations: 3.020 MiB)\n"
     ]
    }
   ],
   "source": [
    "@time Lambda_PP_inv_noise = matrix_elements(DF_noise(v_noise_n), poly_basis);"
   ]
  },
  {
   "cell_type": "code",
   "execution_count": 117,
   "metadata": {},
   "outputs": [
    {
     "name": "stdout",
     "output_type": "stream",
     "text": [
      "  0.009492 seconds (393.72 k allocations: 18.052 MiB)\n"
     ]
    }
   ],
   "source": [
    "@time Lambda_PP_noise = map(Interval, inv(Lambda_PP_inv_noise));"
   ]
  },
  {
   "cell_type": "code",
   "execution_count": 118,
   "metadata": {},
   "outputs": [],
   "source": [
    "open(f -> serialize(f, Lambda_PP_noise), \"$(prefix)/Lambda_PP_noise.jls\", \"w\")\n",
    "\n",
    "@everywhere begin\n",
    "Lambda_PP_noise = deserialize(\"$(prefix)/Lambda_PP_noise.jls\");\n",
    "end"
   ]
  },
  {
   "cell_type": "code",
   "execution_count": 119,
   "metadata": {},
   "outputs": [],
   "source": [
    "#@time Lambda_PP_noise_inv_check = inv(Lambda_PP_noise);"
   ]
  },
  {
   "cell_type": "code",
   "execution_count": 120,
   "metadata": {},
   "outputs": [],
   "source": [
    "@everywhere begin\n",
    "    \n",
    "T_noise, DT_noise, F_noise, DF_noise = make_noise_functions(B1)\n",
    "\n",
    "function Phi_noise(b::Ball)\n",
    "    b - Lambda_PP_noise(F_noise(b), -1/phi(b)^2)\n",
    "end\n",
    "    \n",
    "end\n",
    "\n",
    "# possible memory issue.\n",
    "# swap is full.\n",
    "# are these needed everywhere?"
   ]
  },
  {
   "cell_type": "code",
   "execution_count": 121,
   "metadata": {},
   "outputs": [],
   "source": [
    "B0_noise = Ball(v_noise_n, BigFloat(0), BigFloat(0));"
   ]
  },
  {
   "cell_type": "code",
   "execution_count": 122,
   "metadata": {},
   "outputs": [
    {
     "name": "stdout",
     "output_type": "stream",
     "text": [
      "  0.127263 seconds (5.25 M allocations: 235.661 MiB, 17.69% gc time)\n"
     ]
    },
    {
     "data": {
      "text/plain": [
       "Interval(0.0, 3.095039612738337392230063913e-17)"
      ]
     },
     "execution_count": 122,
     "metadata": {},
     "output_type": "execute_result"
    }
   ],
   "source": [
    "@time epsilon_noise = abs(Phi_noise(B0_noise) - B0_noise)"
   ]
  },
  {
   "cell_type": "code",
   "execution_count": 123,
   "metadata": {},
   "outputs": [
    {
     "data": {
      "text/plain": [
       "Interval(1.0e-16, 1.0e-16)"
      ]
     },
     "execution_count": 123,
     "metadata": {},
     "output_type": "execute_result"
    }
   ],
   "source": [
    "rho_noise = Interval(BigFloat(10)^Int(round(0.5+log10(epsilon_noise.hi))))"
   ]
  },
  {
   "cell_type": "code",
   "execution_count": 124,
   "metadata": {},
   "outputs": [],
   "source": [
    "B1_noise = Ball(v_noise_n, BigFloat(0), BigFloat(rho_noise.hi));"
   ]
  },
  {
   "cell_type": "code",
   "execution_count": 125,
   "metadata": {},
   "outputs": [
    {
     "name": "stdout",
     "output_type": "stream",
     "text": [
      "8.243910854252586718398464806\n",
      "8.243910854252586918398464818\n",
      "1.0000000000000001\n"
     ]
    }
   ],
   "source": [
    "println(phi(B1_noise).lo)\n",
    "println(phi(B1_noise).hi)\n",
    "println(1+rho_noise.hi)"
   ]
  },
  {
   "cell_type": "code",
   "execution_count": 126,
   "metadata": {},
   "outputs": [],
   "source": [
    "open(f -> serialize(f, B0_noise), \"$(prefix)/B0_noise.jls\", \"w\")\n",
    "open(f -> serialize(f, B1_noise), \"$(prefix)/B1_noise.jls\", \"w\")\n",
    "\n",
    "@everywhere begin\n",
    "B0_noise = deserialize(\"$(prefix)/B0_noise.jls\");\n",
    "B1_noise = deserialize(\"$(prefix)/B1_noise.jls\");\n",
    "end"
   ]
  },
  {
   "cell_type": "code",
   "execution_count": 127,
   "metadata": {},
   "outputs": [],
   "source": [
    "@everywhere begin\n",
    "    \n",
    "function DPhi_noise(b::Ball, L_pp::Array{Interval, 2})\n",
    "    DF_noise_b = DF_noise(b)\n",
    "    function DPhi_noise_b(db::Ball)\n",
    "        DF = DF_noise_b(db)\n",
    "        DPhi_b_db = db - L_pp(DF, -Interval(1)/phi(V0)^2)\n",
    "    end\n",
    "    DPhi_noise_b\n",
    "end\n",
    "\n",
    "function bound_kappa_noise_naively(k::Int)\n",
    "    b = B1_noise\n",
    "    L_pp = Lambda_PP_noise\n",
    "    DPhi_noise_b = DPhi_noise(b, L_pp)\n",
    "    DPhi_noise_b_es_k = DPhi_noise_b(E[k])\n",
    "    norm = abs(DPhi_noise_b_es_k)\n",
    "end\n",
    "    \n",
    "end"
   ]
  },
  {
   "cell_type": "code",
   "execution_count": 128,
   "metadata": {},
   "outputs": [
    {
     "data": {
      "text/plain": [
       "Interval(0.0, 0.006028566358224530196083150527)"
      ]
     },
     "execution_count": 128,
     "metadata": {},
     "output_type": "execute_result"
    }
   ],
   "source": [
    "EH = basis_element(B1_noise, N+1)\n",
    "DT_noise_B1_EH = DT_noise(B1_noise)(EH)\n",
    "DPhi_noise_B1_EH = (Interval(1)-(phi(B1_noise)/phi(B0_noise))^2)*EH -L_pp(DT_noise_B1_EH, -Interval(1)/phi(V0))\n",
    "norm_H = abs(DPhi_noise_B1_EH)"
   ]
  },
  {
   "cell_type": "code",
   "execution_count": 129,
   "metadata": {},
   "outputs": [],
   "source": [
    "@everywhere V0 = open(deserialize, \"$(prefix)/V0.jls\")\n",
    "\n",
    "# note: earlier, when we deserialize B1_noise,\n",
    "# this ball is centered on V0, we should therefore\n",
    "# deserialize V0 everywhere, along with it."
   ]
  },
  {
   "cell_type": "code",
   "execution_count": 130,
   "metadata": {},
   "outputs": [
    {
     "data": {
      "text/plain": [
       "6-element Array{Int64,1}:\n",
       " 2\n",
       " 3\n",
       " 4\n",
       " 5\n",
       " 6\n",
       " 7"
      ]
     },
     "execution_count": 130,
     "metadata": {},
     "output_type": "execute_result"
    }
   ],
   "source": [
    "workers()"
   ]
  },
  {
   "cell_type": "code",
   "execution_count": 131,
   "metadata": {},
   "outputs": [
    {
     "name": "stdout",
     "output_type": "stream",
     "text": [
      "  1.354871 seconds (294.36 k allocations: 14.675 MiB)\n"
     ]
    },
    {
     "data": {
      "text/plain": [
       "43-element Array{Interval,1}:\n",
       " Interval(0.0, 1.15859757832023100624435421e-15) \n",
       " Interval(0.0, 4.471804088298597881306967538e-17)\n",
       " Interval(0.0, 4.393632219002362797795737001e-17)\n",
       " Interval(0.0, 3.789735746098236639982995159e-17)\n",
       " Interval(0.0, 3.490390454639776185993090534e-17)\n",
       " Interval(0.0, 3.311965598858664097730194476e-17)\n",
       " Interval(0.0, 3.209198702235537271421384271e-17)\n",
       " Interval(0.0, 3.028655331274973925726992148e-17)\n",
       " Interval(0.0, 2.901650858372509061289572271e-17)\n",
       " Interval(0.0, 2.781279623371308867185799518e-17)\n",
       " Interval(0.0, 2.690956036742669082084165634e-17)\n",
       " Interval(0.0, 2.616857539862772686073713412e-17)\n",
       " Interval(0.0, 2.571397091395860120808045713e-17)\n",
       " ⋮                                               \n",
       " Interval(0.0, 1.896496243770233215797706578e-05)\n",
       " Interval(0.0, 2.315188165839067141747885728e-05)\n",
       " Interval(0.0, 2.51259434636099225986035696e-05) \n",
       " Interval(0.0, 2.46591219456544364471888207e-05) \n",
       " Interval(0.0, 2.23401298394356523875040804e-05) \n",
       " Interval(0.0, 1.911387707594982750476213081e-05)\n",
       " Interval(0.0, 1.578701254647373135414957912e-05)\n",
       " Interval(0.0, 1.280808550916626483417108781e-05)\n",
       " Interval(0.0, 1.03175647100138062020958777e-05) \n",
       " Interval(0.0, 8.293802001856889222867710646e-06)\n",
       " Interval(0.0, 6.664096109070048023664754581e-06)\n",
       " Interval(0.0, 2.281216423921138494536682033)    "
      ]
     },
     "execution_count": 131,
     "metadata": {},
     "output_type": "execute_result"
    }
   ],
   "source": [
    "@time norms_w = pmap(bound_kappa_noise_naively, [k for k in 1:N+2])"
   ]
  },
  {
   "cell_type": "code",
   "execution_count": 132,
   "metadata": {},
   "outputs": [
    {
     "data": {
      "text/plain": [
       "Interval(0.006028566358224530196083150527, 0.006028566358224530196083150527)"
      ]
     },
     "execution_count": 132,
     "metadata": {},
     "output_type": "execute_result"
    }
   ],
   "source": [
    "norms_w[end] = norm_H\n",
    "kappa_noise = Interval(hull(norms_w).hi)"
   ]
  },
  {
   "cell_type": "code",
   "execution_count": 133,
   "metadata": {},
   "outputs": [
    {
     "data": {
      "text/plain": [
       "true"
      ]
     },
     "execution_count": 133,
     "metadata": {},
     "output_type": "execute_result"
    }
   ],
   "source": [
    "noise_existence = epsilon_noise < rho_noise*(Interval(1)-kappa_noise)"
   ]
  },
  {
   "cell_type": "code",
   "execution_count": 134,
   "metadata": {},
   "outputs": [],
   "source": [
    "open(f -> serialize(f, norms_w), \"$(prefix)/norms_w.jls\", \"w\")"
   ]
  },
  {
   "cell_type": "code",
   "execution_count": 135,
   "metadata": {},
   "outputs": [],
   "source": [
    "open(f -> serialize(f, norms_v), \"$(prefix)/norms_v.jls\", \"w\")"
   ]
  },
  {
   "cell_type": "code",
   "execution_count": 136,
   "metadata": {},
   "outputs": [],
   "source": [
    "open(f -> serialize(f, norms), \"$(prefix)/norms_g.jls\", \"w\")"
   ]
  },
  {
   "cell_type": "code",
   "execution_count": 137,
   "metadata": {},
   "outputs": [
    {
     "name": "stdout",
     "output_type": "stream",
     "text": [
      "Degree of map at critical point, d:\n",
      "4\n",
      "Domain centre, c:\n",
      "0.5753999999999999999999999996\n",
      "Domain radius, r:\n",
      "0.8000000000000000000000000006\n",
      "Truncation degree, N:\n",
      "41\n",
      "Precision (digits approx.), P:\n",
      "27\n",
      "\n",
      "epsilon:\n",
      "5.59105108687788961834971942e-22\n",
      "rho:\n",
      "9.999999999999999999999999995e-22\n",
      "kappa:\n",
      "0.005313973044591245551281963271\n",
      "\n",
      "epsilon_hat:\n",
      "3.21702283848831572380732293e-17\n",
      "rho_hat:\n",
      "1.0e-16\n",
      "kappa_hat:\n",
      "0.0008995071552257036770101044016\n",
      "\n",
      "epsilon_noise:\n",
      "3.095039612738337392230063913e-17\n",
      "rho_noise:\n",
      "1.0e-16\n",
      "kappa_noise:\n",
      "0.006028566358224530196083150527\n",
      "\n",
      "a=G(1) lower bound:\n",
      "-0.5916099166344381501406243584\n",
      "a=G(1) upper bound:\n",
      "-0.5916099166344381501386243439\n",
      "1+rho:\n",
      "1.000000000000000000001\n",
      "\n",
      "alpha=1/G(1) lower bound:\n",
      "-1.690302971405244853346637306\n",
      "alpha=1/G(1) upper bound:\n",
      "-1.690302971405244853340923013\n",
      "1+rho:\n",
      "1.000000000000000000001\n",
      "\n",
      "delta=phi(V) lower bound:\n",
      "7.28468621707334326430893103\n",
      "delta=phi(V) upper bound:\n",
      "7.284686217073343464308931042\n",
      "1+rho_hat:\n",
      "1.0000000000000001\n",
      "\n",
      "gamma=phi(K) lower bound:\n",
      "8.243910854252586718398464806\n",
      "gamma=phi(K) upper bound:\n",
      "8.243910854252586918398464818\n",
      "1+rho_noise:\n",
      "1.0000000000000001\n"
     ]
    }
   ],
   "source": [
    "println(\"Degree of map at critical point, d:\\n$(d)\")\n",
    "println(\"Domain centre, c:\\n$(c)\")\n",
    "println(\"Domain radius, r:\\n$(r)\")\n",
    "println(\"Truncation degree, N:\\n$(N)\")\n",
    "println(\"Precision (digits approx.), P:\\n$(P)\")\n",
    "\n",
    "println(\"\\nepsilon:\\n$(epsilon.hi)\")\n",
    "println(\"rho:\\n$(rho)\")\n",
    "println(\"kappa:\\n$(kappa)\")\n",
    "\n",
    "println(\"\\nepsilon_hat:\\n$(epsilon_hat.hi)\")\n",
    "println(\"rho_hat:\\n$(rho_hat)\")\n",
    "println(\"kappa_hat:\\n$(kappa_hat.hi)\")\n",
    "\n",
    "println(\"\\nepsilon_noise:\\n$(epsilon_noise.hi)\")\n",
    "println(\"rho_noise:\\n$(rho_noise.hi)\")\n",
    "println(\"kappa_noise:\\n$(kappa_noise.hi)\")\n",
    "\n",
    "println(\"\\na=G(1) lower bound:\\n$(B1(1).lo)\")\n",
    "println(\"a=G(1) upper bound:\\n$(B1(1).hi)\")\n",
    "println(\"1+rho:\\n$(1+rho)\")\n",
    "\n",
    "println(\"\\nalpha=1/G(1) lower bound:\\n$((1/B1(1)).lo)\")\n",
    "println(\"alpha=1/G(1) upper bound:\\n$((1/B1(1)).hi)\")\n",
    "println(\"1+rho:\\n$(1+rho)\")\n",
    "\n",
    "println(\"\\ndelta=phi(V) lower bound:\\n$(phi(V1).lo)\")\n",
    "println(\"delta=phi(V) upper bound:\\n$(phi(V1).hi)\")\n",
    "println(\"1+rho_hat:\\n$(1+rho_hat)\")\n",
    "\n",
    "println(\"\\ngamma=phi(K) lower bound:\\n$(phi(B1_noise).lo)\")\n",
    "println(\"gamma=phi(K) upper bound:\\n$(phi(B1_noise).hi)\")\n",
    "println(\"1+rho_noise:\\n$(1+rho_noise.hi)\")"
   ]
  },
  {
   "cell_type": "code",
   "execution_count": 139,
   "metadata": {},
   "outputs": [
    {
     "data": {
      "text/plain": [
       "Task (done) @0x00007f35a603abf0"
      ]
     },
     "execution_count": 139,
     "metadata": {},
     "output_type": "execute_result"
    }
   ],
   "source": [
    "rmprocs(procs)"
   ]
  },
  {
   "cell_type": "code",
   "execution_count": null,
   "metadata": {},
   "outputs": [],
   "source": []
  }
 ],
 "metadata": {
  "@webio": {
   "lastCommId": null,
   "lastKernelId": null
  },
  "hide_input": true,
  "hide_output": true,
  "kernelspec": {
   "display_name": "Julia 1.3.1",
   "language": "julia",
   "name": "julia-1.3"
  },
  "language_info": {
   "file_extension": ".jl",
   "mimetype": "application/julia",
   "name": "julia",
   "version": "1.3.1"
  },
  "latex_metadata": {
   "abstract": "We gain tight rigorous bounds on the renormalisation fixed point for period doubling in families of maps with degree $4$ critical point.  We prove that the fixed point is hyperbolic and use a contraction mapping argument to bound essential eigenfunctions and eigenvalues for the linearisation and for the scaling of additive noise.  We find analytic extensions of the fixed point function to larger domains.  We use multi-precision arithmetic with rigorous directed rounding to bound operations in a space of analytic functions and hence find tight bounds on power series and universal constants.",
   "affiliation": "School of Mathematics and Physics, University of Portsmouth, UK.",
   "author": "Andrew D Burbanks$^1$, Andrew H Osbaldestin$^2$, Judi Thurlby.",
   "email": "$^1$andrew.burbanks@port.ac.uk",
   "keywords": "Dynamical systems; Renormalisation group; Universality; Period-doubling; Bifurcations; Computer-assisted proofs",
   "orcid": "$^1$0000-0003-0685-6670, $^2$0000-0002-2482-0738, $^3$0000-0002-7372-9471.",
   "title": "Rigorous computer-assisted proof for existence of period doubling renormalisation fixed points in maps with critical point of degree 4"
  }
 },
 "nbformat": 4,
 "nbformat_minor": 2
}
